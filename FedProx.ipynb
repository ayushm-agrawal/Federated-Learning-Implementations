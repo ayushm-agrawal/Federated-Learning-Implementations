{
  "nbformat": 4,
  "nbformat_minor": 0,
  "metadata": {
    "colab": {
      "name": "FedProx.ipynb",
      "provenance": [],
      "collapsed_sections": [
        "1ET8d4SH-g2D",
        "X7MesIL6AAuD",
        "NY4eWzGiL6Mj",
        "jCOONkg-zV7Y",
        "ctjRsETiO1qO",
        "PTfxv8kFoGAy",
        "uVv4HA9HuLtr",
        "tUYyb4T-uXmF",
        "gf_8XEXa-gZ7",
        "cjGMTWxAOsf1",
        "L-aNdQsQ-Kvp",
        "4hO5oV6aXqeh",
        "flSQv_P4zCfx",
        "b4btCseB0MtI",
        "ewgOl5Va6DQs",
        "Q-NXHBgy6DQ1",
        "uF8MdSIUYcnl",
        "a6wXX7JW11bx",
        "gnlxH6QdDGzc",
        "8fiWKhiKDGze",
        "3C1o99ZODOH8",
        "MxLku0pEDOH9",
        "Mgspmmb1DSgu",
        "t1AlbPY7DSgv",
        "PrWMRFBCDWu-",
        "joc_YdwDDWu-",
        "TXqBlMtHFwAN",
        "BXstm_BVFwAO",
        "RnBEDxmwFwAb",
        "Gkgaorx7FwAb",
        "DwwgVhnzFwAg",
        "JVs0NLz6FwAh",
        "0HlS1DmnFwAm",
        "m3gm47fHFwAn",
        "ifWreXVkYctp",
        "O8ydCcIaZwP3",
        "xVjIEgHPaClX",
        "ha1hFkm7pJr9",
        "UZYw192zpJsL",
        "YAEZ4zjopJsS"
      ],
      "machine_shape": "hm",
      "include_colab_link": true
    },
    "kernelspec": {
      "name": "python3",
      "display_name": "Python 3"
    },
    "accelerator": "GPU",
    "widgets": {
      "application/vnd.jupyter.widget-state+json": {
        "98cd9ad523994dda91464699551d2b3b": {
          "model_module": "@jupyter-widgets/controls",
          "model_name": "HBoxModel",
          "state": {
            "_view_name": "HBoxView",
            "_dom_classes": [],
            "_model_name": "HBoxModel",
            "_view_module": "@jupyter-widgets/controls",
            "_model_module_version": "1.5.0",
            "_view_count": null,
            "_view_module_version": "1.5.0",
            "box_style": "",
            "layout": "IPY_MODEL_e30e11ff2435479fb05dac246dc35903",
            "_model_module": "@jupyter-widgets/controls",
            "children": [
              "IPY_MODEL_9054a24758044b1da895a28ec540dd9d",
              "IPY_MODEL_baf38b8c974c496d9250e41505aa59ae"
            ]
          }
        },
        "e30e11ff2435479fb05dac246dc35903": {
          "model_module": "@jupyter-widgets/base",
          "model_name": "LayoutModel",
          "state": {
            "_view_name": "LayoutView",
            "grid_template_rows": null,
            "right": null,
            "justify_content": null,
            "_view_module": "@jupyter-widgets/base",
            "overflow": null,
            "_model_module_version": "1.2.0",
            "_view_count": null,
            "flex_flow": null,
            "width": null,
            "min_width": null,
            "border": null,
            "align_items": null,
            "bottom": null,
            "_model_module": "@jupyter-widgets/base",
            "top": null,
            "grid_column": null,
            "overflow_y": null,
            "overflow_x": null,
            "grid_auto_flow": null,
            "grid_area": null,
            "grid_template_columns": null,
            "flex": null,
            "_model_name": "LayoutModel",
            "justify_items": null,
            "grid_row": null,
            "max_height": null,
            "align_content": null,
            "visibility": null,
            "align_self": null,
            "height": null,
            "min_height": null,
            "padding": null,
            "grid_auto_rows": null,
            "grid_gap": null,
            "max_width": null,
            "order": null,
            "_view_module_version": "1.2.0",
            "grid_template_areas": null,
            "object_position": null,
            "object_fit": null,
            "grid_auto_columns": null,
            "margin": null,
            "display": null,
            "left": null
          }
        },
        "9054a24758044b1da895a28ec540dd9d": {
          "model_module": "@jupyter-widgets/controls",
          "model_name": "FloatProgressModel",
          "state": {
            "_view_name": "ProgressView",
            "style": "IPY_MODEL_8719071a7cdd4c9c9df412f3f1a18f1f",
            "_dom_classes": [],
            "description": "",
            "_model_name": "FloatProgressModel",
            "bar_style": "info",
            "max": 1,
            "_view_module": "@jupyter-widgets/controls",
            "_model_module_version": "1.5.0",
            "value": 1,
            "_view_count": null,
            "_view_module_version": "1.5.0",
            "orientation": "horizontal",
            "min": 0,
            "description_tooltip": null,
            "_model_module": "@jupyter-widgets/controls",
            "layout": "IPY_MODEL_490d326e50a245b6911807e2ead8dfd6"
          }
        },
        "baf38b8c974c496d9250e41505aa59ae": {
          "model_module": "@jupyter-widgets/controls",
          "model_name": "HTMLModel",
          "state": {
            "_view_name": "HTMLView",
            "style": "IPY_MODEL_11836412a5b548db985f0f47203c0148",
            "_dom_classes": [],
            "description": "",
            "_model_name": "HTMLModel",
            "placeholder": "​",
            "_view_module": "@jupyter-widgets/controls",
            "_model_module_version": "1.5.0",
            "value": " 9920512/? [00:20&lt;00:00, 3895220.12it/s]",
            "_view_count": null,
            "_view_module_version": "1.5.0",
            "description_tooltip": null,
            "_model_module": "@jupyter-widgets/controls",
            "layout": "IPY_MODEL_56390bc20db44d98942252c041bd2254"
          }
        },
        "8719071a7cdd4c9c9df412f3f1a18f1f": {
          "model_module": "@jupyter-widgets/controls",
          "model_name": "ProgressStyleModel",
          "state": {
            "_view_name": "StyleView",
            "_model_name": "ProgressStyleModel",
            "description_width": "initial",
            "_view_module": "@jupyter-widgets/base",
            "_model_module_version": "1.5.0",
            "_view_count": null,
            "_view_module_version": "1.2.0",
            "bar_color": null,
            "_model_module": "@jupyter-widgets/controls"
          }
        },
        "490d326e50a245b6911807e2ead8dfd6": {
          "model_module": "@jupyter-widgets/base",
          "model_name": "LayoutModel",
          "state": {
            "_view_name": "LayoutView",
            "grid_template_rows": null,
            "right": null,
            "justify_content": null,
            "_view_module": "@jupyter-widgets/base",
            "overflow": null,
            "_model_module_version": "1.2.0",
            "_view_count": null,
            "flex_flow": null,
            "width": null,
            "min_width": null,
            "border": null,
            "align_items": null,
            "bottom": null,
            "_model_module": "@jupyter-widgets/base",
            "top": null,
            "grid_column": null,
            "overflow_y": null,
            "overflow_x": null,
            "grid_auto_flow": null,
            "grid_area": null,
            "grid_template_columns": null,
            "flex": null,
            "_model_name": "LayoutModel",
            "justify_items": null,
            "grid_row": null,
            "max_height": null,
            "align_content": null,
            "visibility": null,
            "align_self": null,
            "height": null,
            "min_height": null,
            "padding": null,
            "grid_auto_rows": null,
            "grid_gap": null,
            "max_width": null,
            "order": null,
            "_view_module_version": "1.2.0",
            "grid_template_areas": null,
            "object_position": null,
            "object_fit": null,
            "grid_auto_columns": null,
            "margin": null,
            "display": null,
            "left": null
          }
        },
        "11836412a5b548db985f0f47203c0148": {
          "model_module": "@jupyter-widgets/controls",
          "model_name": "DescriptionStyleModel",
          "state": {
            "_view_name": "StyleView",
            "_model_name": "DescriptionStyleModel",
            "description_width": "",
            "_view_module": "@jupyter-widgets/base",
            "_model_module_version": "1.5.0",
            "_view_count": null,
            "_view_module_version": "1.2.0",
            "_model_module": "@jupyter-widgets/controls"
          }
        },
        "56390bc20db44d98942252c041bd2254": {
          "model_module": "@jupyter-widgets/base",
          "model_name": "LayoutModel",
          "state": {
            "_view_name": "LayoutView",
            "grid_template_rows": null,
            "right": null,
            "justify_content": null,
            "_view_module": "@jupyter-widgets/base",
            "overflow": null,
            "_model_module_version": "1.2.0",
            "_view_count": null,
            "flex_flow": null,
            "width": null,
            "min_width": null,
            "border": null,
            "align_items": null,
            "bottom": null,
            "_model_module": "@jupyter-widgets/base",
            "top": null,
            "grid_column": null,
            "overflow_y": null,
            "overflow_x": null,
            "grid_auto_flow": null,
            "grid_area": null,
            "grid_template_columns": null,
            "flex": null,
            "_model_name": "LayoutModel",
            "justify_items": null,
            "grid_row": null,
            "max_height": null,
            "align_content": null,
            "visibility": null,
            "align_self": null,
            "height": null,
            "min_height": null,
            "padding": null,
            "grid_auto_rows": null,
            "grid_gap": null,
            "max_width": null,
            "order": null,
            "_view_module_version": "1.2.0",
            "grid_template_areas": null,
            "object_position": null,
            "object_fit": null,
            "grid_auto_columns": null,
            "margin": null,
            "display": null,
            "left": null
          }
        },
        "fd8012fcab0b41b48403689eebd1d2c0": {
          "model_module": "@jupyter-widgets/controls",
          "model_name": "HBoxModel",
          "state": {
            "_view_name": "HBoxView",
            "_dom_classes": [],
            "_model_name": "HBoxModel",
            "_view_module": "@jupyter-widgets/controls",
            "_model_module_version": "1.5.0",
            "_view_count": null,
            "_view_module_version": "1.5.0",
            "box_style": "",
            "layout": "IPY_MODEL_a92aef955dfa4c81959a00150dfab3fc",
            "_model_module": "@jupyter-widgets/controls",
            "children": [
              "IPY_MODEL_c955aaecef7f48bfb7588d712deb7e52",
              "IPY_MODEL_498da1c80a724e218a24b41b27049683"
            ]
          }
        },
        "a92aef955dfa4c81959a00150dfab3fc": {
          "model_module": "@jupyter-widgets/base",
          "model_name": "LayoutModel",
          "state": {
            "_view_name": "LayoutView",
            "grid_template_rows": null,
            "right": null,
            "justify_content": null,
            "_view_module": "@jupyter-widgets/base",
            "overflow": null,
            "_model_module_version": "1.2.0",
            "_view_count": null,
            "flex_flow": null,
            "width": null,
            "min_width": null,
            "border": null,
            "align_items": null,
            "bottom": null,
            "_model_module": "@jupyter-widgets/base",
            "top": null,
            "grid_column": null,
            "overflow_y": null,
            "overflow_x": null,
            "grid_auto_flow": null,
            "grid_area": null,
            "grid_template_columns": null,
            "flex": null,
            "_model_name": "LayoutModel",
            "justify_items": null,
            "grid_row": null,
            "max_height": null,
            "align_content": null,
            "visibility": null,
            "align_self": null,
            "height": null,
            "min_height": null,
            "padding": null,
            "grid_auto_rows": null,
            "grid_gap": null,
            "max_width": null,
            "order": null,
            "_view_module_version": "1.2.0",
            "grid_template_areas": null,
            "object_position": null,
            "object_fit": null,
            "grid_auto_columns": null,
            "margin": null,
            "display": null,
            "left": null
          }
        },
        "c955aaecef7f48bfb7588d712deb7e52": {
          "model_module": "@jupyter-widgets/controls",
          "model_name": "FloatProgressModel",
          "state": {
            "_view_name": "ProgressView",
            "style": "IPY_MODEL_1810dfe35a384083bf2b6041234be8e9",
            "_dom_classes": [],
            "description": "",
            "_model_name": "FloatProgressModel",
            "bar_style": "success",
            "max": 1,
            "_view_module": "@jupyter-widgets/controls",
            "_model_module_version": "1.5.0",
            "value": 1,
            "_view_count": null,
            "_view_module_version": "1.5.0",
            "orientation": "horizontal",
            "min": 0,
            "description_tooltip": null,
            "_model_module": "@jupyter-widgets/controls",
            "layout": "IPY_MODEL_df3835d5706b49af98265aea3b409124"
          }
        },
        "498da1c80a724e218a24b41b27049683": {
          "model_module": "@jupyter-widgets/controls",
          "model_name": "HTMLModel",
          "state": {
            "_view_name": "HTMLView",
            "style": "IPY_MODEL_18f8b569091146beb6c3732a91c86c80",
            "_dom_classes": [],
            "description": "",
            "_model_name": "HTMLModel",
            "placeholder": "​",
            "_view_module": "@jupyter-widgets/controls",
            "_model_module_version": "1.5.0",
            "value": " 32768/? [00:01&lt;00:00, 29836.23it/s]",
            "_view_count": null,
            "_view_module_version": "1.5.0",
            "description_tooltip": null,
            "_model_module": "@jupyter-widgets/controls",
            "layout": "IPY_MODEL_a924987b839c4f61aa495922b497effe"
          }
        },
        "1810dfe35a384083bf2b6041234be8e9": {
          "model_module": "@jupyter-widgets/controls",
          "model_name": "ProgressStyleModel",
          "state": {
            "_view_name": "StyleView",
            "_model_name": "ProgressStyleModel",
            "description_width": "initial",
            "_view_module": "@jupyter-widgets/base",
            "_model_module_version": "1.5.0",
            "_view_count": null,
            "_view_module_version": "1.2.0",
            "bar_color": null,
            "_model_module": "@jupyter-widgets/controls"
          }
        },
        "df3835d5706b49af98265aea3b409124": {
          "model_module": "@jupyter-widgets/base",
          "model_name": "LayoutModel",
          "state": {
            "_view_name": "LayoutView",
            "grid_template_rows": null,
            "right": null,
            "justify_content": null,
            "_view_module": "@jupyter-widgets/base",
            "overflow": null,
            "_model_module_version": "1.2.0",
            "_view_count": null,
            "flex_flow": null,
            "width": null,
            "min_width": null,
            "border": null,
            "align_items": null,
            "bottom": null,
            "_model_module": "@jupyter-widgets/base",
            "top": null,
            "grid_column": null,
            "overflow_y": null,
            "overflow_x": null,
            "grid_auto_flow": null,
            "grid_area": null,
            "grid_template_columns": null,
            "flex": null,
            "_model_name": "LayoutModel",
            "justify_items": null,
            "grid_row": null,
            "max_height": null,
            "align_content": null,
            "visibility": null,
            "align_self": null,
            "height": null,
            "min_height": null,
            "padding": null,
            "grid_auto_rows": null,
            "grid_gap": null,
            "max_width": null,
            "order": null,
            "_view_module_version": "1.2.0",
            "grid_template_areas": null,
            "object_position": null,
            "object_fit": null,
            "grid_auto_columns": null,
            "margin": null,
            "display": null,
            "left": null
          }
        },
        "18f8b569091146beb6c3732a91c86c80": {
          "model_module": "@jupyter-widgets/controls",
          "model_name": "DescriptionStyleModel",
          "state": {
            "_view_name": "StyleView",
            "_model_name": "DescriptionStyleModel",
            "description_width": "",
            "_view_module": "@jupyter-widgets/base",
            "_model_module_version": "1.5.0",
            "_view_count": null,
            "_view_module_version": "1.2.0",
            "_model_module": "@jupyter-widgets/controls"
          }
        },
        "a924987b839c4f61aa495922b497effe": {
          "model_module": "@jupyter-widgets/base",
          "model_name": "LayoutModel",
          "state": {
            "_view_name": "LayoutView",
            "grid_template_rows": null,
            "right": null,
            "justify_content": null,
            "_view_module": "@jupyter-widgets/base",
            "overflow": null,
            "_model_module_version": "1.2.0",
            "_view_count": null,
            "flex_flow": null,
            "width": null,
            "min_width": null,
            "border": null,
            "align_items": null,
            "bottom": null,
            "_model_module": "@jupyter-widgets/base",
            "top": null,
            "grid_column": null,
            "overflow_y": null,
            "overflow_x": null,
            "grid_auto_flow": null,
            "grid_area": null,
            "grid_template_columns": null,
            "flex": null,
            "_model_name": "LayoutModel",
            "justify_items": null,
            "grid_row": null,
            "max_height": null,
            "align_content": null,
            "visibility": null,
            "align_self": null,
            "height": null,
            "min_height": null,
            "padding": null,
            "grid_auto_rows": null,
            "grid_gap": null,
            "max_width": null,
            "order": null,
            "_view_module_version": "1.2.0",
            "grid_template_areas": null,
            "object_position": null,
            "object_fit": null,
            "grid_auto_columns": null,
            "margin": null,
            "display": null,
            "left": null
          }
        },
        "de85728d78694c93b77b6f9695abe15f": {
          "model_module": "@jupyter-widgets/controls",
          "model_name": "HBoxModel",
          "state": {
            "_view_name": "HBoxView",
            "_dom_classes": [],
            "_model_name": "HBoxModel",
            "_view_module": "@jupyter-widgets/controls",
            "_model_module_version": "1.5.0",
            "_view_count": null,
            "_view_module_version": "1.5.0",
            "box_style": "",
            "layout": "IPY_MODEL_b18ee45c02df41db9b093cbbe0ae045e",
            "_model_module": "@jupyter-widgets/controls",
            "children": [
              "IPY_MODEL_1a6f08d2ca414445b0347d2a8115578c",
              "IPY_MODEL_bc0c0bad47ad47f88b3c5d256ee79df8"
            ]
          }
        },
        "b18ee45c02df41db9b093cbbe0ae045e": {
          "model_module": "@jupyter-widgets/base",
          "model_name": "LayoutModel",
          "state": {
            "_view_name": "LayoutView",
            "grid_template_rows": null,
            "right": null,
            "justify_content": null,
            "_view_module": "@jupyter-widgets/base",
            "overflow": null,
            "_model_module_version": "1.2.0",
            "_view_count": null,
            "flex_flow": null,
            "width": null,
            "min_width": null,
            "border": null,
            "align_items": null,
            "bottom": null,
            "_model_module": "@jupyter-widgets/base",
            "top": null,
            "grid_column": null,
            "overflow_y": null,
            "overflow_x": null,
            "grid_auto_flow": null,
            "grid_area": null,
            "grid_template_columns": null,
            "flex": null,
            "_model_name": "LayoutModel",
            "justify_items": null,
            "grid_row": null,
            "max_height": null,
            "align_content": null,
            "visibility": null,
            "align_self": null,
            "height": null,
            "min_height": null,
            "padding": null,
            "grid_auto_rows": null,
            "grid_gap": null,
            "max_width": null,
            "order": null,
            "_view_module_version": "1.2.0",
            "grid_template_areas": null,
            "object_position": null,
            "object_fit": null,
            "grid_auto_columns": null,
            "margin": null,
            "display": null,
            "left": null
          }
        },
        "1a6f08d2ca414445b0347d2a8115578c": {
          "model_module": "@jupyter-widgets/controls",
          "model_name": "FloatProgressModel",
          "state": {
            "_view_name": "ProgressView",
            "style": "IPY_MODEL_c2cca6467968443ba06a323f4c0561da",
            "_dom_classes": [],
            "description": "",
            "_model_name": "FloatProgressModel",
            "bar_style": "info",
            "max": 1,
            "_view_module": "@jupyter-widgets/controls",
            "_model_module_version": "1.5.0",
            "value": 1,
            "_view_count": null,
            "_view_module_version": "1.5.0",
            "orientation": "horizontal",
            "min": 0,
            "description_tooltip": null,
            "_model_module": "@jupyter-widgets/controls",
            "layout": "IPY_MODEL_d1d2fc5da2034f2cbc4a12247ead4e51"
          }
        },
        "bc0c0bad47ad47f88b3c5d256ee79df8": {
          "model_module": "@jupyter-widgets/controls",
          "model_name": "HTMLModel",
          "state": {
            "_view_name": "HTMLView",
            "style": "IPY_MODEL_ebab738db4bf41b488815a8362486d5e",
            "_dom_classes": [],
            "description": "",
            "_model_name": "HTMLModel",
            "placeholder": "​",
            "_view_module": "@jupyter-widgets/controls",
            "_model_module_version": "1.5.0",
            "value": " 1654784/? [00:15&lt;00:00, 720835.93it/s]",
            "_view_count": null,
            "_view_module_version": "1.5.0",
            "description_tooltip": null,
            "_model_module": "@jupyter-widgets/controls",
            "layout": "IPY_MODEL_2385daa9afcc460dab4fab0eb3499914"
          }
        },
        "c2cca6467968443ba06a323f4c0561da": {
          "model_module": "@jupyter-widgets/controls",
          "model_name": "ProgressStyleModel",
          "state": {
            "_view_name": "StyleView",
            "_model_name": "ProgressStyleModel",
            "description_width": "initial",
            "_view_module": "@jupyter-widgets/base",
            "_model_module_version": "1.5.0",
            "_view_count": null,
            "_view_module_version": "1.2.0",
            "bar_color": null,
            "_model_module": "@jupyter-widgets/controls"
          }
        },
        "d1d2fc5da2034f2cbc4a12247ead4e51": {
          "model_module": "@jupyter-widgets/base",
          "model_name": "LayoutModel",
          "state": {
            "_view_name": "LayoutView",
            "grid_template_rows": null,
            "right": null,
            "justify_content": null,
            "_view_module": "@jupyter-widgets/base",
            "overflow": null,
            "_model_module_version": "1.2.0",
            "_view_count": null,
            "flex_flow": null,
            "width": null,
            "min_width": null,
            "border": null,
            "align_items": null,
            "bottom": null,
            "_model_module": "@jupyter-widgets/base",
            "top": null,
            "grid_column": null,
            "overflow_y": null,
            "overflow_x": null,
            "grid_auto_flow": null,
            "grid_area": null,
            "grid_template_columns": null,
            "flex": null,
            "_model_name": "LayoutModel",
            "justify_items": null,
            "grid_row": null,
            "max_height": null,
            "align_content": null,
            "visibility": null,
            "align_self": null,
            "height": null,
            "min_height": null,
            "padding": null,
            "grid_auto_rows": null,
            "grid_gap": null,
            "max_width": null,
            "order": null,
            "_view_module_version": "1.2.0",
            "grid_template_areas": null,
            "object_position": null,
            "object_fit": null,
            "grid_auto_columns": null,
            "margin": null,
            "display": null,
            "left": null
          }
        },
        "ebab738db4bf41b488815a8362486d5e": {
          "model_module": "@jupyter-widgets/controls",
          "model_name": "DescriptionStyleModel",
          "state": {
            "_view_name": "StyleView",
            "_model_name": "DescriptionStyleModel",
            "description_width": "",
            "_view_module": "@jupyter-widgets/base",
            "_model_module_version": "1.5.0",
            "_view_count": null,
            "_view_module_version": "1.2.0",
            "_model_module": "@jupyter-widgets/controls"
          }
        },
        "2385daa9afcc460dab4fab0eb3499914": {
          "model_module": "@jupyter-widgets/base",
          "model_name": "LayoutModel",
          "state": {
            "_view_name": "LayoutView",
            "grid_template_rows": null,
            "right": null,
            "justify_content": null,
            "_view_module": "@jupyter-widgets/base",
            "overflow": null,
            "_model_module_version": "1.2.0",
            "_view_count": null,
            "flex_flow": null,
            "width": null,
            "min_width": null,
            "border": null,
            "align_items": null,
            "bottom": null,
            "_model_module": "@jupyter-widgets/base",
            "top": null,
            "grid_column": null,
            "overflow_y": null,
            "overflow_x": null,
            "grid_auto_flow": null,
            "grid_area": null,
            "grid_template_columns": null,
            "flex": null,
            "_model_name": "LayoutModel",
            "justify_items": null,
            "grid_row": null,
            "max_height": null,
            "align_content": null,
            "visibility": null,
            "align_self": null,
            "height": null,
            "min_height": null,
            "padding": null,
            "grid_auto_rows": null,
            "grid_gap": null,
            "max_width": null,
            "order": null,
            "_view_module_version": "1.2.0",
            "grid_template_areas": null,
            "object_position": null,
            "object_fit": null,
            "grid_auto_columns": null,
            "margin": null,
            "display": null,
            "left": null
          }
        },
        "ca4959a99d7240f4a839bca8eaab4153": {
          "model_module": "@jupyter-widgets/controls",
          "model_name": "HBoxModel",
          "state": {
            "_view_name": "HBoxView",
            "_dom_classes": [],
            "_model_name": "HBoxModel",
            "_view_module": "@jupyter-widgets/controls",
            "_model_module_version": "1.5.0",
            "_view_count": null,
            "_view_module_version": "1.5.0",
            "box_style": "",
            "layout": "IPY_MODEL_507084f3dfd648909dbf551039b10277",
            "_model_module": "@jupyter-widgets/controls",
            "children": [
              "IPY_MODEL_60e5165ee5fa4f658b1a6afa7e57d870",
              "IPY_MODEL_f5e793b152e6407683422492bbcfd689"
            ]
          }
        },
        "507084f3dfd648909dbf551039b10277": {
          "model_module": "@jupyter-widgets/base",
          "model_name": "LayoutModel",
          "state": {
            "_view_name": "LayoutView",
            "grid_template_rows": null,
            "right": null,
            "justify_content": null,
            "_view_module": "@jupyter-widgets/base",
            "overflow": null,
            "_model_module_version": "1.2.0",
            "_view_count": null,
            "flex_flow": null,
            "width": null,
            "min_width": null,
            "border": null,
            "align_items": null,
            "bottom": null,
            "_model_module": "@jupyter-widgets/base",
            "top": null,
            "grid_column": null,
            "overflow_y": null,
            "overflow_x": null,
            "grid_auto_flow": null,
            "grid_area": null,
            "grid_template_columns": null,
            "flex": null,
            "_model_name": "LayoutModel",
            "justify_items": null,
            "grid_row": null,
            "max_height": null,
            "align_content": null,
            "visibility": null,
            "align_self": null,
            "height": null,
            "min_height": null,
            "padding": null,
            "grid_auto_rows": null,
            "grid_gap": null,
            "max_width": null,
            "order": null,
            "_view_module_version": "1.2.0",
            "grid_template_areas": null,
            "object_position": null,
            "object_fit": null,
            "grid_auto_columns": null,
            "margin": null,
            "display": null,
            "left": null
          }
        },
        "60e5165ee5fa4f658b1a6afa7e57d870": {
          "model_module": "@jupyter-widgets/controls",
          "model_name": "FloatProgressModel",
          "state": {
            "_view_name": "ProgressView",
            "style": "IPY_MODEL_bea52aaa5419473784808ba50245589d",
            "_dom_classes": [],
            "description": "  0%",
            "_model_name": "FloatProgressModel",
            "bar_style": "info",
            "max": 1,
            "_view_module": "@jupyter-widgets/controls",
            "_model_module_version": "1.5.0",
            "value": 0,
            "_view_count": null,
            "_view_module_version": "1.5.0",
            "orientation": "horizontal",
            "min": 0,
            "description_tooltip": null,
            "_model_module": "@jupyter-widgets/controls",
            "layout": "IPY_MODEL_79a0861e36374a3a9464ca2a6a69e54e"
          }
        },
        "f5e793b152e6407683422492bbcfd689": {
          "model_module": "@jupyter-widgets/controls",
          "model_name": "HTMLModel",
          "state": {
            "_view_name": "HTMLView",
            "style": "IPY_MODEL_fd2ce620c89149c5b7b0abb7026349d2",
            "_dom_classes": [],
            "description": "",
            "_model_name": "HTMLModel",
            "placeholder": "​",
            "_view_module": "@jupyter-widgets/controls",
            "_model_module_version": "1.5.0",
            "value": " 0/4542 [00:00&lt;?, ?it/s]",
            "_view_count": null,
            "_view_module_version": "1.5.0",
            "description_tooltip": null,
            "_model_module": "@jupyter-widgets/controls",
            "layout": "IPY_MODEL_73c362907c0f4a8bb823dd758b5d1e70"
          }
        },
        "bea52aaa5419473784808ba50245589d": {
          "model_module": "@jupyter-widgets/controls",
          "model_name": "ProgressStyleModel",
          "state": {
            "_view_name": "StyleView",
            "_model_name": "ProgressStyleModel",
            "description_width": "initial",
            "_view_module": "@jupyter-widgets/base",
            "_model_module_version": "1.5.0",
            "_view_count": null,
            "_view_module_version": "1.2.0",
            "bar_color": null,
            "_model_module": "@jupyter-widgets/controls"
          }
        },
        "79a0861e36374a3a9464ca2a6a69e54e": {
          "model_module": "@jupyter-widgets/base",
          "model_name": "LayoutModel",
          "state": {
            "_view_name": "LayoutView",
            "grid_template_rows": null,
            "right": null,
            "justify_content": null,
            "_view_module": "@jupyter-widgets/base",
            "overflow": null,
            "_model_module_version": "1.2.0",
            "_view_count": null,
            "flex_flow": null,
            "width": null,
            "min_width": null,
            "border": null,
            "align_items": null,
            "bottom": null,
            "_model_module": "@jupyter-widgets/base",
            "top": null,
            "grid_column": null,
            "overflow_y": null,
            "overflow_x": null,
            "grid_auto_flow": null,
            "grid_area": null,
            "grid_template_columns": null,
            "flex": null,
            "_model_name": "LayoutModel",
            "justify_items": null,
            "grid_row": null,
            "max_height": null,
            "align_content": null,
            "visibility": null,
            "align_self": null,
            "height": null,
            "min_height": null,
            "padding": null,
            "grid_auto_rows": null,
            "grid_gap": null,
            "max_width": null,
            "order": null,
            "_view_module_version": "1.2.0",
            "grid_template_areas": null,
            "object_position": null,
            "object_fit": null,
            "grid_auto_columns": null,
            "margin": null,
            "display": null,
            "left": null
          }
        },
        "fd2ce620c89149c5b7b0abb7026349d2": {
          "model_module": "@jupyter-widgets/controls",
          "model_name": "DescriptionStyleModel",
          "state": {
            "_view_name": "StyleView",
            "_model_name": "DescriptionStyleModel",
            "description_width": "",
            "_view_module": "@jupyter-widgets/base",
            "_model_module_version": "1.5.0",
            "_view_count": null,
            "_view_module_version": "1.2.0",
            "_model_module": "@jupyter-widgets/controls"
          }
        },
        "73c362907c0f4a8bb823dd758b5d1e70": {
          "model_module": "@jupyter-widgets/base",
          "model_name": "LayoutModel",
          "state": {
            "_view_name": "LayoutView",
            "grid_template_rows": null,
            "right": null,
            "justify_content": null,
            "_view_module": "@jupyter-widgets/base",
            "overflow": null,
            "_model_module_version": "1.2.0",
            "_view_count": null,
            "flex_flow": null,
            "width": null,
            "min_width": null,
            "border": null,
            "align_items": null,
            "bottom": null,
            "_model_module": "@jupyter-widgets/base",
            "top": null,
            "grid_column": null,
            "overflow_y": null,
            "overflow_x": null,
            "grid_auto_flow": null,
            "grid_area": null,
            "grid_template_columns": null,
            "flex": null,
            "_model_name": "LayoutModel",
            "justify_items": null,
            "grid_row": null,
            "max_height": null,
            "align_content": null,
            "visibility": null,
            "align_self": null,
            "height": null,
            "min_height": null,
            "padding": null,
            "grid_auto_rows": null,
            "grid_gap": null,
            "max_width": null,
            "order": null,
            "_view_module_version": "1.2.0",
            "grid_template_areas": null,
            "object_position": null,
            "object_fit": null,
            "grid_auto_columns": null,
            "margin": null,
            "display": null,
            "left": null
          }
        },
        "b0354cf6272b467f9c1453b30322378e": {
          "model_module": "@jupyter-widgets/controls",
          "model_name": "HBoxModel",
          "state": {
            "_view_name": "HBoxView",
            "_dom_classes": [],
            "_model_name": "HBoxModel",
            "_view_module": "@jupyter-widgets/controls",
            "_model_module_version": "1.5.0",
            "_view_count": null,
            "_view_module_version": "1.5.0",
            "box_style": "",
            "layout": "IPY_MODEL_81260284233a48d8807c110290887c41",
            "_model_module": "@jupyter-widgets/controls",
            "children": [
              "IPY_MODEL_3f1d12814e484e8e8b1c1d4900f4ab46",
              "IPY_MODEL_b2fc68b04b9646c1bc99cb881dfb6a3b"
            ]
          }
        },
        "81260284233a48d8807c110290887c41": {
          "model_module": "@jupyter-widgets/base",
          "model_name": "LayoutModel",
          "state": {
            "_view_name": "LayoutView",
            "grid_template_rows": null,
            "right": null,
            "justify_content": null,
            "_view_module": "@jupyter-widgets/base",
            "overflow": null,
            "_model_module_version": "1.2.0",
            "_view_count": null,
            "flex_flow": null,
            "width": null,
            "min_width": null,
            "border": null,
            "align_items": null,
            "bottom": null,
            "_model_module": "@jupyter-widgets/base",
            "top": null,
            "grid_column": null,
            "overflow_y": null,
            "overflow_x": null,
            "grid_auto_flow": null,
            "grid_area": null,
            "grid_template_columns": null,
            "flex": null,
            "_model_name": "LayoutModel",
            "justify_items": null,
            "grid_row": null,
            "max_height": null,
            "align_content": null,
            "visibility": null,
            "align_self": null,
            "height": null,
            "min_height": null,
            "padding": null,
            "grid_auto_rows": null,
            "grid_gap": null,
            "max_width": null,
            "order": null,
            "_view_module_version": "1.2.0",
            "grid_template_areas": null,
            "object_position": null,
            "object_fit": null,
            "grid_auto_columns": null,
            "margin": null,
            "display": null,
            "left": null
          }
        },
        "3f1d12814e484e8e8b1c1d4900f4ab46": {
          "model_module": "@jupyter-widgets/controls",
          "model_name": "FloatProgressModel",
          "state": {
            "_view_name": "ProgressView",
            "style": "IPY_MODEL_a59d9ee14953462281c40190d3e125ee",
            "_dom_classes": [],
            "description": "",
            "_model_name": "FloatProgressModel",
            "bar_style": "info",
            "max": 1,
            "_view_module": "@jupyter-widgets/controls",
            "_model_module_version": "1.5.0",
            "value": 1,
            "_view_count": null,
            "_view_module_version": "1.5.0",
            "orientation": "horizontal",
            "min": 0,
            "description_tooltip": null,
            "_model_module": "@jupyter-widgets/controls",
            "layout": "IPY_MODEL_ed7b03e4f80f4af1ab3113f192aa9f47"
          }
        },
        "b2fc68b04b9646c1bc99cb881dfb6a3b": {
          "model_module": "@jupyter-widgets/controls",
          "model_name": "HTMLModel",
          "state": {
            "_view_name": "HTMLView",
            "style": "IPY_MODEL_467e749cacf74b3cac743da14de4d301",
            "_dom_classes": [],
            "description": "",
            "_model_name": "HTMLModel",
            "placeholder": "​",
            "_view_module": "@jupyter-widgets/controls",
            "_model_module_version": "1.5.0",
            "value": " 9920512/? [00:21&lt;00:00, 3108211.78it/s]",
            "_view_count": null,
            "_view_module_version": "1.5.0",
            "description_tooltip": null,
            "_model_module": "@jupyter-widgets/controls",
            "layout": "IPY_MODEL_0df702481955455c809693bc1972247d"
          }
        },
        "a59d9ee14953462281c40190d3e125ee": {
          "model_module": "@jupyter-widgets/controls",
          "model_name": "ProgressStyleModel",
          "state": {
            "_view_name": "StyleView",
            "_model_name": "ProgressStyleModel",
            "description_width": "initial",
            "_view_module": "@jupyter-widgets/base",
            "_model_module_version": "1.5.0",
            "_view_count": null,
            "_view_module_version": "1.2.0",
            "bar_color": null,
            "_model_module": "@jupyter-widgets/controls"
          }
        },
        "ed7b03e4f80f4af1ab3113f192aa9f47": {
          "model_module": "@jupyter-widgets/base",
          "model_name": "LayoutModel",
          "state": {
            "_view_name": "LayoutView",
            "grid_template_rows": null,
            "right": null,
            "justify_content": null,
            "_view_module": "@jupyter-widgets/base",
            "overflow": null,
            "_model_module_version": "1.2.0",
            "_view_count": null,
            "flex_flow": null,
            "width": null,
            "min_width": null,
            "border": null,
            "align_items": null,
            "bottom": null,
            "_model_module": "@jupyter-widgets/base",
            "top": null,
            "grid_column": null,
            "overflow_y": null,
            "overflow_x": null,
            "grid_auto_flow": null,
            "grid_area": null,
            "grid_template_columns": null,
            "flex": null,
            "_model_name": "LayoutModel",
            "justify_items": null,
            "grid_row": null,
            "max_height": null,
            "align_content": null,
            "visibility": null,
            "align_self": null,
            "height": null,
            "min_height": null,
            "padding": null,
            "grid_auto_rows": null,
            "grid_gap": null,
            "max_width": null,
            "order": null,
            "_view_module_version": "1.2.0",
            "grid_template_areas": null,
            "object_position": null,
            "object_fit": null,
            "grid_auto_columns": null,
            "margin": null,
            "display": null,
            "left": null
          }
        },
        "467e749cacf74b3cac743da14de4d301": {
          "model_module": "@jupyter-widgets/controls",
          "model_name": "DescriptionStyleModel",
          "state": {
            "_view_name": "StyleView",
            "_model_name": "DescriptionStyleModel",
            "description_width": "",
            "_view_module": "@jupyter-widgets/base",
            "_model_module_version": "1.5.0",
            "_view_count": null,
            "_view_module_version": "1.2.0",
            "_model_module": "@jupyter-widgets/controls"
          }
        },
        "0df702481955455c809693bc1972247d": {
          "model_module": "@jupyter-widgets/base",
          "model_name": "LayoutModel",
          "state": {
            "_view_name": "LayoutView",
            "grid_template_rows": null,
            "right": null,
            "justify_content": null,
            "_view_module": "@jupyter-widgets/base",
            "overflow": null,
            "_model_module_version": "1.2.0",
            "_view_count": null,
            "flex_flow": null,
            "width": null,
            "min_width": null,
            "border": null,
            "align_items": null,
            "bottom": null,
            "_model_module": "@jupyter-widgets/base",
            "top": null,
            "grid_column": null,
            "overflow_y": null,
            "overflow_x": null,
            "grid_auto_flow": null,
            "grid_area": null,
            "grid_template_columns": null,
            "flex": null,
            "_model_name": "LayoutModel",
            "justify_items": null,
            "grid_row": null,
            "max_height": null,
            "align_content": null,
            "visibility": null,
            "align_self": null,
            "height": null,
            "min_height": null,
            "padding": null,
            "grid_auto_rows": null,
            "grid_gap": null,
            "max_width": null,
            "order": null,
            "_view_module_version": "1.2.0",
            "grid_template_areas": null,
            "object_position": null,
            "object_fit": null,
            "grid_auto_columns": null,
            "margin": null,
            "display": null,
            "left": null
          }
        },
        "5d8dbd34b29e422da85886be60567beb": {
          "model_module": "@jupyter-widgets/controls",
          "model_name": "HBoxModel",
          "state": {
            "_view_name": "HBoxView",
            "_dom_classes": [],
            "_model_name": "HBoxModel",
            "_view_module": "@jupyter-widgets/controls",
            "_model_module_version": "1.5.0",
            "_view_count": null,
            "_view_module_version": "1.5.0",
            "box_style": "",
            "layout": "IPY_MODEL_f0ce564b1c0d499084f88182c016ba03",
            "_model_module": "@jupyter-widgets/controls",
            "children": [
              "IPY_MODEL_7f161a4ef67c46699e34915664448798",
              "IPY_MODEL_71a185c3c8204b36ac7b7a78500ef9f9"
            ]
          }
        },
        "f0ce564b1c0d499084f88182c016ba03": {
          "model_module": "@jupyter-widgets/base",
          "model_name": "LayoutModel",
          "state": {
            "_view_name": "LayoutView",
            "grid_template_rows": null,
            "right": null,
            "justify_content": null,
            "_view_module": "@jupyter-widgets/base",
            "overflow": null,
            "_model_module_version": "1.2.0",
            "_view_count": null,
            "flex_flow": null,
            "width": null,
            "min_width": null,
            "border": null,
            "align_items": null,
            "bottom": null,
            "_model_module": "@jupyter-widgets/base",
            "top": null,
            "grid_column": null,
            "overflow_y": null,
            "overflow_x": null,
            "grid_auto_flow": null,
            "grid_area": null,
            "grid_template_columns": null,
            "flex": null,
            "_model_name": "LayoutModel",
            "justify_items": null,
            "grid_row": null,
            "max_height": null,
            "align_content": null,
            "visibility": null,
            "align_self": null,
            "height": null,
            "min_height": null,
            "padding": null,
            "grid_auto_rows": null,
            "grid_gap": null,
            "max_width": null,
            "order": null,
            "_view_module_version": "1.2.0",
            "grid_template_areas": null,
            "object_position": null,
            "object_fit": null,
            "grid_auto_columns": null,
            "margin": null,
            "display": null,
            "left": null
          }
        },
        "7f161a4ef67c46699e34915664448798": {
          "model_module": "@jupyter-widgets/controls",
          "model_name": "FloatProgressModel",
          "state": {
            "_view_name": "ProgressView",
            "style": "IPY_MODEL_b2057e1f02074056851069d0cabd4a20",
            "_dom_classes": [],
            "description": "",
            "_model_name": "FloatProgressModel",
            "bar_style": "success",
            "max": 1,
            "_view_module": "@jupyter-widgets/controls",
            "_model_module_version": "1.5.0",
            "value": 1,
            "_view_count": null,
            "_view_module_version": "1.5.0",
            "orientation": "horizontal",
            "min": 0,
            "description_tooltip": null,
            "_model_module": "@jupyter-widgets/controls",
            "layout": "IPY_MODEL_d69518fea14c44c59c53c02457af5495"
          }
        },
        "71a185c3c8204b36ac7b7a78500ef9f9": {
          "model_module": "@jupyter-widgets/controls",
          "model_name": "HTMLModel",
          "state": {
            "_view_name": "HTMLView",
            "style": "IPY_MODEL_f3d69c49c289404e80c78fb9eadb6148",
            "_dom_classes": [],
            "description": "",
            "_model_name": "HTMLModel",
            "placeholder": "​",
            "_view_module": "@jupyter-widgets/controls",
            "_model_module_version": "1.5.0",
            "value": " 32768/? [00:04&lt;00:00, 7099.94it/s]",
            "_view_count": null,
            "_view_module_version": "1.5.0",
            "description_tooltip": null,
            "_model_module": "@jupyter-widgets/controls",
            "layout": "IPY_MODEL_6a0d657066804e658534da7c33bddf85"
          }
        },
        "b2057e1f02074056851069d0cabd4a20": {
          "model_module": "@jupyter-widgets/controls",
          "model_name": "ProgressStyleModel",
          "state": {
            "_view_name": "StyleView",
            "_model_name": "ProgressStyleModel",
            "description_width": "initial",
            "_view_module": "@jupyter-widgets/base",
            "_model_module_version": "1.5.0",
            "_view_count": null,
            "_view_module_version": "1.2.0",
            "bar_color": null,
            "_model_module": "@jupyter-widgets/controls"
          }
        },
        "d69518fea14c44c59c53c02457af5495": {
          "model_module": "@jupyter-widgets/base",
          "model_name": "LayoutModel",
          "state": {
            "_view_name": "LayoutView",
            "grid_template_rows": null,
            "right": null,
            "justify_content": null,
            "_view_module": "@jupyter-widgets/base",
            "overflow": null,
            "_model_module_version": "1.2.0",
            "_view_count": null,
            "flex_flow": null,
            "width": null,
            "min_width": null,
            "border": null,
            "align_items": null,
            "bottom": null,
            "_model_module": "@jupyter-widgets/base",
            "top": null,
            "grid_column": null,
            "overflow_y": null,
            "overflow_x": null,
            "grid_auto_flow": null,
            "grid_area": null,
            "grid_template_columns": null,
            "flex": null,
            "_model_name": "LayoutModel",
            "justify_items": null,
            "grid_row": null,
            "max_height": null,
            "align_content": null,
            "visibility": null,
            "align_self": null,
            "height": null,
            "min_height": null,
            "padding": null,
            "grid_auto_rows": null,
            "grid_gap": null,
            "max_width": null,
            "order": null,
            "_view_module_version": "1.2.0",
            "grid_template_areas": null,
            "object_position": null,
            "object_fit": null,
            "grid_auto_columns": null,
            "margin": null,
            "display": null,
            "left": null
          }
        },
        "f3d69c49c289404e80c78fb9eadb6148": {
          "model_module": "@jupyter-widgets/controls",
          "model_name": "DescriptionStyleModel",
          "state": {
            "_view_name": "StyleView",
            "_model_name": "DescriptionStyleModel",
            "description_width": "",
            "_view_module": "@jupyter-widgets/base",
            "_model_module_version": "1.5.0",
            "_view_count": null,
            "_view_module_version": "1.2.0",
            "_model_module": "@jupyter-widgets/controls"
          }
        },
        "6a0d657066804e658534da7c33bddf85": {
          "model_module": "@jupyter-widgets/base",
          "model_name": "LayoutModel",
          "state": {
            "_view_name": "LayoutView",
            "grid_template_rows": null,
            "right": null,
            "justify_content": null,
            "_view_module": "@jupyter-widgets/base",
            "overflow": null,
            "_model_module_version": "1.2.0",
            "_view_count": null,
            "flex_flow": null,
            "width": null,
            "min_width": null,
            "border": null,
            "align_items": null,
            "bottom": null,
            "_model_module": "@jupyter-widgets/base",
            "top": null,
            "grid_column": null,
            "overflow_y": null,
            "overflow_x": null,
            "grid_auto_flow": null,
            "grid_area": null,
            "grid_template_columns": null,
            "flex": null,
            "_model_name": "LayoutModel",
            "justify_items": null,
            "grid_row": null,
            "max_height": null,
            "align_content": null,
            "visibility": null,
            "align_self": null,
            "height": null,
            "min_height": null,
            "padding": null,
            "grid_auto_rows": null,
            "grid_gap": null,
            "max_width": null,
            "order": null,
            "_view_module_version": "1.2.0",
            "grid_template_areas": null,
            "object_position": null,
            "object_fit": null,
            "grid_auto_columns": null,
            "margin": null,
            "display": null,
            "left": null
          }
        },
        "db4543462aa84e3e9f748c3bfcf2a899": {
          "model_module": "@jupyter-widgets/controls",
          "model_name": "HBoxModel",
          "state": {
            "_view_name": "HBoxView",
            "_dom_classes": [],
            "_model_name": "HBoxModel",
            "_view_module": "@jupyter-widgets/controls",
            "_model_module_version": "1.5.0",
            "_view_count": null,
            "_view_module_version": "1.5.0",
            "box_style": "",
            "layout": "IPY_MODEL_d3af59d85b3648da95f39fad9c5e4735",
            "_model_module": "@jupyter-widgets/controls",
            "children": [
              "IPY_MODEL_d7306d3f075d479b9d7dd8d0fc3b75c0",
              "IPY_MODEL_d11e30c492e6478baff5c0973871a824"
            ]
          }
        },
        "d3af59d85b3648da95f39fad9c5e4735": {
          "model_module": "@jupyter-widgets/base",
          "model_name": "LayoutModel",
          "state": {
            "_view_name": "LayoutView",
            "grid_template_rows": null,
            "right": null,
            "justify_content": null,
            "_view_module": "@jupyter-widgets/base",
            "overflow": null,
            "_model_module_version": "1.2.0",
            "_view_count": null,
            "flex_flow": null,
            "width": null,
            "min_width": null,
            "border": null,
            "align_items": null,
            "bottom": null,
            "_model_module": "@jupyter-widgets/base",
            "top": null,
            "grid_column": null,
            "overflow_y": null,
            "overflow_x": null,
            "grid_auto_flow": null,
            "grid_area": null,
            "grid_template_columns": null,
            "flex": null,
            "_model_name": "LayoutModel",
            "justify_items": null,
            "grid_row": null,
            "max_height": null,
            "align_content": null,
            "visibility": null,
            "align_self": null,
            "height": null,
            "min_height": null,
            "padding": null,
            "grid_auto_rows": null,
            "grid_gap": null,
            "max_width": null,
            "order": null,
            "_view_module_version": "1.2.0",
            "grid_template_areas": null,
            "object_position": null,
            "object_fit": null,
            "grid_auto_columns": null,
            "margin": null,
            "display": null,
            "left": null
          }
        },
        "d7306d3f075d479b9d7dd8d0fc3b75c0": {
          "model_module": "@jupyter-widgets/controls",
          "model_name": "FloatProgressModel",
          "state": {
            "_view_name": "ProgressView",
            "style": "IPY_MODEL_45446691eea145f682b3e9dfc86a3ec9",
            "_dom_classes": [],
            "description": "",
            "_model_name": "FloatProgressModel",
            "bar_style": "success",
            "max": 1,
            "_view_module": "@jupyter-widgets/controls",
            "_model_module_version": "1.5.0",
            "value": 1,
            "_view_count": null,
            "_view_module_version": "1.5.0",
            "orientation": "horizontal",
            "min": 0,
            "description_tooltip": null,
            "_model_module": "@jupyter-widgets/controls",
            "layout": "IPY_MODEL_bdd7b26d74394f5e949e41ac6ae5de98"
          }
        },
        "d11e30c492e6478baff5c0973871a824": {
          "model_module": "@jupyter-widgets/controls",
          "model_name": "HTMLModel",
          "state": {
            "_view_name": "HTMLView",
            "style": "IPY_MODEL_f94b9d8fe0884a31aa9a4f51dfc6cf84",
            "_dom_classes": [],
            "description": "",
            "_model_name": "HTMLModel",
            "placeholder": "​",
            "_view_module": "@jupyter-widgets/controls",
            "_model_module_version": "1.5.0",
            "value": " 1654784/? [00:03&lt;00:00, 475911.17it/s]",
            "_view_count": null,
            "_view_module_version": "1.5.0",
            "description_tooltip": null,
            "_model_module": "@jupyter-widgets/controls",
            "layout": "IPY_MODEL_0665403511994d82bc8370148f44e070"
          }
        },
        "45446691eea145f682b3e9dfc86a3ec9": {
          "model_module": "@jupyter-widgets/controls",
          "model_name": "ProgressStyleModel",
          "state": {
            "_view_name": "StyleView",
            "_model_name": "ProgressStyleModel",
            "description_width": "initial",
            "_view_module": "@jupyter-widgets/base",
            "_model_module_version": "1.5.0",
            "_view_count": null,
            "_view_module_version": "1.2.0",
            "bar_color": null,
            "_model_module": "@jupyter-widgets/controls"
          }
        },
        "bdd7b26d74394f5e949e41ac6ae5de98": {
          "model_module": "@jupyter-widgets/base",
          "model_name": "LayoutModel",
          "state": {
            "_view_name": "LayoutView",
            "grid_template_rows": null,
            "right": null,
            "justify_content": null,
            "_view_module": "@jupyter-widgets/base",
            "overflow": null,
            "_model_module_version": "1.2.0",
            "_view_count": null,
            "flex_flow": null,
            "width": null,
            "min_width": null,
            "border": null,
            "align_items": null,
            "bottom": null,
            "_model_module": "@jupyter-widgets/base",
            "top": null,
            "grid_column": null,
            "overflow_y": null,
            "overflow_x": null,
            "grid_auto_flow": null,
            "grid_area": null,
            "grid_template_columns": null,
            "flex": null,
            "_model_name": "LayoutModel",
            "justify_items": null,
            "grid_row": null,
            "max_height": null,
            "align_content": null,
            "visibility": null,
            "align_self": null,
            "height": null,
            "min_height": null,
            "padding": null,
            "grid_auto_rows": null,
            "grid_gap": null,
            "max_width": null,
            "order": null,
            "_view_module_version": "1.2.0",
            "grid_template_areas": null,
            "object_position": null,
            "object_fit": null,
            "grid_auto_columns": null,
            "margin": null,
            "display": null,
            "left": null
          }
        },
        "f94b9d8fe0884a31aa9a4f51dfc6cf84": {
          "model_module": "@jupyter-widgets/controls",
          "model_name": "DescriptionStyleModel",
          "state": {
            "_view_name": "StyleView",
            "_model_name": "DescriptionStyleModel",
            "description_width": "",
            "_view_module": "@jupyter-widgets/base",
            "_model_module_version": "1.5.0",
            "_view_count": null,
            "_view_module_version": "1.2.0",
            "_model_module": "@jupyter-widgets/controls"
          }
        },
        "0665403511994d82bc8370148f44e070": {
          "model_module": "@jupyter-widgets/base",
          "model_name": "LayoutModel",
          "state": {
            "_view_name": "LayoutView",
            "grid_template_rows": null,
            "right": null,
            "justify_content": null,
            "_view_module": "@jupyter-widgets/base",
            "overflow": null,
            "_model_module_version": "1.2.0",
            "_view_count": null,
            "flex_flow": null,
            "width": null,
            "min_width": null,
            "border": null,
            "align_items": null,
            "bottom": null,
            "_model_module": "@jupyter-widgets/base",
            "top": null,
            "grid_column": null,
            "overflow_y": null,
            "overflow_x": null,
            "grid_auto_flow": null,
            "grid_area": null,
            "grid_template_columns": null,
            "flex": null,
            "_model_name": "LayoutModel",
            "justify_items": null,
            "grid_row": null,
            "max_height": null,
            "align_content": null,
            "visibility": null,
            "align_self": null,
            "height": null,
            "min_height": null,
            "padding": null,
            "grid_auto_rows": null,
            "grid_gap": null,
            "max_width": null,
            "order": null,
            "_view_module_version": "1.2.0",
            "grid_template_areas": null,
            "object_position": null,
            "object_fit": null,
            "grid_auto_columns": null,
            "margin": null,
            "display": null,
            "left": null
          }
        },
        "196969d71b494012b8a52584f9d50201": {
          "model_module": "@jupyter-widgets/controls",
          "model_name": "HBoxModel",
          "state": {
            "_view_name": "HBoxView",
            "_dom_classes": [],
            "_model_name": "HBoxModel",
            "_view_module": "@jupyter-widgets/controls",
            "_model_module_version": "1.5.0",
            "_view_count": null,
            "_view_module_version": "1.5.0",
            "box_style": "",
            "layout": "IPY_MODEL_06b917dd20694c848cef87f4ac11b2e1",
            "_model_module": "@jupyter-widgets/controls",
            "children": [
              "IPY_MODEL_99dfc7e0063d4004882cd434557c79bf",
              "IPY_MODEL_3530fc4b65264b61b78e094316877a21"
            ]
          }
        },
        "06b917dd20694c848cef87f4ac11b2e1": {
          "model_module": "@jupyter-widgets/base",
          "model_name": "LayoutModel",
          "state": {
            "_view_name": "LayoutView",
            "grid_template_rows": null,
            "right": null,
            "justify_content": null,
            "_view_module": "@jupyter-widgets/base",
            "overflow": null,
            "_model_module_version": "1.2.0",
            "_view_count": null,
            "flex_flow": null,
            "width": null,
            "min_width": null,
            "border": null,
            "align_items": null,
            "bottom": null,
            "_model_module": "@jupyter-widgets/base",
            "top": null,
            "grid_column": null,
            "overflow_y": null,
            "overflow_x": null,
            "grid_auto_flow": null,
            "grid_area": null,
            "grid_template_columns": null,
            "flex": null,
            "_model_name": "LayoutModel",
            "justify_items": null,
            "grid_row": null,
            "max_height": null,
            "align_content": null,
            "visibility": null,
            "align_self": null,
            "height": null,
            "min_height": null,
            "padding": null,
            "grid_auto_rows": null,
            "grid_gap": null,
            "max_width": null,
            "order": null,
            "_view_module_version": "1.2.0",
            "grid_template_areas": null,
            "object_position": null,
            "object_fit": null,
            "grid_auto_columns": null,
            "margin": null,
            "display": null,
            "left": null
          }
        },
        "99dfc7e0063d4004882cd434557c79bf": {
          "model_module": "@jupyter-widgets/controls",
          "model_name": "FloatProgressModel",
          "state": {
            "_view_name": "ProgressView",
            "style": "IPY_MODEL_9f47bfb81ffb42d1a943d994ad36cfaf",
            "_dom_classes": [],
            "description": "",
            "_model_name": "FloatProgressModel",
            "bar_style": "success",
            "max": 1,
            "_view_module": "@jupyter-widgets/controls",
            "_model_module_version": "1.5.0",
            "value": 1,
            "_view_count": null,
            "_view_module_version": "1.5.0",
            "orientation": "horizontal",
            "min": 0,
            "description_tooltip": null,
            "_model_module": "@jupyter-widgets/controls",
            "layout": "IPY_MODEL_15d3b624d14a4d3d83726c851c5e21db"
          }
        },
        "3530fc4b65264b61b78e094316877a21": {
          "model_module": "@jupyter-widgets/controls",
          "model_name": "HTMLModel",
          "state": {
            "_view_name": "HTMLView",
            "style": "IPY_MODEL_0e4e54fdd01a405ba5b80ef1bdd37dea",
            "_dom_classes": [],
            "description": "",
            "_model_name": "HTMLModel",
            "placeholder": "​",
            "_view_module": "@jupyter-widgets/controls",
            "_model_module_version": "1.5.0",
            "value": " 8192/? [00:01&lt;00:00, 8007.20it/s]",
            "_view_count": null,
            "_view_module_version": "1.5.0",
            "description_tooltip": null,
            "_model_module": "@jupyter-widgets/controls",
            "layout": "IPY_MODEL_0b6cac0b1ad14f339bee098ecee86057"
          }
        },
        "9f47bfb81ffb42d1a943d994ad36cfaf": {
          "model_module": "@jupyter-widgets/controls",
          "model_name": "ProgressStyleModel",
          "state": {
            "_view_name": "StyleView",
            "_model_name": "ProgressStyleModel",
            "description_width": "initial",
            "_view_module": "@jupyter-widgets/base",
            "_model_module_version": "1.5.0",
            "_view_count": null,
            "_view_module_version": "1.2.0",
            "bar_color": null,
            "_model_module": "@jupyter-widgets/controls"
          }
        },
        "15d3b624d14a4d3d83726c851c5e21db": {
          "model_module": "@jupyter-widgets/base",
          "model_name": "LayoutModel",
          "state": {
            "_view_name": "LayoutView",
            "grid_template_rows": null,
            "right": null,
            "justify_content": null,
            "_view_module": "@jupyter-widgets/base",
            "overflow": null,
            "_model_module_version": "1.2.0",
            "_view_count": null,
            "flex_flow": null,
            "width": null,
            "min_width": null,
            "border": null,
            "align_items": null,
            "bottom": null,
            "_model_module": "@jupyter-widgets/base",
            "top": null,
            "grid_column": null,
            "overflow_y": null,
            "overflow_x": null,
            "grid_auto_flow": null,
            "grid_area": null,
            "grid_template_columns": null,
            "flex": null,
            "_model_name": "LayoutModel",
            "justify_items": null,
            "grid_row": null,
            "max_height": null,
            "align_content": null,
            "visibility": null,
            "align_self": null,
            "height": null,
            "min_height": null,
            "padding": null,
            "grid_auto_rows": null,
            "grid_gap": null,
            "max_width": null,
            "order": null,
            "_view_module_version": "1.2.0",
            "grid_template_areas": null,
            "object_position": null,
            "object_fit": null,
            "grid_auto_columns": null,
            "margin": null,
            "display": null,
            "left": null
          }
        },
        "0e4e54fdd01a405ba5b80ef1bdd37dea": {
          "model_module": "@jupyter-widgets/controls",
          "model_name": "DescriptionStyleModel",
          "state": {
            "_view_name": "StyleView",
            "_model_name": "DescriptionStyleModel",
            "description_width": "",
            "_view_module": "@jupyter-widgets/base",
            "_model_module_version": "1.5.0",
            "_view_count": null,
            "_view_module_version": "1.2.0",
            "_model_module": "@jupyter-widgets/controls"
          }
        },
        "0b6cac0b1ad14f339bee098ecee86057": {
          "model_module": "@jupyter-widgets/base",
          "model_name": "LayoutModel",
          "state": {
            "_view_name": "LayoutView",
            "grid_template_rows": null,
            "right": null,
            "justify_content": null,
            "_view_module": "@jupyter-widgets/base",
            "overflow": null,
            "_model_module_version": "1.2.0",
            "_view_count": null,
            "flex_flow": null,
            "width": null,
            "min_width": null,
            "border": null,
            "align_items": null,
            "bottom": null,
            "_model_module": "@jupyter-widgets/base",
            "top": null,
            "grid_column": null,
            "overflow_y": null,
            "overflow_x": null,
            "grid_auto_flow": null,
            "grid_area": null,
            "grid_template_columns": null,
            "flex": null,
            "_model_name": "LayoutModel",
            "justify_items": null,
            "grid_row": null,
            "max_height": null,
            "align_content": null,
            "visibility": null,
            "align_self": null,
            "height": null,
            "min_height": null,
            "padding": null,
            "grid_auto_rows": null,
            "grid_gap": null,
            "max_width": null,
            "order": null,
            "_view_module_version": "1.2.0",
            "grid_template_areas": null,
            "object_position": null,
            "object_fit": null,
            "grid_auto_columns": null,
            "margin": null,
            "display": null,
            "left": null
          }
        }
      }
    }
  },
  "cells": [
    {
      "cell_type": "markdown",
      "metadata": {
        "id": "view-in-github",
        "colab_type": "text"
      },
      "source": [
        "<a href=\"https://colab.research.google.com/github/ayushm-agrawal/Federated-Learning-Implementations/blob/master/FedProx.ipynb\" target=\"_parent\"><img src=\"https://colab.research.google.com/assets/colab-badge.svg\" alt=\"Open In Colab\"/></a>"
      ]
    },
    {
      "cell_type": "markdown",
      "metadata": {
        "id": "BQ1r3Tva0Qbd",
        "colab_type": "text"
      },
      "source": [
        "## How to Navigate through this notebook...\n",
        "\n",
        "  Start by collapsing all the cells in Google Colab. This will allow you to easily navigate through different parts that might be useful for you.\n",
        "\n",
        "The main sections of this notebook are listed below\n",
        "<dl>\n",
        "  <dt><b>Imports</b></dt>\n",
        "  <dd>- Contains all the necessary imports</dd>\n",
        "\n",
        "  <dt><b>Re-Format Time</b></dt>\n",
        "  <dd>- Functions to format time in a readable format.</dd>\n",
        "  <dt><b>Load the MNIST Dataset</b></dt>\n",
        "  <dd>- Load the MNIST Train and Test Dataset from the Torchvision Datasets</dd>\n",
        "  <dt><b>Visualize Data</b></dt>\n",
        "  <dd>- Load the first few images from the train and test dataset as a sanity check.</dd>\n",
        "  <dt><b>Partitioning the Data (IID and non-IID)</b></dt>\n",
        "  <dd>- Two functions defined to replicate data partitioning in real world scenario.</dd>\n",
        "  <dd>- IID: Identical and Independent Dataset, generally provides a uniform distribution to the dataset.</dd>\n",
        "  <dd>- non-IID: This is a pathological implementation where each client in a Federated Learning Scenario gets data from only a subset of classes and not all.</dd>\n",
        "  <dt><b>Models</b></dt>\n",
        "  <dd>- MNIST 2NN: Multi-Layer Perceptron replicated from the FedAvg paper.</dd> \n",
        "  <dd>- MNIST CNN: Two layer CNN model replicated from the FedAvg paper.</dd>\n",
        "  <dt><b>Testing Loop</b></dt>\n",
        "  <dd>- We use this test loop at every epoch to stop our model from overfittin.</dd>\n",
        "  <dt><b>FedProx</b></dt>\n",
        "  <dd>- This block contains the entire implementation of the FedProx algorithm as discussed in the paper.</dd>\n",
        "  <dd>- Different functions are implemented to replicate heterogeneity as mentioned in the FedProx paper</dd>\n",
        "  <dd>- Client Update function is used to train local clients</dd>\n",
        "  <dd>- Server Side Update function takes the local models by clients and updates the global model</dd>\n",
        "\n",
        "  > <b>NOTE: FROM HERE WE START RUNNING DIFFERENT TESTS ON FEDPROX ALGORITHM</b>\n",
        "\n",
        "  > <u>For each experiment, please check the hyperparameters used and update as necessary.</u>\n",
        "\n",
        "  <dt><b>Special Case for FedProx</b></dt>\n",
        "  <dd>- In this case, FedProx acts like FedAvg</dd>\n",
        "  <dt><b>Training with 0% Probability</b></dt>\n",
        "  <dd>- Run tests for CNN and MLP models for IID and non-IID dataset when there are no stragglers.</dd>\n",
        "  <dt><b>Training with 50% Probability</b></dt>\n",
        "  <dd>- Run tests for CNN and MLP models for IID and non-IID dataset when there are 50% stragglers.</dd>\n",
        "  <dt><b>Training with 90% Probability</b></dt>\n",
        "  <dd>- Run tests for CNN and MLP models for IID and non-IID dataset when there are 90% stragglers.</dd>\n",
        "\n",
        "  <dt><b>Comparison of FedAvg and FedProx on IID Dataset Partition</b></dt>\n",
        "  <dd>- Run tests to achieve target accuracy on FedAvg and FedProx under highly heteregeneous system.</dd>\n",
        "  <dt><b>Comparison of FedAvg and FedProx on non-IID Dataset Paritition</b></dt>\n",
        "  <dd>- Run tests to achieve target accuracy on FedAvg and FedProx under highly heteregeneous system.</dd>"
      ]
    },
    {
      "cell_type": "markdown",
      "metadata": {
        "id": "1ET8d4SH-g2D",
        "colab_type": "text"
      },
      "source": [
        "## Imports"
      ]
    },
    {
      "cell_type": "code",
      "metadata": {
        "id": "u2iSYH27XY_E",
        "colab_type": "code",
        "colab": {
          "base_uri": "https://localhost:8080/",
          "height": 0
        },
        "outputId": "d52c0520-b50e-4223-ad1e-10a9ff44f99f"
      },
      "source": [
        "%load_ext tensorboard\n",
        "import os\n",
        "import numpy as np\n",
        "import matplotlib.pyplot as plt\n",
        "import copy\n",
        "import time\n",
        "import random\n",
        "\n",
        "import torch\n",
        "import torch.nn as nn\n",
        "import torch.nn.functional as F\n",
        "\n",
        "from torch.utils.data import Dataset, DataLoader\n",
        "from torch.utils.tensorboard import SummaryWriter\n",
        "from torchvision import transforms, utils, datasets\n",
        "from torchsummary import summary\n",
        "from datetime import datetime, timedelta\n",
        "\n",
        "# Check assigned GPU\n",
        "gpu_info = !nvidia-smi\n",
        "gpu_info = '\\n'.join(gpu_info)\n",
        "if gpu_info.find('failed') >= 0:\n",
        "  print('Select the Runtime > \"Change runtime type\" menu to enable a GPU accelerator, ')\n",
        "  print('and then re-execute this cell.')\n",
        "else:\n",
        "  print(gpu_info)\n",
        "\n",
        "\n",
        "# set manual seed for reproducibility\n",
        "seed = 42\n",
        "\n",
        "# general reproducibility\n",
        "random.seed(seed)\n",
        "np.random.seed(seed)\n",
        "torch.manual_seed(seed)\n",
        "\n",
        "# gpu training specific\n",
        "torch.backends.cudnn.deterministic = True\n",
        "torch.backends.cudnn.benchmark = False"
      ],
      "execution_count": 1,
      "outputs": [
        {
          "output_type": "stream",
          "text": [
            "Wed Aug 12 15:19:47 2020       \n",
            "+-----------------------------------------------------------------------------+\n",
            "| NVIDIA-SMI 450.57       Driver Version: 418.67       CUDA Version: 10.1     |\n",
            "|-------------------------------+----------------------+----------------------+\n",
            "| GPU  Name        Persistence-M| Bus-Id        Disp.A | Volatile Uncorr. ECC |\n",
            "| Fan  Temp  Perf  Pwr:Usage/Cap|         Memory-Usage | GPU-Util  Compute M. |\n",
            "|                               |                      |               MIG M. |\n",
            "|===============================+======================+======================|\n",
            "|   0  Tesla P100-PCIE...  Off  | 00000000:00:04.0 Off |                    0 |\n",
            "| N/A   34C    P0    27W / 250W |      0MiB / 16280MiB |      0%      Default |\n",
            "|                               |                      |                 ERR! |\n",
            "+-------------------------------+----------------------+----------------------+\n",
            "                                                                               \n",
            "+-----------------------------------------------------------------------------+\n",
            "| Processes:                                                                  |\n",
            "|  GPU   GI   CI        PID   Type   Process name                  GPU Memory |\n",
            "|        ID   ID                                                   Usage      |\n",
            "|=============================================================================|\n",
            "|  No running processes found                                                 |\n",
            "+-----------------------------------------------------------------------------+\n"
          ],
          "name": "stdout"
        }
      ]
    },
    {
      "cell_type": "markdown",
      "metadata": {
        "id": "X7MesIL6AAuD",
        "colab_type": "text"
      },
      "source": [
        "## Re-Format Time"
      ]
    },
    {
      "cell_type": "code",
      "metadata": {
        "id": "0b0H9UUX__89",
        "colab_type": "code",
        "colab": {}
      },
      "source": [
        "def get_time_format(seconds):\n",
        "    sec = timedelta(seconds=int(seconds))\n",
        "    d = datetime(1, 1, 1) + sec\n",
        "    if d.day-1 == 1:\n",
        "        return \"%.2d:%.2d:%.2d:%.2d\" % (d.day-1, d.hour, d.minute, d.second)\n",
        "    return \"%.2d:%.2d:%.2d\" % (d.hour, d.minute, d.second)\n",
        "\n",
        "\n",
        "def calculate_time(start_time):\n",
        "    return get_time_format(time.time() - start_time)"
      ],
      "execution_count": 2,
      "outputs": []
    },
    {
      "cell_type": "markdown",
      "metadata": {
        "id": "NY4eWzGiL6Mj",
        "colab_type": "text"
      },
      "source": [
        "## Load the MNIST Dataset"
      ]
    },
    {
      "cell_type": "code",
      "metadata": {
        "id": "G649tjTXLL8F",
        "colab_type": "code",
        "colab": {
          "base_uri": "https://localhost:8080/",
          "height": 0,
          "referenced_widgets": [
            "98cd9ad523994dda91464699551d2b3b",
            "e30e11ff2435479fb05dac246dc35903",
            "9054a24758044b1da895a28ec540dd9d",
            "baf38b8c974c496d9250e41505aa59ae",
            "8719071a7cdd4c9c9df412f3f1a18f1f",
            "490d326e50a245b6911807e2ead8dfd6",
            "11836412a5b548db985f0f47203c0148",
            "56390bc20db44d98942252c041bd2254",
            "fd8012fcab0b41b48403689eebd1d2c0",
            "a92aef955dfa4c81959a00150dfab3fc",
            "c955aaecef7f48bfb7588d712deb7e52",
            "498da1c80a724e218a24b41b27049683",
            "1810dfe35a384083bf2b6041234be8e9",
            "df3835d5706b49af98265aea3b409124",
            "18f8b569091146beb6c3732a91c86c80",
            "a924987b839c4f61aa495922b497effe",
            "de85728d78694c93b77b6f9695abe15f",
            "b18ee45c02df41db9b093cbbe0ae045e",
            "1a6f08d2ca414445b0347d2a8115578c",
            "bc0c0bad47ad47f88b3c5d256ee79df8",
            "c2cca6467968443ba06a323f4c0561da",
            "d1d2fc5da2034f2cbc4a12247ead4e51",
            "ebab738db4bf41b488815a8362486d5e",
            "2385daa9afcc460dab4fab0eb3499914",
            "ca4959a99d7240f4a839bca8eaab4153",
            "507084f3dfd648909dbf551039b10277",
            "60e5165ee5fa4f658b1a6afa7e57d870",
            "f5e793b152e6407683422492bbcfd689",
            "bea52aaa5419473784808ba50245589d",
            "79a0861e36374a3a9464ca2a6a69e54e",
            "fd2ce620c89149c5b7b0abb7026349d2",
            "73c362907c0f4a8bb823dd758b5d1e70",
            "b0354cf6272b467f9c1453b30322378e",
            "81260284233a48d8807c110290887c41",
            "3f1d12814e484e8e8b1c1d4900f4ab46",
            "b2fc68b04b9646c1bc99cb881dfb6a3b",
            "a59d9ee14953462281c40190d3e125ee",
            "ed7b03e4f80f4af1ab3113f192aa9f47",
            "467e749cacf74b3cac743da14de4d301",
            "0df702481955455c809693bc1972247d",
            "5d8dbd34b29e422da85886be60567beb",
            "f0ce564b1c0d499084f88182c016ba03",
            "7f161a4ef67c46699e34915664448798",
            "71a185c3c8204b36ac7b7a78500ef9f9",
            "b2057e1f02074056851069d0cabd4a20",
            "d69518fea14c44c59c53c02457af5495",
            "f3d69c49c289404e80c78fb9eadb6148",
            "6a0d657066804e658534da7c33bddf85",
            "db4543462aa84e3e9f748c3bfcf2a899",
            "d3af59d85b3648da95f39fad9c5e4735",
            "d7306d3f075d479b9d7dd8d0fc3b75c0",
            "d11e30c492e6478baff5c0973871a824",
            "45446691eea145f682b3e9dfc86a3ec9",
            "bdd7b26d74394f5e949e41ac6ae5de98",
            "f94b9d8fe0884a31aa9a4f51dfc6cf84",
            "0665403511994d82bc8370148f44e070",
            "196969d71b494012b8a52584f9d50201",
            "06b917dd20694c848cef87f4ac11b2e1",
            "99dfc7e0063d4004882cd434557c79bf",
            "3530fc4b65264b61b78e094316877a21",
            "9f47bfb81ffb42d1a943d994ad36cfaf",
            "15d3b624d14a4d3d83726c851c5e21db",
            "0e4e54fdd01a405ba5b80ef1bdd37dea",
            "0b6cac0b1ad14f339bee098ecee86057"
          ]
        },
        "outputId": "735733a1-85a0-46d7-c36a-958264fc99f9"
      },
      "source": [
        "# create transforms\n",
        "# We will just convert to tensor and normalize since no special transforms are mentioned in the paper\n",
        "transforms_mnist = transforms.Compose([\n",
        "                                       transforms.ToTensor(),\n",
        "                                       transforms.Normalize((0.1307,), (0.3081,))\n",
        "                                       ])\n",
        "\n",
        "mnist_data_train = datasets.MNIST('./data/mnist/', train=True, download=True, transform=transforms_mnist)\n",
        "mnist_data_test = datasets.MNIST('../data/mnist/', train=False, download=True, transform=transforms_mnist)"
      ],
      "execution_count": 3,
      "outputs": [
        {
          "output_type": "stream",
          "text": [
            "Downloading http://yann.lecun.com/exdb/mnist/train-images-idx3-ubyte.gz to ./data/mnist/MNIST/raw/train-images-idx3-ubyte.gz\n"
          ],
          "name": "stdout"
        },
        {
          "output_type": "display_data",
          "data": {
            "application/vnd.jupyter.widget-view+json": {
              "model_id": "98cd9ad523994dda91464699551d2b3b",
              "version_minor": 0,
              "version_major": 2
            },
            "text/plain": [
              "HBox(children=(FloatProgress(value=1.0, bar_style='info', max=1.0), HTML(value='')))"
            ]
          },
          "metadata": {
            "tags": []
          }
        },
        {
          "output_type": "stream",
          "text": [
            "Extracting ./data/mnist/MNIST/raw/train-images-idx3-ubyte.gz to ./data/mnist/MNIST/raw\n",
            "Downloading http://yann.lecun.com/exdb/mnist/train-labels-idx1-ubyte.gz to ./data/mnist/MNIST/raw/train-labels-idx1-ubyte.gz\n"
          ],
          "name": "stdout"
        },
        {
          "output_type": "display_data",
          "data": {
            "application/vnd.jupyter.widget-view+json": {
              "model_id": "fd8012fcab0b41b48403689eebd1d2c0",
              "version_minor": 0,
              "version_major": 2
            },
            "text/plain": [
              "HBox(children=(FloatProgress(value=1.0, bar_style='info', max=1.0), HTML(value='')))"
            ]
          },
          "metadata": {
            "tags": []
          }
        },
        {
          "output_type": "stream",
          "text": [
            "Extracting ./data/mnist/MNIST/raw/train-labels-idx1-ubyte.gz to ./data/mnist/MNIST/raw\n",
            "Downloading http://yann.lecun.com/exdb/mnist/t10k-images-idx3-ubyte.gz to ./data/mnist/MNIST/raw/t10k-images-idx3-ubyte.gz\n",
            "\n"
          ],
          "name": "stdout"
        },
        {
          "output_type": "display_data",
          "data": {
            "application/vnd.jupyter.widget-view+json": {
              "model_id": "de85728d78694c93b77b6f9695abe15f",
              "version_minor": 0,
              "version_major": 2
            },
            "text/plain": [
              "HBox(children=(FloatProgress(value=1.0, bar_style='info', max=1.0), HTML(value='')))"
            ]
          },
          "metadata": {
            "tags": []
          }
        },
        {
          "output_type": "stream",
          "text": [
            "Extracting ./data/mnist/MNIST/raw/t10k-images-idx3-ubyte.gz to ./data/mnist/MNIST/raw\n",
            "Downloading http://yann.lecun.com/exdb/mnist/t10k-labels-idx1-ubyte.gz to ./data/mnist/MNIST/raw/t10k-labels-idx1-ubyte.gz\n"
          ],
          "name": "stdout"
        },
        {
          "output_type": "display_data",
          "data": {
            "application/vnd.jupyter.widget-view+json": {
              "model_id": "ca4959a99d7240f4a839bca8eaab4153",
              "version_minor": 0,
              "version_major": 2
            },
            "text/plain": [
              "HBox(children=(FloatProgress(value=1.0, bar_style='info', max=1.0), HTML(value='')))"
            ]
          },
          "metadata": {
            "tags": []
          }
        },
        {
          "output_type": "stream",
          "text": [
            "Extracting ./data/mnist/MNIST/raw/t10k-labels-idx1-ubyte.gz to ./data/mnist/MNIST/raw\n",
            "Processing...\n",
            "Done!\n",
            "Downloading http://yann.lecun.com/exdb/mnist/train-images-idx3-ubyte.gz to ../data/mnist/MNIST/raw/train-images-idx3-ubyte.gz\n"
          ],
          "name": "stdout"
        },
        {
          "output_type": "stream",
          "text": [
            "/usr/local/lib/python3.6/dist-packages/torchvision/datasets/mnist.py:469: UserWarning: The given NumPy array is not writeable, and PyTorch does not support non-writeable tensors. This means you can write to the underlying (supposedly non-writeable) NumPy array using the tensor. You may want to copy the array to protect its data or make it writeable before converting it to a tensor. This type of warning will be suppressed for the rest of this program. (Triggered internally at  /pytorch/torch/csrc/utils/tensor_numpy.cpp:141.)\n",
            "  return torch.from_numpy(parsed.astype(m[2], copy=False)).view(*s)\n"
          ],
          "name": "stderr"
        },
        {
          "output_type": "display_data",
          "data": {
            "application/vnd.jupyter.widget-view+json": {
              "model_id": "b0354cf6272b467f9c1453b30322378e",
              "version_minor": 0,
              "version_major": 2
            },
            "text/plain": [
              "HBox(children=(FloatProgress(value=1.0, bar_style='info', max=1.0), HTML(value='')))"
            ]
          },
          "metadata": {
            "tags": []
          }
        },
        {
          "output_type": "stream",
          "text": [
            "Extracting ../data/mnist/MNIST/raw/train-images-idx3-ubyte.gz to ../data/mnist/MNIST/raw\n",
            "Downloading http://yann.lecun.com/exdb/mnist/train-labels-idx1-ubyte.gz to ../data/mnist/MNIST/raw/train-labels-idx1-ubyte.gz\n"
          ],
          "name": "stdout"
        },
        {
          "output_type": "display_data",
          "data": {
            "application/vnd.jupyter.widget-view+json": {
              "model_id": "5d8dbd34b29e422da85886be60567beb",
              "version_minor": 0,
              "version_major": 2
            },
            "text/plain": [
              "HBox(children=(FloatProgress(value=1.0, bar_style='info', max=1.0), HTML(value='')))"
            ]
          },
          "metadata": {
            "tags": []
          }
        },
        {
          "output_type": "stream",
          "text": [
            "Extracting ../data/mnist/MNIST/raw/train-labels-idx1-ubyte.gz to ../data/mnist/MNIST/raw\n",
            "Downloading http://yann.lecun.com/exdb/mnist/t10k-images-idx3-ubyte.gz to ../data/mnist/MNIST/raw/t10k-images-idx3-ubyte.gz\n"
          ],
          "name": "stdout"
        },
        {
          "output_type": "display_data",
          "data": {
            "application/vnd.jupyter.widget-view+json": {
              "model_id": "db4543462aa84e3e9f748c3bfcf2a899",
              "version_minor": 0,
              "version_major": 2
            },
            "text/plain": [
              "HBox(children=(FloatProgress(value=1.0, bar_style='info', max=1.0), HTML(value='')))"
            ]
          },
          "metadata": {
            "tags": []
          }
        },
        {
          "output_type": "stream",
          "text": [
            "Extracting ../data/mnist/MNIST/raw/t10k-images-idx3-ubyte.gz to ../data/mnist/MNIST/raw\n",
            "Downloading http://yann.lecun.com/exdb/mnist/t10k-labels-idx1-ubyte.gz to ../data/mnist/MNIST/raw/t10k-labels-idx1-ubyte.gz\n"
          ],
          "name": "stdout"
        },
        {
          "output_type": "display_data",
          "data": {
            "application/vnd.jupyter.widget-view+json": {
              "model_id": "196969d71b494012b8a52584f9d50201",
              "version_minor": 0,
              "version_major": 2
            },
            "text/plain": [
              "HBox(children=(FloatProgress(value=1.0, bar_style='info', max=1.0), HTML(value='')))"
            ]
          },
          "metadata": {
            "tags": []
          }
        },
        {
          "output_type": "stream",
          "text": [
            "Extracting ../data/mnist/MNIST/raw/t10k-labels-idx1-ubyte.gz to ../data/mnist/MNIST/raw\n",
            "Processing...\n",
            "Done!\n"
          ],
          "name": "stdout"
        }
      ]
    },
    {
      "cell_type": "code",
      "metadata": {
        "id": "dm9usjn2vFkL",
        "colab_type": "code",
        "colab": {
          "base_uri": "https://localhost:8080/",
          "height": 0
        },
        "outputId": "3b4b2944-71da-41c3-a625-b0bd0cbc7acd"
      },
      "source": [
        "classes = np.array(list(mnist_data_train.class_to_idx.values()))\n",
        "classes_test = np.array(list(mnist_data_test.class_to_idx.values()))\n",
        "num_classes = len(classes_test)\n",
        "print(\"Classes: {} \\tType: {}\".format(classes, type(classes)))\n",
        "print(\"Classes Test: {} \\tType: {}\".format(classes_test, type(classes)))\n"
      ],
      "execution_count": 4,
      "outputs": [
        {
          "output_type": "stream",
          "text": [
            "Classes: [0 1 2 3 4 5 6 7 8 9] \tType: <class 'numpy.ndarray'>\n",
            "Classes Test: [0 1 2 3 4 5 6 7 8 9] \tType: <class 'numpy.ndarray'>\n"
          ],
          "name": "stdout"
        }
      ]
    },
    {
      "cell_type": "code",
      "metadata": {
        "id": "9lvJt3Ofv2SO",
        "colab_type": "code",
        "colab": {
          "base_uri": "https://localhost:8080/",
          "height": 0
        },
        "outputId": "ed065a58-369a-44fc-e6c0-4f902b86b8ad"
      },
      "source": [
        "print(\"Image Shape: {}\".format(mnist_data_train.data[0].size()))"
      ],
      "execution_count": 5,
      "outputs": [
        {
          "output_type": "stream",
          "text": [
            "Image Shape: torch.Size([28, 28])\n"
          ],
          "name": "stdout"
        }
      ]
    },
    {
      "cell_type": "markdown",
      "metadata": {
        "id": "jCOONkg-zV7Y",
        "colab_type": "text"
      },
      "source": [
        "## Visualize Data"
      ]
    },
    {
      "cell_type": "code",
      "metadata": {
        "id": "R9MK03TZw6Qs",
        "colab_type": "code",
        "colab": {}
      },
      "source": [
        "def imshow(img):\n",
        "\timg = img/2 + 0.5 #unnormalize the image\n",
        "\tplt.imshow(img, cmap='gray') # convert from tensor to image"
      ],
      "execution_count": 6,
      "outputs": []
    },
    {
      "cell_type": "code",
      "metadata": {
        "id": "gMJ0Kx4Kw-_H",
        "colab_type": "code",
        "colab": {}
      },
      "source": [
        "def visualize(dataset):\n",
        "  figure = plt.figure(figsize=(25,4))\n",
        "  for i in range(20):\n",
        "    axis = figure.add_subplot(2, 20/2, i+1, xticks=[], yticks=[])\n",
        "    data = dataset.data[i]\n",
        "    data = data.numpy()\n",
        "\n",
        "    target = dataset.targets[i]\n",
        "    target = target.numpy()\n",
        "    imshow(data)\n",
        "    axis.set_title(target)\n"
      ],
      "execution_count": 7,
      "outputs": []
    },
    {
      "cell_type": "code",
      "metadata": {
        "id": "8bPOwKg10Ro7",
        "colab_type": "code",
        "colab": {
          "base_uri": "https://localhost:8080/",
          "height": 0
        },
        "outputId": "287106dd-9b40-49b3-c0c3-6e86c6113ec2"
      },
      "source": [
        "visualize(mnist_data_train)"
      ],
      "execution_count": 8,
      "outputs": [
        {
          "output_type": "stream",
          "text": [
            "\n",
            "\n",
            "\n"
          ],
          "name": "stdout"
        },
        {
          "output_type": "display_data",
          "data": {
            "image/png": "[encoded data removed]",
            "text/plain": [
              "<Figure size 1800x288 with 20 Axes>"
            ]
          },
          "metadata": {
            "tags": []
          }
        }
      ]
    },
    {
      "cell_type": "code",
      "metadata": {
        "id": "RKoh5Cf70UYu",
        "colab_type": "code",
        "colab": {
          "base_uri": "https://localhost:8080/",
          "height": 0
        },
        "outputId": "e0fb725c-046c-403f-d7f6-88dbb80911b6"
      },
      "source": [
        "visualize(mnist_data_test)"
      ],
      "execution_count": 9,
      "outputs": [
        {
          "output_type": "display_data",
          "data": {
            "image/png": "[encoded data removed]",
            "text/plain": [
              "<Figure size 1800x288 with 20 Axes>"
            ]
          },
          "metadata": {
            "tags": []
          }
        }
      ]
    },
    {
      "cell_type": "markdown",
      "metadata": {
        "id": "ctjRsETiO1qO",
        "colab_type": "text"
      },
      "source": [
        "## Partitioning the Data (IID and non-IID)"
      ]
    },
    {
      "cell_type": "code",
      "metadata": {
        "id": "3_v8lyrgO5dD",
        "colab_type": "code",
        "colab": {}
      },
      "source": [
        "def iid_partition(dataset, clients):\n",
        "  \"\"\"\n",
        "  I.I.D paritioning of data over clients\n",
        "  Shuffle the data\n",
        "  Split it between clients\n",
        "  \n",
        "  params:\n",
        "    - dataset (torch.utils.Dataset): Dataset containing the MNIST Images\n",
        "    - clients (int): Number of Clients to split the data between\n",
        "\n",
        "  returns:\n",
        "    - Dictionary of image indexes for each client\n",
        "  \"\"\"\n",
        "\n",
        "  num_items_per_client = int(len(dataset)/clients)\n",
        "  client_dict = {}\n",
        "  image_idxs = [i for i in range(len(dataset))]\n",
        "\n",
        "  for i in range(clients):\n",
        "    client_dict[i] = set(np.random.choice(image_idxs, num_items_per_client, replace=False))\n",
        "    image_idxs = list(set(image_idxs) - client_dict[i])\n",
        "\n",
        "  return client_dict"
      ],
      "execution_count": 10,
      "outputs": []
    },
    {
      "cell_type": "code",
      "metadata": {
        "id": "4zMdliGMQoSl",
        "colab_type": "code",
        "colab": {}
      },
      "source": [
        "def non_iid_partition(dataset, clients, total_shards, shards_size, num_shards_per_client):\n",
        "  \"\"\"\n",
        "  non I.I.D parititioning of data over clients\n",
        "  Sort the data by the digit label\n",
        "  Divide the data into N shards of size S\n",
        "  Each of the clients will get X shards\n",
        "\n",
        "  params:\n",
        "    - dataset (torch.utils.Dataset): Dataset containing the MNIST Images\n",
        "    - clients (int): Number of Clients to split the data between\n",
        "    - total_shards (int): Number of shards to partition the data in\n",
        "    - shards_size (int): Size of each shard \n",
        "    - num_shards_per_client (int): Number of shards of size shards_size that each client receives\n",
        "\n",
        "  returns:\n",
        "    - Dictionary of image indexes for each client\n",
        "  \"\"\"\n",
        "  \n",
        "  shard_idxs = [i for i in range(total_shards)]\n",
        "  client_dict = {i: np.array([], dtype='int64') for i in range(clients)}\n",
        "  idxs = np.arange(len(dataset))\n",
        "  data_labels = dataset.targets.numpy()\n",
        "\n",
        "  # sort the labels\n",
        "  label_idxs = np.vstack((idxs, data_labels))\n",
        "  label_idxs = label_idxs[:, label_idxs[1,:].argsort()]\n",
        "  idxs = label_idxs[0,:]\n",
        "\n",
        "  # divide the data into total_shards of size shards_size\n",
        "  # assign num_shards_per_client to each client\n",
        "  for i in range(clients):\n",
        "    rand_set = set(np.random.choice(shard_idxs, num_shards_per_client, replace=False))\n",
        "    shard_idxs = list(set(shard_idxs) - rand_set)\n",
        "\n",
        "    for rand in rand_set:\n",
        "      client_dict[i] = np.concatenate((client_dict[i], idxs[rand*shards_size:(rand+1)*shards_size]), axis=0)\n",
        "  \n",
        "  return client_dict"
      ],
      "execution_count": 11,
      "outputs": []
    },
    {
      "cell_type": "markdown",
      "metadata": {
        "id": "PTfxv8kFoGAy",
        "colab_type": "text"
      },
      "source": [
        "## Models"
      ]
    },
    {
      "cell_type": "code",
      "metadata": {
        "id": "CvoDNFKbZST5",
        "colab_type": "code",
        "colab": {}
      },
      "source": [
        "class MNIST_2NN(nn.Module):\n",
        "  \"\"\"\n",
        "  A simple multilayer-perceptron with 2-hidden layers with 200 units each\n",
        "  using ReLu activations\n",
        "\n",
        "  Total Expected Params: 199,210\n",
        "  \"\"\"\n",
        "  def __init__(self):\n",
        "    super(MNIST_2NN, self).__init__()\n",
        "\n",
        "    self.fc1 = nn.Linear(28*28, 200)\n",
        "    self.fc2 = nn.Linear(200, 200)\n",
        "    self.fc3 = nn.Linear(200, 10)\n",
        "\n",
        "  def forward(self, x):\n",
        "    x = torch.flatten(x, 1)\n",
        "    x = F.relu(self.fc1(x))\n",
        "    x = F.relu(self.fc2(x))\n",
        "    out = self.fc3(x)\n",
        "\n",
        "    return x"
      ],
      "execution_count": 12,
      "outputs": []
    },
    {
      "cell_type": "code",
      "metadata": {
        "id": "ut1hZ8x3qYPZ",
        "colab_type": "code",
        "colab": {}
      },
      "source": [
        "class MNIST_CNN(nn.Module):\n",
        "  \"\"\"\n",
        "  CNN with two 5x5 convolution lauers(the first with 32 channels, second with 64,\n",
        "  each followed with 2x2 max pooling), a fully connected layer with 512 uunits and \n",
        "  ReLu activation, and the final Softmax output layer\n",
        "\n",
        "  Total Expected Params: 1,663,370\n",
        "  \"\"\"\n",
        "  def __init__(self):\n",
        "    super(MNIST_CNN, self).__init__()\n",
        "\n",
        "    self.conv1 = nn.Conv2d(1, 32, kernel_size=5)\n",
        "    self.conv2 = nn.Conv2d(32, 64, kernel_size=5)\n",
        "    \n",
        "    self.pool = nn.MaxPool2d(2,2)\n",
        "    self.dropout = nn.Dropout(p=0.2)\n",
        "\n",
        "    self.fc1 = nn.Linear(1024, 512)\n",
        "    self.out = nn.Linear(512, 10)\n",
        "\n",
        "  def forward(self, x):\n",
        "    x = self.pool(F.relu(self.conv1(x)))\n",
        "    x = self.pool(F.relu(self.conv2(x)))\n",
        "    x = self.dropout(x)\n",
        "    x = torch.flatten(x, 1)\n",
        "    x = F.relu(self.fc1(x))\n",
        "    x = self.out(x)\n",
        "    out = F.log_softmax(x, dim=1)\n",
        "\n",
        "    return out"
      ],
      "execution_count": 13,
      "outputs": []
    },
    {
      "cell_type": "markdown",
      "metadata": {
        "id": "uVv4HA9HuLtr",
        "colab_type": "text"
      },
      "source": [
        "### Print Model Summaries"
      ]
    },
    {
      "cell_type": "code",
      "metadata": {
        "id": "I5oTH710sJEt",
        "colab_type": "code",
        "colab": {
          "base_uri": "https://localhost:8080/",
          "height": 0
        },
        "outputId": "b6061eac-5411-4d76-fa92-cf2aece3341f"
      },
      "source": [
        "mnist_mlp = MNIST_2NN()\n",
        "mnist_cnn = MNIST_CNN()\n",
        "\n",
        "if torch.cuda.is_available():\n",
        "  mnist_mlp.cuda()\n",
        "  mnist_cnn.cuda()\n",
        "\n",
        "print(\"MNIST MLP SUMMARY\")\n",
        "print(summary(mnist_mlp, (28,28)))\n",
        "\n",
        "print(\"\\nMNIST CNN SUMMARY\")\n",
        "print(summary(mnist_cnn, (1, 28,28)))"
      ],
      "execution_count": 14,
      "outputs": [
        {
          "output_type": "stream",
          "text": [
            "MNIST MLP SUMMARY\n",
            "----------------------------------------------------------------\n",
            "        Layer (type)               Output Shape         Param #\n",
            "================================================================\n",
            "            Linear-1                  [-1, 200]         157,000\n",
            "            Linear-2                  [-1, 200]          40,200\n",
            "            Linear-3                   [-1, 10]           2,010\n",
            "================================================================\n",
            "Total params: 199,210\n",
            "Trainable params: 199,210\n",
            "Non-trainable params: 0\n",
            "----------------------------------------------------------------\n",
            "Input size (MB): 0.00\n",
            "Forward/backward pass size (MB): 0.00\n",
            "Params size (MB): 0.76\n",
            "Estimated Total Size (MB): 0.77\n",
            "----------------------------------------------------------------\n",
            "None\n",
            "\n",
            "MNIST CNN SUMMARY\n",
            "----------------------------------------------------------------\n",
            "        Layer (type)               Output Shape         Param #\n",
            "================================================================\n",
            "            Conv2d-1           [-1, 32, 24, 24]             832\n",
            "         MaxPool2d-2           [-1, 32, 12, 12]               0\n",
            "            Conv2d-3             [-1, 64, 8, 8]          51,264\n",
            "         MaxPool2d-4             [-1, 64, 4, 4]               0\n",
            "           Dropout-5             [-1, 64, 4, 4]               0\n",
            "            Linear-6                  [-1, 512]         524,800\n",
            "            Linear-7                   [-1, 10]           5,130\n",
            "================================================================\n",
            "Total params: 582,026\n",
            "Trainable params: 582,026\n",
            "Non-trainable params: 0\n",
            "----------------------------------------------------------------\n",
            "Input size (MB): 0.00\n",
            "Forward/backward pass size (MB): 0.23\n",
            "Params size (MB): 2.22\n",
            "Estimated Total Size (MB): 2.45\n",
            "----------------------------------------------------------------\n",
            "None\n"
          ],
          "name": "stdout"
        }
      ]
    },
    {
      "cell_type": "markdown",
      "metadata": {
        "id": "tUYyb4T-uXmF",
        "colab_type": "text"
      },
      "source": [
        "## Testing Loop"
      ]
    },
    {
      "cell_type": "code",
      "metadata": {
        "id": "uCcIZmO5uan9",
        "colab_type": "code",
        "colab": {}
      },
      "source": [
        "def testing(model, dataset, bs, criterion, num_classes, classes):\n",
        "  #test loss \n",
        "  test_loss = 0.0\n",
        "  correct_class = list(0. for i in range(num_classes))\n",
        "  total_class = list(0. for i in range(num_classes))\n",
        "\n",
        "  test_loader = DataLoader(dataset, batch_size=bs)\n",
        "  l = len(test_loader)\n",
        "  model.eval()\n",
        "  for data, labels in test_loader:\n",
        "\n",
        "    if torch.cuda.is_available():\n",
        "      data, labels = data.cuda(), labels.cuda()\n",
        "\n",
        "    output = model(data)\n",
        "    loss = criterion(output, labels)\n",
        "    test_loss += loss.item()*data.size(0)\n",
        "\n",
        "    _, pred = torch.max(output, 1)\n",
        "\n",
        "    correct_tensor = pred.eq(labels.data.view_as(pred))\n",
        "    correct = np.squeeze(correct_tensor.numpy()) if not torch.cuda.is_available() else np.squeeze(correct_tensor.cpu().numpy())\n",
        "\n",
        "    #test accuracy for each object class\n",
        "    for i in range(num_classes):\n",
        "      label = labels.data[i]\n",
        "      correct_class[label] += correct[i].item()\n",
        "      total_class[label] += 1\n",
        "    \n",
        "  # avg test loss\n",
        "  test_loss = test_loss/len(test_loader.dataset)\n",
        "  # print(\"Test Loss: {:.6f}\\n\".format(test_loss))\n",
        "\n",
        "  # print test accuracy\n",
        "  # for i in range(10):\n",
        "  #   if total_class[i]>0:\n",
        "  #     print('Test Accuracy of %5s: %2d%% (%2d/%2d)' % \n",
        "  #           (classes[i], 100 * correct_class[i] / total_class[i],\n",
        "  #           np.sum(correct_class[i]), np.sum(total_class[i])))\n",
        "  #   else:\n",
        "  #     print('Test Accuracy of %5s: N/A (no training examples)' % (classes[i]))\n",
        "\n",
        "  test_accuracy = 100. * np.sum(correct_class) / np.sum(total_class)\n",
        "\n",
        "  # print('\\nFinal Test  Accuracy: {:.3f} ({}/{})'.format(\n",
        "  #       100. * np.sum(correct_class) / np.sum(total_class),\n",
        "  #       np.sum(correct_class), np.sum(total_class)))\n",
        "  return test_loss, test_accuracy"
      ],
      "execution_count": 15,
      "outputs": []
    },
    {
      "cell_type": "markdown",
      "metadata": {
        "id": "gf_8XEXa-gZ7",
        "colab_type": "text"
      },
      "source": [
        "## FedProx"
      ]
    },
    {
      "cell_type": "markdown",
      "metadata": {
        "colab_type": "text",
        "id": "cjGMTWxAOsf1"
      },
      "source": [
        "### Systems Heterogeneity Simulations\n",
        "\n",
        "Generate epochs for selected clients based on percentage of devices that corresponds to heterogeneity. \n",
        "\n",
        "Assign x number of epochs (chosen unifirmly at random between [1, E]) to 0%, 50% or 90% of the selected devices, respectively. Settings where 0% devices perform fewer than E epochs of work correspond to the environments without system heterogeneity, while 90% of the devices sending their partial solutions corresponds to highly heterogenous system."
      ]
    },
    {
      "cell_type": "code",
      "metadata": {
        "id": "i-WTHuT3OpFD",
        "colab_type": "code",
        "colab": {}
      },
      "source": [
        "def GenerateLocalEpochs(percentage, size, max_epochs):\n",
        "  ''' Method generates list of epochs for selected clients\n",
        "  to replicate system heteroggeneity\n",
        "\n",
        "  Params:\n",
        "    percentage: percentage of clients to have fewer than E epochs\n",
        "    size:       total size of the list\n",
        "    max_epochs: maximum value for local epochs\n",
        "  \n",
        "  Returns:\n",
        "    List of size epochs for each Client Update\n",
        "\n",
        "  '''\n",
        "\n",
        "  # if percentage is 0 then each client runs for E epochs\n",
        "  if percentage == 0:\n",
        "      return np.array([max_epochs]*size)\n",
        "  else:\n",
        "    # get the number of clients to have fewer than E epochs\n",
        "    heterogenous_size = int((percentage/100) * size)\n",
        "\n",
        "    # generate random uniform epochs of heterogenous size between 1 and E\n",
        "    epoch_list = np.random.randint(1, max_epochs, heterogenous_size)\n",
        "\n",
        "    # the rest of the clients will have E epochs\n",
        "    remaining_size = size - heterogenous_size\n",
        "    rem_list = [max_epochs]*remaining_size\n",
        "\n",
        "    epoch_list = np.append(epoch_list, rem_list, axis=0)\n",
        "    \n",
        "    # shuffle the list and return\n",
        "    np.random.shuffle(epoch_list)\n",
        "\n",
        "    return epoch_list"
      ],
      "execution_count": 16,
      "outputs": []
    },
    {
      "cell_type": "markdown",
      "metadata": {
        "id": "L-aNdQsQ-Kvp",
        "colab_type": "text"
      },
      "source": [
        "### Local Training (Client Update)\n",
        "\n",
        "Local training for the model on client side"
      ]
    },
    {
      "cell_type": "code",
      "metadata": {
        "id": "oX6OsQyO-Gz7",
        "colab_type": "code",
        "colab": {}
      },
      "source": [
        "class CustomDataset(Dataset):\n",
        "  def __init__(self, dataset, idxs):\n",
        "      self.dataset = dataset\n",
        "      self.idxs = list(idxs)\n",
        "\n",
        "  def __len__(self):\n",
        "      return len(self.idxs)\n",
        "\n",
        "  def __getitem__(self, item):\n",
        "      image, label = self.dataset[self.idxs[item]]\n",
        "      return image, label\n",
        "\n",
        "class ClientUpdate(object):\n",
        "  def __init__(self, dataset, batchSize, learning_rate, epochs, idxs, mu, algorithm):\n",
        "    self.train_loader = DataLoader(CustomDataset(dataset, idxs), batch_size=batchSize, shuffle=True)\n",
        "    self.algorithm = algorithm\n",
        "    self.learning_rate = learning_rate\n",
        "    self.epochs = epochs\n",
        "\n",
        "  def train(self, model):\n",
        "    # print(\"Client training for {} epochs.\".format(self.epochs))\n",
        "    criterion = nn.CrossEntropyLoss()\n",
        "    proximal_criterion = nn.MSELoss(reduction='mean')\n",
        "    optimizer = torch.optim.SGD(model.parameters(), lr=self.learning_rate, momentum=0.5)\n",
        "\n",
        "    # use the weights of global model for proximal term calculation\n",
        "    global_model = copy.deepcopy(model)\n",
        "\n",
        "    # calculate local training time\n",
        "    start_time = time.time()\n",
        "\n",
        "\n",
        "    e_loss = []\n",
        "    for epoch in range(1, self.epochs+1):\n",
        "\n",
        "      train_loss = 0.0\n",
        "\n",
        "      model.train()\n",
        "      for data, labels in self.train_loader:\n",
        "\n",
        "        if torch.cuda.is_available():\n",
        "          data, labels = data.cuda(), labels.cuda()\n",
        "\n",
        "        # clear the gradients\n",
        "        optimizer.zero_grad()\n",
        "        # make a forward pass\n",
        "        output = model(data)\n",
        "\n",
        "        # calculate the loss + the proximal term\n",
        "        _, pred = torch.max(output, 1)\n",
        "\n",
        "        if self.algorithm == 'fedprox':\n",
        "          proximal_term = 0.0\n",
        "\n",
        "          # iterate through the current and global model parameters\n",
        "          for w, w_t in zip(model.parameters(), global_model.parameters()) :\n",
        "            # update the proximal term \n",
        "            #proximal_term += torch.sum(torch.abs((w-w_t)**2))\n",
        "            proximal_term += (w-w_t).norm(2)\n",
        "\n",
        "          loss = criterion(output, labels) + (mu/2)*proximal_term\n",
        "        else:\n",
        "          loss = criterion(output, labels)\n",
        "    \n",
        "        # do a backwards pass\n",
        "        loss.backward()\n",
        "        # perform a single optimization step\n",
        "        optimizer.step()\n",
        "        # update training loss\n",
        "        train_loss += loss.item()*data.size(0)\n",
        "\n",
        "      # average losses\n",
        "      train_loss = train_loss/len(self.train_loader.dataset)\n",
        "      e_loss.append(train_loss)\n",
        "\n",
        "    total_loss = sum(e_loss)/len(e_loss)\n",
        "\n",
        "    return model.state_dict(), total_loss, (time.time() - start_time)"
      ],
      "execution_count": 17,
      "outputs": []
    },
    {
      "cell_type": "markdown",
      "metadata": {
        "id": "Ukgh1DVHE2Ds",
        "colab_type": "text"
      },
      "source": [
        "### Server Side Training\n",
        "\n",
        "Following Algorithm 1 from the paper"
      ]
    },
    {
      "cell_type": "code",
      "metadata": {
        "id": "1NF1e33BgpeL",
        "colab_type": "code",
        "colab": {}
      },
      "source": [
        "def training(model, rounds, batch_size, lr, ds, data_dict, test_data_dict, C, K, E, mu, percentage, plt_title, plt_color, target_test_accuracy, algorithm=\"fedprox\"):\n",
        "  \"\"\"\n",
        "  Function implements the Federated Averaging Algorithm from the FedAvg paper.\n",
        "  Specifically, this function is used for the server side training and weight update\n",
        "\n",
        "  Params:\n",
        "    - model:           PyTorch model to train\n",
        "    - rounds:          Number of communication rounds for the client update\n",
        "    - batch_size:      Batch size for client update training\n",
        "    - lr:              Learning rate used for client update training\n",
        "    - ds:              Dataset used for training\n",
        "    - data_dict:       Type of data partition used for training (IID or non-IID)\n",
        "    - test_data_dict:  Data used for testing the model\n",
        "    - C:               Fraction of clients randomly chosen to perform computation on each round\n",
        "    - K:               Total number of clients\n",
        "    - E:               Number of training passes each client makes over its local dataset per round\n",
        "    - mu:              proximal term constant\n",
        "    - percentage:      percentage of selected client to have fewer than E epochs\n",
        "  Returns:\n",
        "    - model:           Trained model on the server\n",
        "  \"\"\"\n",
        "\n",
        "  # global model weights\n",
        "  global_weights = model.state_dict()\n",
        "\n",
        "  # training loss\n",
        "  train_loss = []\n",
        "\n",
        "  # test accuracy\n",
        "  test_acc = []\n",
        "\n",
        "  # store last loss for convergence\n",
        "  last_loss = 0.0\n",
        "\n",
        "  # total time taken \n",
        "  total_time = 0\n",
        "\n",
        "  print(f\"System heterogeneity set to {percentage}% stragglers.\\n\")\n",
        "  print(f\"Picking {max(int(C*K),1 )} random clients per round.\\n\")\n",
        "\n",
        "  for curr_round in range(1, rounds+1):\n",
        "    w, local_loss, lst_local_train_time = [], [], []\n",
        "\n",
        "    m = max(int(C*K), 1)\n",
        "\n",
        "    heterogenous_epoch_list = GenerateLocalEpochs(percentage, size=m, max_epochs=E)\n",
        "    heterogenous_epoch_list = np.array(heterogenous_epoch_list)\n",
        "\n",
        "    S_t = np.random.choice(range(K), m, replace=False)\n",
        "    S_t = np.array(S_t)\n",
        "    \n",
        "    # For Federated Averaging, drop all the clients that are stragglers\n",
        "    if algorithm == 'fedavg':\n",
        "      stragglers_indices = np.argwhere(heterogenous_epoch_list < E)\n",
        "      heterogenous_epoch_list = np.delete(heterogenous_epoch_list, stragglers_indices)\n",
        "      S_t = np.delete(S_t, stragglers_indices)\n",
        "\n",
        "    for k, epoch in zip(S_t, heterogenous_epoch_list):\n",
        "      local_update = ClientUpdate(dataset=ds, batchSize=batch_size, learning_rate=lr, epochs=epoch, idxs=data_dict[k], mu=mu, algorithm=algorithm)\n",
        "      weights, loss, local_train_time = local_update.train(model=copy.deepcopy(model))\n",
        "\n",
        "      w.append(copy.deepcopy(weights))\n",
        "      local_loss.append(copy.deepcopy(loss))\n",
        "      lst_local_train_time.append(local_train_time)\n",
        "\n",
        "    # calculate time to update the global weights\n",
        "    global_start_time = time.time()\n",
        "\n",
        "    # updating the global weights\n",
        "    weights_avg = copy.deepcopy(w[0])\n",
        "    for k in weights_avg.keys():\n",
        "      for i in range(1, len(w)):\n",
        "        weights_avg[k] += w[i][k]\n",
        "\n",
        "      weights_avg[k] = torch.div(weights_avg[k], len(w))\n",
        "\n",
        "    global_weights = weights_avg\n",
        "\n",
        "    global_end_time = time.time()\n",
        "\n",
        "    # calculate total time \n",
        "    total_time += (global_end_time - global_start_time) + sum(lst_local_train_time)/len(lst_local_train_time)\n",
        "\n",
        "    # move the updated weights to our model state dict\n",
        "    model.load_state_dict(global_weights)\n",
        "\n",
        "    # loss\n",
        "    loss_avg = sum(local_loss) / len(local_loss)\n",
        "\n",
        "    # test accuracy\n",
        "    criterion = nn.CrossEntropyLoss()\n",
        "    test_loss, test_accuracy = testing(model, test_data_dict, 128, criterion, num_classes, classes_test)\n",
        "    \n",
        "\n",
        "\n",
        "    print(f\"Round: {curr_round}... \\tAverage Train Loss: {round(loss_avg, 3)}... \\tTest Loss: {test_loss}... \\tTest Accuracy: {test_accuracy}\")\n",
        "    train_loss.append(loss_avg)\n",
        "\n",
        "    test_acc.append(test_accuracy)\n",
        "    # break if we achieve the target test accuracy\n",
        "    if test_accuracy >= target_test_accuracy:\n",
        "      rounds = curr_round\n",
        "      break\n",
        "\n",
        "    # break if we achieve convergence, i.e., loss between two consecutive rounds is <0.0001\n",
        "    if algorithm == 'fedprox' and abs(loss_avg - last_loss) < 0.0001:\n",
        "      rounds = curr_round\n",
        "      break\n",
        "    \n",
        "    # update the last loss\n",
        "    last_loss = loss_avg\n",
        "\n",
        "  # plot train loss\n",
        "  fig, ax = plt.subplots()\n",
        "  x_axis = np.arange(1, rounds+1)\n",
        "  y_axis = np.array(train_loss)\n",
        "  ax.plot(x_axis, y_axis)\n",
        "\n",
        "  ax.set(xlabel='Number of Rounds', ylabel='Train Loss',\n",
        "       title=plt_title)\n",
        "  ax.grid()\n",
        "  fig.savefig(plt_title+'.jpg', format='jpg')\n",
        "\n",
        "  # plot test accuracy\n",
        "  fig1, ax1 = plt.subplots()\n",
        "  x_axis1 = np.arange(1, rounds+1)\n",
        "  y_axis1 = np.array(test_acc)\n",
        "  ax1.plot(x_axis1, y_axis1)\n",
        "\n",
        "  ax1.set(xlabel='Number of Rounds', ylabel='Test Accuracy', title=plt_title)\n",
        "  ax1.grid()\n",
        "  fig1.savefig(plt_title+'-test.jpg', format='jpg')\n",
        "  \n",
        "  print(\"Training Done!\")\n",
        "  # print(\"Total time taken to Train: {}\".format(get_time_format(total_time)))\n",
        "\n",
        "  return model "
      ],
      "execution_count": 18,
      "outputs": []
    },
    {
      "cell_type": "markdown",
      "metadata": {
        "id": "4hO5oV6aXqeh",
        "colab_type": "text"
      },
      "source": [
        "## Special Case of FedProx with mu = 0 where it is Federated Averaging"
      ]
    },
    {
      "cell_type": "markdown",
      "metadata": {
        "id": "flSQv_P4zCfx",
        "colab_type": "text"
      },
      "source": [
        "### Train\n"
      ]
    },
    {
      "cell_type": "code",
      "metadata": {
        "id": "0ZalcKZtEseA",
        "colab_type": "code",
        "colab": {
          "base_uri": "https://localhost:8080/",
          "height": 0
        },
        "outputId": "35adcc5f-5210-45f5-d2c1-817421fcb5d0"
      },
      "source": [
        "# number of training rounds\n",
        "rounds = 100\n",
        "# client fraction\n",
        "C = 0.1\n",
        "# number of clients\n",
        "K = 100\n",
        "# number of training passes on local dataset for each roung\n",
        "E = 20\n",
        "# batch size\n",
        "batch_size = 10\n",
        "# learning Rate\n",
        "lr=0.01\n",
        "# proximal term constant\n",
        "mu = 0.0\n",
        "# percentage of clients to have fewer than E epochs\n",
        "percentage = 0\n",
        "# target test accuracy\n",
        "target_test_accuracy=99.0\n",
        "# data partition dictionary\n",
        "iid_dict = iid_partition(mnist_data_train, 100)\n",
        "# load model\n",
        "mnist_cnn = MNIST_CNN()\n",
        "\n",
        "if torch.cuda.is_available():\n",
        "  mnist_cnn.cuda()\n",
        "\n",
        "mnist_cnn_iid_trained = training(mnist_cnn, rounds, batch_size, lr, mnist_data_train, iid_dict, mnist_data_test, C, K, E, mu, percentage, \"FedProx MNIST CNN Special Case (FedAvg)\", \"orange\", target_test_accuracy)"
      ],
      "execution_count": 19,
      "outputs": [
        {
          "output_type": "stream",
          "text": [
            "System heterogeneity set to 0% stragglers.\n",
            "\n",
            "Picking 10 random clients per round.\n",
            "\n",
            "Round: 1... \tAverage Train Loss: 0.255... \tTest Loss: 0.1682491548925638... \tTest Accuracy: 95.69620253164557\n",
            "Round: 2... \tAverage Train Loss: 0.041... \tTest Loss: 0.1270620659807697... \tTest Accuracy: 97.34177215189874\n",
            "Round: 3... \tAverage Train Loss: 0.03... \tTest Loss: 0.1009558584760176... \tTest Accuracy: 97.59493670886076\n",
            "Round: 4... \tAverage Train Loss: 0.021... \tTest Loss: 0.08788339576094877... \tTest Accuracy: 97.84810126582279\n",
            "Round: 5... \tAverage Train Loss: 0.017... \tTest Loss: 0.0806972319102846... \tTest Accuracy: 97.9746835443038\n",
            "Round: 6... \tAverage Train Loss: 0.015... \tTest Loss: 0.07215070306889247... \tTest Accuracy: 97.84810126582279\n",
            "Round: 7... \tAverage Train Loss: 0.015... \tTest Loss: 0.06769896842179877... \tTest Accuracy: 98.48101265822785\n",
            "Round: 8... \tAverage Train Loss: 0.014... \tTest Loss: 0.05974470126784727... \tTest Accuracy: 98.60759493670886\n",
            "Round: 9... \tAverage Train Loss: 0.012... \tTest Loss: 0.05936614667915564... \tTest Accuracy: 98.60759493670886\n",
            "Round: 10... \tAverage Train Loss: 0.01... \tTest Loss: 0.05457464850716351... \tTest Accuracy: 98.35443037974683\n",
            "Round: 11... \tAverage Train Loss: 0.01... \tTest Loss: 0.051049984900304116... \tTest Accuracy: 98.73417721518987\n",
            "Round: 12... \tAverage Train Loss: 0.01... \tTest Loss: 0.048485785214540375... \tTest Accuracy: 98.86075949367088\n",
            "Round: 13... \tAverage Train Loss: 0.008... \tTest Loss: 0.04938509133536718... \tTest Accuracy: 98.86075949367088\n",
            "Round: 14... \tAverage Train Loss: 0.01... \tTest Loss: 0.0464438995219316... \tTest Accuracy: 98.60759493670886\n",
            "Round: 15... \tAverage Train Loss: 0.008... \tTest Loss: 0.04637975217253479... \tTest Accuracy: 98.86075949367088\n",
            "Round: 16... \tAverage Train Loss: 0.008... \tTest Loss: 0.04825396521651491... \tTest Accuracy: 98.73417721518987\n",
            "Round: 17... \tAverage Train Loss: 0.007... \tTest Loss: 0.04468643943851785... \tTest Accuracy: 98.9873417721519\n",
            "Round: 18... \tAverage Train Loss: 0.007... \tTest Loss: 0.04434340585159698... \tTest Accuracy: 98.9873417721519\n",
            "Training Done!\n"
          ],
          "name": "stdout"
        },
        {
          "output_type": "display_data",
          "data": {
            "image/png": "[encoded data removed]",
            "text/plain": [
              "<Figure size 432x288 with 1 Axes>"
            ]
          },
          "metadata": {
            "tags": [],
            "needs_background": "light"
          }
        },
        {
          "output_type": "display_data",
          "data": {
            "image/png": "[encoded data removed]",
            "text/plain": [
              "<Figure size 432x288 with 1 Axes>"
            ]
          },
          "metadata": {
            "tags": [],
            "needs_background": "light"
          }
        }
      ]
    },
    {
      "cell_type": "markdown",
      "metadata": {
        "id": "b4btCseB0MtI",
        "colab_type": "text"
      },
      "source": [
        " # Training with 0% probability of system heterogeneity"
      ]
    },
    {
      "cell_type": "markdown",
      "metadata": {
        "colab_type": "text",
        "id": "ewgOl5Va6DQs"
      },
      "source": [
        "## MNIST CNN on IID"
      ]
    },
    {
      "cell_type": "markdown",
      "metadata": {
        "colab_type": "text",
        "id": "Q-NXHBgy6DQ1"
      },
      "source": [
        "### Train\n"
      ]
    },
    {
      "cell_type": "code",
      "metadata": {
        "colab_type": "code",
        "id": "CuPEOShG6DQ2",
        "colab": {
          "base_uri": "https://localhost:8080/",
          "height": 947
        },
        "outputId": "40d6c431-cc48-4938-e563-56cd1471dcda"
      },
      "source": [
        "# number of training rounds\n",
        "rounds = 100\n",
        "# client fraction\n",
        "C = 0.1\n",
        "# number of clients\n",
        "K = 100\n",
        "# number of training passes on local dataset for each roung\n",
        "E = 20\n",
        "# batch size\n",
        "batch_size = 10\n",
        "# learning Rate\n",
        "lr=0.01\n",
        "# proximal term constant\n",
        "mu = 0.01\n",
        "# percentage of clients to have fewer than E epochs\n",
        "percentage = 0\n",
        "# target_test_accuracy\n",
        "target_test_accuracy=99.0\n",
        "# data partition dictionary\n",
        "iid_dict = iid_partition(mnist_data_train, 100)\n",
        "# load model\n",
        "mnist_cnn = MNIST_CNN()\n",
        "\n",
        "if torch.cuda.is_available():\n",
        "  mnist_cnn.cuda()\n",
        "\n",
        "mnist_cnn_iid_trained = training(mnist_cnn, rounds, batch_size, lr, mnist_data_train, iid_dict, mnist_data_test, C, K, E, mu, percentage, \"FedProx MNIST CNN on IID Dataset (0%)\", \"orange\", target_test_accuracy)"
      ],
      "execution_count": 20,
      "outputs": [
        {
          "output_type": "stream",
          "text": [
            "System heterogeneity set to 0% stragglers.\n",
            "\n",
            "Picking 10 random clients per round.\n",
            "\n",
            "Round: 1... \tAverage Train Loss: 0.286... \tTest Loss: 0.15677423682063818... \tTest Accuracy: 96.07594936708861\n",
            "Round: 2... \tAverage Train Loss: 0.054... \tTest Loss: 0.12309533291310072... \tTest Accuracy: 97.46835443037975\n",
            "Round: 3... \tAverage Train Loss: 0.034... \tTest Loss: 0.10244630348230713... \tTest Accuracy: 97.72151898734177\n",
            "Round: 4... \tAverage Train Loss: 0.035... \tTest Loss: 0.08234688316583634... \tTest Accuracy: 97.59493670886076\n",
            "Round: 5... \tAverage Train Loss: 0.031... \tTest Loss: 0.07274353896492394... \tTest Accuracy: 97.9746835443038\n",
            "Round: 6... \tAverage Train Loss: 0.025... \tTest Loss: 0.07058423596122303... \tTest Accuracy: 98.22784810126582\n",
            "Round: 7... \tAverage Train Loss: 0.021... \tTest Loss: 0.06626725818404229... \tTest Accuracy: 98.10126582278481\n",
            "Round: 8... \tAverage Train Loss: 0.023... \tTest Loss: 0.06061577648965758... \tTest Accuracy: 98.48101265822785\n",
            "Round: 9... \tAverage Train Loss: 0.019... \tTest Loss: 0.06015368863070034... \tTest Accuracy: 98.22784810126582\n",
            "Round: 10... \tAverage Train Loss: 0.018... \tTest Loss: 0.05828004782385833... \tTest Accuracy: 98.35443037974683\n",
            "Round: 11... \tAverage Train Loss: 0.017... \tTest Loss: 0.05647912394453888... \tTest Accuracy: 98.48101265822785\n",
            "Round: 12... \tAverage Train Loss: 0.017... \tTest Loss: 0.055933697147374915... \tTest Accuracy: 98.60759493670886\n",
            "Round: 13... \tAverage Train Loss: 0.015... \tTest Loss: 0.054436346307488566... \tTest Accuracy: 98.48101265822785\n",
            "Round: 14... \tAverage Train Loss: 0.018... \tTest Loss: 0.05242677895735324... \tTest Accuracy: 98.9873417721519\n",
            "Round: 15... \tAverage Train Loss: 0.017... \tTest Loss: 0.04702896563633403... \tTest Accuracy: 98.9873417721519\n",
            "Round: 16... \tAverage Train Loss: 0.014... \tTest Loss: 0.048616405076737285... \tTest Accuracy: 98.86075949367088\n",
            "Round: 17... \tAverage Train Loss: 0.015... \tTest Loss: 0.04623190985184047... \tTest Accuracy: 99.24050632911393\n",
            "Training Done!\n"
          ],
          "name": "stdout"
        },
        {
          "output_type": "display_data",
          "data": {
            "image/png": "[encoded data removed]",
            "text/plain": [
              "<Figure size 432x288 with 1 Axes>"
            ]
          },
          "metadata": {
            "tags": [],
            "needs_background": "light"
          }
        },
        {
          "output_type": "display_data",
          "data": {
            "image/png": "[encoded data removed]",
            "text/plain": [
              "<Figure size 432x288 with 1 Axes>"
            ]
          },
          "metadata": {
            "tags": [],
            "needs_background": "light"
          }
        }
      ]
    },
    {
      "cell_type": "markdown",
      "metadata": {
        "id": "uF8MdSIUYcnl",
        "colab_type": "text"
      },
      "source": [
        "## MNIST CNN on Non IID"
      ]
    },
    {
      "cell_type": "markdown",
      "metadata": {
        "id": "a6wXX7JW11bx",
        "colab_type": "text"
      },
      "source": [
        "### Train\n"
      ]
    },
    {
      "cell_type": "code",
      "metadata": {
        "id": "fCD3kBCKYfBK",
        "colab_type": "code",
        "colab": {
          "base_uri": "https://localhost:8080/",
          "height": 811
        },
        "outputId": "9cb5f594-1191-4900-e5a8-b715bb330a89"
      },
      "source": [
        "# number of training rounds\n",
        "rounds = 100\n",
        "# client fraction\n",
        "C = 0.1\n",
        "# number of clients\n",
        "K = 100\n",
        "# number of training passes on local dataset for each roung\n",
        "E = 20\n",
        "# batch size\n",
        "batch_size = 10\n",
        "# learning Rate\n",
        "lr=0.01\n",
        "# proximal term constant\n",
        "mu = 0.01\n",
        "# percentage of clients to have fewer than E epochs\n",
        "percentage = 0\n",
        "\n",
        "# target_test_accuracy\n",
        "target_test_accuracy=99.0\n",
        "# dict containing different type of data partition\n",
        "data_dict = non_iid_partition(mnist_data_train, 100, 200, 300, 2)\n",
        "# load model\n",
        "mnist_cnn = MNIST_CNN()\n",
        "\n",
        "if torch.cuda.is_available():\n",
        "  mnist_cnn.cuda()\n",
        "\n",
        "mnist_cnn_non_iid_trained = training(mnist_cnn, rounds, batch_size, lr, mnist_data_train, data_dict, mnist_data_test, C, K, E, mu, percentage, \"FedProx MNIST CNN on non-IID Dataset (0%)\", \"green\", target_test_accuracy)\n"
      ],
      "execution_count": 21,
      "outputs": [
        {
          "output_type": "stream",
          "text": [
            "System heterogeneity set to 0% stragglers.\n",
            "\n",
            "Picking 10 random clients per round.\n",
            "\n",
            "Round: 1... \tAverage Train Loss: 0.049... \tTest Loss: 2.9775880100250243... \tTest Accuracy: 26.075949367088608\n",
            "Round: 2... \tAverage Train Loss: 0.032... \tTest Loss: 2.091098132324219... \tTest Accuracy: 27.59493670886076\n",
            "Round: 3... \tAverage Train Loss: 0.03... \tTest Loss: 1.4389735929489136... \tTest Accuracy: 50.63291139240506\n",
            "Round: 4... \tAverage Train Loss: 0.024... \tTest Loss: 1.5055664682388306... \tTest Accuracy: 55.31645569620253\n",
            "Round: 5... \tAverage Train Loss: 0.017... \tTest Loss: 1.0132979842185974... \tTest Accuracy: 63.79746835443038\n",
            "Round: 6... \tAverage Train Loss: 0.015... \tTest Loss: 0.589519287443161... \tTest Accuracy: 80.12658227848101\n",
            "Round: 7... \tAverage Train Loss: 0.012... \tTest Loss: 0.5778641642093658... \tTest Accuracy: 80.88607594936708\n",
            "Round: 8... \tAverage Train Loss: 0.014... \tTest Loss: 0.4602468936443329... \tTest Accuracy: 84.68354430379746\n",
            "Round: 9... \tAverage Train Loss: 0.014... \tTest Loss: 0.6028336941242218... \tTest Accuracy: 76.58227848101266\n",
            "Training Done!\n"
          ],
          "name": "stdout"
        },
        {
          "output_type": "display_data",
          "data": {
            "image/png": "[encoded data removed]",
            "text/plain": [
              "<Figure size 432x288 with 1 Axes>"
            ]
          },
          "metadata": {
            "tags": [],
            "needs_background": "light"
          }
        },
        {
          "output_type": "display_data",
          "data": {
            "image/png": "[encoded data removed]",
            "text/plain": [
              "<Figure size 432x288 with 1 Axes>"
            ]
          },
          "metadata": {
            "tags": [],
            "needs_background": "light"
          }
        }
      ]
    },
    {
      "cell_type": "markdown",
      "metadata": {
        "id": "z_jifdzniuhm",
        "colab_type": "text"
      },
      "source": [
        "## MNIST MLP on IID"
      ]
    },
    {
      "cell_type": "markdown",
      "metadata": {
        "id": "uh-te0Od2XGO",
        "colab_type": "text"
      },
      "source": [
        "### Train"
      ]
    },
    {
      "cell_type": "code",
      "metadata": {
        "id": "UmpWmKOQixVV",
        "colab_type": "code",
        "colab": {
          "base_uri": "https://localhost:8080/",
          "height": 777
        },
        "outputId": "5589d55e-6803-4961-cf94-35a0c3d45799"
      },
      "source": [
        "# number of training rounds\n",
        "rounds = 100\n",
        "# client fraction\n",
        "C = 0.1\n",
        "# number of clients\n",
        "K = 100\n",
        "# number of training passes on local dataset for each round\n",
        "E = 20\n",
        "# batch size\n",
        "batch_size = 10\n",
        "# learning Rate\n",
        "lr=0.01\n",
        "# proximal term constant\n",
        "mu = 0.01\n",
        "# percentage of clients to have fewer than E epochs\n",
        "percentage = 90\n",
        "# target_test_accuracy\n",
        "target_test_accuracy=94.0\n",
        "# dict containing different type of data partition\n",
        "data_dict = iid_partition(mnist_data_train, 100)\n",
        "# load model\n",
        "mnist_mlp = MNIST_2NN()\n",
        "\n",
        "if torch.cuda.is_available():\n",
        "  mnist_mlp.cuda()\n",
        "\n",
        "mnist_mlp_iid_trained = training(mnist_mlp, rounds, batch_size, lr, mnist_data_train, data_dict, mnist_data_test, C, K, E, mu, percentage, \"FedProx MNIST MLP on IID Dataset (90%)\", \"orange\", target_test_accuracy)\n"
      ],
      "execution_count": 22,
      "outputs": [
        {
          "output_type": "stream",
          "text": [
            "System heterogeneity set to 90% stragglers.\n",
            "\n",
            "Picking 10 random clients per round.\n",
            "\n",
            "Round: 1... \tAverage Train Loss: 0.597... \tTest Loss: 0.33981159615516665... \tTest Accuracy: 90.50632911392405\n",
            "Round: 2... \tAverage Train Loss: 0.19... \tTest Loss: 0.295352877998352... \tTest Accuracy: 92.65822784810126\n",
            "Round: 3... \tAverage Train Loss: 0.165... \tTest Loss: 0.2759601198077202... \tTest Accuracy: 93.16455696202532\n",
            "Round: 4... \tAverage Train Loss: 0.152... \tTest Loss: 0.25294016422331334... \tTest Accuracy: 92.9113924050633\n",
            "Round: 5... \tAverage Train Loss: 0.112... \tTest Loss: 0.23895647785663604... \tTest Accuracy: 93.29113924050633\n",
            "Round: 6... \tAverage Train Loss: 0.072... \tTest Loss: 0.2299989909812808... \tTest Accuracy: 93.92405063291139\n",
            "Round: 7... \tAverage Train Loss: 0.135... \tTest Loss: 0.21545796639323234... \tTest Accuracy: 94.0506329113924\n",
            "Training Done!\n"
          ],
          "name": "stdout"
        },
        {
          "output_type": "display_data",
          "data": {
            "image/png": "[encoded data removed]",
            "text/plain": [
              "<Figure size 432x288 with 1 Axes>"
            ]
          },
          "metadata": {
            "tags": [],
            "needs_background": "light"
          }
        },
        {
          "output_type": "display_data",
          "data": {
            "image/png": "[encoded data removed]",
            "text/plain": [
              "<Figure size 432x288 with 1 Axes>"
            ]
          },
          "metadata": {
            "tags": [],
            "needs_background": "light"
          }
        }
      ]
    },
    {
      "cell_type": "markdown",
      "metadata": {
        "id": "J8jzEyO0iywz",
        "colab_type": "text"
      },
      "source": [
        "## MNIST MLP on Non IID"
      ]
    },
    {
      "cell_type": "markdown",
      "metadata": {
        "id": "pJFepr3y2bF-",
        "colab_type": "text"
      },
      "source": [
        "### Train"
      ]
    },
    {
      "cell_type": "code",
      "metadata": {
        "id": "EBKO44Hgi1Uh",
        "colab_type": "code",
        "colab": {
          "base_uri": "https://localhost:8080/",
          "height": 1000
        },
        "outputId": "0842559f-da96-4efd-c965-9d27cc5bcba2"
      },
      "source": [
        "# number of training rounds\n",
        "rounds = 100\n",
        "# client fraction\n",
        "C = 0.1\n",
        "# number of clients\n",
        "K = 100\n",
        "# number of training passes on local dataset for each roung\n",
        "E = 20\n",
        "# batch size\n",
        "batch_size = 10\n",
        "# learning Rate\n",
        "lr=0.01\n",
        "# proximal term constant\n",
        "mu = 0.01\n",
        "# percentage of clients to have fewer than E epochs\n",
        "percentage = 90\n",
        "# target_test_accuracy\n",
        "target_test_accuracy=94.0\n",
        "# dict containing different type of data partition\n",
        "data_dict = non_iid_partition(mnist_data_train, 100, 200, 300, 2)\n",
        "# load model\n",
        "mnist_mlp = MNIST_2NN()\n",
        "\n",
        "if torch.cuda.is_available():\n",
        "  mnist_mlp.cuda()\n",
        "\n",
        "mnist_mlp_non_iid_trained = training(mnist_mlp, rounds, batch_size, lr, mnist_data_train, data_dict, mnist_data_test, C, K, E, mu, percentage, \"FedProx MNIST MLP on non-IID Dataset (90%)\", \"green\", target_test_accuracy)"
      ],
      "execution_count": 23,
      "outputs": [
        {
          "output_type": "stream",
          "text": [
            "System heterogeneity set to 90% stragglers.\n",
            "\n",
            "Picking 10 random clients per round.\n",
            "\n",
            "Round: 1... \tAverage Train Loss: 0.248... \tTest Loss: 3.7023820693969727... \tTest Accuracy: 20.759493670886076\n",
            "Round: 2... \tAverage Train Loss: 0.115... \tTest Loss: 3.390885832977295... \tTest Accuracy: 23.29113924050633\n",
            "Round: 3... \tAverage Train Loss: 0.034... \tTest Loss: 2.566848978805542... \tTest Accuracy: 36.70886075949367\n",
            "Round: 4... \tAverage Train Loss: 0.054... \tTest Loss: 1.6602831937789917... \tTest Accuracy: 54.68354430379747\n",
            "Round: 5... \tAverage Train Loss: 0.039... \tTest Loss: 1.1001135723114013... \tTest Accuracy: 57.721518987341774\n",
            "Round: 6... \tAverage Train Loss: 0.042... \tTest Loss: 1.0657608781814576... \tTest Accuracy: 62.151898734177216\n",
            "Round: 7... \tAverage Train Loss: 0.035... \tTest Loss: 0.8269805119514465... \tTest Accuracy: 71.13924050632912\n",
            "Round: 8... \tAverage Train Loss: 0.037... \tTest Loss: 0.9334937385559082... \tTest Accuracy: 63.54430379746835\n",
            "Round: 9... \tAverage Train Loss: 0.042... \tTest Loss: 0.5764040384292602... \tTest Accuracy: 82.78481012658227\n",
            "Round: 10... \tAverage Train Loss: 0.042... \tTest Loss: 0.6891395734786987... \tTest Accuracy: 74.9367088607595\n",
            "Round: 11... \tAverage Train Loss: 0.035... \tTest Loss: 0.6642351544857025... \tTest Accuracy: 74.9367088607595\n",
            "Round: 12... \tAverage Train Loss: 0.038... \tTest Loss: 0.4835863648176193... \tTest Accuracy: 85.0632911392405\n",
            "Round: 13... \tAverage Train Loss: 0.043... \tTest Loss: 0.5634748459815979... \tTest Accuracy: 80.75949367088607\n",
            "Round: 14... \tAverage Train Loss: 0.02... \tTest Loss: 0.5312457490444183... \tTest Accuracy: 81.77215189873418\n",
            "Round: 15... \tAverage Train Loss: 0.037... \tTest Loss: 0.46458884143829343... \tTest Accuracy: 84.55696202531645\n",
            "Round: 16... \tAverage Train Loss: 0.021... \tTest Loss: 0.4160654675006866... \tTest Accuracy: 86.70886075949367\n",
            "Round: 17... \tAverage Train Loss: 0.031... \tTest Loss: 0.362162854719162... \tTest Accuracy: 88.9873417721519\n",
            "Round: 18... \tAverage Train Loss: 0.018... \tTest Loss: 0.3884798283576965... \tTest Accuracy: 87.72151898734177\n",
            "Round: 19... \tAverage Train Loss: 0.032... \tTest Loss: 0.3784920303583145... \tTest Accuracy: 89.49367088607595\n",
            "Round: 20... \tAverage Train Loss: 0.024... \tTest Loss: 0.5141837775707245... \tTest Accuracy: 80.50632911392405\n",
            "Round: 21... \tAverage Train Loss: 0.026... \tTest Loss: 0.5856140151977539... \tTest Accuracy: 79.62025316455696\n",
            "Round: 22... \tAverage Train Loss: 0.02... \tTest Loss: 0.3913197860240936... \tTest Accuracy: 87.72151898734177\n",
            "Round: 23... \tAverage Train Loss: 0.028... \tTest Loss: 0.3469475873947144... \tTest Accuracy: 90.37974683544304\n",
            "Round: 24... \tAverage Train Loss: 0.027... \tTest Loss: 0.5006078257083892... \tTest Accuracy: 82.9113924050633\n",
            "Round: 25... \tAverage Train Loss: 0.026... \tTest Loss: 0.35817418155670167... \tTest Accuracy: 89.24050632911393\n",
            "Round: 26... \tAverage Train Loss: 0.018... \tTest Loss: 0.34393176753520965... \tTest Accuracy: 90.0\n",
            "Round: 27... \tAverage Train Loss: 0.019... \tTest Loss: 0.3468616493582726... \tTest Accuracy: 88.48101265822785\n",
            "Round: 28... \tAverage Train Loss: 0.028... \tTest Loss: 0.41982631006240845... \tTest Accuracy: 85.0632911392405\n",
            "Round: 29... \tAverage Train Loss: 0.013... \tTest Loss: 0.41776658992767335... \tTest Accuracy: 85.9493670886076\n",
            "Round: 30... \tAverage Train Loss: 0.025... \tTest Loss: 0.5076148697853088... \tTest Accuracy: 82.53164556962025\n",
            "Round: 31... \tAverage Train Loss: 0.029... \tTest Loss: 0.3386457708120346... \tTest Accuracy: 88.48101265822785\n",
            "Round: 32... \tAverage Train Loss: 0.014... \tTest Loss: 0.2802073529958725... \tTest Accuracy: 92.9113924050633\n",
            "Round: 33... \tAverage Train Loss: 0.02... \tTest Loss: 0.36802913465499876... \tTest Accuracy: 87.9746835443038\n",
            "Round: 34... \tAverage Train Loss: 0.032... \tTest Loss: 0.37174051542282105... \tTest Accuracy: 86.58227848101266\n",
            "Round: 35... \tAverage Train Loss: 0.016... \tTest Loss: 0.490978952217102... \tTest Accuracy: 81.0126582278481\n",
            "Round: 36... \tAverage Train Loss: 0.017... \tTest Loss: 0.4706635729312897... \tTest Accuracy: 85.0632911392405\n",
            "Round: 37... \tAverage Train Loss: 0.015... \tTest Loss: 0.36995785894393923... \tTest Accuracy: 87.34177215189874\n",
            "Round: 38... \tAverage Train Loss: 0.016... \tTest Loss: 0.3481424806833267... \tTest Accuracy: 90.0\n",
            "Round: 39... \tAverage Train Loss: 0.021... \tTest Loss: 0.31573468372821806... \tTest Accuracy: 89.74683544303798\n",
            "Round: 40... \tAverage Train Loss: 0.022... \tTest Loss: 0.37245381324291227... \tTest Accuracy: 88.35443037974683\n",
            "Round: 41... \tAverage Train Loss: 0.019... \tTest Loss: 0.3420349896669388... \tTest Accuracy: 90.0\n",
            "Round: 42... \tAverage Train Loss: 0.012... \tTest Loss: 0.32709026992321016... \tTest Accuracy: 88.10126582278481\n",
            "Round: 43... \tAverage Train Loss: 0.016... \tTest Loss: 0.3146715807914734... \tTest Accuracy: 89.49367088607595\n",
            "Round: 44... \tAverage Train Loss: 0.029... \tTest Loss: 0.30998296179771423... \tTest Accuracy: 90.75949367088607\n",
            "Round: 45... \tAverage Train Loss: 0.015... \tTest Loss: 0.26676477961540224... \tTest Accuracy: 91.39240506329114\n",
            "Round: 46... \tAverage Train Loss: 0.016... \tTest Loss: 0.2721325135707855... \tTest Accuracy: 91.64556962025317\n",
            "Round: 47... \tAverage Train Loss: 0.021... \tTest Loss: 0.25114502583742143... \tTest Accuracy: 92.40506329113924\n",
            "Round: 48... \tAverage Train Loss: 0.01... \tTest Loss: 0.24566636035442352... \tTest Accuracy: 91.39240506329114\n",
            "Round: 49... \tAverage Train Loss: 0.022... \tTest Loss: 0.2732821732521057... \tTest Accuracy: 90.37974683544304\n",
            "Round: 50... \tAverage Train Loss: 0.015... \tTest Loss: 0.4563986262798309... \tTest Accuracy: 83.29113924050633\n",
            "Round: 51... \tAverage Train Loss: 0.018... \tTest Loss: 0.30525658054351806... \tTest Accuracy: 91.77215189873418\n",
            "Round: 52... \tAverage Train Loss: 0.018... \tTest Loss: 0.27566762311458587... \tTest Accuracy: 91.26582278481013\n",
            "Training Done!\n"
          ],
          "name": "stdout"
        },
        {
          "output_type": "display_data",
          "data": {
            "image/png": "[encoded data removed]",
            "text/plain": [
              "<Figure size 432x288 with 1 Axes>"
            ]
          },
          "metadata": {
            "tags": [],
            "needs_background": "light"
          }
        },
        {
          "output_type": "display_data",
          "data": {
            "image/png": "[encoded data removed]",
            "text/plain": [
              "<Figure size 432x288 with 1 Axes>"
            ]
          },
          "metadata": {
            "tags": [],
            "needs_background": "light"
          }
        }
      ]
    },
    {
      "cell_type": "markdown",
      "metadata": {
        "id": "HdOmGsJLC5OD",
        "colab_type": "text"
      },
      "source": [
        "# Training with 50% probability of system heterogeneity"
      ]
    },
    {
      "cell_type": "markdown",
      "metadata": {
        "colab_type": "text",
        "id": "gnlxH6QdDGzc"
      },
      "source": [
        "## MNIST CNN on IID"
      ]
    },
    {
      "cell_type": "markdown",
      "metadata": {
        "colab_type": "text",
        "id": "8fiWKhiKDGze"
      },
      "source": [
        "### Train\n"
      ]
    },
    {
      "cell_type": "code",
      "metadata": {
        "colab_type": "code",
        "id": "bmHjsXHeDGzg",
        "colab": {
          "base_uri": "https://localhost:8080/",
          "height": 0
        },
        "outputId": "c3ebacb5-a135-4136-db5f-1d8d1b26ad3d"
      },
      "source": [
        "# number of training rounds\n",
        "rounds = 100\n",
        "# client fraction\n",
        "C = 0.1\n",
        "# number of clients\n",
        "K = 100\n",
        "# number of training passes on local dataset for each roung\n",
        "E = 20\n",
        "# batch size\n",
        "batch_size = 10\n",
        "# learning Rate\n",
        "lr=0.01\n",
        "# proximal term constant\n",
        "mu = 0.01\n",
        "# percentage of clients to have fewer than E epochs\n",
        "percentage = 50\n",
        "# target_test_accuracy\n",
        "target_test_accuracy=99.0\n",
        "# data partition dictionary\n",
        "iid_dict = iid_partition(mnist_data_train, 100)\n",
        "# load model\n",
        "mnist_cnn = MNIST_CNN()\n",
        "\n",
        "if torch.cuda.is_available():\n",
        "  mnist_cnn.cuda()\n",
        "\n",
        "mnist_cnn_iid_trained = training(mnist_cnn, rounds, batch_size, lr, mnist_data_train, iid_dict, mnist_data_test, C, K, E, mu, percentage, \"FedProx MNIST CNN on IID Dataset (50%)\", \"orange\", target_test_accuracy)"
      ],
      "execution_count": 24,
      "outputs": [
        {
          "output_type": "stream",
          "text": [
            "System heterogeneity set to 50% stragglers.\n",
            "\n",
            "Picking 10 random clients per round.\n",
            "\n",
            "Round: 1... \tAverage Train Loss: 0.447... \tTest Loss: 0.17414842083454132... \tTest Accuracy: 95.0632911392405\n",
            "Round: 2... \tAverage Train Loss: 0.106... \tTest Loss: 0.11909288570284843... \tTest Accuracy: 96.83544303797468\n",
            "Round: 3... \tAverage Train Loss: 0.066... \tTest Loss: 0.09787474223300814... \tTest Accuracy: 97.21518987341773\n",
            "Round: 4... \tAverage Train Loss: 0.044... \tTest Loss: 0.0854887622129987... \tTest Accuracy: 97.59493670886076\n",
            "Round: 5... \tAverage Train Loss: 0.057... \tTest Loss: 0.07197073401981033... \tTest Accuracy: 98.10126582278481\n",
            "Round: 6... \tAverage Train Loss: 0.03... \tTest Loss: 0.06523324645482353... \tTest Accuracy: 98.22784810126582\n",
            "Round: 7... \tAverage Train Loss: 0.027... \tTest Loss: 0.06482798097054474... \tTest Accuracy: 98.60759493670886\n",
            "Round: 8... \tAverage Train Loss: 0.04... \tTest Loss: 0.058713185988122134... \tTest Accuracy: 98.73417721518987\n",
            "Round: 9... \tAverage Train Loss: 0.048... \tTest Loss: 0.05702155717918067... \tTest Accuracy: 98.86075949367088\n",
            "Round: 10... \tAverage Train Loss: 0.035... \tTest Loss: 0.05551980754535762... \tTest Accuracy: 99.11392405063292\n",
            "Training Done!\n"
          ],
          "name": "stdout"
        },
        {
          "output_type": "display_data",
          "data": {
            "image/png": "[encoded data removed]",
            "text/plain": [
              "<Figure size 432x288 with 1 Axes>"
            ]
          },
          "metadata": {
            "tags": [],
            "needs_background": "light"
          }
        },
        {
          "output_type": "display_data",
          "data": {
            "image/png": "[encoded data removed]",
            "text/plain": [
              "<Figure size 432x288 with 1 Axes>"
            ]
          },
          "metadata": {
            "tags": [],
            "needs_background": "light"
          }
        }
      ]
    },
    {
      "cell_type": "markdown",
      "metadata": {
        "colab_type": "text",
        "id": "3C1o99ZODOH8"
      },
      "source": [
        "## MNIST CNN on Non IID"
      ]
    },
    {
      "cell_type": "markdown",
      "metadata": {
        "colab_type": "text",
        "id": "MxLku0pEDOH9"
      },
      "source": [
        "### Train\n"
      ]
    },
    {
      "cell_type": "code",
      "metadata": {
        "colab_type": "code",
        "id": "jzQZEeOeDOH-",
        "colab": {
          "base_uri": "https://localhost:8080/",
          "height": 964
        },
        "outputId": "feb5328f-75fc-459e-d070-546261985d59"
      },
      "source": [
        "# number of training rounds\n",
        "rounds = 100\n",
        "# client fraction\n",
        "C = 0.1\n",
        "# number of clients\n",
        "K = 100\n",
        "# number of training passes on local dataset for each roung\n",
        "E = 20\n",
        "# batch size\n",
        "batch_size = 10\n",
        "# learning Rate\n",
        "lr=0.01\n",
        "# proximal term constant\n",
        "mu = 0.01\n",
        "# percentage of clients to have fewer than E epochs\n",
        "percentage = 50\n",
        "# target_test_accuracy\n",
        "target_test_accuracy=96.0\n",
        "# dict containing different type of data partition\n",
        "data_dict = non_iid_partition(mnist_data_train, 100, 200, 300, 2)\n",
        "# load model\n",
        "mnist_cnn = MNIST_CNN()\n",
        "\n",
        "if torch.cuda.is_available():\n",
        "  mnist_cnn.cuda()\n",
        "\n",
        "mnist_cnn_non_iid_trained = training(mnist_cnn, rounds, batch_size, lr, mnist_data_train, data_dict, mnist_data_test, C, K, E, mu, percentage, \"FedProx MNIST CNN on non-IID Dataset (50%)\", \"green\", target_test_accuracy)\n"
      ],
      "execution_count": 25,
      "outputs": [
        {
          "output_type": "stream",
          "text": [
            "System heterogeneity set to 50% stragglers.\n",
            "\n",
            "Picking 10 random clients per round.\n",
            "\n",
            "Round: 1... \tAverage Train Loss: 0.063... \tTest Loss: 2.104177982711792... \tTest Accuracy: 28.10126582278481\n",
            "Round: 2... \tAverage Train Loss: 0.035... \tTest Loss: 2.0645568244934083... \tTest Accuracy: 40.25316455696203\n",
            "Round: 3... \tAverage Train Loss: 0.031... \tTest Loss: 1.3013924940109254... \tTest Accuracy: 60.50632911392405\n",
            "Round: 4... \tAverage Train Loss: 0.02... \tTest Loss: 2.260540909194946... \tTest Accuracy: 29.873417721518987\n",
            "Round: 5... \tAverage Train Loss: 0.014... \tTest Loss: 1.1929788646697999... \tTest Accuracy: 59.36708860759494\n",
            "Round: 6... \tAverage Train Loss: 0.021... \tTest Loss: 0.6739433184623719... \tTest Accuracy: 78.22784810126582\n",
            "Round: 7... \tAverage Train Loss: 0.024... \tTest Loss: 0.7578722602844238... \tTest Accuracy: 74.17721518987342\n",
            "Round: 8... \tAverage Train Loss: 0.029... \tTest Loss: 0.622692104101181... \tTest Accuracy: 76.45569620253164\n",
            "Round: 9... \tAverage Train Loss: 0.022... \tTest Loss: 0.38677294392585754... \tTest Accuracy: 86.83544303797468\n",
            "Round: 10... \tAverage Train Loss: 0.017... \tTest Loss: 0.44535790510177614... \tTest Accuracy: 82.65822784810126\n",
            "Round: 11... \tAverage Train Loss: 0.031... \tTest Loss: 0.3308607350349426... \tTest Accuracy: 87.9746835443038\n",
            "Round: 12... \tAverage Train Loss: 0.015... \tTest Loss: 0.2328262808084488... \tTest Accuracy: 92.27848101265823\n",
            "Round: 13... \tAverage Train Loss: 0.017... \tTest Loss: 0.2151803363442421... \tTest Accuracy: 92.65822784810126\n",
            "Round: 14... \tAverage Train Loss: 0.011... \tTest Loss: 0.22158964908123016... \tTest Accuracy: 93.16455696202532\n",
            "Round: 15... \tAverage Train Loss: 0.013... \tTest Loss: 0.18977326508760453... \tTest Accuracy: 94.0506329113924\n",
            "Round: 16... \tAverage Train Loss: 0.019... \tTest Loss: 0.15102728889137507... \tTest Accuracy: 95.44303797468355\n",
            "Round: 17... \tAverage Train Loss: 0.008... \tTest Loss: 0.24310468459129334... \tTest Accuracy: 91.26582278481013\n",
            "Round: 18... \tAverage Train Loss: 0.018... \tTest Loss: 0.13855979530513288... \tTest Accuracy: 96.07594936708861\n",
            "Training Done!\n"
          ],
          "name": "stdout"
        },
        {
          "output_type": "display_data",
          "data": {
            "image/png": "[encoded data removed]",
            "text/plain": [
              "<Figure size 432x288 with 1 Axes>"
            ]
          },
          "metadata": {
            "tags": [],
            "needs_background": "light"
          }
        },
        {
          "output_type": "display_data",
          "data": {
            "image/png": "[encoded data removed]",
            "text/plain": [
              "<Figure size 432x288 with 1 Axes>"
            ]
          },
          "metadata": {
            "tags": [],
            "needs_background": "light"
          }
        }
      ]
    },
    {
      "cell_type": "markdown",
      "metadata": {
        "colab_type": "text",
        "id": "Mgspmmb1DSgu"
      },
      "source": [
        "## MNIST MLP on IID"
      ]
    },
    {
      "cell_type": "markdown",
      "metadata": {
        "colab_type": "text",
        "id": "t1AlbPY7DSgv"
      },
      "source": [
        "### Train"
      ]
    },
    {
      "cell_type": "code",
      "metadata": {
        "colab_type": "code",
        "id": "a1nUItg3DSgv",
        "colab": {
          "base_uri": "https://localhost:8080/",
          "height": 794
        },
        "outputId": "cdc55651-aba5-41d9-fe0c-e24d9b524ac1"
      },
      "source": [
        "# number of training rounds\n",
        "rounds = 100\n",
        "# client fraction\n",
        "C = 0.1\n",
        "# number of clients\n",
        "K = 100\n",
        "# number of training passes on local dataset for each round\n",
        "E = 20\n",
        "# batch size\n",
        "batch_size = 10\n",
        "# learning Rate\n",
        "lr=0.01\n",
        "# proximal term constant\n",
        "mu = 0.01\n",
        "# percentage of clients to have fewer than E epochs\n",
        "percentage = 50\n",
        "# target_test_accuracy\n",
        "target_test_accuracy=94.0\n",
        "# dict containing different type of data partition\n",
        "data_dict = iid_partition(mnist_data_train, 100)\n",
        "# load model\n",
        "mnist_mlp = MNIST_2NN()\n",
        "\n",
        "if torch.cuda.is_available():\n",
        "  mnist_mlp.cuda()\n",
        "\n",
        "mnist_mlp_iid_trained = training(mnist_mlp, rounds, batch_size, lr, mnist_data_train, data_dict, mnist_data_test, C, K, E, mu, percentage, \"FedProx MNIST MLP on IID Dataset (50%)\", \"orange\", target_test_accuracy)\n"
      ],
      "execution_count": 26,
      "outputs": [
        {
          "output_type": "stream",
          "text": [
            "System heterogeneity set to 50% stragglers.\n",
            "\n",
            "Picking 10 random clients per round.\n",
            "\n",
            "Round: 1... \tAverage Train Loss: 1.023... \tTest Loss: 0.674980073261261... \tTest Accuracy: 83.29113924050633\n",
            "Round: 2... \tAverage Train Loss: 0.155... \tTest Loss: 0.3039632867515087... \tTest Accuracy: 92.15189873417721\n",
            "Round: 3... \tAverage Train Loss: 0.085... \tTest Loss: 0.2791133965432644... \tTest Accuracy: 93.29113924050633\n",
            "Round: 4... \tAverage Train Loss: 0.098... \tTest Loss: 0.26072224661409854... \tTest Accuracy: 93.41772151898734\n",
            "Round: 5... \tAverage Train Loss: 0.086... \tTest Loss: 0.24342278826087713... \tTest Accuracy: 93.29113924050633\n",
            "Round: 6... \tAverage Train Loss: 0.091... \tTest Loss: 0.22526649805903434... \tTest Accuracy: 93.67088607594937\n",
            "Round: 7... \tAverage Train Loss: 0.113... \tTest Loss: 0.21335024886131287... \tTest Accuracy: 93.67088607594937\n",
            "Round: 8... \tAverage Train Loss: 0.054... \tTest Loss: 0.20204983824044467... \tTest Accuracy: 94.68354430379746\n",
            "Training Done!\n"
          ],
          "name": "stdout"
        },
        {
          "output_type": "display_data",
          "data": {
            "image/png": "[encoded data removed]",
            "text/plain": [
              "<Figure size 432x288 with 1 Axes>"
            ]
          },
          "metadata": {
            "tags": [],
            "needs_background": "light"
          }
        },
        {
          "output_type": "display_data",
          "data": {
            "image/png": "[encoded data removed]",
            "text/plain": [
              "<Figure size 432x288 with 1 Axes>"
            ]
          },
          "metadata": {
            "tags": [],
            "needs_background": "light"
          }
        }
      ]
    },
    {
      "cell_type": "markdown",
      "metadata": {
        "colab_type": "text",
        "id": "PrWMRFBCDWu-"
      },
      "source": [
        "## MNIST MLP on Non IID"
      ]
    },
    {
      "cell_type": "markdown",
      "metadata": {
        "colab_type": "text",
        "id": "joc_YdwDDWu-"
      },
      "source": [
        "### Train"
      ]
    },
    {
      "cell_type": "code",
      "metadata": {
        "colab_type": "code",
        "id": "JEhvU3V1DWu_",
        "colab": {
          "base_uri": "https://localhost:8080/",
          "height": 1000
        },
        "outputId": "eaf7b331-5baf-467d-dcae-442251a4c79a"
      },
      "source": [
        "# number of training rounds\n",
        "rounds = 100\n",
        "# client fraction\n",
        "C = 0.1\n",
        "# number of clients\n",
        "K = 100\n",
        "# number of training passes on local dataset for each roung\n",
        "E = 20\n",
        "# batch size\n",
        "batch_size = 10\n",
        "# learning Rate\n",
        "lr=0.01\n",
        "# proximal term constant\n",
        "mu = 0.01\n",
        "# percentage of clients to have fewer than E epochs\n",
        "percentage = 50\n",
        "# target_test_accuracy\n",
        "target_test_accuracy=94.0\n",
        "# dict containing different type of data partition\n",
        "data_dict = non_iid_partition(mnist_data_train, 100, 200, 300, 2)\n",
        "# load model\n",
        "mnist_mlp = MNIST_2NN()\n",
        "\n",
        "if torch.cuda.is_available():\n",
        "  mnist_mlp.cuda()\n",
        "\n",
        "mnist_mlp_non_iid_trained = training(mnist_mlp, rounds, batch_size, lr, mnist_data_train, data_dict, mnist_data_test, C, K, E, mu, percentage, \"FedProx MNIST MLP on non-IID Dataset (50%)\", \"green\", target_test_accuracy)"
      ],
      "execution_count": 27,
      "outputs": [
        {
          "output_type": "stream",
          "text": [
            "System heterogeneity set to 50% stragglers.\n",
            "\n",
            "Picking 10 random clients per round.\n",
            "\n",
            "Round: 1... \tAverage Train Loss: 0.168... \tTest Loss: 3.712359524536133... \tTest Accuracy: 18.9873417721519\n",
            "Round: 2... \tAverage Train Loss: 0.036... \tTest Loss: 3.0823422039031985... \tTest Accuracy: 31.772151898734176\n",
            "Round: 3... \tAverage Train Loss: 0.046... \tTest Loss: 1.894597993659973... \tTest Accuracy: 57.848101265822784\n",
            "Round: 4... \tAverage Train Loss: 0.031... \tTest Loss: 2.049077114868164... \tTest Accuracy: 34.050632911392405\n",
            "Round: 5... \tAverage Train Loss: 0.022... \tTest Loss: 1.3539307416915893... \tTest Accuracy: 66.07594936708861\n",
            "Round: 6... \tAverage Train Loss: 0.03... \tTest Loss: 1.1763375792503357... \tTest Accuracy: 56.58227848101266\n",
            "Round: 7... \tAverage Train Loss: 0.017... \tTest Loss: 0.887056803894043... \tTest Accuracy: 66.20253164556962\n",
            "Round: 8... \tAverage Train Loss: 0.024... \tTest Loss: 0.553860544538498... \tTest Accuracy: 82.27848101265823\n",
            "Round: 9... \tAverage Train Loss: 0.039... \tTest Loss: 0.6307606659889221... \tTest Accuracy: 80.37974683544304\n",
            "Round: 10... \tAverage Train Loss: 0.033... \tTest Loss: 0.48894611897468565... \tTest Accuracy: 81.13924050632912\n",
            "Round: 11... \tAverage Train Loss: 0.019... \tTest Loss: 0.5755590933799744... \tTest Accuracy: 78.60759493670886\n",
            "Round: 12... \tAverage Train Loss: 0.014... \tTest Loss: 0.5769807983398437... \tTest Accuracy: 79.49367088607595\n",
            "Round: 13... \tAverage Train Loss: 0.027... \tTest Loss: 0.5950492193222046... \tTest Accuracy: 78.22784810126582\n",
            "Round: 14... \tAverage Train Loss: 0.017... \tTest Loss: 0.5461740189552308... \tTest Accuracy: 80.0\n",
            "Round: 15... \tAverage Train Loss: 0.021... \tTest Loss: 0.4674934203147888... \tTest Accuracy: 85.82278481012658\n",
            "Round: 16... \tAverage Train Loss: 0.02... \tTest Loss: 0.44554568395614624... \tTest Accuracy: 86.32911392405063\n",
            "Round: 17... \tAverage Train Loss: 0.019... \tTest Loss: 0.42749431185722353... \tTest Accuracy: 86.58227848101266\n",
            "Round: 18... \tAverage Train Loss: 0.011... \tTest Loss: 0.6225334002017975... \tTest Accuracy: 78.9873417721519\n",
            "Round: 19... \tAverage Train Loss: 0.023... \tTest Loss: 0.4199196865558624... \tTest Accuracy: 84.55696202531645\n",
            "Round: 20... \tAverage Train Loss: 0.014... \tTest Loss: 0.46552779784202575... \tTest Accuracy: 85.44303797468355\n",
            "Round: 21... \tAverage Train Loss: 0.02... \tTest Loss: 0.46814559607505796... \tTest Accuracy: 84.43037974683544\n",
            "Round: 22... \tAverage Train Loss: 0.011... \tTest Loss: 0.6211625374794006... \tTest Accuracy: 80.0\n",
            "Round: 23... \tAverage Train Loss: 0.012... \tTest Loss: 0.6092605542182923... \tTest Accuracy: 76.58227848101266\n",
            "Round: 24... \tAverage Train Loss: 0.018... \tTest Loss: 0.4168277244567871... \tTest Accuracy: 85.18987341772151\n",
            "Round: 25... \tAverage Train Loss: 0.017... \tTest Loss: 0.5787598196983338... \tTest Accuracy: 79.62025316455696\n",
            "Round: 26... \tAverage Train Loss: 0.016... \tTest Loss: 0.49027401239871976... \tTest Accuracy: 81.51898734177215\n",
            "Round: 27... \tAverage Train Loss: 0.021... \tTest Loss: 0.4492709177017212... \tTest Accuracy: 84.81012658227849\n",
            "Round: 28... \tAverage Train Loss: 0.02... \tTest Loss: 0.5018049314260483... \tTest Accuracy: 83.0379746835443\n",
            "Round: 29... \tAverage Train Loss: 0.016... \tTest Loss: 0.45934252438545226... \tTest Accuracy: 83.79746835443038\n",
            "Round: 30... \tAverage Train Loss: 0.021... \tTest Loss: 0.36482482808828354... \tTest Accuracy: 87.84810126582279\n",
            "Round: 31... \tAverage Train Loss: 0.013... \tTest Loss: 0.3577007220029831... \tTest Accuracy: 88.60759493670886\n",
            "Round: 32... \tAverage Train Loss: 0.017... \tTest Loss: 0.42515288686752317... \tTest Accuracy: 84.17721518987342\n",
            "Round: 33... \tAverage Train Loss: 0.016... \tTest Loss: 0.43408172798156736... \tTest Accuracy: 83.16455696202532\n",
            "Round: 34... \tAverage Train Loss: 0.011... \tTest Loss: 0.34626503009796145... \tTest Accuracy: 88.9873417721519\n",
            "Round: 35... \tAverage Train Loss: 0.013... \tTest Loss: 0.3244288304805756... \tTest Accuracy: 89.62025316455696\n",
            "Round: 36... \tAverage Train Loss: 0.014... \tTest Loss: 0.479108500957489... \tTest Accuracy: 82.53164556962025\n",
            "Round: 37... \tAverage Train Loss: 0.011... \tTest Loss: 0.3277515441894531... \tTest Accuracy: 90.12658227848101\n",
            "Round: 38... \tAverage Train Loss: 0.009... \tTest Loss: 0.3794738531112671... \tTest Accuracy: 87.72151898734177\n",
            "Round: 39... \tAverage Train Loss: 0.015... \tTest Loss: 0.3945027299404144... \tTest Accuracy: 85.69620253164557\n",
            "Round: 40... \tAverage Train Loss: 0.017... \tTest Loss: 0.4103739624977112... \tTest Accuracy: 83.29113924050633\n",
            "Round: 41... \tAverage Train Loss: 0.011... \tTest Loss: 0.3115645267724991... \tTest Accuracy: 89.74683544303798\n",
            "Round: 42... \tAverage Train Loss: 0.013... \tTest Loss: 0.304384935259819... \tTest Accuracy: 90.25316455696202\n",
            "Round: 43... \tAverage Train Loss: 0.016... \tTest Loss: 0.28238093602657316... \tTest Accuracy: 90.63291139240506\n",
            "Round: 44... \tAverage Train Loss: 0.012... \tTest Loss: 0.3129753303050995... \tTest Accuracy: 89.87341772151899\n",
            "Round: 45... \tAverage Train Loss: 0.025... \tTest Loss: 0.4989635131835938... \tTest Accuracy: 81.39240506329114\n",
            "Round: 46... \tAverage Train Loss: 0.016... \tTest Loss: 0.31308250200748444... \tTest Accuracy: 88.86075949367088\n",
            "Round: 47... \tAverage Train Loss: 0.02... \tTest Loss: 0.44739756410121917... \tTest Accuracy: 84.68354430379746\n",
            "Round: 48... \tAverage Train Loss: 0.011... \tTest Loss: 0.4023991818189621... \tTest Accuracy: 86.58227848101266\n",
            "Round: 49... \tAverage Train Loss: 0.012... \tTest Loss: 0.3534633935213089... \tTest Accuracy: 87.72151898734177\n",
            "Round: 50... \tAverage Train Loss: 0.008... \tTest Loss: 0.3188331545829773... \tTest Accuracy: 87.9746835443038\n",
            "Round: 51... \tAverage Train Loss: 0.018... \tTest Loss: 0.4066601775407791... \tTest Accuracy: 86.45569620253164\n",
            "Round: 52... \tAverage Train Loss: 0.011... \tTest Loss: 0.32738818068504333... \tTest Accuracy: 88.86075949367088\n",
            "Round: 53... \tAverage Train Loss: 0.008... \tTest Loss: 0.36789972696304324... \tTest Accuracy: 88.22784810126582\n",
            "Round: 54... \tAverage Train Loss: 0.01... \tTest Loss: 0.31198189861774445... \tTest Accuracy: 91.51898734177215\n",
            "Round: 55... \tAverage Train Loss: 0.007... \tTest Loss: 0.2983414428472519... \tTest Accuracy: 91.77215189873418\n",
            "Round: 56... \tAverage Train Loss: 0.011... \tTest Loss: 0.5782404295921326... \tTest Accuracy: 81.39240506329114\n",
            "Round: 57... \tAverage Train Loss: 0.012... \tTest Loss: 0.2579221390128136... \tTest Accuracy: 92.15189873417721\n",
            "Round: 58... \tAverage Train Loss: 0.012... \tTest Loss: 0.33104815764427187... \tTest Accuracy: 90.12658227848101\n",
            "Round: 59... \tAverage Train Loss: 0.013... \tTest Loss: 0.4332024688720703... \tTest Accuracy: 87.21518987341773\n",
            "Round: 60... \tAverage Train Loss: 0.02... \tTest Loss: 0.3304830419063568... \tTest Accuracy: 89.87341772151899\n",
            "Round: 61... \tAverage Train Loss: 0.011... \tTest Loss: 0.25218432602882385... \tTest Accuracy: 92.9113924050633\n",
            "Round: 62... \tAverage Train Loss: 0.008... \tTest Loss: 0.2761925098657608... \tTest Accuracy: 91.13924050632912\n",
            "Round: 63... \tAverage Train Loss: 0.014... \tTest Loss: 0.36150813374519347... \tTest Accuracy: 87.9746835443038\n",
            "Round: 64... \tAverage Train Loss: 0.011... \tTest Loss: 0.2465945352911949... \tTest Accuracy: 92.15189873417721\n",
            "Round: 65... \tAverage Train Loss: 0.009... \tTest Loss: 0.24669755659103393... \tTest Accuracy: 92.0253164556962\n",
            "Round: 66... \tAverage Train Loss: 0.013... \tTest Loss: 0.3185893979072571... \tTest Accuracy: 88.86075949367088\n",
            "Round: 67... \tAverage Train Loss: 0.015... \tTest Loss: 0.2294766831576824... \tTest Accuracy: 92.40506329113924\n",
            "Round: 68... \tAverage Train Loss: 0.011... \tTest Loss: 0.2675137812972069... \tTest Accuracy: 90.75949367088607\n",
            "Round: 69... \tAverage Train Loss: 0.01... \tTest Loss: 0.2521141835808754... \tTest Accuracy: 92.0253164556962\n",
            "Round: 70... \tAverage Train Loss: 0.013... \tTest Loss: 0.2870825134158134... \tTest Accuracy: 91.64556962025317\n",
            "Round: 71... \tAverage Train Loss: 0.009... \tTest Loss: 0.30741090087890627... \tTest Accuracy: 90.63291139240506\n",
            "Round: 72... \tAverage Train Loss: 0.007... \tTest Loss: 0.307523491692543... \tTest Accuracy: 90.50632911392405\n",
            "Round: 73... \tAverage Train Loss: 0.01... \tTest Loss: 0.3134946197509766... \tTest Accuracy: 89.24050632911393\n",
            "Round: 74... \tAverage Train Loss: 0.009... \tTest Loss: 0.28998068840503693... \tTest Accuracy: 90.37974683544304\n",
            "Round: 75... \tAverage Train Loss: 0.011... \tTest Loss: 0.24057366160154342... \tTest Accuracy: 92.27848101265823\n",
            "Round: 76... \tAverage Train Loss: 0.014... \tTest Loss: 0.29875920128822325... \tTest Accuracy: 90.75949367088607\n",
            "Round: 77... \tAverage Train Loss: 0.01... \tTest Loss: 0.33231127648353576... \tTest Accuracy: 91.0126582278481\n",
            "Round: 78... \tAverage Train Loss: 0.011... \tTest Loss: 0.3551373977661133... \tTest Accuracy: 90.0\n",
            "Round: 79... \tAverage Train Loss: 0.008... \tTest Loss: 0.32229498162269593... \tTest Accuracy: 90.0\n",
            "Round: 80... \tAverage Train Loss: 0.01... \tTest Loss: 0.28012086093425753... \tTest Accuracy: 91.77215189873418\n",
            "Round: 81... \tAverage Train Loss: 0.015... \tTest Loss: 0.23681907840967178... \tTest Accuracy: 92.9113924050633\n",
            "Round: 82... \tAverage Train Loss: 0.008... \tTest Loss: 0.26085984666347506... \tTest Accuracy: 91.13924050632912\n",
            "Round: 83... \tAverage Train Loss: 0.006... \tTest Loss: 0.21511643544435502... \tTest Accuracy: 94.0506329113924\n",
            "Training Done!\n"
          ],
          "name": "stdout"
        },
        {
          "output_type": "display_data",
          "data": {
            "image/png": "[encoded data removed]",
            "text/plain": [
              "<Figure size 432x288 with 1 Axes>"
            ]
          },
          "metadata": {
            "tags": [],
            "needs_background": "light"
          }
        },
        {
          "output_type": "display_data",
          "data": {
            "image/png": "[encoded data removed]",
            "text/plain": [
              "<Figure size 432x288 with 1 Axes>"
            ]
          },
          "metadata": {
            "tags": [],
            "needs_background": "light"
          }
        }
      ]
    },
    {
      "cell_type": "markdown",
      "metadata": {
        "colab_type": "text",
        "id": "ORHykPm3Fv_8"
      },
      "source": [
        "# Training with 90% probability of system heterogeneity"
      ]
    },
    {
      "cell_type": "markdown",
      "metadata": {
        "colab_type": "text",
        "id": "TXqBlMtHFwAN"
      },
      "source": [
        "## MNIST CNN on IID"
      ]
    },
    {
      "cell_type": "markdown",
      "metadata": {
        "colab_type": "text",
        "id": "BXstm_BVFwAO"
      },
      "source": [
        "### Train\n"
      ]
    },
    {
      "cell_type": "code",
      "metadata": {
        "colab_type": "code",
        "id": "gmPH7ly3FwAP",
        "colab": {
          "base_uri": "https://localhost:8080/",
          "height": 0
        },
        "outputId": "ecbc768b-5e40-46dc-863e-87bb8eee5cc6"
      },
      "source": [
        "# number of training rounds\n",
        "rounds = 100\n",
        "# client fraction\n",
        "C = 0.1\n",
        "# number of clients\n",
        "K = 100\n",
        "# number of training passes on local dataset for each roung\n",
        "E = 20\n",
        "# batch size\n",
        "batch_size = 10\n",
        "# learning Rate\n",
        "lr=0.01\n",
        "# proximal term constant\n",
        "mu = 0.01\n",
        "# percentage of clients to have fewer than E epochs\n",
        "percentage = 90\n",
        "# target_test_accuracy\n",
        "target_test_accuracy=97.0\n",
        "# data partition dictionary\n",
        "iid_dict = iid_partition(mnist_data_train, 100)\n",
        "# load model\n",
        "mnist_cnn = MNIST_CNN()\n",
        "\n",
        "if torch.cuda.is_available():\n",
        "  mnist_cnn.cuda()\n",
        "\n",
        "mnist_cnn_iid_trained = training(mnist_cnn, rounds, batch_size, lr, mnist_data_train, iid_dict, mnist_data_test, C, K, E, mu, percentage, \"FedProx MNIST CNN on IID Dataset (90%)\", \"orange\", target_test_accuracy)"
      ],
      "execution_count": 28,
      "outputs": [
        {
          "output_type": "stream",
          "text": [
            "System heterogeneity set to 90% stragglers.\n",
            "\n",
            "Picking 10 random clients per round.\n",
            "\n",
            "Round: 1... \tAverage Train Loss: 0.458... \tTest Loss: 0.17735546071380376... \tTest Accuracy: 94.9367088607595\n",
            "Round: 2... \tAverage Train Loss: 0.13... \tTest Loss: 0.12703009561747314... \tTest Accuracy: 96.70886075949367\n",
            "Round: 3... \tAverage Train Loss: 0.095... \tTest Loss: 0.10612152363434434... \tTest Accuracy: 96.83544303797468\n",
            "Round: 4... \tAverage Train Loss: 0.075... \tTest Loss: 0.08663514154180885... \tTest Accuracy: 97.72151898734177\n",
            "Training Done!\n"
          ],
          "name": "stdout"
        },
        {
          "output_type": "display_data",
          "data": {
            "image/png": "[encoded data removed]",
            "text/plain": [
              "<Figure size 432x288 with 1 Axes>"
            ]
          },
          "metadata": {
            "tags": [],
            "needs_background": "light"
          }
        },
        {
          "output_type": "display_data",
          "data": {
            "image/png": "[encoded data removed]",
            "text/plain": [
              "<Figure size 432x288 with 1 Axes>"
            ]
          },
          "metadata": {
            "tags": [],
            "needs_background": "light"
          }
        }
      ]
    },
    {
      "cell_type": "markdown",
      "metadata": {
        "colab_type": "text",
        "id": "RnBEDxmwFwAb"
      },
      "source": [
        "## MNIST CNN on Non IID"
      ]
    },
    {
      "cell_type": "markdown",
      "metadata": {
        "colab_type": "text",
        "id": "Gkgaorx7FwAb"
      },
      "source": [
        "### Train\n"
      ]
    },
    {
      "cell_type": "code",
      "metadata": {
        "colab_type": "code",
        "id": "8FB_3VV4FwAc",
        "colab": {
          "base_uri": "https://localhost:8080/",
          "height": 0
        },
        "outputId": "1b08fdff-7da5-4145-e426-880e7f9a137a"
      },
      "source": [
        "# number of training rounds\n",
        "rounds = 1000\n",
        "# client fraction\n",
        "C = 0.1\n",
        "# number of clients\n",
        "K = 100\n",
        "# number of training passes on local dataset for each roung\n",
        "E = 20\n",
        "# batch size\n",
        "batch_size = 10\n",
        "# learning Rate\n",
        "lr=0.01\n",
        "# target test accuracy\n",
        "target_test_accuracy = 97.0\n",
        "# proximal term constant\n",
        "mu = 0.01\n",
        "# percentage of clients to have fewer than E epochs\n",
        "percentage = 90\n",
        "# dict containing different type of data partition\n",
        "data_dict = non_iid_partition(mnist_data_train, 100, 200, 300, 2)\n",
        "# load model\n",
        "mnist_cnn = MNIST_CNN()\n",
        "\n",
        "if torch.cuda.is_available():\n",
        "  mnist_cnn.cuda()\n",
        "\n",
        "mnist_cnn_non_iid_trained = training(mnist_cnn, rounds, batch_size, lr, mnist_data_train, data_dict, mnist_data_test, C, K, E, mu, percentage, \"FedProx MNIST CNN on non-IID Dataset (90%)\", \"green\", target_test_accuracy)\n"
      ],
      "execution_count": 29,
      "outputs": [
        {
          "output_type": "stream",
          "text": [
            "System heterogeneity set to 90% stragglers.\n",
            "\n",
            "Picking 10 random clients per round.\n",
            "\n",
            "Round: 1... \tAverage Train Loss: 0.126... \tTest Loss: 2.171712088394165... \tTest Accuracy: 39.24050632911393\n",
            "Round: 2... \tAverage Train Loss: 0.053... \tTest Loss: 1.7844791311264039... \tTest Accuracy: 42.78481012658228\n",
            "Round: 3... \tAverage Train Loss: 0.05... \tTest Loss: 1.2232531314849853... \tTest Accuracy: 60.25316455696203\n",
            "Round: 4... \tAverage Train Loss: 0.042... \tTest Loss: 1.2373505483627318... \tTest Accuracy: 56.075949367088604\n",
            "Round: 5... \tAverage Train Loss: 0.04... \tTest Loss: 0.7091968745231628... \tTest Accuracy: 71.89873417721519\n",
            "Round: 6... \tAverage Train Loss: 0.034... \tTest Loss: 1.042835661125183... \tTest Accuracy: 65.18987341772151\n",
            "Round: 7... \tAverage Train Loss: 0.027... \tTest Loss: 0.5256869955539704... \tTest Accuracy: 83.92405063291139\n",
            "Round: 8... \tAverage Train Loss: 0.032... \tTest Loss: 0.3803427419185638... \tTest Accuracy: 88.48101265822785\n",
            "Round: 9... \tAverage Train Loss: 0.02... \tTest Loss: 0.3421232057571411... \tTest Accuracy: 89.36708860759494\n",
            "Round: 10... \tAverage Train Loss: 0.023... \tTest Loss: 0.3510353028535843... \tTest Accuracy: 87.84810126582279\n",
            "Round: 11... \tAverage Train Loss: 0.011... \tTest Loss: 0.26592333443164823... \tTest Accuracy: 92.0253164556962\n",
            "Round: 12... \tAverage Train Loss: 0.015... \tTest Loss: 0.2652596974849701... \tTest Accuracy: 92.27848101265823\n",
            "Round: 13... \tAverage Train Loss: 0.016... \tTest Loss: 0.19301029484868049... \tTest Accuracy: 95.31645569620254\n",
            "Round: 14... \tAverage Train Loss: 0.012... \tTest Loss: 0.20750539259314538... \tTest Accuracy: 93.16455696202532\n",
            "Round: 15... \tAverage Train Loss: 0.014... \tTest Loss: 0.2229753757238388... \tTest Accuracy: 92.78481012658227\n",
            "Round: 16... \tAverage Train Loss: 0.025... \tTest Loss: 0.21755059767961502... \tTest Accuracy: 93.16455696202532\n",
            "Round: 17... \tAverage Train Loss: 0.011... \tTest Loss: 0.18018130711317062... \tTest Accuracy: 94.55696202531645\n",
            "Round: 18... \tAverage Train Loss: 0.02... \tTest Loss: 0.18440087473392486... \tTest Accuracy: 94.0506329113924\n",
            "Round: 19... \tAverage Train Loss: 0.016... \tTest Loss: 0.3172649812221527... \tTest Accuracy: 89.87341772151899\n",
            "Round: 20... \tAverage Train Loss: 0.009... \tTest Loss: 0.2875223340272903... \tTest Accuracy: 90.25316455696202\n",
            "Round: 21... \tAverage Train Loss: 0.013... \tTest Loss: 0.16778272593021393... \tTest Accuracy: 94.17721518987342\n",
            "Round: 22... \tAverage Train Loss: 0.012... \tTest Loss: 0.15535783529877661... \tTest Accuracy: 95.0632911392405\n",
            "Round: 23... \tAverage Train Loss: 0.018... \tTest Loss: 0.13569255689233542... \tTest Accuracy: 96.20253164556962\n",
            "Round: 24... \tAverage Train Loss: 0.012... \tTest Loss: 0.1338956009477377... \tTest Accuracy: 96.83544303797468\n",
            "Round: 25... \tAverage Train Loss: 0.013... \tTest Loss: 0.1068490229614079... \tTest Accuracy: 96.45569620253164\n",
            "Round: 26... \tAverage Train Loss: 0.019... \tTest Loss: 0.1286315556704998... \tTest Accuracy: 96.20253164556962\n",
            "Round: 27... \tAverage Train Loss: 0.012... \tTest Loss: 0.15570870715379714... \tTest Accuracy: 94.68354430379746\n",
            "Round: 28... \tAverage Train Loss: 0.009... \tTest Loss: 0.10583425091058016... \tTest Accuracy: 96.45569620253164\n",
            "Round: 29... \tAverage Train Loss: 0.013... \tTest Loss: 0.14693712473511697... \tTest Accuracy: 94.68354430379746\n",
            "Round: 30... \tAverage Train Loss: 0.01... \tTest Loss: 0.14156909843683244... \tTest Accuracy: 95.82278481012658\n",
            "Round: 31... \tAverage Train Loss: 0.011... \tTest Loss: 0.11410330241620541... \tTest Accuracy: 96.9620253164557\n",
            "Round: 32... \tAverage Train Loss: 0.012... \tTest Loss: 0.08553478383794427... \tTest Accuracy: 97.59493670886076\n",
            "Training Done!\n"
          ],
          "name": "stdout"
        },
        {
          "output_type": "display_data",
          "data": {
            "image/png": "[encoded data removed]",
            "text/plain": [
              "<Figure size 432x288 with 1 Axes>"
            ]
          },
          "metadata": {
            "tags": [],
            "needs_background": "light"
          }
        },
        {
          "output_type": "display_data",
          "data": {
            "image/png": "[encoded data removed]",
            "text/plain": [
              "<Figure size 432x288 with 1 Axes>"
            ]
          },
          "metadata": {
            "tags": [],
            "needs_background": "light"
          }
        }
      ]
    },
    {
      "cell_type": "markdown",
      "metadata": {
        "colab_type": "text",
        "id": "DwwgVhnzFwAg"
      },
      "source": [
        "## MNIST MLP on IID"
      ]
    },
    {
      "cell_type": "markdown",
      "metadata": {
        "colab_type": "text",
        "id": "JVs0NLz6FwAh"
      },
      "source": [
        "### Train"
      ]
    },
    {
      "cell_type": "code",
      "metadata": {
        "colab_type": "code",
        "id": "9MuSeGADFwAh",
        "colab": {
          "base_uri": "https://localhost:8080/",
          "height": 0
        },
        "outputId": "9bcf2d5e-321f-4a29-8ea3-19dfc4864d3b"
      },
      "source": [
        "# number of training rounds\n",
        "rounds = 100\n",
        "# client fraction\n",
        "C = 0.1\n",
        "# number of clients\n",
        "K = 100\n",
        "# number of training passes on local dataset for each round\n",
        "E = 20\n",
        "# batch size\n",
        "batch_size = 10\n",
        "# learning Rate\n",
        "lr=0.01\n",
        "# proximal term constant\n",
        "mu = 0.01\n",
        "# percentage of clients to have fewer than E epochs\n",
        "percentage = 90\n",
        "# target_test_accuracy\n",
        "target_test_accuracy=94.0\n",
        "# dict containing different type of data partition\n",
        "data_dict = iid_partition(mnist_data_train, 100)\n",
        "# load model\n",
        "mnist_mlp = MNIST_2NN()\n",
        "\n",
        "if torch.cuda.is_available():\n",
        "  mnist_mlp.cuda()\n",
        "\n",
        "mnist_mlp_iid_trained = training(mnist_mlp, rounds, batch_size, lr, mnist_data_train, data_dict, mnist_data_test, C, K, E, mu, percentage, \"FedProx MNIST MLP on IID Dataset (90%)\", \"orange\", target_test_accuracy)\n"
      ],
      "execution_count": 30,
      "outputs": [
        {
          "output_type": "stream",
          "text": [
            "System heterogeneity set to 90% stragglers.\n",
            "\n",
            "Picking 10 random clients per round.\n",
            "\n",
            "Round: 1... \tAverage Train Loss: 0.833... \tTest Loss: 0.3505539712905884... \tTest Accuracy: 89.87341772151899\n",
            "Round: 2... \tAverage Train Loss: 0.185... \tTest Loss: 0.2982291683673859... \tTest Accuracy: 91.77215189873418\n",
            "Round: 3... \tAverage Train Loss: 0.114... \tTest Loss: 0.27757849668860435... \tTest Accuracy: 92.9113924050633\n",
            "Round: 4... \tAverage Train Loss: 0.141... \tTest Loss: 0.25468652298152444... \tTest Accuracy: 93.67088607594937\n",
            "Round: 5... \tAverage Train Loss: 0.098... \tTest Loss: 0.24234317042678594... \tTest Accuracy: 93.41772151898734\n",
            "Round: 6... \tAverage Train Loss: 0.117... \tTest Loss: 0.23247412038445472... \tTest Accuracy: 93.79746835443038\n",
            "Round: 7... \tAverage Train Loss: 0.105... \tTest Loss: 0.20959458766281605... \tTest Accuracy: 94.17721518987342\n",
            "Training Done!\n"
          ],
          "name": "stdout"
        },
        {
          "output_type": "display_data",
          "data": {
            "image/png": "[encoded data removed]",
            "text/plain": [
              "<Figure size 432x288 with 1 Axes>"
            ]
          },
          "metadata": {
            "tags": [],
            "needs_background": "light"
          }
        },
        {
          "output_type": "display_data",
          "data": {
            "image/png": "[encoded data removed]",
            "text/plain": [
              "<Figure size 432x288 with 1 Axes>"
            ]
          },
          "metadata": {
            "tags": [],
            "needs_background": "light"
          }
        }
      ]
    },
    {
      "cell_type": "markdown",
      "metadata": {
        "colab_type": "text",
        "id": "0HlS1DmnFwAm"
      },
      "source": [
        "## MNIST MLP on Non IID"
      ]
    },
    {
      "cell_type": "markdown",
      "metadata": {
        "colab_type": "text",
        "id": "m3gm47fHFwAn"
      },
      "source": [
        "### Train"
      ]
    },
    {
      "cell_type": "code",
      "metadata": {
        "colab_type": "code",
        "id": "Z0XLVPfNFwAn",
        "colab": {
          "base_uri": "https://localhost:8080/",
          "height": 1000
        },
        "outputId": "67e293da-60ad-4b4d-934d-1e4a5ee11831"
      },
      "source": [
        "# number of training rounds\n",
        "rounds = 100\n",
        "# client fraction\n",
        "C = 0.1\n",
        "# number of clients\n",
        "K = 100\n",
        "# number of training passes on local dataset for each roung\n",
        "E = 20\n",
        "# batch size\n",
        "batch_size = 10\n",
        "# learning Rate\n",
        "lr=0.05\n",
        "# proximal term constant\n",
        "mu = 0.01\n",
        "# percentage of clients to have fewer than E epochs\n",
        "percentage = 90\n",
        "# target_test_accuracy\n",
        "target_test_accuracy=94.0\n",
        "# dict containing different type of data partition\n",
        "data_dict = non_iid_partition(mnist_data_train, 100, 200, 300, 2)\n",
        "# load model\n",
        "mnist_mlp = MNIST_2NN()\n",
        "\n",
        "if torch.cuda.is_available():\n",
        "  mnist_mlp.cuda()\n",
        "\n",
        "mnist_mlp_non_iid_trained = training(mnist_mlp, rounds, batch_size, lr, mnist_data_train, data_dict, mnist_data_test, C, K, E, mu, percentage, \"FedProx MNIST MLP on non-IID Dataset (90%)\", \"green\", target_test_accuracy)"
      ],
      "execution_count": 31,
      "outputs": [
        {
          "output_type": "stream",
          "text": [
            "System heterogeneity set to 90% stragglers.\n",
            "\n",
            "Picking 10 random clients per round.\n",
            "\n",
            "Round: 1... \tAverage Train Loss: 0.072... \tTest Loss: 3.5024506057739258... \tTest Accuracy: 30.632911392405063\n",
            "Round: 2... \tAverage Train Loss: 0.074... \tTest Loss: 2.408240445327759... \tTest Accuracy: 32.53164556962025\n",
            "Round: 3... \tAverage Train Loss: 0.033... \tTest Loss: 1.5212392637252807... \tTest Accuracy: 56.835443037974684\n",
            "Round: 4... \tAverage Train Loss: 0.049... \tTest Loss: 1.2721297611236573... \tTest Accuracy: 59.620253164556964\n",
            "Round: 5... \tAverage Train Loss: 0.04... \tTest Loss: 1.049706690788269... \tTest Accuracy: 63.037974683544306\n",
            "Round: 6... \tAverage Train Loss: 0.035... \tTest Loss: 0.7717835886955261... \tTest Accuracy: 70.25316455696202\n",
            "Round: 7... \tAverage Train Loss: 0.024... \tTest Loss: 0.9928293849945068... \tTest Accuracy: 68.22784810126582\n",
            "Round: 8... \tAverage Train Loss: 0.03... \tTest Loss: 0.8056202705383301... \tTest Accuracy: 74.55696202531645\n",
            "Round: 9... \tAverage Train Loss: 0.027... \tTest Loss: 0.5444605065345764... \tTest Accuracy: 83.0379746835443\n",
            "Round: 10... \tAverage Train Loss: 0.029... \tTest Loss: 0.5914243157386779... \tTest Accuracy: 81.51898734177215\n",
            "Round: 11... \tAverage Train Loss: 0.027... \tTest Loss: 0.4415578445911407... \tTest Accuracy: 85.31645569620254\n",
            "Round: 12... \tAverage Train Loss: 0.023... \tTest Loss: 0.5952076082229614... \tTest Accuracy: 78.48101265822785\n",
            "Round: 13... \tAverage Train Loss: 0.056... \tTest Loss: 0.47486790461540224... \tTest Accuracy: 84.0506329113924\n",
            "Round: 14... \tAverage Train Loss: 0.017... \tTest Loss: 0.4699278622150421... \tTest Accuracy: 82.65822784810126\n",
            "Round: 15... \tAverage Train Loss: 0.017... \tTest Loss: 0.3987764518737793... \tTest Accuracy: 86.83544303797468\n",
            "Round: 16... \tAverage Train Loss: 0.023... \tTest Loss: 0.3550555797576904... \tTest Accuracy: 89.11392405063292\n",
            "Round: 17... \tAverage Train Loss: 0.028... \tTest Loss: 0.29444893481731416... \tTest Accuracy: 91.39240506329114\n",
            "Round: 18... \tAverage Train Loss: 0.015... \tTest Loss: 0.3303351098060608... \tTest Accuracy: 89.49367088607595\n",
            "Round: 19... \tAverage Train Loss: 0.027... \tTest Loss: 0.2830175088882446... \tTest Accuracy: 91.39240506329114\n",
            "Round: 20... \tAverage Train Loss: 0.02... \tTest Loss: 0.25165053198337556... \tTest Accuracy: 92.27848101265823\n",
            "Round: 21... \tAverage Train Loss: 0.014... \tTest Loss: 0.2876241144895554... \tTest Accuracy: 91.39240506329114\n",
            "Round: 22... \tAverage Train Loss: 0.019... \tTest Loss: 0.2692352819919586... \tTest Accuracy: 92.15189873417721\n",
            "Round: 23... \tAverage Train Loss: 0.025... \tTest Loss: 0.2940206934928894... \tTest Accuracy: 91.13924050632912\n",
            "Round: 24... \tAverage Train Loss: 0.019... \tTest Loss: 0.3795086560487747... \tTest Accuracy: 88.48101265822785\n",
            "Round: 25... \tAverage Train Loss: 0.021... \tTest Loss: 0.29102097009420397... \tTest Accuracy: 90.50632911392405\n",
            "Round: 26... \tAverage Train Loss: 0.02... \tTest Loss: 0.2608605251789093... \tTest Accuracy: 92.53164556962025\n",
            "Round: 27... \tAverage Train Loss: 0.015... \tTest Loss: 0.20730138581991195... \tTest Accuracy: 94.30379746835443\n",
            "Training Done!\n"
          ],
          "name": "stdout"
        },
        {
          "output_type": "display_data",
          "data": {
            "image/png": "[encoded data removed]",
            "text/plain": [
              "<Figure size 432x288 with 1 Axes>"
            ]
          },
          "metadata": {
            "tags": [],
            "needs_background": "light"
          }
        },
        {
          "output_type": "display_data",
          "data": {
            "image/png": "[encoded data removed]",
            "text/plain": [
              "<Figure size 432x288 with 1 Axes>"
            ]
          },
          "metadata": {
            "tags": [],
            "needs_background": "light"
          }
        }
      ]
    },
    {
      "cell_type": "markdown",
      "metadata": {
        "id": "ifWreXVkYctp",
        "colab_type": "text"
      },
      "source": [
        "# Comparison with Federated Averaging IID Partition\n",
        "\n",
        "> In a highly heterogenous system (90%) stragglers, authors of FedProx have claimed that FedProx achieves on average **22%** improvement in testing accuracy compared to Federated Averaging\n",
        "\n",
        "With our first test above, we know that the special case where **mu=0**, FedProx matches the results of FedAvg. \n",
        "\n",
        "We will use the same idea but increase our stragglers this time. We will run the same experiment with **mu > 0** to compare results of FedProx."
      ]
    },
    {
      "cell_type": "markdown",
      "metadata": {
        "id": "O8ydCcIaZwP3",
        "colab_type": "text"
      },
      "source": [
        "### Training Federated Averaging with 90% stragglers (IID Partition)"
      ]
    },
    {
      "cell_type": "code",
      "metadata": {
        "id": "s07MAIAiZhky",
        "colab_type": "code",
        "colab": {
          "base_uri": "https://localhost:8080/",
          "height": 0
        },
        "outputId": "7d76d908-c24a-410f-a1ed-ecbb235cb2b7"
      },
      "source": [
        "# number of training rounds\n",
        "rounds = 100\n",
        "# client fraction\n",
        "C = 0.1\n",
        "# number of clients\n",
        "K = 100\n",
        "# number of training passes on local dataset for each roung\n",
        "E = 20\n",
        "# batch size\n",
        "batch_size = 10\n",
        "# learning Rate\n",
        "lr=0.01\n",
        "# proximal term constant\n",
        "mu = 0.0\n",
        "# percentage of clients to have fewer than E epochs\n",
        "percentage = 90\n",
        "# target test accuracy\n",
        "target_test_accuracy = 99.0\n",
        "# data partition dictionary\n",
        "iid_dict = iid_partition(mnist_data_train, 100)\n",
        "# load model\n",
        "mnist_cnn = MNIST_CNN()\n",
        "\n",
        "if torch.cuda.is_available():\n",
        "  mnist_cnn.cuda()\n",
        "\n",
        "mnist_cnn_iid_trained_fedavg = training(mnist_cnn, rounds, batch_size, lr, mnist_data_train, iid_dict, mnist_data_test, C, K, E, mu, percentage, \"FedAvg MNIST CNN (90% Stragglers)\", \"orange\", target_test_accuracy, algorithm='fedavg')"
      ],
      "execution_count": 32,
      "outputs": [
        {
          "output_type": "stream",
          "text": [
            "System heterogeneity set to 90% stragglers.\n",
            "\n",
            "Picking 10 random clients per round.\n",
            "\n",
            "Round: 1... \tAverage Train Loss: 0.243... \tTest Loss: 0.1800511596955359... \tTest Accuracy: 94.55696202531645\n",
            "Round: 2... \tAverage Train Loss: 0.035... \tTest Loss: 0.14766051300512628... \tTest Accuracy: 96.45569620253164\n",
            "Round: 3... \tAverage Train Loss: 0.035... \tTest Loss: 0.10738021533368156... \tTest Accuracy: 97.21518987341773\n",
            "Round: 4... \tAverage Train Loss: 0.024... \tTest Loss: 0.10633101256506051... \tTest Accuracy: 97.21518987341773\n",
            "Round: 5... \tAverage Train Loss: 0.018... \tTest Loss: 0.10073894104869105... \tTest Accuracy: 97.0886075949367\n",
            "Round: 6... \tAverage Train Loss: 0.016... \tTest Loss: 0.0966373064121406... \tTest Accuracy: 97.34177215189874\n",
            "Round: 7... \tAverage Train Loss: 0.016... \tTest Loss: 0.09341529543192592... \tTest Accuracy: 97.72151898734177\n",
            "Round: 8... \tAverage Train Loss: 0.015... \tTest Loss: 0.0747657953685848... \tTest Accuracy: 97.59493670886076\n",
            "Round: 9... \tAverage Train Loss: 0.018... \tTest Loss: 0.07796002008811338... \tTest Accuracy: 98.10126582278481\n",
            "Round: 10... \tAverage Train Loss: 0.023... \tTest Loss: 0.0748558697888744... \tTest Accuracy: 98.60759493670886\n",
            "Round: 11... \tAverage Train Loss: 0.019... \tTest Loss: 0.07428643092515412... \tTest Accuracy: 97.84810126582279\n",
            "Round: 12... \tAverage Train Loss: 0.011... \tTest Loss: 0.08080420969499537... \tTest Accuracy: 97.9746835443038\n",
            "Round: 13... \tAverage Train Loss: 0.004... \tTest Loss: 0.08317136647805383... \tTest Accuracy: 97.9746835443038\n",
            "Round: 14... \tAverage Train Loss: 0.008... \tTest Loss: 0.06960385034091306... \tTest Accuracy: 98.22784810126582\n",
            "Round: 15... \tAverage Train Loss: 0.011... \tTest Loss: 0.07245368560309508... \tTest Accuracy: 99.24050632911393\n",
            "Training Done!\n"
          ],
          "name": "stdout"
        },
        {
          "output_type": "display_data",
          "data": {
            "image/png": "[encoded data removed]",
            "text/plain": [
              "<Figure size 432x288 with 1 Axes>"
            ]
          },
          "metadata": {
            "tags": [],
            "needs_background": "light"
          }
        },
        {
          "output_type": "display_data",
          "data": {
            "image/png": "[encoded data removed]",
            "text/plain": [
              "<Figure size 432x288 with 1 Axes>"
            ]
          },
          "metadata": {
            "tags": [],
            "needs_background": "light"
          }
        }
      ]
    },
    {
      "cell_type": "markdown",
      "metadata": {
        "id": "xVjIEgHPaClX",
        "colab_type": "text"
      },
      "source": [
        "### Training FedProx with 90% Stragglers (IID Parition)"
      ]
    },
    {
      "cell_type": "code",
      "metadata": {
        "id": "jn9WLZTHaBnq",
        "colab_type": "code",
        "colab": {
          "base_uri": "https://localhost:8080/",
          "height": 0
        },
        "outputId": "01b38dab-4805-4351-fd4a-cf07e087ddfa"
      },
      "source": [
        "# number of training rounds\n",
        "rounds = 300\n",
        "# client fraction\n",
        "C = 0.1\n",
        "# number of clients\n",
        "K = 100\n",
        "# number of training passes on local dataset for each roung\n",
        "E = 20\n",
        "# batch size\n",
        "batch_size = 10\n",
        "# learning Rate\n",
        "lr=0.01\n",
        "# proximal term constant\n",
        "mu = 0.01\n",
        "# percentage of clients to have fewer than E epochs\n",
        "percentage = 90\n",
        "# target test accuracy\n",
        "target_test_accuracy = 99.0\n",
        "\n",
        "# data partition dictionary\n",
        "iid_dict = iid_partition(mnist_data_train, 100)\n",
        "# load model\n",
        "mnist_cnn = MNIST_CNN()\n",
        "\n",
        "if torch.cuda.is_available():\n",
        "  mnist_cnn.cuda()\n",
        "\n",
        "mnist_cnn_iid_trained_fedprox = training(mnist_cnn, rounds, batch_size, lr, mnist_data_train, iid_dict, mnist_data_test, C, K, E, mu, percentage, \"FedProx MNIST CNN (90% Stragglers)\", \"green\", target_test_accuracy)"
      ],
      "execution_count": 33,
      "outputs": [
        {
          "output_type": "stream",
          "text": [
            "System heterogeneity set to 90% stragglers.\n",
            "\n",
            "Picking 10 random clients per round.\n",
            "\n",
            "Round: 1... \tAverage Train Loss: 0.841... \tTest Loss: 0.23637543864250182... \tTest Accuracy: 92.9113924050633\n",
            "Round: 2... \tAverage Train Loss: 0.114... \tTest Loss: 0.1387696297518909... \tTest Accuracy: 96.70886075949367\n",
            "Round: 3... \tAverage Train Loss: 0.09... \tTest Loss: 0.10665031041502952... \tTest Accuracy: 97.21518987341773\n",
            "Round: 4... \tAverage Train Loss: 0.065... \tTest Loss: 0.091045677876845... \tTest Accuracy: 97.46835443037975\n",
            "Round: 5... \tAverage Train Loss: 0.035... \tTest Loss: 0.08589293542765081... \tTest Accuracy: 97.84810126582279\n",
            "Round: 6... \tAverage Train Loss: 0.065... \tTest Loss: 0.06773719151284313... \tTest Accuracy: 98.10126582278481\n",
            "Round: 7... \tAverage Train Loss: 0.047... \tTest Loss: 0.06703249160738778... \tTest Accuracy: 98.22784810126582\n",
            "Round: 8... \tAverage Train Loss: 0.034... \tTest Loss: 0.06355271759871975... \tTest Accuracy: 98.35443037974683\n",
            "Round: 9... \tAverage Train Loss: 0.065... \tTest Loss: 0.056771527897077616... \tTest Accuracy: 98.35443037974683\n",
            "Round: 10... \tAverage Train Loss: 0.036... \tTest Loss: 0.05375445580886444... \tTest Accuracy: 98.35443037974683\n",
            "Round: 11... \tAverage Train Loss: 0.04... \tTest Loss: 0.050227536917018006... \tTest Accuracy: 98.35443037974683\n",
            "Round: 12... \tAverage Train Loss: 0.037... \tTest Loss: 0.04918937638697098... \tTest Accuracy: 98.60759493670886\n",
            "Round: 13... \tAverage Train Loss: 0.034... \tTest Loss: 0.05199227368285064... \tTest Accuracy: 98.73417721518987\n",
            "Round: 14... \tAverage Train Loss: 0.027... \tTest Loss: 0.04749983308834635... \tTest Accuracy: 98.60759493670886\n",
            "Round: 15... \tAverage Train Loss: 0.034... \tTest Loss: 0.04527120476504206... \tTest Accuracy: 98.60759493670886\n",
            "Round: 16... \tAverage Train Loss: 0.028... \tTest Loss: 0.044824296839606544... \tTest Accuracy: 98.60759493670886\n",
            "Round: 17... \tAverage Train Loss: 0.021... \tTest Loss: 0.04425865141105169... \tTest Accuracy: 98.86075949367088\n",
            "Round: 18... \tAverage Train Loss: 0.027... \tTest Loss: 0.04344631481611577... \tTest Accuracy: 98.60759493670886\n",
            "Round: 19... \tAverage Train Loss: 0.016... \tTest Loss: 0.043170642897550716... \tTest Accuracy: 98.86075949367088\n",
            "Round: 20... \tAverage Train Loss: 0.033... \tTest Loss: 0.04040271607170289... \tTest Accuracy: 98.86075949367088\n",
            "Round: 21... \tAverage Train Loss: 0.033... \tTest Loss: 0.039728041275564466... \tTest Accuracy: 99.11392405063292\n",
            "Training Done!\n"
          ],
          "name": "stdout"
        },
        {
          "output_type": "display_data",
          "data": {
            "image/png": "[encoded data removed]",
            "text/plain": [
              "<Figure size 432x288 with 1 Axes>"
            ]
          },
          "metadata": {
            "tags": [],
            "needs_background": "light"
          }
        },
        {
          "output_type": "display_data",
          "data": {
            "image/png": "[encoded data removed]",
            "text/plain": [
              "<Figure size 432x288 with 1 Axes>"
            ]
          },
          "metadata": {
            "tags": [],
            "needs_background": "light"
          }
        }
      ]
    },
    {
      "cell_type": "markdown",
      "metadata": {
        "colab_type": "text",
        "id": "ha1hFkm7pJr9"
      },
      "source": [
        "# Comparison with Federated Averaging non-IID Partition\n",
        "\n",
        "> In a highly heterogenous system (90%) stragglers, authors of FedProx have claimed that FedProx achieves on average **22%** improvement in testing accuracy compared to Federated Averaging\n",
        "\n",
        "With our first test above, we know that the special case where **mu=0**, FedProx matches the results of FedAvg. \n",
        "\n",
        "We will use the same idea but increase our stragglers this time. We will run the same experiment with **mu > 0** to compare results of FedProx."
      ]
    },
    {
      "cell_type": "markdown",
      "metadata": {
        "colab_type": "text",
        "id": "UZYw192zpJsL"
      },
      "source": [
        "### Training Federated Averaging with 90% stragglers (non-IID Partition)"
      ]
    },
    {
      "cell_type": "code",
      "metadata": {
        "colab_type": "code",
        "id": "HHCqV3f-pJsM",
        "colab": {
          "base_uri": "https://localhost:8080/",
          "height": 0
        },
        "outputId": "01c34ee6-6442-4368-999e-834d25a2355e"
      },
      "source": [
        "# number of training rounds\n",
        "rounds = 100\n",
        "# client fraction\n",
        "C = 0.1\n",
        "# number of clients\n",
        "K = 100\n",
        "# number of training passes on local dataset for each roung\n",
        "E = 20\n",
        "# batch size\n",
        "batch_size = 10\n",
        "# learning Rate\n",
        "lr=0.01\n",
        "# proximal term constant\n",
        "mu = 0.0\n",
        "# percentage of clients to have fewer than E epochs\n",
        "percentage = 90\n",
        "# target test accuracy\n",
        "target_test_accuracy = 90.0\n",
        "# data partition dictionary\n",
        "non_iid_dict = non_iid_partition(mnist_data_train, 100, 200, 300, 2)\n",
        "# load model\n",
        "mnist_cnn = MNIST_CNN()\n",
        "\n",
        "if torch.cuda.is_available():\n",
        "  mnist_cnn.cuda()\n",
        "\n",
        "mnist_cnn_non_iid_trained_fedavg = training(mnist_cnn, rounds, batch_size, lr, mnist_data_train, non_iid_dict, mnist_data_test, C, K, E, mu, percentage, \"FedAvg MNIST CNN (90% Stragglers) non-IID\", \"orange\", target_test_accuracy, algorithm='fedavg')"
      ],
      "execution_count": 34,
      "outputs": [
        {
          "output_type": "stream",
          "text": [
            "System heterogeneity set to 90% stragglers.\n",
            "\n",
            "Picking 10 random clients per round.\n",
            "\n",
            "Round: 1... \tAverage Train Loss: 0.027... \tTest Loss: 10.416439100646972... \tTest Accuracy: 17.59493670886076\n",
            "Round: 2... \tAverage Train Loss: 0.041... \tTest Loss: 7.65616241607666... \tTest Accuracy: 21.772151898734176\n",
            "Round: 3... \tAverage Train Loss: 0.026... \tTest Loss: 7.248042140960694... \tTest Accuracy: 20.759493670886076\n",
            "Round: 4... \tAverage Train Loss: 0.013... \tTest Loss: 7.772884909057617... \tTest Accuracy: 18.10126582278481\n",
            "Round: 5... \tAverage Train Loss: 0.034... \tTest Loss: 8.889501936340332... \tTest Accuracy: 18.354430379746834\n",
            "Round: 6... \tAverage Train Loss: 0.025... \tTest Loss: 10.150454154968262... \tTest Accuracy: 21.0126582278481\n",
            "Round: 7... \tAverage Train Loss: 0.038... \tTest Loss: 7.200136389923096... \tTest Accuracy: 17.59493670886076\n",
            "Round: 8... \tAverage Train Loss: 0.01... \tTest Loss: 6.309183881378174... \tTest Accuracy: 12.025316455696203\n",
            "Round: 9... \tAverage Train Loss: 0.027... \tTest Loss: 6.458654864501953... \tTest Accuracy: 21.89873417721519\n",
            "Round: 10... \tAverage Train Loss: 0.017... \tTest Loss: 6.368773694610596... \tTest Accuracy: 28.227848101265824\n",
            "Round: 11... \tAverage Train Loss: 0.012... \tTest Loss: 5.433362548065186... \tTest Accuracy: 36.58227848101266\n",
            "Round: 12... \tAverage Train Loss: 0.03... \tTest Loss: 5.71662806930542... \tTest Accuracy: 23.924050632911392\n",
            "Round: 13... \tAverage Train Loss: 0.013... \tTest Loss: 4.610236717224121... \tTest Accuracy: 24.050632911392405\n",
            "Round: 14... \tAverage Train Loss: 0.01... \tTest Loss: 4.024276881408691... \tTest Accuracy: 34.81012658227848\n",
            "Round: 15... \tAverage Train Loss: 0.006... \tTest Loss: 4.228279295349121... \tTest Accuracy: 39.620253164556964\n",
            "Round: 16... \tAverage Train Loss: 0.001... \tTest Loss: 4.114131257247925... \tTest Accuracy: 43.164556962025316\n",
            "Round: 17... \tAverage Train Loss: 0.01... \tTest Loss: 3.607116030883789... \tTest Accuracy: 39.620253164556964\n",
            "Round: 18... \tAverage Train Loss: 0.004... \tTest Loss: 4.037928153991699... \tTest Accuracy: 31.89873417721519\n",
            "Round: 19... \tAverage Train Loss: 0.011... \tTest Loss: 3.5925017517089843... \tTest Accuracy: 34.177215189873415\n",
            "Round: 20... \tAverage Train Loss: 0.004... \tTest Loss: 3.075060792541504... \tTest Accuracy: 30.759493670886076\n",
            "Round: 21... \tAverage Train Loss: 0.01... \tTest Loss: 3.7690964637756346... \tTest Accuracy: 40.0\n",
            "Round: 22... \tAverage Train Loss: 0.004... \tTest Loss: 3.579914125442505... \tTest Accuracy: 38.860759493670884\n",
            "Round: 23... \tAverage Train Loss: 0.006... \tTest Loss: 3.158122076416016... \tTest Accuracy: 39.74683544303797\n",
            "Round: 24... \tAverage Train Loss: 0.016... \tTest Loss: 2.3384339977264403... \tTest Accuracy: 48.35443037974684\n",
            "Round: 25... \tAverage Train Loss: 0.005... \tTest Loss: 2.05525118560791... \tTest Accuracy: 55.69620253164557\n",
            "Round: 26... \tAverage Train Loss: 0.007... \tTest Loss: 2.335457943725586... \tTest Accuracy: 45.949367088607595\n",
            "Round: 27... \tAverage Train Loss: 0.006... \tTest Loss: 2.4595235877990724... \tTest Accuracy: 58.734177215189874\n",
            "Round: 28... \tAverage Train Loss: 0.001... \tTest Loss: 1.4843696899414063... \tTest Accuracy: 65.82278481012658\n",
            "Round: 29... \tAverage Train Loss: 0.012... \tTest Loss: 1.7415517560958862... \tTest Accuracy: 56.32911392405063\n",
            "Round: 30... \tAverage Train Loss: 0.001... \tTest Loss: 2.055044277000427... \tTest Accuracy: 52.53164556962025\n",
            "Round: 31... \tAverage Train Loss: 0.009... \tTest Loss: 2.469910019302368... \tTest Accuracy: 51.0126582278481\n",
            "Round: 32... \tAverage Train Loss: 0.006... \tTest Loss: 2.1080510366439817... \tTest Accuracy: 52.65822784810127\n",
            "Round: 33... \tAverage Train Loss: 0.011... \tTest Loss: 2.5632187868118286... \tTest Accuracy: 53.79746835443038\n",
            "Round: 34... \tAverage Train Loss: 0.003... \tTest Loss: 2.1894981121063233... \tTest Accuracy: 55.822784810126585\n",
            "Round: 35... \tAverage Train Loss: 0.004... \tTest Loss: 2.6327213523864748... \tTest Accuracy: 56.32911392405063\n",
            "Round: 36... \tAverage Train Loss: 0.0... \tTest Loss: 3.707807012939453... \tTest Accuracy: 45.44303797468354\n",
            "Round: 37... \tAverage Train Loss: 0.005... \tTest Loss: 1.914140502357483... \tTest Accuracy: 59.74683544303797\n",
            "Round: 38... \tAverage Train Loss: 0.001... \tTest Loss: 2.119851525115967... \tTest Accuracy: 62.151898734177216\n",
            "Round: 39... \tAverage Train Loss: 0.005... \tTest Loss: 1.1461019533157348... \tTest Accuracy: 71.77215189873418\n",
            "Round: 40... \tAverage Train Loss: 0.003... \tTest Loss: 1.5714190985679626... \tTest Accuracy: 77.21518987341773\n",
            "Round: 41... \tAverage Train Loss: 0.014... \tTest Loss: 1.8057931926727295... \tTest Accuracy: 66.45569620253164\n",
            "Round: 42... \tAverage Train Loss: 0.002... \tTest Loss: 1.2847724424362184... \tTest Accuracy: 68.22784810126582\n",
            "Round: 43... \tAverage Train Loss: 0.005... \tTest Loss: 1.85410186958313... \tTest Accuracy: 64.55696202531645\n",
            "Round: 44... \tAverage Train Loss: 0.005... \tTest Loss: 1.4541222661972046... \tTest Accuracy: 74.9367088607595\n",
            "Round: 45... \tAverage Train Loss: 0.003... \tTest Loss: 1.244193748474121... \tTest Accuracy: 70.0\n",
            "Round: 46... \tAverage Train Loss: 0.003... \tTest Loss: 1.777280459213257... \tTest Accuracy: 70.50632911392405\n",
            "Round: 47... \tAverage Train Loss: 0.011... \tTest Loss: 1.4940792452812195... \tTest Accuracy: 72.78481012658227\n",
            "Round: 48... \tAverage Train Loss: 0.002... \tTest Loss: 1.1234139110565184... \tTest Accuracy: 73.79746835443038\n",
            "Round: 49... \tAverage Train Loss: 0.004... \tTest Loss: 0.9072204474449158... \tTest Accuracy: 82.0253164556962\n",
            "Round: 50... \tAverage Train Loss: 0.0... \tTest Loss: 0.8194513652324676... \tTest Accuracy: 79.24050632911393\n",
            "Round: 51... \tAverage Train Loss: 0.021... \tTest Loss: 0.8989478851795196... \tTest Accuracy: 82.27848101265823\n",
            "Round: 52... \tAverage Train Loss: 0.004... \tTest Loss: 1.1444910806655884... \tTest Accuracy: 76.45569620253164\n",
            "Round: 53... \tAverage Train Loss: 0.003... \tTest Loss: 0.6612476860523224... \tTest Accuracy: 82.65822784810126\n",
            "Round: 54... \tAverage Train Loss: 0.003... \tTest Loss: 0.7879238713264465... \tTest Accuracy: 80.63291139240506\n",
            "Round: 55... \tAverage Train Loss: 0.013... \tTest Loss: 0.915136074924469... \tTest Accuracy: 79.87341772151899\n",
            "Round: 56... \tAverage Train Loss: 0.002... \tTest Loss: 1.5109243631362914... \tTest Accuracy: 65.9493670886076\n",
            "Round: 57... \tAverage Train Loss: 0.005... \tTest Loss: 0.7610169510841369... \tTest Accuracy: 81.39240506329114\n",
            "Round: 58... \tAverage Train Loss: 0.005... \tTest Loss: 0.832780695438385... \tTest Accuracy: 78.86075949367088\n",
            "Round: 59... \tAverage Train Loss: 0.002... \tTest Loss: 0.8553040595054626... \tTest Accuracy: 78.73417721518987\n",
            "Round: 60... \tAverage Train Loss: 0.009... \tTest Loss: 1.0215564136505126... \tTest Accuracy: 75.31645569620254\n",
            "Round: 61... \tAverage Train Loss: 0.002... \tTest Loss: 0.38131789014339446... \tTest Accuracy: 88.86075949367088\n",
            "Round: 62... \tAverage Train Loss: 0.003... \tTest Loss: 1.177911737728119... \tTest Accuracy: 74.81012658227849\n",
            "Round: 63... \tAverage Train Loss: 0.003... \tTest Loss: 0.7632400828361511... \tTest Accuracy: 79.62025316455696\n",
            "Round: 64... \tAverage Train Loss: 0.009... \tTest Loss: 0.9632815877914429... \tTest Accuracy: 78.10126582278481\n",
            "Round: 65... \tAverage Train Loss: 0.007... \tTest Loss: 0.6057459532618522... \tTest Accuracy: 84.43037974683544\n",
            "Round: 66... \tAverage Train Loss: 0.002... \tTest Loss: 0.451424348950386... \tTest Accuracy: 88.60759493670886\n",
            "Round: 67... \tAverage Train Loss: 0.005... \tTest Loss: 0.7070705275535584... \tTest Accuracy: 82.9113924050633\n",
            "Round: 68... \tAverage Train Loss: 0.009... \tTest Loss: 1.091169603061676... \tTest Accuracy: 76.58227848101266\n",
            "Round: 69... \tAverage Train Loss: 0.008... \tTest Loss: 0.6087208345890045... \tTest Accuracy: 84.55696202531645\n",
            "Round: 70... \tAverage Train Loss: 0.007... \tTest Loss: 0.8813691374778747... \tTest Accuracy: 78.48101265822785\n",
            "Round: 71... \tAverage Train Loss: 0.004... \tTest Loss: 1.4853597324371337... \tTest Accuracy: 68.22784810126582\n",
            "Round: 72... \tAverage Train Loss: 0.009... \tTest Loss: 1.1539276893615722... \tTest Accuracy: 72.9113924050633\n",
            "Round: 73... \tAverage Train Loss: 0.003... \tTest Loss: 0.6346582508087159... \tTest Accuracy: 83.67088607594937\n",
            "Round: 74... \tAverage Train Loss: 0.003... \tTest Loss: 0.4766974732875824... \tTest Accuracy: 86.58227848101266\n",
            "Round: 75... \tAverage Train Loss: 0.003... \tTest Loss: 1.1649490303039551... \tTest Accuracy: 71.39240506329114\n",
            "Round: 76... \tAverage Train Loss: 0.002... \tTest Loss: 0.8328578180789947... \tTest Accuracy: 80.37974683544304\n",
            "Round: 77... \tAverage Train Loss: 0.007... \tTest Loss: 0.9089833057880402... \tTest Accuracy: 78.48101265822785\n",
            "Round: 78... \tAverage Train Loss: 0.005... \tTest Loss: 0.9853737588882446... \tTest Accuracy: 76.83544303797468\n",
            "Round: 79... \tAverage Train Loss: 0.002... \tTest Loss: 0.7328842282295227... \tTest Accuracy: 80.63291139240506\n",
            "Round: 80... \tAverage Train Loss: 0.005... \tTest Loss: 0.732815515947342... \tTest Accuracy: 83.54430379746836\n",
            "Round: 81... \tAverage Train Loss: 0.002... \tTest Loss: 0.6664907504081726... \tTest Accuracy: 83.67088607594937\n",
            "Round: 82... \tAverage Train Loss: 0.004... \tTest Loss: 0.5302086965560913... \tTest Accuracy: 86.32911392405063\n",
            "Round: 83... \tAverage Train Loss: 0.001... \tTest Loss: 0.9882855861663818... \tTest Accuracy: 77.9746835443038\n",
            "Round: 84... \tAverage Train Loss: 0.004... \tTest Loss: 0.33703032514452935... \tTest Accuracy: 92.0253164556962\n",
            "Training Done!\n"
          ],
          "name": "stdout"
        },
        {
          "output_type": "display_data",
          "data": {
            "image/png": "[encoded data removed]",
            "text/plain": [
              "<Figure size 432x288 with 1 Axes>"
            ]
          },
          "metadata": {
            "tags": [],
            "needs_background": "light"
          }
        },
        {
          "output_type": "display_data",
          "data": {
            "image/png": "[encoded data removed]",
            "text/plain": [
              "<Figure size 432x288 with 1 Axes>"
            ]
          },
          "metadata": {
            "tags": [],
            "needs_background": "light"
          }
        }
      ]
    },
    {
      "cell_type": "markdown",
      "metadata": {
        "colab_type": "text",
        "id": "YAEZ4zjopJsS"
      },
      "source": [
        "### Training FedProx with 90% Stragglers (non-IID Parition)"
      ]
    },
    {
      "cell_type": "code",
      "metadata": {
        "colab_type": "code",
        "id": "4d3AH4IgpJsT",
        "colab": {
          "base_uri": "https://localhost:8080/",
          "height": 0
        },
        "outputId": "631e3d15-a87a-4a0e-dc16-81e4637d7103"
      },
      "source": [
        "# number of training rounds\n",
        "rounds = 100\n",
        "# client fraction\n",
        "C = 0.1\n",
        "# number of clients\n",
        "K = 100\n",
        "# number of training passes on local dataset for each roung\n",
        "E = 20\n",
        "# batch size\n",
        "batch_size = 10\n",
        "# learning Rate\n",
        "lr=0.01\n",
        "# proximal term constant\n",
        "mu = 0.01\n",
        "# percentage of clients to have fewer than E epochs\n",
        "percentage = 90\n",
        "# target test accuracy\n",
        "target_test_accuracy = 90.0\n",
        "\n",
        "# data partition dictionary\n",
        "non_iid_dict = non_iid_partition(mnist_data_train, 100, 200, 300, 2)\n",
        "# load model\n",
        "mnist_cnn = MNIST_CNN()\n",
        "\n",
        "if torch.cuda.is_available():\n",
        "  mnist_cnn.cuda()\n",
        "\n",
        "mnist_cnn_non_iid_trained_fedprox = training(mnist_cnn, rounds, batch_size, lr, mnist_data_train, non_iid_dict, mnist_data_test, C, K, E, mu, percentage, \"FedProx MNIST CNN (90% Stragglers) non-IID\", \"green\", target_test_accuracy)"
      ],
      "execution_count": 35,
      "outputs": [
        {
          "output_type": "stream",
          "text": [
            "System heterogeneity set to 90% stragglers.\n",
            "\n",
            "Picking 10 random clients per round.\n",
            "\n",
            "Round: 1... \tAverage Train Loss: 0.074... \tTest Loss: 2.3928937355041504... \tTest Accuracy: 15.063291139240507\n",
            "Round: 2... \tAverage Train Loss: 0.049... \tTest Loss: 2.1259401973724366... \tTest Accuracy: 39.49367088607595\n",
            "Round: 3... \tAverage Train Loss: 0.05... \tTest Loss: 1.7753675369262696... \tTest Accuracy: 46.962025316455694\n",
            "Round: 4... \tAverage Train Loss: 0.038... \tTest Loss: 1.0632993242263793... \tTest Accuracy: 63.29113924050633\n",
            "Round: 5... \tAverage Train Loss: 0.025... \tTest Loss: 0.6285026379585266... \tTest Accuracy: 78.86075949367088\n",
            "Round: 6... \tAverage Train Loss: 0.02... \tTest Loss: 0.6191626049041749... \tTest Accuracy: 81.26582278481013\n",
            "Round: 7... \tAverage Train Loss: 0.024... \tTest Loss: 0.6317765829563141... \tTest Accuracy: 76.20253164556962\n",
            "Round: 8... \tAverage Train Loss: 0.033... \tTest Loss: 0.4101809196472168... \tTest Accuracy: 87.72151898734177\n",
            "Round: 9... \tAverage Train Loss: 0.014... \tTest Loss: 0.5674488192558289... \tTest Accuracy: 75.82278481012658\n",
            "Round: 10... \tAverage Train Loss: 0.041... \tTest Loss: 0.48969893345832827... \tTest Accuracy: 78.86075949367088\n",
            "Round: 11... \tAverage Train Loss: 0.016... \tTest Loss: 0.4055392473220825... \tTest Accuracy: 83.54430379746836\n",
            "Round: 12... \tAverage Train Loss: 0.011... \tTest Loss: 0.5501030151367188... \tTest Accuracy: 82.78481012658227\n",
            "Round: 13... \tAverage Train Loss: 0.025... \tTest Loss: 0.27688889338970185... \tTest Accuracy: 91.26582278481013\n",
            "Training Done!\n"
          ],
          "name": "stdout"
        },
        {
          "output_type": "display_data",
          "data": {
            "image/png": "[encoded data removed]",
            "text/plain": [
              "<Figure size 432x288 with 1 Axes>"
            ]
          },
          "metadata": {
            "tags": [],
            "needs_background": "light"
          }
        },
        {
          "output_type": "display_data",
          "data": {
            "image/png": "[encoded data removed]",
            "text/plain": [
              "<Figure size 432x288 with 1 Axes>"
            ]
          },
          "metadata": {
            "tags": [],
            "needs_background": "light"
          }
        }
      ]
    }
  ]
}