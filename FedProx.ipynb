{
  "nbformat": 4,
  "nbformat_minor": 0,
  "metadata": {
    "colab": {
      "name": "FedProx.ipynb",
      "provenance": [],
      "collapsed_sections": [
        "ewgOl5Va6DQs",
        "uF8MdSIUYcnl",
        "z_jifdzniuhm",
        "J8jzEyO0iywz"
      ],
      "machine_shape": "hm",
      "authorship_tag": "ABX9TyOIpwkYyc6fEa2e0Eh66lUi",
      "include_colab_link": true
    },
    "kernelspec": {
      "name": "python3",
      "display_name": "Python 3"
    },
    "accelerator": "GPU",
    "widgets": {
      "application/vnd.jupyter.widget-state+json": {
        "570c875765ff4c89ae3fe70a71256106": {
          "model_module": "@jupyter-widgets/controls",
          "model_name": "HBoxModel",
          "state": {
            "_view_name": "HBoxView",
            "_dom_classes": [],
            "_model_name": "HBoxModel",
            "_view_module": "@jupyter-widgets/controls",
            "_model_module_version": "1.5.0",
            "_view_count": null,
            "_view_module_version": "1.5.0",
            "box_style": "",
            "layout": "IPY_MODEL_0c2705f13f274bb1a6210258077ebd74",
            "_model_module": "@jupyter-widgets/controls",
            "children": [
              "IPY_MODEL_c48421d5490a415696220ddcae61eb7b",
              "IPY_MODEL_b99bc838b93a4279bbfae354f0675937"
            ]
          }
        },
        "0c2705f13f274bb1a6210258077ebd74": {
          "model_module": "@jupyter-widgets/base",
          "model_name": "LayoutModel",
          "state": {
            "_view_name": "LayoutView",
            "grid_template_rows": null,
            "right": null,
            "justify_content": null,
            "_view_module": "@jupyter-widgets/base",
            "overflow": null,
            "_model_module_version": "1.2.0",
            "_view_count": null,
            "flex_flow": null,
            "width": null,
            "min_width": null,
            "border": null,
            "align_items": null,
            "bottom": null,
            "_model_module": "@jupyter-widgets/base",
            "top": null,
            "grid_column": null,
            "overflow_y": null,
            "overflow_x": null,
            "grid_auto_flow": null,
            "grid_area": null,
            "grid_template_columns": null,
            "flex": null,
            "_model_name": "LayoutModel",
            "justify_items": null,
            "grid_row": null,
            "max_height": null,
            "align_content": null,
            "visibility": null,
            "align_self": null,
            "height": null,
            "min_height": null,
            "padding": null,
            "grid_auto_rows": null,
            "grid_gap": null,
            "max_width": null,
            "order": null,
            "_view_module_version": "1.2.0",
            "grid_template_areas": null,
            "object_position": null,
            "object_fit": null,
            "grid_auto_columns": null,
            "margin": null,
            "display": null,
            "left": null
          }
        },
        "c48421d5490a415696220ddcae61eb7b": {
          "model_module": "@jupyter-widgets/controls",
          "model_name": "FloatProgressModel",
          "state": {
            "_view_name": "ProgressView",
            "style": "IPY_MODEL_fbc15a14f2a84172aba4acec49df4ed7",
            "_dom_classes": [],
            "description": "",
            "_model_name": "FloatProgressModel",
            "bar_style": "success",
            "max": 1,
            "_view_module": "@jupyter-widgets/controls",
            "_model_module_version": "1.5.0",
            "value": 1,
            "_view_count": null,
            "_view_module_version": "1.5.0",
            "orientation": "horizontal",
            "min": 0,
            "description_tooltip": null,
            "_model_module": "@jupyter-widgets/controls",
            "layout": "IPY_MODEL_b191af7beaa949a09d200c889090e468"
          }
        },
        "b99bc838b93a4279bbfae354f0675937": {
          "model_module": "@jupyter-widgets/controls",
          "model_name": "HTMLModel",
          "state": {
            "_view_name": "HTMLView",
            "style": "IPY_MODEL_703f320bf2db4d98a6a6891762402dc8",
            "_dom_classes": [],
            "description": "",
            "_model_name": "HTMLModel",
            "placeholder": "​",
            "_view_module": "@jupyter-widgets/controls",
            "_model_module_version": "1.5.0",
            "value": " 9920512/? [00:09&lt;00:00, 1069205.92it/s]",
            "_view_count": null,
            "_view_module_version": "1.5.0",
            "description_tooltip": null,
            "_model_module": "@jupyter-widgets/controls",
            "layout": "IPY_MODEL_5b498b485c634e3a97f97432cb342596"
          }
        },
        "fbc15a14f2a84172aba4acec49df4ed7": {
          "model_module": "@jupyter-widgets/controls",
          "model_name": "ProgressStyleModel",
          "state": {
            "_view_name": "StyleView",
            "_model_name": "ProgressStyleModel",
            "description_width": "initial",
            "_view_module": "@jupyter-widgets/base",
            "_model_module_version": "1.5.0",
            "_view_count": null,
            "_view_module_version": "1.2.0",
            "bar_color": null,
            "_model_module": "@jupyter-widgets/controls"
          }
        },
        "b191af7beaa949a09d200c889090e468": {
          "model_module": "@jupyter-widgets/base",
          "model_name": "LayoutModel",
          "state": {
            "_view_name": "LayoutView",
            "grid_template_rows": null,
            "right": null,
            "justify_content": null,
            "_view_module": "@jupyter-widgets/base",
            "overflow": null,
            "_model_module_version": "1.2.0",
            "_view_count": null,
            "flex_flow": null,
            "width": null,
            "min_width": null,
            "border": null,
            "align_items": null,
            "bottom": null,
            "_model_module": "@jupyter-widgets/base",
            "top": null,
            "grid_column": null,
            "overflow_y": null,
            "overflow_x": null,
            "grid_auto_flow": null,
            "grid_area": null,
            "grid_template_columns": null,
            "flex": null,
            "_model_name": "LayoutModel",
            "justify_items": null,
            "grid_row": null,
            "max_height": null,
            "align_content": null,
            "visibility": null,
            "align_self": null,
            "height": null,
            "min_height": null,
            "padding": null,
            "grid_auto_rows": null,
            "grid_gap": null,
            "max_width": null,
            "order": null,
            "_view_module_version": "1.2.0",
            "grid_template_areas": null,
            "object_position": null,
            "object_fit": null,
            "grid_auto_columns": null,
            "margin": null,
            "display": null,
            "left": null
          }
        },
        "703f320bf2db4d98a6a6891762402dc8": {
          "model_module": "@jupyter-widgets/controls",
          "model_name": "DescriptionStyleModel",
          "state": {
            "_view_name": "StyleView",
            "_model_name": "DescriptionStyleModel",
            "description_width": "",
            "_view_module": "@jupyter-widgets/base",
            "_model_module_version": "1.5.0",
            "_view_count": null,
            "_view_module_version": "1.2.0",
            "_model_module": "@jupyter-widgets/controls"
          }
        },
        "5b498b485c634e3a97f97432cb342596": {
          "model_module": "@jupyter-widgets/base",
          "model_name": "LayoutModel",
          "state": {
            "_view_name": "LayoutView",
            "grid_template_rows": null,
            "right": null,
            "justify_content": null,
            "_view_module": "@jupyter-widgets/base",
            "overflow": null,
            "_model_module_version": "1.2.0",
            "_view_count": null,
            "flex_flow": null,
            "width": null,
            "min_width": null,
            "border": null,
            "align_items": null,
            "bottom": null,
            "_model_module": "@jupyter-widgets/base",
            "top": null,
            "grid_column": null,
            "overflow_y": null,
            "overflow_x": null,
            "grid_auto_flow": null,
            "grid_area": null,
            "grid_template_columns": null,
            "flex": null,
            "_model_name": "LayoutModel",
            "justify_items": null,
            "grid_row": null,
            "max_height": null,
            "align_content": null,
            "visibility": null,
            "align_self": null,
            "height": null,
            "min_height": null,
            "padding": null,
            "grid_auto_rows": null,
            "grid_gap": null,
            "max_width": null,
            "order": null,
            "_view_module_version": "1.2.0",
            "grid_template_areas": null,
            "object_position": null,
            "object_fit": null,
            "grid_auto_columns": null,
            "margin": null,
            "display": null,
            "left": null
          }
        },
        "fac0180c29c0418abe04fdbf1e63760f": {
          "model_module": "@jupyter-widgets/controls",
          "model_name": "HBoxModel",
          "state": {
            "_view_name": "HBoxView",
            "_dom_classes": [],
            "_model_name": "HBoxModel",
            "_view_module": "@jupyter-widgets/controls",
            "_model_module_version": "1.5.0",
            "_view_count": null,
            "_view_module_version": "1.5.0",
            "box_style": "",
            "layout": "IPY_MODEL_ab0f617956b841d8a0a3593aa71f4e51",
            "_model_module": "@jupyter-widgets/controls",
            "children": [
              "IPY_MODEL_822ecfa31351416b9cbbf797d2d87376",
              "IPY_MODEL_8f19808b428c4755b8ae102236975635"
            ]
          }
        },
        "ab0f617956b841d8a0a3593aa71f4e51": {
          "model_module": "@jupyter-widgets/base",
          "model_name": "LayoutModel",
          "state": {
            "_view_name": "LayoutView",
            "grid_template_rows": null,
            "right": null,
            "justify_content": null,
            "_view_module": "@jupyter-widgets/base",
            "overflow": null,
            "_model_module_version": "1.2.0",
            "_view_count": null,
            "flex_flow": null,
            "width": null,
            "min_width": null,
            "border": null,
            "align_items": null,
            "bottom": null,
            "_model_module": "@jupyter-widgets/base",
            "top": null,
            "grid_column": null,
            "overflow_y": null,
            "overflow_x": null,
            "grid_auto_flow": null,
            "grid_area": null,
            "grid_template_columns": null,
            "flex": null,
            "_model_name": "LayoutModel",
            "justify_items": null,
            "grid_row": null,
            "max_height": null,
            "align_content": null,
            "visibility": null,
            "align_self": null,
            "height": null,
            "min_height": null,
            "padding": null,
            "grid_auto_rows": null,
            "grid_gap": null,
            "max_width": null,
            "order": null,
            "_view_module_version": "1.2.0",
            "grid_template_areas": null,
            "object_position": null,
            "object_fit": null,
            "grid_auto_columns": null,
            "margin": null,
            "display": null,
            "left": null
          }
        },
        "822ecfa31351416b9cbbf797d2d87376": {
          "model_module": "@jupyter-widgets/controls",
          "model_name": "FloatProgressModel",
          "state": {
            "_view_name": "ProgressView",
            "style": "IPY_MODEL_27d497fe1ecb413c9d67cc6fe2110077",
            "_dom_classes": [],
            "description": "",
            "_model_name": "FloatProgressModel",
            "bar_style": "success",
            "max": 1,
            "_view_module": "@jupyter-widgets/controls",
            "_model_module_version": "1.5.0",
            "value": 1,
            "_view_count": null,
            "_view_module_version": "1.5.0",
            "orientation": "horizontal",
            "min": 0,
            "description_tooltip": null,
            "_model_module": "@jupyter-widgets/controls",
            "layout": "IPY_MODEL_731563f9d0f147519d9da97ee61ef7bc"
          }
        },
        "8f19808b428c4755b8ae102236975635": {
          "model_module": "@jupyter-widgets/controls",
          "model_name": "HTMLModel",
          "state": {
            "_view_name": "HTMLView",
            "style": "IPY_MODEL_57884d145c354f6494401c444f56a767",
            "_dom_classes": [],
            "description": "",
            "_model_name": "HTMLModel",
            "placeholder": "​",
            "_view_module": "@jupyter-widgets/controls",
            "_model_module_version": "1.5.0",
            "value": " 32768/? [00:00&lt;00:00, 100584.05it/s]",
            "_view_count": null,
            "_view_module_version": "1.5.0",
            "description_tooltip": null,
            "_model_module": "@jupyter-widgets/controls",
            "layout": "IPY_MODEL_814bb712b3c048c7b120e33092cb407c"
          }
        },
        "27d497fe1ecb413c9d67cc6fe2110077": {
          "model_module": "@jupyter-widgets/controls",
          "model_name": "ProgressStyleModel",
          "state": {
            "_view_name": "StyleView",
            "_model_name": "ProgressStyleModel",
            "description_width": "initial",
            "_view_module": "@jupyter-widgets/base",
            "_model_module_version": "1.5.0",
            "_view_count": null,
            "_view_module_version": "1.2.0",
            "bar_color": null,
            "_model_module": "@jupyter-widgets/controls"
          }
        },
        "731563f9d0f147519d9da97ee61ef7bc": {
          "model_module": "@jupyter-widgets/base",
          "model_name": "LayoutModel",
          "state": {
            "_view_name": "LayoutView",
            "grid_template_rows": null,
            "right": null,
            "justify_content": null,
            "_view_module": "@jupyter-widgets/base",
            "overflow": null,
            "_model_module_version": "1.2.0",
            "_view_count": null,
            "flex_flow": null,
            "width": null,
            "min_width": null,
            "border": null,
            "align_items": null,
            "bottom": null,
            "_model_module": "@jupyter-widgets/base",
            "top": null,
            "grid_column": null,
            "overflow_y": null,
            "overflow_x": null,
            "grid_auto_flow": null,
            "grid_area": null,
            "grid_template_columns": null,
            "flex": null,
            "_model_name": "LayoutModel",
            "justify_items": null,
            "grid_row": null,
            "max_height": null,
            "align_content": null,
            "visibility": null,
            "align_self": null,
            "height": null,
            "min_height": null,
            "padding": null,
            "grid_auto_rows": null,
            "grid_gap": null,
            "max_width": null,
            "order": null,
            "_view_module_version": "1.2.0",
            "grid_template_areas": null,
            "object_position": null,
            "object_fit": null,
            "grid_auto_columns": null,
            "margin": null,
            "display": null,
            "left": null
          }
        },
        "57884d145c354f6494401c444f56a767": {
          "model_module": "@jupyter-widgets/controls",
          "model_name": "DescriptionStyleModel",
          "state": {
            "_view_name": "StyleView",
            "_model_name": "DescriptionStyleModel",
            "description_width": "",
            "_view_module": "@jupyter-widgets/base",
            "_model_module_version": "1.5.0",
            "_view_count": null,
            "_view_module_version": "1.2.0",
            "_model_module": "@jupyter-widgets/controls"
          }
        },
        "814bb712b3c048c7b120e33092cb407c": {
          "model_module": "@jupyter-widgets/base",
          "model_name": "LayoutModel",
          "state": {
            "_view_name": "LayoutView",
            "grid_template_rows": null,
            "right": null,
            "justify_content": null,
            "_view_module": "@jupyter-widgets/base",
            "overflow": null,
            "_model_module_version": "1.2.0",
            "_view_count": null,
            "flex_flow": null,
            "width": null,
            "min_width": null,
            "border": null,
            "align_items": null,
            "bottom": null,
            "_model_module": "@jupyter-widgets/base",
            "top": null,
            "grid_column": null,
            "overflow_y": null,
            "overflow_x": null,
            "grid_auto_flow": null,
            "grid_area": null,
            "grid_template_columns": null,
            "flex": null,
            "_model_name": "LayoutModel",
            "justify_items": null,
            "grid_row": null,
            "max_height": null,
            "align_content": null,
            "visibility": null,
            "align_self": null,
            "height": null,
            "min_height": null,
            "padding": null,
            "grid_auto_rows": null,
            "grid_gap": null,
            "max_width": null,
            "order": null,
            "_view_module_version": "1.2.0",
            "grid_template_areas": null,
            "object_position": null,
            "object_fit": null,
            "grid_auto_columns": null,
            "margin": null,
            "display": null,
            "left": null
          }
        },
        "94b7ec756bd447a6a4360780a05a7865": {
          "model_module": "@jupyter-widgets/controls",
          "model_name": "HBoxModel",
          "state": {
            "_view_name": "HBoxView",
            "_dom_classes": [],
            "_model_name": "HBoxModel",
            "_view_module": "@jupyter-widgets/controls",
            "_model_module_version": "1.5.0",
            "_view_count": null,
            "_view_module_version": "1.5.0",
            "box_style": "",
            "layout": "IPY_MODEL_401d097d077f49d8b52fe4a04778d8fb",
            "_model_module": "@jupyter-widgets/controls",
            "children": [
              "IPY_MODEL_c2fe227cf39642f99369b21875dc9c40",
              "IPY_MODEL_4847800eba264fa0bdaaf6d5be08a7a5"
            ]
          }
        },
        "401d097d077f49d8b52fe4a04778d8fb": {
          "model_module": "@jupyter-widgets/base",
          "model_name": "LayoutModel",
          "state": {
            "_view_name": "LayoutView",
            "grid_template_rows": null,
            "right": null,
            "justify_content": null,
            "_view_module": "@jupyter-widgets/base",
            "overflow": null,
            "_model_module_version": "1.2.0",
            "_view_count": null,
            "flex_flow": null,
            "width": null,
            "min_width": null,
            "border": null,
            "align_items": null,
            "bottom": null,
            "_model_module": "@jupyter-widgets/base",
            "top": null,
            "grid_column": null,
            "overflow_y": null,
            "overflow_x": null,
            "grid_auto_flow": null,
            "grid_area": null,
            "grid_template_columns": null,
            "flex": null,
            "_model_name": "LayoutModel",
            "justify_items": null,
            "grid_row": null,
            "max_height": null,
            "align_content": null,
            "visibility": null,
            "align_self": null,
            "height": null,
            "min_height": null,
            "padding": null,
            "grid_auto_rows": null,
            "grid_gap": null,
            "max_width": null,
            "order": null,
            "_view_module_version": "1.2.0",
            "grid_template_areas": null,
            "object_position": null,
            "object_fit": null,
            "grid_auto_columns": null,
            "margin": null,
            "display": null,
            "left": null
          }
        },
        "c2fe227cf39642f99369b21875dc9c40": {
          "model_module": "@jupyter-widgets/controls",
          "model_name": "FloatProgressModel",
          "state": {
            "_view_name": "ProgressView",
            "style": "IPY_MODEL_04e45ddf6f094caaaf5705f23574d93a",
            "_dom_classes": [],
            "description": "",
            "_model_name": "FloatProgressModel",
            "bar_style": "success",
            "max": 1,
            "_view_module": "@jupyter-widgets/controls",
            "_model_module_version": "1.5.0",
            "value": 1,
            "_view_count": null,
            "_view_module_version": "1.5.0",
            "orientation": "horizontal",
            "min": 0,
            "description_tooltip": null,
            "_model_module": "@jupyter-widgets/controls",
            "layout": "IPY_MODEL_bcf6d5d94c3c415680afdee1db305a46"
          }
        },
        "4847800eba264fa0bdaaf6d5be08a7a5": {
          "model_module": "@jupyter-widgets/controls",
          "model_name": "HTMLModel",
          "state": {
            "_view_name": "HTMLView",
            "style": "IPY_MODEL_074b8d94a2b14921a1e1c6f05bd73150",
            "_dom_classes": [],
            "description": "",
            "_model_name": "HTMLModel",
            "placeholder": "​",
            "_view_module": "@jupyter-widgets/controls",
            "_model_module_version": "1.5.0",
            "value": " 1654784/? [00:07&lt;00:00, 223537.87it/s]",
            "_view_count": null,
            "_view_module_version": "1.5.0",
            "description_tooltip": null,
            "_model_module": "@jupyter-widgets/controls",
            "layout": "IPY_MODEL_6fed09e8c1ff49a2b5e963e76117ea6a"
          }
        },
        "04e45ddf6f094caaaf5705f23574d93a": {
          "model_module": "@jupyter-widgets/controls",
          "model_name": "ProgressStyleModel",
          "state": {
            "_view_name": "StyleView",
            "_model_name": "ProgressStyleModel",
            "description_width": "initial",
            "_view_module": "@jupyter-widgets/base",
            "_model_module_version": "1.5.0",
            "_view_count": null,
            "_view_module_version": "1.2.0",
            "bar_color": null,
            "_model_module": "@jupyter-widgets/controls"
          }
        },
        "bcf6d5d94c3c415680afdee1db305a46": {
          "model_module": "@jupyter-widgets/base",
          "model_name": "LayoutModel",
          "state": {
            "_view_name": "LayoutView",
            "grid_template_rows": null,
            "right": null,
            "justify_content": null,
            "_view_module": "@jupyter-widgets/base",
            "overflow": null,
            "_model_module_version": "1.2.0",
            "_view_count": null,
            "flex_flow": null,
            "width": null,
            "min_width": null,
            "border": null,
            "align_items": null,
            "bottom": null,
            "_model_module": "@jupyter-widgets/base",
            "top": null,
            "grid_column": null,
            "overflow_y": null,
            "overflow_x": null,
            "grid_auto_flow": null,
            "grid_area": null,
            "grid_template_columns": null,
            "flex": null,
            "_model_name": "LayoutModel",
            "justify_items": null,
            "grid_row": null,
            "max_height": null,
            "align_content": null,
            "visibility": null,
            "align_self": null,
            "height": null,
            "min_height": null,
            "padding": null,
            "grid_auto_rows": null,
            "grid_gap": null,
            "max_width": null,
            "order": null,
            "_view_module_version": "1.2.0",
            "grid_template_areas": null,
            "object_position": null,
            "object_fit": null,
            "grid_auto_columns": null,
            "margin": null,
            "display": null,
            "left": null
          }
        },
        "074b8d94a2b14921a1e1c6f05bd73150": {
          "model_module": "@jupyter-widgets/controls",
          "model_name": "DescriptionStyleModel",
          "state": {
            "_view_name": "StyleView",
            "_model_name": "DescriptionStyleModel",
            "description_width": "",
            "_view_module": "@jupyter-widgets/base",
            "_model_module_version": "1.5.0",
            "_view_count": null,
            "_view_module_version": "1.2.0",
            "_model_module": "@jupyter-widgets/controls"
          }
        },
        "6fed09e8c1ff49a2b5e963e76117ea6a": {
          "model_module": "@jupyter-widgets/base",
          "model_name": "LayoutModel",
          "state": {
            "_view_name": "LayoutView",
            "grid_template_rows": null,
            "right": null,
            "justify_content": null,
            "_view_module": "@jupyter-widgets/base",
            "overflow": null,
            "_model_module_version": "1.2.0",
            "_view_count": null,
            "flex_flow": null,
            "width": null,
            "min_width": null,
            "border": null,
            "align_items": null,
            "bottom": null,
            "_model_module": "@jupyter-widgets/base",
            "top": null,
            "grid_column": null,
            "overflow_y": null,
            "overflow_x": null,
            "grid_auto_flow": null,
            "grid_area": null,
            "grid_template_columns": null,
            "flex": null,
            "_model_name": "LayoutModel",
            "justify_items": null,
            "grid_row": null,
            "max_height": null,
            "align_content": null,
            "visibility": null,
            "align_self": null,
            "height": null,
            "min_height": null,
            "padding": null,
            "grid_auto_rows": null,
            "grid_gap": null,
            "max_width": null,
            "order": null,
            "_view_module_version": "1.2.0",
            "grid_template_areas": null,
            "object_position": null,
            "object_fit": null,
            "grid_auto_columns": null,
            "margin": null,
            "display": null,
            "left": null
          }
        },
        "5c47217d12fb4b71ad624f1bf0b74496": {
          "model_module": "@jupyter-widgets/controls",
          "model_name": "HBoxModel",
          "state": {
            "_view_name": "HBoxView",
            "_dom_classes": [],
            "_model_name": "HBoxModel",
            "_view_module": "@jupyter-widgets/controls",
            "_model_module_version": "1.5.0",
            "_view_count": null,
            "_view_module_version": "1.5.0",
            "box_style": "",
            "layout": "IPY_MODEL_045406232421494c800cc39fa2bbaab5",
            "_model_module": "@jupyter-widgets/controls",
            "children": [
              "IPY_MODEL_b8532966cc3d4608aebcc50ebb0e95bf",
              "IPY_MODEL_6b860066a8344212ab892c447fea471f"
            ]
          }
        },
        "045406232421494c800cc39fa2bbaab5": {
          "model_module": "@jupyter-widgets/base",
          "model_name": "LayoutModel",
          "state": {
            "_view_name": "LayoutView",
            "grid_template_rows": null,
            "right": null,
            "justify_content": null,
            "_view_module": "@jupyter-widgets/base",
            "overflow": null,
            "_model_module_version": "1.2.0",
            "_view_count": null,
            "flex_flow": null,
            "width": null,
            "min_width": null,
            "border": null,
            "align_items": null,
            "bottom": null,
            "_model_module": "@jupyter-widgets/base",
            "top": null,
            "grid_column": null,
            "overflow_y": null,
            "overflow_x": null,
            "grid_auto_flow": null,
            "grid_area": null,
            "grid_template_columns": null,
            "flex": null,
            "_model_name": "LayoutModel",
            "justify_items": null,
            "grid_row": null,
            "max_height": null,
            "align_content": null,
            "visibility": null,
            "align_self": null,
            "height": null,
            "min_height": null,
            "padding": null,
            "grid_auto_rows": null,
            "grid_gap": null,
            "max_width": null,
            "order": null,
            "_view_module_version": "1.2.0",
            "grid_template_areas": null,
            "object_position": null,
            "object_fit": null,
            "grid_auto_columns": null,
            "margin": null,
            "display": null,
            "left": null
          }
        },
        "b8532966cc3d4608aebcc50ebb0e95bf": {
          "model_module": "@jupyter-widgets/controls",
          "model_name": "FloatProgressModel",
          "state": {
            "_view_name": "ProgressView",
            "style": "IPY_MODEL_6f24a8af8c454e158925c5faa0c42efc",
            "_dom_classes": [],
            "description": "",
            "_model_name": "FloatProgressModel",
            "bar_style": "success",
            "max": 1,
            "_view_module": "@jupyter-widgets/controls",
            "_model_module_version": "1.5.0",
            "value": 1,
            "_view_count": null,
            "_view_module_version": "1.5.0",
            "orientation": "horizontal",
            "min": 0,
            "description_tooltip": null,
            "_model_module": "@jupyter-widgets/controls",
            "layout": "IPY_MODEL_5597f66c445a4f5baf57f0812490a8c3"
          }
        },
        "6b860066a8344212ab892c447fea471f": {
          "model_module": "@jupyter-widgets/controls",
          "model_name": "HTMLModel",
          "state": {
            "_view_name": "HTMLView",
            "style": "IPY_MODEL_c7b76dc4e2df40809b0b1c931b091253",
            "_dom_classes": [],
            "description": "",
            "_model_name": "HTMLModel",
            "placeholder": "​",
            "_view_module": "@jupyter-widgets/controls",
            "_model_module_version": "1.5.0",
            "value": " 8192/? [00:02&lt;00:00, 3988.99it/s]",
            "_view_count": null,
            "_view_module_version": "1.5.0",
            "description_tooltip": null,
            "_model_module": "@jupyter-widgets/controls",
            "layout": "IPY_MODEL_b68d242157ec47e290cf508e1fc5231b"
          }
        },
        "6f24a8af8c454e158925c5faa0c42efc": {
          "model_module": "@jupyter-widgets/controls",
          "model_name": "ProgressStyleModel",
          "state": {
            "_view_name": "StyleView",
            "_model_name": "ProgressStyleModel",
            "description_width": "initial",
            "_view_module": "@jupyter-widgets/base",
            "_model_module_version": "1.5.0",
            "_view_count": null,
            "_view_module_version": "1.2.0",
            "bar_color": null,
            "_model_module": "@jupyter-widgets/controls"
          }
        },
        "5597f66c445a4f5baf57f0812490a8c3": {
          "model_module": "@jupyter-widgets/base",
          "model_name": "LayoutModel",
          "state": {
            "_view_name": "LayoutView",
            "grid_template_rows": null,
            "right": null,
            "justify_content": null,
            "_view_module": "@jupyter-widgets/base",
            "overflow": null,
            "_model_module_version": "1.2.0",
            "_view_count": null,
            "flex_flow": null,
            "width": null,
            "min_width": null,
            "border": null,
            "align_items": null,
            "bottom": null,
            "_model_module": "@jupyter-widgets/base",
            "top": null,
            "grid_column": null,
            "overflow_y": null,
            "overflow_x": null,
            "grid_auto_flow": null,
            "grid_area": null,
            "grid_template_columns": null,
            "flex": null,
            "_model_name": "LayoutModel",
            "justify_items": null,
            "grid_row": null,
            "max_height": null,
            "align_content": null,
            "visibility": null,
            "align_self": null,
            "height": null,
            "min_height": null,
            "padding": null,
            "grid_auto_rows": null,
            "grid_gap": null,
            "max_width": null,
            "order": null,
            "_view_module_version": "1.2.0",
            "grid_template_areas": null,
            "object_position": null,
            "object_fit": null,
            "grid_auto_columns": null,
            "margin": null,
            "display": null,
            "left": null
          }
        },
        "c7b76dc4e2df40809b0b1c931b091253": {
          "model_module": "@jupyter-widgets/controls",
          "model_name": "DescriptionStyleModel",
          "state": {
            "_view_name": "StyleView",
            "_model_name": "DescriptionStyleModel",
            "description_width": "",
            "_view_module": "@jupyter-widgets/base",
            "_model_module_version": "1.5.0",
            "_view_count": null,
            "_view_module_version": "1.2.0",
            "_model_module": "@jupyter-widgets/controls"
          }
        },
        "b68d242157ec47e290cf508e1fc5231b": {
          "model_module": "@jupyter-widgets/base",
          "model_name": "LayoutModel",
          "state": {
            "_view_name": "LayoutView",
            "grid_template_rows": null,
            "right": null,
            "justify_content": null,
            "_view_module": "@jupyter-widgets/base",
            "overflow": null,
            "_model_module_version": "1.2.0",
            "_view_count": null,
            "flex_flow": null,
            "width": null,
            "min_width": null,
            "border": null,
            "align_items": null,
            "bottom": null,
            "_model_module": "@jupyter-widgets/base",
            "top": null,
            "grid_column": null,
            "overflow_y": null,
            "overflow_x": null,
            "grid_auto_flow": null,
            "grid_area": null,
            "grid_template_columns": null,
            "flex": null,
            "_model_name": "LayoutModel",
            "justify_items": null,
            "grid_row": null,
            "max_height": null,
            "align_content": null,
            "visibility": null,
            "align_self": null,
            "height": null,
            "min_height": null,
            "padding": null,
            "grid_auto_rows": null,
            "grid_gap": null,
            "max_width": null,
            "order": null,
            "_view_module_version": "1.2.0",
            "grid_template_areas": null,
            "object_position": null,
            "object_fit": null,
            "grid_auto_columns": null,
            "margin": null,
            "display": null,
            "left": null
          }
        },
        "fc9e7dd5065447fabad24a65a6864589": {
          "model_module": "@jupyter-widgets/controls",
          "model_name": "HBoxModel",
          "state": {
            "_view_name": "HBoxView",
            "_dom_classes": [],
            "_model_name": "HBoxModel",
            "_view_module": "@jupyter-widgets/controls",
            "_model_module_version": "1.5.0",
            "_view_count": null,
            "_view_module_version": "1.5.0",
            "box_style": "",
            "layout": "IPY_MODEL_60f3f21d478e4baaa202448de6b2808f",
            "_model_module": "@jupyter-widgets/controls",
            "children": [
              "IPY_MODEL_56552bddec9c48be9e3f6e7e02bd30f9",
              "IPY_MODEL_6ee8efda9a3d45c781631caae81f58b1"
            ]
          }
        },
        "60f3f21d478e4baaa202448de6b2808f": {
          "model_module": "@jupyter-widgets/base",
          "model_name": "LayoutModel",
          "state": {
            "_view_name": "LayoutView",
            "grid_template_rows": null,
            "right": null,
            "justify_content": null,
            "_view_module": "@jupyter-widgets/base",
            "overflow": null,
            "_model_module_version": "1.2.0",
            "_view_count": null,
            "flex_flow": null,
            "width": null,
            "min_width": null,
            "border": null,
            "align_items": null,
            "bottom": null,
            "_model_module": "@jupyter-widgets/base",
            "top": null,
            "grid_column": null,
            "overflow_y": null,
            "overflow_x": null,
            "grid_auto_flow": null,
            "grid_area": null,
            "grid_template_columns": null,
            "flex": null,
            "_model_name": "LayoutModel",
            "justify_items": null,
            "grid_row": null,
            "max_height": null,
            "align_content": null,
            "visibility": null,
            "align_self": null,
            "height": null,
            "min_height": null,
            "padding": null,
            "grid_auto_rows": null,
            "grid_gap": null,
            "max_width": null,
            "order": null,
            "_view_module_version": "1.2.0",
            "grid_template_areas": null,
            "object_position": null,
            "object_fit": null,
            "grid_auto_columns": null,
            "margin": null,
            "display": null,
            "left": null
          }
        },
        "56552bddec9c48be9e3f6e7e02bd30f9": {
          "model_module": "@jupyter-widgets/controls",
          "model_name": "FloatProgressModel",
          "state": {
            "_view_name": "ProgressView",
            "style": "IPY_MODEL_1503c9b0dc194d6d8ad01b458e7fd3aa",
            "_dom_classes": [],
            "description": "",
            "_model_name": "FloatProgressModel",
            "bar_style": "success",
            "max": 1,
            "_view_module": "@jupyter-widgets/controls",
            "_model_module_version": "1.5.0",
            "value": 1,
            "_view_count": null,
            "_view_module_version": "1.5.0",
            "orientation": "horizontal",
            "min": 0,
            "description_tooltip": null,
            "_model_module": "@jupyter-widgets/controls",
            "layout": "IPY_MODEL_9ec7824719e943308e123e032410a552"
          }
        },
        "6ee8efda9a3d45c781631caae81f58b1": {
          "model_module": "@jupyter-widgets/controls",
          "model_name": "HTMLModel",
          "state": {
            "_view_name": "HTMLView",
            "style": "IPY_MODEL_dd218df51f3b4dea89d648d6d99793fc",
            "_dom_classes": [],
            "description": "",
            "_model_name": "HTMLModel",
            "placeholder": "​",
            "_view_module": "@jupyter-widgets/controls",
            "_model_module_version": "1.5.0",
            "value": " 9920512/? [00:01&lt;00:00, 5743135.56it/s]",
            "_view_count": null,
            "_view_module_version": "1.5.0",
            "description_tooltip": null,
            "_model_module": "@jupyter-widgets/controls",
            "layout": "IPY_MODEL_492fffe037c34897a95230a040d102d2"
          }
        },
        "1503c9b0dc194d6d8ad01b458e7fd3aa": {
          "model_module": "@jupyter-widgets/controls",
          "model_name": "ProgressStyleModel",
          "state": {
            "_view_name": "StyleView",
            "_model_name": "ProgressStyleModel",
            "description_width": "initial",
            "_view_module": "@jupyter-widgets/base",
            "_model_module_version": "1.5.0",
            "_view_count": null,
            "_view_module_version": "1.2.0",
            "bar_color": null,
            "_model_module": "@jupyter-widgets/controls"
          }
        },
        "9ec7824719e943308e123e032410a552": {
          "model_module": "@jupyter-widgets/base",
          "model_name": "LayoutModel",
          "state": {
            "_view_name": "LayoutView",
            "grid_template_rows": null,
            "right": null,
            "justify_content": null,
            "_view_module": "@jupyter-widgets/base",
            "overflow": null,
            "_model_module_version": "1.2.0",
            "_view_count": null,
            "flex_flow": null,
            "width": null,
            "min_width": null,
            "border": null,
            "align_items": null,
            "bottom": null,
            "_model_module": "@jupyter-widgets/base",
            "top": null,
            "grid_column": null,
            "overflow_y": null,
            "overflow_x": null,
            "grid_auto_flow": null,
            "grid_area": null,
            "grid_template_columns": null,
            "flex": null,
            "_model_name": "LayoutModel",
            "justify_items": null,
            "grid_row": null,
            "max_height": null,
            "align_content": null,
            "visibility": null,
            "align_self": null,
            "height": null,
            "min_height": null,
            "padding": null,
            "grid_auto_rows": null,
            "grid_gap": null,
            "max_width": null,
            "order": null,
            "_view_module_version": "1.2.0",
            "grid_template_areas": null,
            "object_position": null,
            "object_fit": null,
            "grid_auto_columns": null,
            "margin": null,
            "display": null,
            "left": null
          }
        },
        "dd218df51f3b4dea89d648d6d99793fc": {
          "model_module": "@jupyter-widgets/controls",
          "model_name": "DescriptionStyleModel",
          "state": {
            "_view_name": "StyleView",
            "_model_name": "DescriptionStyleModel",
            "description_width": "",
            "_view_module": "@jupyter-widgets/base",
            "_model_module_version": "1.5.0",
            "_view_count": null,
            "_view_module_version": "1.2.0",
            "_model_module": "@jupyter-widgets/controls"
          }
        },
        "492fffe037c34897a95230a040d102d2": {
          "model_module": "@jupyter-widgets/base",
          "model_name": "LayoutModel",
          "state": {
            "_view_name": "LayoutView",
            "grid_template_rows": null,
            "right": null,
            "justify_content": null,
            "_view_module": "@jupyter-widgets/base",
            "overflow": null,
            "_model_module_version": "1.2.0",
            "_view_count": null,
            "flex_flow": null,
            "width": null,
            "min_width": null,
            "border": null,
            "align_items": null,
            "bottom": null,
            "_model_module": "@jupyter-widgets/base",
            "top": null,
            "grid_column": null,
            "overflow_y": null,
            "overflow_x": null,
            "grid_auto_flow": null,
            "grid_area": null,
            "grid_template_columns": null,
            "flex": null,
            "_model_name": "LayoutModel",
            "justify_items": null,
            "grid_row": null,
            "max_height": null,
            "align_content": null,
            "visibility": null,
            "align_self": null,
            "height": null,
            "min_height": null,
            "padding": null,
            "grid_auto_rows": null,
            "grid_gap": null,
            "max_width": null,
            "order": null,
            "_view_module_version": "1.2.0",
            "grid_template_areas": null,
            "object_position": null,
            "object_fit": null,
            "grid_auto_columns": null,
            "margin": null,
            "display": null,
            "left": null
          }
        },
        "2901cfeeb59b4680b614daaebe4b54f7": {
          "model_module": "@jupyter-widgets/controls",
          "model_name": "HBoxModel",
          "state": {
            "_view_name": "HBoxView",
            "_dom_classes": [],
            "_model_name": "HBoxModel",
            "_view_module": "@jupyter-widgets/controls",
            "_model_module_version": "1.5.0",
            "_view_count": null,
            "_view_module_version": "1.5.0",
            "box_style": "",
            "layout": "IPY_MODEL_de89abe879104a0dbc3844ed66aa00ac",
            "_model_module": "@jupyter-widgets/controls",
            "children": [
              "IPY_MODEL_3da89ebf2ffd424ea89b47b70eb656ff",
              "IPY_MODEL_f502055c23b049f6bbbfd6b2235528fc"
            ]
          }
        },
        "de89abe879104a0dbc3844ed66aa00ac": {
          "model_module": "@jupyter-widgets/base",
          "model_name": "LayoutModel",
          "state": {
            "_view_name": "LayoutView",
            "grid_template_rows": null,
            "right": null,
            "justify_content": null,
            "_view_module": "@jupyter-widgets/base",
            "overflow": null,
            "_model_module_version": "1.2.0",
            "_view_count": null,
            "flex_flow": null,
            "width": null,
            "min_width": null,
            "border": null,
            "align_items": null,
            "bottom": null,
            "_model_module": "@jupyter-widgets/base",
            "top": null,
            "grid_column": null,
            "overflow_y": null,
            "overflow_x": null,
            "grid_auto_flow": null,
            "grid_area": null,
            "grid_template_columns": null,
            "flex": null,
            "_model_name": "LayoutModel",
            "justify_items": null,
            "grid_row": null,
            "max_height": null,
            "align_content": null,
            "visibility": null,
            "align_self": null,
            "height": null,
            "min_height": null,
            "padding": null,
            "grid_auto_rows": null,
            "grid_gap": null,
            "max_width": null,
            "order": null,
            "_view_module_version": "1.2.0",
            "grid_template_areas": null,
            "object_position": null,
            "object_fit": null,
            "grid_auto_columns": null,
            "margin": null,
            "display": null,
            "left": null
          }
        },
        "3da89ebf2ffd424ea89b47b70eb656ff": {
          "model_module": "@jupyter-widgets/controls",
          "model_name": "FloatProgressModel",
          "state": {
            "_view_name": "ProgressView",
            "style": "IPY_MODEL_ea5f14157a3a4f138da5e0ab4a720a2d",
            "_dom_classes": [],
            "description": "",
            "_model_name": "FloatProgressModel",
            "bar_style": "success",
            "max": 1,
            "_view_module": "@jupyter-widgets/controls",
            "_model_module_version": "1.5.0",
            "value": 1,
            "_view_count": null,
            "_view_module_version": "1.5.0",
            "orientation": "horizontal",
            "min": 0,
            "description_tooltip": null,
            "_model_module": "@jupyter-widgets/controls",
            "layout": "IPY_MODEL_df9c595f0a124872bc7011d708edcdb3"
          }
        },
        "f502055c23b049f6bbbfd6b2235528fc": {
          "model_module": "@jupyter-widgets/controls",
          "model_name": "HTMLModel",
          "state": {
            "_view_name": "HTMLView",
            "style": "IPY_MODEL_3ab70b60e2a947bd80b0cb0f9dbe329a",
            "_dom_classes": [],
            "description": "",
            "_model_name": "HTMLModel",
            "placeholder": "​",
            "_view_module": "@jupyter-widgets/controls",
            "_model_module_version": "1.5.0",
            "value": " 32768/? [00:00&lt;00:00, 112246.74it/s]",
            "_view_count": null,
            "_view_module_version": "1.5.0",
            "description_tooltip": null,
            "_model_module": "@jupyter-widgets/controls",
            "layout": "IPY_MODEL_a07b51f7c81d4c3199b873d9bbbeb828"
          }
        },
        "ea5f14157a3a4f138da5e0ab4a720a2d": {
          "model_module": "@jupyter-widgets/controls",
          "model_name": "ProgressStyleModel",
          "state": {
            "_view_name": "StyleView",
            "_model_name": "ProgressStyleModel",
            "description_width": "initial",
            "_view_module": "@jupyter-widgets/base",
            "_model_module_version": "1.5.0",
            "_view_count": null,
            "_view_module_version": "1.2.0",
            "bar_color": null,
            "_model_module": "@jupyter-widgets/controls"
          }
        },
        "df9c595f0a124872bc7011d708edcdb3": {
          "model_module": "@jupyter-widgets/base",
          "model_name": "LayoutModel",
          "state": {
            "_view_name": "LayoutView",
            "grid_template_rows": null,
            "right": null,
            "justify_content": null,
            "_view_module": "@jupyter-widgets/base",
            "overflow": null,
            "_model_module_version": "1.2.0",
            "_view_count": null,
            "flex_flow": null,
            "width": null,
            "min_width": null,
            "border": null,
            "align_items": null,
            "bottom": null,
            "_model_module": "@jupyter-widgets/base",
            "top": null,
            "grid_column": null,
            "overflow_y": null,
            "overflow_x": null,
            "grid_auto_flow": null,
            "grid_area": null,
            "grid_template_columns": null,
            "flex": null,
            "_model_name": "LayoutModel",
            "justify_items": null,
            "grid_row": null,
            "max_height": null,
            "align_content": null,
            "visibility": null,
            "align_self": null,
            "height": null,
            "min_height": null,
            "padding": null,
            "grid_auto_rows": null,
            "grid_gap": null,
            "max_width": null,
            "order": null,
            "_view_module_version": "1.2.0",
            "grid_template_areas": null,
            "object_position": null,
            "object_fit": null,
            "grid_auto_columns": null,
            "margin": null,
            "display": null,
            "left": null
          }
        },
        "3ab70b60e2a947bd80b0cb0f9dbe329a": {
          "model_module": "@jupyter-widgets/controls",
          "model_name": "DescriptionStyleModel",
          "state": {
            "_view_name": "StyleView",
            "_model_name": "DescriptionStyleModel",
            "description_width": "",
            "_view_module": "@jupyter-widgets/base",
            "_model_module_version": "1.5.0",
            "_view_count": null,
            "_view_module_version": "1.2.0",
            "_model_module": "@jupyter-widgets/controls"
          }
        },
        "a07b51f7c81d4c3199b873d9bbbeb828": {
          "model_module": "@jupyter-widgets/base",
          "model_name": "LayoutModel",
          "state": {
            "_view_name": "LayoutView",
            "grid_template_rows": null,
            "right": null,
            "justify_content": null,
            "_view_module": "@jupyter-widgets/base",
            "overflow": null,
            "_model_module_version": "1.2.0",
            "_view_count": null,
            "flex_flow": null,
            "width": null,
            "min_width": null,
            "border": null,
            "align_items": null,
            "bottom": null,
            "_model_module": "@jupyter-widgets/base",
            "top": null,
            "grid_column": null,
            "overflow_y": null,
            "overflow_x": null,
            "grid_auto_flow": null,
            "grid_area": null,
            "grid_template_columns": null,
            "flex": null,
            "_model_name": "LayoutModel",
            "justify_items": null,
            "grid_row": null,
            "max_height": null,
            "align_content": null,
            "visibility": null,
            "align_self": null,
            "height": null,
            "min_height": null,
            "padding": null,
            "grid_auto_rows": null,
            "grid_gap": null,
            "max_width": null,
            "order": null,
            "_view_module_version": "1.2.0",
            "grid_template_areas": null,
            "object_position": null,
            "object_fit": null,
            "grid_auto_columns": null,
            "margin": null,
            "display": null,
            "left": null
          }
        },
        "3f74c6b5ab634250b39a40a2f1aed73d": {
          "model_module": "@jupyter-widgets/controls",
          "model_name": "HBoxModel",
          "state": {
            "_view_name": "HBoxView",
            "_dom_classes": [],
            "_model_name": "HBoxModel",
            "_view_module": "@jupyter-widgets/controls",
            "_model_module_version": "1.5.0",
            "_view_count": null,
            "_view_module_version": "1.5.0",
            "box_style": "",
            "layout": "IPY_MODEL_d53ea763077246c99d25dd8eac3a2434",
            "_model_module": "@jupyter-widgets/controls",
            "children": [
              "IPY_MODEL_0aa77ccab4644dc5ab217bb9c9a6bd5a",
              "IPY_MODEL_ccaa5bc287594f85ae73150b97909917"
            ]
          }
        },
        "d53ea763077246c99d25dd8eac3a2434": {
          "model_module": "@jupyter-widgets/base",
          "model_name": "LayoutModel",
          "state": {
            "_view_name": "LayoutView",
            "grid_template_rows": null,
            "right": null,
            "justify_content": null,
            "_view_module": "@jupyter-widgets/base",
            "overflow": null,
            "_model_module_version": "1.2.0",
            "_view_count": null,
            "flex_flow": null,
            "width": null,
            "min_width": null,
            "border": null,
            "align_items": null,
            "bottom": null,
            "_model_module": "@jupyter-widgets/base",
            "top": null,
            "grid_column": null,
            "overflow_y": null,
            "overflow_x": null,
            "grid_auto_flow": null,
            "grid_area": null,
            "grid_template_columns": null,
            "flex": null,
            "_model_name": "LayoutModel",
            "justify_items": null,
            "grid_row": null,
            "max_height": null,
            "align_content": null,
            "visibility": null,
            "align_self": null,
            "height": null,
            "min_height": null,
            "padding": null,
            "grid_auto_rows": null,
            "grid_gap": null,
            "max_width": null,
            "order": null,
            "_view_module_version": "1.2.0",
            "grid_template_areas": null,
            "object_position": null,
            "object_fit": null,
            "grid_auto_columns": null,
            "margin": null,
            "display": null,
            "left": null
          }
        },
        "0aa77ccab4644dc5ab217bb9c9a6bd5a": {
          "model_module": "@jupyter-widgets/controls",
          "model_name": "FloatProgressModel",
          "state": {
            "_view_name": "ProgressView",
            "style": "IPY_MODEL_ca4f4fa8d8114683ab9caa761220a32a",
            "_dom_classes": [],
            "description": "",
            "_model_name": "FloatProgressModel",
            "bar_style": "success",
            "max": 1,
            "_view_module": "@jupyter-widgets/controls",
            "_model_module_version": "1.5.0",
            "value": 1,
            "_view_count": null,
            "_view_module_version": "1.5.0",
            "orientation": "horizontal",
            "min": 0,
            "description_tooltip": null,
            "_model_module": "@jupyter-widgets/controls",
            "layout": "IPY_MODEL_c6fbdb32f7394ed2bd95e9612ea7594c"
          }
        },
        "ccaa5bc287594f85ae73150b97909917": {
          "model_module": "@jupyter-widgets/controls",
          "model_name": "HTMLModel",
          "state": {
            "_view_name": "HTMLView",
            "style": "IPY_MODEL_027c6a31ff424d7da0fb9e44604eb4c7",
            "_dom_classes": [],
            "description": "",
            "_model_name": "HTMLModel",
            "placeholder": "​",
            "_view_module": "@jupyter-widgets/controls",
            "_model_module_version": "1.5.0",
            "value": " 1654784/? [00:04&lt;00:00, 359750.04it/s]",
            "_view_count": null,
            "_view_module_version": "1.5.0",
            "description_tooltip": null,
            "_model_module": "@jupyter-widgets/controls",
            "layout": "IPY_MODEL_8539775f46d44533ad06306d7c68fbba"
          }
        },
        "ca4f4fa8d8114683ab9caa761220a32a": {
          "model_module": "@jupyter-widgets/controls",
          "model_name": "ProgressStyleModel",
          "state": {
            "_view_name": "StyleView",
            "_model_name": "ProgressStyleModel",
            "description_width": "initial",
            "_view_module": "@jupyter-widgets/base",
            "_model_module_version": "1.5.0",
            "_view_count": null,
            "_view_module_version": "1.2.0",
            "bar_color": null,
            "_model_module": "@jupyter-widgets/controls"
          }
        },
        "c6fbdb32f7394ed2bd95e9612ea7594c": {
          "model_module": "@jupyter-widgets/base",
          "model_name": "LayoutModel",
          "state": {
            "_view_name": "LayoutView",
            "grid_template_rows": null,
            "right": null,
            "justify_content": null,
            "_view_module": "@jupyter-widgets/base",
            "overflow": null,
            "_model_module_version": "1.2.0",
            "_view_count": null,
            "flex_flow": null,
            "width": null,
            "min_width": null,
            "border": null,
            "align_items": null,
            "bottom": null,
            "_model_module": "@jupyter-widgets/base",
            "top": null,
            "grid_column": null,
            "overflow_y": null,
            "overflow_x": null,
            "grid_auto_flow": null,
            "grid_area": null,
            "grid_template_columns": null,
            "flex": null,
            "_model_name": "LayoutModel",
            "justify_items": null,
            "grid_row": null,
            "max_height": null,
            "align_content": null,
            "visibility": null,
            "align_self": null,
            "height": null,
            "min_height": null,
            "padding": null,
            "grid_auto_rows": null,
            "grid_gap": null,
            "max_width": null,
            "order": null,
            "_view_module_version": "1.2.0",
            "grid_template_areas": null,
            "object_position": null,
            "object_fit": null,
            "grid_auto_columns": null,
            "margin": null,
            "display": null,
            "left": null
          }
        },
        "027c6a31ff424d7da0fb9e44604eb4c7": {
          "model_module": "@jupyter-widgets/controls",
          "model_name": "DescriptionStyleModel",
          "state": {
            "_view_name": "StyleView",
            "_model_name": "DescriptionStyleModel",
            "description_width": "",
            "_view_module": "@jupyter-widgets/base",
            "_model_module_version": "1.5.0",
            "_view_count": null,
            "_view_module_version": "1.2.0",
            "_model_module": "@jupyter-widgets/controls"
          }
        },
        "8539775f46d44533ad06306d7c68fbba": {
          "model_module": "@jupyter-widgets/base",
          "model_name": "LayoutModel",
          "state": {
            "_view_name": "LayoutView",
            "grid_template_rows": null,
            "right": null,
            "justify_content": null,
            "_view_module": "@jupyter-widgets/base",
            "overflow": null,
            "_model_module_version": "1.2.0",
            "_view_count": null,
            "flex_flow": null,
            "width": null,
            "min_width": null,
            "border": null,
            "align_items": null,
            "bottom": null,
            "_model_module": "@jupyter-widgets/base",
            "top": null,
            "grid_column": null,
            "overflow_y": null,
            "overflow_x": null,
            "grid_auto_flow": null,
            "grid_area": null,
            "grid_template_columns": null,
            "flex": null,
            "_model_name": "LayoutModel",
            "justify_items": null,
            "grid_row": null,
            "max_height": null,
            "align_content": null,
            "visibility": null,
            "align_self": null,
            "height": null,
            "min_height": null,
            "padding": null,
            "grid_auto_rows": null,
            "grid_gap": null,
            "max_width": null,
            "order": null,
            "_view_module_version": "1.2.0",
            "grid_template_areas": null,
            "object_position": null,
            "object_fit": null,
            "grid_auto_columns": null,
            "margin": null,
            "display": null,
            "left": null
          }
        },
        "79a0064bbaf64fa4a68db4e69531d8e6": {
          "model_module": "@jupyter-widgets/controls",
          "model_name": "HBoxModel",
          "state": {
            "_view_name": "HBoxView",
            "_dom_classes": [],
            "_model_name": "HBoxModel",
            "_view_module": "@jupyter-widgets/controls",
            "_model_module_version": "1.5.0",
            "_view_count": null,
            "_view_module_version": "1.5.0",
            "box_style": "",
            "layout": "IPY_MODEL_b1f68c7a04d84f5dacebe1d8fa9cf9bd",
            "_model_module": "@jupyter-widgets/controls",
            "children": [
              "IPY_MODEL_c1204a67634f4ecc9b309dea2b8a9988",
              "IPY_MODEL_49297985585d4f8097bca0099c2b89b2"
            ]
          }
        },
        "b1f68c7a04d84f5dacebe1d8fa9cf9bd": {
          "model_module": "@jupyter-widgets/base",
          "model_name": "LayoutModel",
          "state": {
            "_view_name": "LayoutView",
            "grid_template_rows": null,
            "right": null,
            "justify_content": null,
            "_view_module": "@jupyter-widgets/base",
            "overflow": null,
            "_model_module_version": "1.2.0",
            "_view_count": null,
            "flex_flow": null,
            "width": null,
            "min_width": null,
            "border": null,
            "align_items": null,
            "bottom": null,
            "_model_module": "@jupyter-widgets/base",
            "top": null,
            "grid_column": null,
            "overflow_y": null,
            "overflow_x": null,
            "grid_auto_flow": null,
            "grid_area": null,
            "grid_template_columns": null,
            "flex": null,
            "_model_name": "LayoutModel",
            "justify_items": null,
            "grid_row": null,
            "max_height": null,
            "align_content": null,
            "visibility": null,
            "align_self": null,
            "height": null,
            "min_height": null,
            "padding": null,
            "grid_auto_rows": null,
            "grid_gap": null,
            "max_width": null,
            "order": null,
            "_view_module_version": "1.2.0",
            "grid_template_areas": null,
            "object_position": null,
            "object_fit": null,
            "grid_auto_columns": null,
            "margin": null,
            "display": null,
            "left": null
          }
        },
        "c1204a67634f4ecc9b309dea2b8a9988": {
          "model_module": "@jupyter-widgets/controls",
          "model_name": "FloatProgressModel",
          "state": {
            "_view_name": "ProgressView",
            "style": "IPY_MODEL_27551ff2cf994731aaa1523c5ac4f833",
            "_dom_classes": [],
            "description": "",
            "_model_name": "FloatProgressModel",
            "bar_style": "success",
            "max": 1,
            "_view_module": "@jupyter-widgets/controls",
            "_model_module_version": "1.5.0",
            "value": 1,
            "_view_count": null,
            "_view_module_version": "1.5.0",
            "orientation": "horizontal",
            "min": 0,
            "description_tooltip": null,
            "_model_module": "@jupyter-widgets/controls",
            "layout": "IPY_MODEL_1c2895a00a3e402f92c931cee3925491"
          }
        },
        "49297985585d4f8097bca0099c2b89b2": {
          "model_module": "@jupyter-widgets/controls",
          "model_name": "HTMLModel",
          "state": {
            "_view_name": "HTMLView",
            "style": "IPY_MODEL_6d7467574e6f4c40b54d33eb1d8968d2",
            "_dom_classes": [],
            "description": "",
            "_model_name": "HTMLModel",
            "placeholder": "​",
            "_view_module": "@jupyter-widgets/controls",
            "_model_module_version": "1.5.0",
            "value": " 8192/? [00:03&lt;00:00, 2183.44it/s]",
            "_view_count": null,
            "_view_module_version": "1.5.0",
            "description_tooltip": null,
            "_model_module": "@jupyter-widgets/controls",
            "layout": "IPY_MODEL_df2ff1b2d0a745a3b26c85dfb2ffcd42"
          }
        },
        "27551ff2cf994731aaa1523c5ac4f833": {
          "model_module": "@jupyter-widgets/controls",
          "model_name": "ProgressStyleModel",
          "state": {
            "_view_name": "StyleView",
            "_model_name": "ProgressStyleModel",
            "description_width": "initial",
            "_view_module": "@jupyter-widgets/base",
            "_model_module_version": "1.5.0",
            "_view_count": null,
            "_view_module_version": "1.2.0",
            "bar_color": null,
            "_model_module": "@jupyter-widgets/controls"
          }
        },
        "1c2895a00a3e402f92c931cee3925491": {
          "model_module": "@jupyter-widgets/base",
          "model_name": "LayoutModel",
          "state": {
            "_view_name": "LayoutView",
            "grid_template_rows": null,
            "right": null,
            "justify_content": null,
            "_view_module": "@jupyter-widgets/base",
            "overflow": null,
            "_model_module_version": "1.2.0",
            "_view_count": null,
            "flex_flow": null,
            "width": null,
            "min_width": null,
            "border": null,
            "align_items": null,
            "bottom": null,
            "_model_module": "@jupyter-widgets/base",
            "top": null,
            "grid_column": null,
            "overflow_y": null,
            "overflow_x": null,
            "grid_auto_flow": null,
            "grid_area": null,
            "grid_template_columns": null,
            "flex": null,
            "_model_name": "LayoutModel",
            "justify_items": null,
            "grid_row": null,
            "max_height": null,
            "align_content": null,
            "visibility": null,
            "align_self": null,
            "height": null,
            "min_height": null,
            "padding": null,
            "grid_auto_rows": null,
            "grid_gap": null,
            "max_width": null,
            "order": null,
            "_view_module_version": "1.2.0",
            "grid_template_areas": null,
            "object_position": null,
            "object_fit": null,
            "grid_auto_columns": null,
            "margin": null,
            "display": null,
            "left": null
          }
        },
        "6d7467574e6f4c40b54d33eb1d8968d2": {
          "model_module": "@jupyter-widgets/controls",
          "model_name": "DescriptionStyleModel",
          "state": {
            "_view_name": "StyleView",
            "_model_name": "DescriptionStyleModel",
            "description_width": "",
            "_view_module": "@jupyter-widgets/base",
            "_model_module_version": "1.5.0",
            "_view_count": null,
            "_view_module_version": "1.2.0",
            "_model_module": "@jupyter-widgets/controls"
          }
        },
        "df2ff1b2d0a745a3b26c85dfb2ffcd42": {
          "model_module": "@jupyter-widgets/base",
          "model_name": "LayoutModel",
          "state": {
            "_view_name": "LayoutView",
            "grid_template_rows": null,
            "right": null,
            "justify_content": null,
            "_view_module": "@jupyter-widgets/base",
            "overflow": null,
            "_model_module_version": "1.2.0",
            "_view_count": null,
            "flex_flow": null,
            "width": null,
            "min_width": null,
            "border": null,
            "align_items": null,
            "bottom": null,
            "_model_module": "@jupyter-widgets/base",
            "top": null,
            "grid_column": null,
            "overflow_y": null,
            "overflow_x": null,
            "grid_auto_flow": null,
            "grid_area": null,
            "grid_template_columns": null,
            "flex": null,
            "_model_name": "LayoutModel",
            "justify_items": null,
            "grid_row": null,
            "max_height": null,
            "align_content": null,
            "visibility": null,
            "align_self": null,
            "height": null,
            "min_height": null,
            "padding": null,
            "grid_auto_rows": null,
            "grid_gap": null,
            "max_width": null,
            "order": null,
            "_view_module_version": "1.2.0",
            "grid_template_areas": null,
            "object_position": null,
            "object_fit": null,
            "grid_auto_columns": null,
            "margin": null,
            "display": null,
            "left": null
          }
        }
      }
    }
  },
  "cells": [
    {
      "cell_type": "markdown",
      "metadata": {
        "id": "view-in-github",
        "colab_type": "text"
      },
      "source": [
        "<a href=\"https://colab.research.google.com/github/ayushm-agrawal/Federated-Learning-Implementations/blob/master/FedProx.ipynb\" target=\"_parent\"><img src=\"https://colab.research.google.com/assets/colab-badge.svg\" alt=\"Open In Colab\"/></a>"
      ]
    },
    {
      "cell_type": "code",
      "metadata": {
        "id": "u2iSYH27XY_E",
        "colab_type": "code",
        "colab": {
          "base_uri": "https://localhost:8080/",
          "height": 357
        },
        "outputId": "8a7bec85-c52a-4a7d-c975-dc1d434c725a"
      },
      "source": [
        "%load_ext tensorboard\n",
        "import os\n",
        "import numpy as np\n",
        "import matplotlib.pyplot as plt\n",
        "import copy\n",
        "import time\n",
        "import random\n",
        "\n",
        "import torch\n",
        "import torch.nn as nn\n",
        "import torch.nn.functional as F\n",
        "\n",
        "from torch.utils.data import Dataset, DataLoader\n",
        "from torch.utils.tensorboard import SummaryWriter\n",
        "from torchvision import transforms, utils, datasets\n",
        "from torchsummary import summary\n",
        "\n",
        "\n",
        "# Check assigned GPU\n",
        "gpu_info = !nvidia-smi\n",
        "gpu_info = '\\n'.join(gpu_info)\n",
        "if gpu_info.find('failed') >= 0:\n",
        "  print('Select the Runtime > \"Change runtime type\" menu to enable a GPU accelerator, ')\n",
        "  print('and then re-execute this cell.')\n",
        "else:\n",
        "  print(gpu_info)\n",
        "\n",
        "\n",
        "# set manual seed for reproducibility\n",
        "seed = 42\n",
        "\n",
        "# general reproducibility\n",
        "random.seed(seed)\n",
        "np.random.seed(seed)\n",
        "torch.manual_seed(seed)\n",
        "\n",
        "# gpu training specific\n",
        "torch.backends.cudnn.deterministic = True\n",
        "torch.backends.cudnn.benchmark = False"
      ],
      "execution_count": 1,
      "outputs": [
        {
          "output_type": "stream",
          "text": [
            "Sat Jul 25 09:47:24 2020       \n",
            "+-----------------------------------------------------------------------------+\n",
            "| NVIDIA-SMI 450.51.05    Driver Version: 418.67       CUDA Version: 10.1     |\n",
            "|-------------------------------+----------------------+----------------------+\n",
            "| GPU  Name        Persistence-M| Bus-Id        Disp.A | Volatile Uncorr. ECC |\n",
            "| Fan  Temp  Perf  Pwr:Usage/Cap|         Memory-Usage | GPU-Util  Compute M. |\n",
            "|                               |                      |               MIG M. |\n",
            "|===============================+======================+======================|\n",
            "|   0  Tesla P100-PCIE...  Off  | 00000000:00:04.0 Off |                    0 |\n",
            "| N/A   34C    P0    26W / 250W |      0MiB / 16280MiB |      0%      Default |\n",
            "|                               |                      |                 ERR! |\n",
            "+-------------------------------+----------------------+----------------------+\n",
            "                                                                               \n",
            "+-----------------------------------------------------------------------------+\n",
            "| Processes:                                                                  |\n",
            "|  GPU   GI   CI        PID   Type   Process name                  GPU Memory |\n",
            "|        ID   ID                                                   Usage      |\n",
            "|=============================================================================|\n",
            "|  No running processes found                                                 |\n",
            "+-----------------------------------------------------------------------------+\n"
          ],
          "name": "stdout"
        }
      ]
    },
    {
      "cell_type": "markdown",
      "metadata": {
        "id": "NY4eWzGiL6Mj",
        "colab_type": "text"
      },
      "source": [
        "## Load the MNIST Dataset"
      ]
    },
    {
      "cell_type": "code",
      "metadata": {
        "id": "G649tjTXLL8F",
        "colab_type": "code",
        "colab": {
          "base_uri": "https://localhost:8080/",
          "height": 718,
          "referenced_widgets": [
            "570c875765ff4c89ae3fe70a71256106",
            "0c2705f13f274bb1a6210258077ebd74",
            "c48421d5490a415696220ddcae61eb7b",
            "b99bc838b93a4279bbfae354f0675937",
            "fbc15a14f2a84172aba4acec49df4ed7",
            "b191af7beaa949a09d200c889090e468",
            "703f320bf2db4d98a6a6891762402dc8",
            "5b498b485c634e3a97f97432cb342596",
            "fac0180c29c0418abe04fdbf1e63760f",
            "ab0f617956b841d8a0a3593aa71f4e51",
            "822ecfa31351416b9cbbf797d2d87376",
            "8f19808b428c4755b8ae102236975635",
            "27d497fe1ecb413c9d67cc6fe2110077",
            "731563f9d0f147519d9da97ee61ef7bc",
            "57884d145c354f6494401c444f56a767",
            "814bb712b3c048c7b120e33092cb407c",
            "94b7ec756bd447a6a4360780a05a7865",
            "401d097d077f49d8b52fe4a04778d8fb",
            "c2fe227cf39642f99369b21875dc9c40",
            "4847800eba264fa0bdaaf6d5be08a7a5",
            "04e45ddf6f094caaaf5705f23574d93a",
            "bcf6d5d94c3c415680afdee1db305a46",
            "074b8d94a2b14921a1e1c6f05bd73150",
            "6fed09e8c1ff49a2b5e963e76117ea6a",
            "5c47217d12fb4b71ad624f1bf0b74496",
            "045406232421494c800cc39fa2bbaab5",
            "b8532966cc3d4608aebcc50ebb0e95bf",
            "6b860066a8344212ab892c447fea471f",
            "6f24a8af8c454e158925c5faa0c42efc",
            "5597f66c445a4f5baf57f0812490a8c3",
            "c7b76dc4e2df40809b0b1c931b091253",
            "b68d242157ec47e290cf508e1fc5231b",
            "fc9e7dd5065447fabad24a65a6864589",
            "60f3f21d478e4baaa202448de6b2808f",
            "56552bddec9c48be9e3f6e7e02bd30f9",
            "6ee8efda9a3d45c781631caae81f58b1",
            "1503c9b0dc194d6d8ad01b458e7fd3aa",
            "9ec7824719e943308e123e032410a552",
            "dd218df51f3b4dea89d648d6d99793fc",
            "492fffe037c34897a95230a040d102d2",
            "2901cfeeb59b4680b614daaebe4b54f7",
            "de89abe879104a0dbc3844ed66aa00ac",
            "3da89ebf2ffd424ea89b47b70eb656ff",
            "f502055c23b049f6bbbfd6b2235528fc",
            "ea5f14157a3a4f138da5e0ab4a720a2d",
            "df9c595f0a124872bc7011d708edcdb3",
            "3ab70b60e2a947bd80b0cb0f9dbe329a",
            "a07b51f7c81d4c3199b873d9bbbeb828",
            "3f74c6b5ab634250b39a40a2f1aed73d",
            "d53ea763077246c99d25dd8eac3a2434",
            "0aa77ccab4644dc5ab217bb9c9a6bd5a",
            "ccaa5bc287594f85ae73150b97909917",
            "ca4f4fa8d8114683ab9caa761220a32a",
            "c6fbdb32f7394ed2bd95e9612ea7594c",
            "027c6a31ff424d7da0fb9e44604eb4c7",
            "8539775f46d44533ad06306d7c68fbba",
            "79a0064bbaf64fa4a68db4e69531d8e6",
            "b1f68c7a04d84f5dacebe1d8fa9cf9bd",
            "c1204a67634f4ecc9b309dea2b8a9988",
            "49297985585d4f8097bca0099c2b89b2",
            "27551ff2cf994731aaa1523c5ac4f833",
            "1c2895a00a3e402f92c931cee3925491",
            "6d7467574e6f4c40b54d33eb1d8968d2",
            "df2ff1b2d0a745a3b26c85dfb2ffcd42"
          ]
        },
        "outputId": "6caa7a23-1a74-4a22-d016-54750db6057f"
      },
      "source": [
        "# create transforms\n",
        "# We will just convert to tensor and normalize since no special transforms are mentioned in the paper\n",
        "transforms_mnist = transforms.Compose([\n",
        "                                       transforms.ToTensor(),\n",
        "                                       transforms.Normalize((0.1307,), (0.3081,))\n",
        "                                       ])\n",
        "\n",
        "mnist_data_train = datasets.MNIST('./data/mnist/', train=True, download=True, transform=transforms_mnist)\n",
        "mnist_data_test = datasets.MNIST('../data/mnist/', train=False, download=True, transform=transforms_mnist)"
      ],
      "execution_count": 2,
      "outputs": [
        {
          "output_type": "stream",
          "text": [
            "Downloading http://yann.lecun.com/exdb/mnist/train-images-idx3-ubyte.gz to ./data/mnist/MNIST/raw/train-images-idx3-ubyte.gz\n"
          ],
          "name": "stdout"
        },
        {
          "output_type": "display_data",
          "data": {
            "application/vnd.jupyter.widget-view+json": {
              "model_id": "570c875765ff4c89ae3fe70a71256106",
              "version_minor": 0,
              "version_major": 2
            },
            "text/plain": [
              "HBox(children=(FloatProgress(value=1.0, bar_style='info', max=1.0), HTML(value='')))"
            ]
          },
          "metadata": {
            "tags": []
          }
        },
        {
          "output_type": "stream",
          "text": [
            "Extracting ./data/mnist/MNIST/raw/train-images-idx3-ubyte.gz to ./data/mnist/MNIST/raw\n",
            "Downloading http://yann.lecun.com/exdb/mnist/train-labels-idx1-ubyte.gz to ./data/mnist/MNIST/raw/train-labels-idx1-ubyte.gz\n"
          ],
          "name": "stdout"
        },
        {
          "output_type": "display_data",
          "data": {
            "application/vnd.jupyter.widget-view+json": {
              "model_id": "fac0180c29c0418abe04fdbf1e63760f",
              "version_minor": 0,
              "version_major": 2
            },
            "text/plain": [
              "HBox(children=(FloatProgress(value=1.0, bar_style='info', max=1.0), HTML(value='')))"
            ]
          },
          "metadata": {
            "tags": []
          }
        },
        {
          "output_type": "stream",
          "text": [
            "Extracting ./data/mnist/MNIST/raw/train-labels-idx1-ubyte.gz to ./data/mnist/MNIST/raw\n",
            "Downloading http://yann.lecun.com/exdb/mnist/t10k-images-idx3-ubyte.gz to ./data/mnist/MNIST/raw/t10k-images-idx3-ubyte.gz\n",
            "\n"
          ],
          "name": "stdout"
        },
        {
          "output_type": "display_data",
          "data": {
            "application/vnd.jupyter.widget-view+json": {
              "model_id": "94b7ec756bd447a6a4360780a05a7865",
              "version_minor": 0,
              "version_major": 2
            },
            "text/plain": [
              "HBox(children=(FloatProgress(value=1.0, bar_style='info', max=1.0), HTML(value='')))"
            ]
          },
          "metadata": {
            "tags": []
          }
        },
        {
          "output_type": "stream",
          "text": [
            "Extracting ./data/mnist/MNIST/raw/t10k-images-idx3-ubyte.gz to ./data/mnist/MNIST/raw\n",
            "Downloading http://yann.lecun.com/exdb/mnist/t10k-labels-idx1-ubyte.gz to ./data/mnist/MNIST/raw/t10k-labels-idx1-ubyte.gz\n"
          ],
          "name": "stdout"
        },
        {
          "output_type": "display_data",
          "data": {
            "application/vnd.jupyter.widget-view+json": {
              "model_id": "5c47217d12fb4b71ad624f1bf0b74496",
              "version_minor": 0,
              "version_major": 2
            },
            "text/plain": [
              "HBox(children=(FloatProgress(value=1.0, bar_style='info', max=1.0), HTML(value='')))"
            ]
          },
          "metadata": {
            "tags": []
          }
        },
        {
          "output_type": "stream",
          "text": [
            "Extracting ./data/mnist/MNIST/raw/t10k-labels-idx1-ubyte.gz to ./data/mnist/MNIST/raw\n",
            "Processing...\n",
            "Done!\n",
            "Downloading http://yann.lecun.com/exdb/mnist/train-images-idx3-ubyte.gz to ../data/mnist/MNIST/raw/train-images-idx3-ubyte.gz\n"
          ],
          "name": "stdout"
        },
        {
          "output_type": "stream",
          "text": [
            "/pytorch/torch/csrc/utils/tensor_numpy.cpp:141: UserWarning: The given NumPy array is not writeable, and PyTorch does not support non-writeable tensors. This means you can write to the underlying (supposedly non-writeable) NumPy array using the tensor. You may want to copy the array to protect its data or make it writeable before converting it to a tensor. This type of warning will be suppressed for the rest of this program.\n"
          ],
          "name": "stderr"
        },
        {
          "output_type": "display_data",
          "data": {
            "application/vnd.jupyter.widget-view+json": {
              "model_id": "fc9e7dd5065447fabad24a65a6864589",
              "version_minor": 0,
              "version_major": 2
            },
            "text/plain": [
              "HBox(children=(FloatProgress(value=1.0, bar_style='info', max=1.0), HTML(value='')))"
            ]
          },
          "metadata": {
            "tags": []
          }
        },
        {
          "output_type": "stream",
          "text": [
            "Extracting ../data/mnist/MNIST/raw/train-images-idx3-ubyte.gz to ../data/mnist/MNIST/raw\n",
            "Downloading http://yann.lecun.com/exdb/mnist/train-labels-idx1-ubyte.gz to ../data/mnist/MNIST/raw/train-labels-idx1-ubyte.gz\n"
          ],
          "name": "stdout"
        },
        {
          "output_type": "display_data",
          "data": {
            "application/vnd.jupyter.widget-view+json": {
              "model_id": "2901cfeeb59b4680b614daaebe4b54f7",
              "version_minor": 0,
              "version_major": 2
            },
            "text/plain": [
              "HBox(children=(FloatProgress(value=1.0, bar_style='info', max=1.0), HTML(value='')))"
            ]
          },
          "metadata": {
            "tags": []
          }
        },
        {
          "output_type": "stream",
          "text": [
            "Extracting ../data/mnist/MNIST/raw/train-labels-idx1-ubyte.gz to ../data/mnist/MNIST/raw\n",
            "Downloading http://yann.lecun.com/exdb/mnist/t10k-images-idx3-ubyte.gz to ../data/mnist/MNIST/raw/t10k-images-idx3-ubyte.gz\n",
            "\n",
            "\n",
            "\n"
          ],
          "name": "stdout"
        },
        {
          "output_type": "display_data",
          "data": {
            "application/vnd.jupyter.widget-view+json": {
              "model_id": "3f74c6b5ab634250b39a40a2f1aed73d",
              "version_minor": 0,
              "version_major": 2
            },
            "text/plain": [
              "HBox(children=(FloatProgress(value=1.0, bar_style='info', max=1.0), HTML(value='')))"
            ]
          },
          "metadata": {
            "tags": []
          }
        },
        {
          "output_type": "stream",
          "text": [
            "Extracting ../data/mnist/MNIST/raw/t10k-images-idx3-ubyte.gz to ../data/mnist/MNIST/raw\n",
            "Downloading http://yann.lecun.com/exdb/mnist/t10k-labels-idx1-ubyte.gz to ../data/mnist/MNIST/raw/t10k-labels-idx1-ubyte.gz\n"
          ],
          "name": "stdout"
        },
        {
          "output_type": "display_data",
          "data": {
            "application/vnd.jupyter.widget-view+json": {
              "model_id": "79a0064bbaf64fa4a68db4e69531d8e6",
              "version_minor": 0,
              "version_major": 2
            },
            "text/plain": [
              "HBox(children=(FloatProgress(value=1.0, bar_style='info', max=1.0), HTML(value='')))"
            ]
          },
          "metadata": {
            "tags": []
          }
        },
        {
          "output_type": "stream",
          "text": [
            "Extracting ../data/mnist/MNIST/raw/t10k-labels-idx1-ubyte.gz to ../data/mnist/MNIST/raw\n",
            "Processing...\n",
            "Done!\n"
          ],
          "name": "stdout"
        }
      ]
    },
    {
      "cell_type": "code",
      "metadata": {
        "id": "dm9usjn2vFkL",
        "colab_type": "code",
        "colab": {
          "base_uri": "https://localhost:8080/",
          "height": 51
        },
        "outputId": "a45bb870-3ef5-4132-c8f3-ad77aa92c80a"
      },
      "source": [
        "classes = np.array(list(mnist_data_train.class_to_idx.values()))\n",
        "classes_test = np.array(list(mnist_data_test.class_to_idx.values()))\n",
        "num_classes = len(classes_test)\n",
        "print(\"Classes: {} \\tType: {}\".format(classes, type(classes)))\n",
        "print(\"Classes Test: {} \\tType: {}\".format(classes_test, type(classes)))\n"
      ],
      "execution_count": 3,
      "outputs": [
        {
          "output_type": "stream",
          "text": [
            "Classes: [0 1 2 3 4 5 6 7 8 9] \tType: <class 'numpy.ndarray'>\n",
            "Classes Test: [0 1 2 3 4 5 6 7 8 9] \tType: <class 'numpy.ndarray'>\n"
          ],
          "name": "stdout"
        }
      ]
    },
    {
      "cell_type": "code",
      "metadata": {
        "id": "9lvJt3Ofv2SO",
        "colab_type": "code",
        "colab": {
          "base_uri": "https://localhost:8080/",
          "height": 34
        },
        "outputId": "45b0ecd9-0f01-42b1-8083-848bd5c48501"
      },
      "source": [
        "print(\"Image Shape: {}\".format(mnist_data_train.data[0].size()))"
      ],
      "execution_count": 4,
      "outputs": [
        {
          "output_type": "stream",
          "text": [
            "Image Shape: torch.Size([28, 28])\n"
          ],
          "name": "stdout"
        }
      ]
    },
    {
      "cell_type": "markdown",
      "metadata": {
        "id": "jCOONkg-zV7Y",
        "colab_type": "text"
      },
      "source": [
        "## Visualize Data"
      ]
    },
    {
      "cell_type": "code",
      "metadata": {
        "id": "R9MK03TZw6Qs",
        "colab_type": "code",
        "colab": {}
      },
      "source": [
        "def imshow(img):\n",
        "\timg = img/2 + 0.5 #unnormalize the image\n",
        "\tplt.imshow(img, cmap='gray') # convert from tensor to image"
      ],
      "execution_count": 5,
      "outputs": []
    },
    {
      "cell_type": "code",
      "metadata": {
        "id": "gMJ0Kx4Kw-_H",
        "colab_type": "code",
        "colab": {}
      },
      "source": [
        "def visualize(dataset):\n",
        "  figure = plt.figure(figsize=(25,4))\n",
        "  for i in range(20):\n",
        "    axis = figure.add_subplot(2, 20/2, i+1, xticks=[], yticks=[])\n",
        "    data = dataset.data[i]\n",
        "    data = data.numpy()\n",
        "\n",
        "    target = dataset.targets[i]\n",
        "    target = target.numpy()\n",
        "    imshow(data)\n",
        "    axis.set_title(target)\n"
      ],
      "execution_count": 6,
      "outputs": []
    },
    {
      "cell_type": "code",
      "metadata": {
        "id": "8bPOwKg10Ro7",
        "colab_type": "code",
        "colab": {
          "base_uri": "https://localhost:8080/",
          "height": 336
        },
        "outputId": "9757cb10-de8e-4aa8-b886-3c82373d4915"
      },
      "source": [
        "visualize(mnist_data_train)"
      ],
      "execution_count": 7,
      "outputs": [
        {
          "output_type": "stream",
          "text": [
            "\n",
            "\n",
            "\n",
            "\n"
          ],
          "name": "stdout"
        },
        {
          "output_type": "display_data",
          "data": {
            "image/png": "[encoded data removed]",
            "text/plain": [
              "<Figure size 1800x288 with 20 Axes>"
            ]
          },
          "metadata": {
            "tags": []
          }
        }
      ]
    },
    {
      "cell_type": "code",
      "metadata": {
        "id": "RKoh5Cf70UYu",
        "colab_type": "code",
        "colab": {
          "base_uri": "https://localhost:8080/",
          "height": 268
        },
        "outputId": "8b851444-f0e3-46f2-f678-52bf7b1b376c"
      },
      "source": [
        "visualize(mnist_data_test)"
      ],
      "execution_count": 8,
      "outputs": [
        {
          "output_type": "display_data",
          "data": {
            "image/png": "[encoded data removed]",
            "text/plain": [
              "<Figure size 1800x288 with 20 Axes>"
            ]
          },
          "metadata": {
            "tags": []
          }
        }
      ]
    },
    {
      "cell_type": "markdown",
      "metadata": {
        "id": "ctjRsETiO1qO",
        "colab_type": "text"
      },
      "source": [
        "## Partitioning the Data (IID and non-IID)"
      ]
    },
    {
      "cell_type": "code",
      "metadata": {
        "id": "3_v8lyrgO5dD",
        "colab_type": "code",
        "colab": {}
      },
      "source": [
        "def iid_partition(dataset, clients):\n",
        "  \"\"\"\n",
        "  I.I.D paritioning of data over clients\n",
        "  Shuffle the data\n",
        "  Split it between clients\n",
        "  \n",
        "  params:\n",
        "    - dataset (torch.utils.Dataset): Dataset containing the MNIST Images\n",
        "    - clients (int): Number of Clients to split the data between\n",
        "\n",
        "  returns:\n",
        "    - Dictionary of image indexes for each client\n",
        "  \"\"\"\n",
        "\n",
        "  num_items_per_client = int(len(dataset)/clients)\n",
        "  client_dict = {}\n",
        "  image_idxs = [i for i in range(len(dataset))]\n",
        "\n",
        "  for i in range(clients):\n",
        "    client_dict[i] = set(np.random.choice(image_idxs, num_items_per_client, replace=False))\n",
        "    image_idxs = list(set(image_idxs) - client_dict[i])\n",
        "\n",
        "  return client_dict"
      ],
      "execution_count": 9,
      "outputs": []
    },
    {
      "cell_type": "code",
      "metadata": {
        "id": "4zMdliGMQoSl",
        "colab_type": "code",
        "colab": {}
      },
      "source": [
        "def non_iid_partition(dataset, clients, total_shards, shards_size, num_shards_per_client):\n",
        "  \"\"\"\n",
        "  non I.I.D parititioning of data over clients\n",
        "  Sort the data by the digit label\n",
        "  Divide the data into N shards of size S\n",
        "  Each of the clients will get X shards\n",
        "\n",
        "  params:\n",
        "    - dataset (torch.utils.Dataset): Dataset containing the MNIST Images\n",
        "    - clients (int): Number of Clients to split the data between\n",
        "    - total_shards (int): Number of shards to partition the data in\n",
        "    - shards_size (int): Size of each shard \n",
        "    - num_shards_per_client (int): Number of shards of size shards_size that each client receives\n",
        "\n",
        "  returns:\n",
        "    - Dictionary of image indexes for each client\n",
        "  \"\"\"\n",
        "  \n",
        "  shard_idxs = [i for i in range(total_shards)]\n",
        "  client_dict = {i: np.array([], dtype='int64') for i in range(clients)}\n",
        "  idxs = np.arange(len(dataset))\n",
        "  data_labels = dataset.targets.numpy()\n",
        "\n",
        "  # sort the labels\n",
        "  label_idxs = np.vstack((idxs, data_labels))\n",
        "  label_idxs = label_idxs[:, label_idxs[1,:].argsort()]\n",
        "  idxs = label_idxs[0,:]\n",
        "\n",
        "  # divide the data into total_shards of size shards_size\n",
        "  # assign num_shards_per_client to each client\n",
        "  for i in range(clients):\n",
        "    rand_set = set(np.random.choice(shard_idxs, num_shards_per_client, replace=False))\n",
        "    shard_idxs = list(set(shard_idxs) - rand_set)\n",
        "\n",
        "    for rand in rand_set:\n",
        "      client_dict[i] = np.concatenate((client_dict[i], idxs[rand*shards_size:(rand+1)*shards_size]), axis=0)\n",
        "  \n",
        "  return client_dict"
      ],
      "execution_count": 10,
      "outputs": []
    },
    {
      "cell_type": "markdown",
      "metadata": {
        "id": "PTfxv8kFoGAy",
        "colab_type": "text"
      },
      "source": [
        "## Models"
      ]
    },
    {
      "cell_type": "code",
      "metadata": {
        "id": "CvoDNFKbZST5",
        "colab_type": "code",
        "colab": {}
      },
      "source": [
        "class MNIST_2NN(nn.Module):\n",
        "  \"\"\"\n",
        "  A simple multilayer-perceptron with 2-hidden layers with 200 units each\n",
        "  using ReLu activations\n",
        "\n",
        "  Total Expected Params: 199,210\n",
        "  \"\"\"\n",
        "  def __init__(self):\n",
        "    super(MNIST_2NN, self).__init__()\n",
        "\n",
        "    self.fc1 = nn.Linear(28*28, 200)\n",
        "    self.fc2 = nn.Linear(200, 200)\n",
        "    self.fc3 = nn.Linear(200, 10)\n",
        "\n",
        "  def forward(self, x):\n",
        "    x = torch.flatten(x, 1)\n",
        "    x = F.relu(self.fc1(x))\n",
        "    x = F.relu(self.fc2(x))\n",
        "    out = self.fc3(x)\n",
        "\n",
        "    return x"
      ],
      "execution_count": 11,
      "outputs": []
    },
    {
      "cell_type": "code",
      "metadata": {
        "id": "ut1hZ8x3qYPZ",
        "colab_type": "code",
        "colab": {}
      },
      "source": [
        "class MNIST_CNN(nn.Module):\n",
        "  \"\"\"\n",
        "  CNN with two 5x5 convolution lauers(the first with 32 channels, second with 64,\n",
        "  each followed with 2x2 max pooling), a fully connected layer with 512 uunits and \n",
        "  ReLu activation, and the final Softmax output layer\n",
        "\n",
        "  Total Expected Params: 1,663,370\n",
        "  \"\"\"\n",
        "  def __init__(self):\n",
        "    super(MNIST_CNN, self).__init__()\n",
        "\n",
        "    self.conv1 = nn.Conv2d(1, 32, kernel_size=5)\n",
        "    self.conv2 = nn.Conv2d(32, 64, kernel_size=5)\n",
        "    \n",
        "    self.pool = nn.MaxPool2d(2,2)\n",
        "    self.dropout = nn.Dropout(p=0.2)\n",
        "\n",
        "    self.fc1 = nn.Linear(1024, 512)\n",
        "    self.out = nn.Linear(512, 10)\n",
        "\n",
        "  def forward(self, x):\n",
        "    x = self.pool(F.relu(self.conv1(x)))\n",
        "    x = self.pool(F.relu(self.conv2(x)))\n",
        "    x = self.dropout(x)\n",
        "    x = torch.flatten(x, 1)\n",
        "    x = F.relu(self.fc1(x))\n",
        "    x = self.out(x)\n",
        "    out = F.log_softmax(x, dim=1)\n",
        "\n",
        "    return out"
      ],
      "execution_count": 12,
      "outputs": []
    },
    {
      "cell_type": "markdown",
      "metadata": {
        "id": "uVv4HA9HuLtr",
        "colab_type": "text"
      },
      "source": [
        "### Print Model Summaries"
      ]
    },
    {
      "cell_type": "code",
      "metadata": {
        "id": "I5oTH710sJEt",
        "colab_type": "code",
        "colab": {
          "base_uri": "https://localhost:8080/",
          "height": 714
        },
        "outputId": "a503efbe-0bf9-4d90-8299-9f9f989f7d3d"
      },
      "source": [
        "mnist_mlp = MNIST_2NN()\n",
        "mnist_cnn = MNIST_CNN()\n",
        "\n",
        "if torch.cuda.is_available():\n",
        "  mnist_mlp.cuda()\n",
        "  mnist_cnn.cuda()\n",
        "\n",
        "print(\"MNIST MLP SUMMARY\")\n",
        "print(summary(mnist_mlp, (28,28)))\n",
        "\n",
        "print(\"\\nMNIST CNN SUMMARY\")\n",
        "print(summary(mnist_cnn, (1, 28,28)))"
      ],
      "execution_count": 13,
      "outputs": [
        {
          "output_type": "stream",
          "text": [
            "MNIST MLP SUMMARY\n",
            "----------------------------------------------------------------\n",
            "        Layer (type)               Output Shape         Param #\n",
            "================================================================\n",
            "            Linear-1                  [-1, 200]         157,000\n",
            "            Linear-2                  [-1, 200]          40,200\n",
            "            Linear-3                   [-1, 10]           2,010\n",
            "================================================================\n",
            "Total params: 199,210\n",
            "Trainable params: 199,210\n",
            "Non-trainable params: 0\n",
            "----------------------------------------------------------------\n",
            "Input size (MB): 0.00\n",
            "Forward/backward pass size (MB): 0.00\n",
            "Params size (MB): 0.76\n",
            "Estimated Total Size (MB): 0.77\n",
            "----------------------------------------------------------------\n",
            "None\n",
            "\n",
            "MNIST CNN SUMMARY\n",
            "----------------------------------------------------------------\n",
            "        Layer (type)               Output Shape         Param #\n",
            "================================================================\n",
            "            Conv2d-1           [-1, 32, 24, 24]             832\n",
            "         MaxPool2d-2           [-1, 32, 12, 12]               0\n",
            "            Conv2d-3             [-1, 64, 8, 8]          51,264\n",
            "         MaxPool2d-4             [-1, 64, 4, 4]               0\n",
            "           Dropout-5             [-1, 64, 4, 4]               0\n",
            "            Linear-6                  [-1, 512]         524,800\n",
            "            Linear-7                   [-1, 10]           5,130\n",
            "================================================================\n",
            "Total params: 582,026\n",
            "Trainable params: 582,026\n",
            "Non-trainable params: 0\n",
            "----------------------------------------------------------------\n",
            "Input size (MB): 0.00\n",
            "Forward/backward pass size (MB): 0.23\n",
            "Params size (MB): 2.22\n",
            "Estimated Total Size (MB): 2.45\n",
            "----------------------------------------------------------------\n",
            "None\n"
          ],
          "name": "stdout"
        }
      ]
    },
    {
      "cell_type": "markdown",
      "metadata": {
        "id": "gf_8XEXa-gZ7",
        "colab_type": "text"
      },
      "source": [
        "## FedProx"
      ]
    },
    {
      "cell_type": "markdown",
      "metadata": {
        "colab_type": "text",
        "id": "cjGMTWxAOsf1"
      },
      "source": [
        "### Systems Heterogeneity Simulations\n",
        "\n",
        "Generate epochs for selected clients based on percentage of devices that corresponds to heterogeneity. \n",
        "\n",
        "Assign x number of epochs (chosen unifirmly at random between [1, E]) to 0%, 50% or 90% of the selected devices, respectively. Settings where 0% devices perform fewer than E epochs of work correspond to the environments without system heterogeneity, while 90% of the devices sending their partial solutions corresponds to highly heterogenous system."
      ]
    },
    {
      "cell_type": "code",
      "metadata": {
        "id": "i-WTHuT3OpFD",
        "colab_type": "code",
        "colab": {}
      },
      "source": [
        "def GenerateLocalEpochs(percentage, size, max_epochs):\n",
        "  ''' Method generates list of epochs for selected clients\n",
        "  to replicate system heteroggeneity\n",
        "\n",
        "  Params:\n",
        "    percentage: percentage of clients to have fewer than E epochs\n",
        "    size:       total size of the list\n",
        "    max_epochs: maximum value for local epochs\n",
        "  \n",
        "  Returns:\n",
        "    List of size epochs for each Client Update\n",
        "\n",
        "  '''\n",
        "\n",
        "  # if percentage is 0 then each client runs for E epochs\n",
        "  if percentage == 0:\n",
        "      return np.array([max_epochs]*size)\n",
        "  else:\n",
        "    # get the number of clients to have fewer than E epochs\n",
        "    heterogenous_size = int((percentage/100) * size)\n",
        "\n",
        "    # generate random uniform epochs of heterogenous size between 1 and E\n",
        "    epoch_list = np.random.randint(1, max_epochs, heterogenous_size)\n",
        "\n",
        "    # the rest of the clients will have E epochs\n",
        "    remaining_size = size - heterogenous_size\n",
        "    rem_list = [max_epochs]*remaining_size\n",
        "\n",
        "    epoch_list = np.append(epoch_list, rem_list, axis=0)\n",
        "    \n",
        "    # shuffle the list and return\n",
        "    np.random.shuffle(epoch_list)\n",
        "\n",
        "    return epoch_list"
      ],
      "execution_count": 14,
      "outputs": []
    },
    {
      "cell_type": "markdown",
      "metadata": {
        "id": "L-aNdQsQ-Kvp",
        "colab_type": "text"
      },
      "source": [
        "### Local Training (Client Update)\n",
        "\n",
        "Local training for the model on client side"
      ]
    },
    {
      "cell_type": "code",
      "metadata": {
        "id": "oX6OsQyO-Gz7",
        "colab_type": "code",
        "colab": {}
      },
      "source": [
        "class CustomDataset(Dataset):\n",
        "  def __init__(self, dataset, idxs):\n",
        "      self.dataset = dataset\n",
        "      self.idxs = list(idxs)\n",
        "\n",
        "  def __len__(self):\n",
        "      return len(self.idxs)\n",
        "\n",
        "  def __getitem__(self, item):\n",
        "      image, label = self.dataset[self.idxs[item]]\n",
        "      return image, label\n",
        "\n",
        "class ClientUpdate(object):\n",
        "  def __init__(self, dataset, batchSize, learning_rate, epochs, idxs, mu):\n",
        "    self.train_loader = DataLoader(CustomDataset(dataset, idxs), batch_size=batchSize, shuffle=True)\n",
        "\n",
        "    self.learning_rate = learning_rate\n",
        "    self.epochs = epochs\n",
        "\n",
        "  def train(self, model):\n",
        "    # print(\"Client training for {} epochs.\".format(self.epochs))\n",
        "    criterion = nn.CrossEntropyLoss()\n",
        "    proximal_criterion = nn.MSELoss(reduction='mean')\n",
        "    optimizer = torch.optim.SGD(model.parameters(), lr=self.learning_rate, momentum=0.5)\n",
        "    # optimizer = torch.optim.Adam(model.parameters(), lr=self.learning_rate)\n",
        "\n",
        "    e_loss = []\n",
        "    for epoch in range(1, self.epochs+1):\n",
        "\n",
        "      train_loss = 0.0\n",
        "\n",
        "      model.train()\n",
        "      for data, labels in self.train_loader:\n",
        "\n",
        "        if torch.cuda.is_available():\n",
        "          data, labels = data.cuda(), labels.cuda()\n",
        "\n",
        "        # clear the gradients\n",
        "        optimizer.zero_grad()\n",
        "        # make a forward pass\n",
        "        output = model(data)\n",
        "\n",
        "        # calculate the loss + the proximal term\n",
        "        _, pred = torch.max(output, 1)\n",
        "        \n",
        "        proximal_term = (pred-labels)**2\n",
        "\n",
        "        proximal_term = torch.sum(proximal_term) * (mu/2)\n",
        "\n",
        "        loss = criterion(output, labels) + proximal_term\n",
        "    \n",
        "        # do a backwards pass\n",
        "        loss.backward()\n",
        "        # perform a single optimization step\n",
        "        optimizer.step()\n",
        "        # update training loss\n",
        "        train_loss += loss.item()*data.size(0)\n",
        "\n",
        "      # average losses\n",
        "      train_loss = train_loss/len(self.train_loader.dataset)\n",
        "      e_loss.append(train_loss)\n",
        "\n",
        "    total_loss = sum(e_loss)/len(e_loss)\n",
        "\n",
        "    return model.state_dict(), total_loss"
      ],
      "execution_count": 15,
      "outputs": []
    },
    {
      "cell_type": "markdown",
      "metadata": {
        "id": "Ukgh1DVHE2Ds",
        "colab_type": "text"
      },
      "source": [
        "### Server Side Training\n",
        "\n",
        "Following Algorithm 1 from the paper"
      ]
    },
    {
      "cell_type": "code",
      "metadata": {
        "id": "1NF1e33BgpeL",
        "colab_type": "code",
        "colab": {}
      },
      "source": [
        "\n",
        "def training(model, rounds, batch_size, lr, ds, data_dict, C, K, E, mu, percentage, plt_title, plt_color):\n",
        "  \"\"\"\n",
        "  Function implements the Federated Averaging Algorithm from the FedAvg paper.\n",
        "  Specifically, this function is used for the server side training and weight update\n",
        "\n",
        "  Params:\n",
        "    - model:           PyTorch model to train\n",
        "    - rounds:          Number of communication rounds for the client update\n",
        "    - batch_size:      Batch size for client update training\n",
        "    - lr:              Learning rate used for client update training\n",
        "    - ds:              Dataset used for training\n",
        "    - data_dict:       Type of data partition used for training (IID or non-IID)\n",
        "    - C:               Fraction of clients randomly chosen to perform computation on each round\n",
        "    - K:               Total number of clients\n",
        "    - E:               Number of training passes each client makes over its local dataset per round\n",
        "    - mu:              proximal term constant\n",
        "    - percentage:      percentage of selected client to have fewer than E epochs\n",
        "  Returns:\n",
        "    - model:           Trained model on the server\n",
        "  \"\"\"\n",
        "\n",
        "  # global model weights\n",
        "  global_weights = model.state_dict()\n",
        "\n",
        "  # training loss\n",
        "  train_loss = []\n",
        "\n",
        "  # measure time\n",
        "  start = time.time()\n",
        "\n",
        "  for curr_round in range(1, rounds+1):\n",
        "    w, local_loss = [], []\n",
        "\n",
        "    m = max(int(C*K), 1)\n",
        "\n",
        "    heterogenous_epoch_list = GenerateLocalEpochs(percentage, size=m, max_epochs=E)\n",
        "    \n",
        "    S_t = np.random.choice(range(K), m, replace=False)\n",
        "\n",
        "\n",
        "    for k, epoch in zip(S_t, heterogenous_epoch_list):\n",
        "      local_update = ClientUpdate(dataset=ds, batchSize=batch_size, learning_rate=lr, epochs=epoch, idxs=data_dict[k], mu=mu)\n",
        "      weights, loss = local_update.train(model=copy.deepcopy(model))\n",
        "\n",
        "      w.append(copy.deepcopy(weights))\n",
        "      local_loss.append(copy.deepcopy(loss))\n",
        "\n",
        "    # updating the global weights\n",
        "    weights_avg = copy.deepcopy(w[0])\n",
        "    for k in weights_avg.keys():\n",
        "      for i in range(1, len(w)):\n",
        "        weights_avg[k] += w[i][k]\n",
        "\n",
        "      weights_avg[k] = torch.div(weights_avg[k], len(w))\n",
        "\n",
        "    global_weights = weights_avg\n",
        "\n",
        "    # move the updated weights to our model state dict\n",
        "    model.load_state_dict(global_weights)\n",
        "\n",
        "    # loss\n",
        "    loss_avg = sum(local_loss) / len(local_loss)\n",
        "    print('Round: {}... \\tAverage Loss: {}'.format(curr_round, round(loss_avg, 3)))\n",
        "    train_loss.append(loss_avg)\n",
        "\n",
        "  end=time.time()\n",
        "\n",
        "  fig, ax = plt.subplots()\n",
        "  x_axis = np.arange(1, rounds+1)\n",
        "  y_axis = np.array(train_loss)\n",
        "  ax.plot(x_axis, y_axis)\n",
        "\n",
        "  ax.set(xlabel='Number of Rounds', ylabel='Train Loss',\n",
        "       title=plt_title)\n",
        "  ax.grid()\n",
        "  fig.savefig(plt_title+'.jpg', format='jpg')\n",
        "  \n",
        "  print(\"Training Done!\")\n",
        "  print(\"Total time taken to Train: {}\".format(end-start))\n",
        "  \n",
        "  print(\"Training Done!\")\n",
        "  print(\"Total time taken: {}\".format(end-start))\n",
        "\n",
        "  return model"
      ],
      "execution_count": 16,
      "outputs": []
    },
    {
      "cell_type": "markdown",
      "metadata": {
        "id": "tUYyb4T-uXmF",
        "colab_type": "text"
      },
      "source": [
        "## Testing Loop"
      ]
    },
    {
      "cell_type": "code",
      "metadata": {
        "id": "uCcIZmO5uan9",
        "colab_type": "code",
        "colab": {}
      },
      "source": [
        "def testing(model, dataset, bs, criterion, num_classes, classes):\n",
        "  #test loss \n",
        "  test_loss = 0.0\n",
        "  correct_class = list(0. for i in range(num_classes))\n",
        "  total_class = list(0. for i in range(num_classes))\n",
        "\n",
        "  test_loader = DataLoader(dataset, batch_size=bs)\n",
        "  l = len(test_loader)\n",
        "  model.eval()\n",
        "  for data, labels in test_loader:\n",
        "\n",
        "    if torch.cuda.is_available():\n",
        "      data, labels = data.cuda(), labels.cuda()\n",
        "\n",
        "    output = model(data)\n",
        "    loss = criterion(output, labels)\n",
        "    test_loss += loss.item()*data.size(0)\n",
        "\n",
        "    _, pred = torch.max(output, 1)\n",
        "\n",
        "    correct_tensor = pred.eq(labels.data.view_as(pred))\n",
        "    correct = np.squeeze(correct_tensor.numpy()) if not torch.cuda.is_available() else np.squeeze(correct_tensor.cpu().numpy())\n",
        "\n",
        "    #test accuracy for each object class\n",
        "    for i in range(num_classes):\n",
        "      label = labels.data[i]\n",
        "      correct_class[label] += correct[i].item()\n",
        "      total_class[label] += 1\n",
        "    \n",
        "  # avg test loss\n",
        "  test_loss = test_loss/len(test_loader.dataset)\n",
        "  print(\"Test Loss: {:.6f}\\n\".format(test_loss))\n",
        "\n",
        "  # print test accuracy\n",
        "  for i in range(10):\n",
        "    if total_class[i]>0:\n",
        "      print('Test Accuracy of %5s: %2d%% (%2d/%2d)' % \n",
        "            (classes[i], 100 * correct_class[i] / total_class[i],\n",
        "            np.sum(correct_class[i]), np.sum(total_class[i])))\n",
        "    else:\n",
        "      print('Test Accuracy of %5s: N/A (no training examples)' % (classes[i]))\n",
        "\n",
        "  print('\\nFinal Test  Accuracy: {:.3f} ({}/{})'.format(\n",
        "        100. * np.sum(correct_class) / np.sum(total_class),\n",
        "        np.sum(correct_class), np.sum(total_class)))"
      ],
      "execution_count": 17,
      "outputs": []
    },
    {
      "cell_type": "markdown",
      "metadata": {
        "id": "4hO5oV6aXqeh",
        "colab_type": "text"
      },
      "source": [
        "## Special Case of FedProx with mu = 0 where it is Federated Averaging"
      ]
    },
    {
      "cell_type": "markdown",
      "metadata": {
        "id": "flSQv_P4zCfx",
        "colab_type": "text"
      },
      "source": [
        "### Train\n"
      ]
    },
    {
      "cell_type": "code",
      "metadata": {
        "id": "0ZalcKZtEseA",
        "colab_type": "code",
        "colab": {
          "base_uri": "https://localhost:8080/",
          "height": 1000
        },
        "outputId": "5568c7af-ab66-4f84-bb24-5d611dd4ccaa"
      },
      "source": [
        "# number of training rounds\n",
        "rounds = 100\n",
        "# client fraction\n",
        "C = 0.1\n",
        "# number of clients\n",
        "K = 100\n",
        "# number of training passes on local dataset for each roung\n",
        "E = 5\n",
        "# batch size\n",
        "batch_size = 10\n",
        "# learning Rate\n",
        "lr=0.01\n",
        "# proximal term constant\n",
        "mu = 0.0\n",
        "# percentage of clients to have fewer than E epochs\n",
        "percentage = 0\n",
        "\n",
        "# data partition dictionary\n",
        "iid_dict = iid_partition(mnist_data_train, 100)\n",
        "# load model\n",
        "mnist_cnn = MNIST_CNN()\n",
        "\n",
        "if torch.cuda.is_available():\n",
        "  mnist_cnn.cuda()\n",
        "\n",
        "mnist_cnn_iid_trained = training(mnist_cnn, rounds, batch_size, lr, mnist_data_train, iid_dict, C, K, E, mu, percentage, \"FedProx MNIST CNN Special Case (FedAvg)\", \"orange\")"
      ],
      "execution_count": 18,
      "outputs": [
        {
          "output_type": "stream",
          "text": [
            "Round: 1... \tAverage Loss: 0.818\n",
            "Round: 2... \tAverage Loss: 0.202\n",
            "Round: 3... \tAverage Loss: 0.139\n",
            "Round: 4... \tAverage Loss: 0.099\n",
            "Round: 5... \tAverage Loss: 0.073\n",
            "Round: 6... \tAverage Loss: 0.066\n",
            "Round: 7... \tAverage Loss: 0.057\n",
            "Round: 8... \tAverage Loss: 0.058\n",
            "Round: 9... \tAverage Loss: 0.052\n",
            "Round: 10... \tAverage Loss: 0.04\n",
            "Round: 11... \tAverage Loss: 0.041\n",
            "Round: 12... \tAverage Loss: 0.04\n",
            "Round: 13... \tAverage Loss: 0.031\n",
            "Round: 14... \tAverage Loss: 0.042\n",
            "Round: 15... \tAverage Loss: 0.032\n",
            "Round: 16... \tAverage Loss: 0.031\n",
            "Round: 17... \tAverage Loss: 0.032\n",
            "Round: 18... \tAverage Loss: 0.029\n",
            "Round: 19... \tAverage Loss: 0.024\n",
            "Round: 20... \tAverage Loss: 0.026\n",
            "Round: 21... \tAverage Loss: 0.027\n",
            "Round: 22... \tAverage Loss: 0.027\n",
            "Round: 23... \tAverage Loss: 0.021\n",
            "Round: 24... \tAverage Loss: 0.024\n",
            "Round: 25... \tAverage Loss: 0.023\n",
            "Round: 26... \tAverage Loss: 0.023\n",
            "Round: 27... \tAverage Loss: 0.024\n",
            "Round: 28... \tAverage Loss: 0.019\n",
            "Round: 29... \tAverage Loss: 0.022\n",
            "Round: 30... \tAverage Loss: 0.02\n",
            "Round: 31... \tAverage Loss: 0.019\n",
            "Round: 32... \tAverage Loss: 0.02\n",
            "Round: 33... \tAverage Loss: 0.017\n",
            "Round: 34... \tAverage Loss: 0.023\n",
            "Round: 35... \tAverage Loss: 0.016\n",
            "Round: 36... \tAverage Loss: 0.016\n",
            "Round: 37... \tAverage Loss: 0.016\n",
            "Round: 38... \tAverage Loss: 0.014\n",
            "Round: 39... \tAverage Loss: 0.018\n",
            "Round: 40... \tAverage Loss: 0.018\n",
            "Round: 41... \tAverage Loss: 0.015\n",
            "Round: 42... \tAverage Loss: 0.017\n",
            "Round: 43... \tAverage Loss: 0.017\n",
            "Round: 44... \tAverage Loss: 0.012\n",
            "Round: 45... \tAverage Loss: 0.02\n",
            "Round: 46... \tAverage Loss: 0.015\n",
            "Round: 47... \tAverage Loss: 0.016\n",
            "Round: 48... \tAverage Loss: 0.013\n",
            "Round: 49... \tAverage Loss: 0.014\n",
            "Round: 50... \tAverage Loss: 0.014\n",
            "Round: 51... \tAverage Loss: 0.013\n",
            "Round: 52... \tAverage Loss: 0.012\n",
            "Round: 53... \tAverage Loss: 0.017\n",
            "Round: 54... \tAverage Loss: 0.012\n",
            "Round: 55... \tAverage Loss: 0.016\n",
            "Round: 56... \tAverage Loss: 0.014\n",
            "Round: 57... \tAverage Loss: 0.01\n",
            "Round: 58... \tAverage Loss: 0.013\n",
            "Round: 59... \tAverage Loss: 0.014\n",
            "Round: 60... \tAverage Loss: 0.013\n",
            "Round: 61... \tAverage Loss: 0.01\n",
            "Round: 62... \tAverage Loss: 0.011\n",
            "Round: 63... \tAverage Loss: 0.01\n",
            "Round: 64... \tAverage Loss: 0.01\n",
            "Round: 65... \tAverage Loss: 0.012\n",
            "Round: 66... \tAverage Loss: 0.013\n",
            "Round: 67... \tAverage Loss: 0.01\n",
            "Round: 68... \tAverage Loss: 0.012\n",
            "Round: 69... \tAverage Loss: 0.012\n",
            "Round: 70... \tAverage Loss: 0.013\n",
            "Round: 71... \tAverage Loss: 0.009\n",
            "Round: 72... \tAverage Loss: 0.011\n",
            "Round: 73... \tAverage Loss: 0.011\n",
            "Round: 74... \tAverage Loss: 0.009\n",
            "Round: 75... \tAverage Loss: 0.009\n",
            "Round: 76... \tAverage Loss: 0.009\n",
            "Round: 77... \tAverage Loss: 0.013\n",
            "Round: 78... \tAverage Loss: 0.01\n",
            "Round: 79... \tAverage Loss: 0.01\n",
            "Round: 80... \tAverage Loss: 0.009\n",
            "Round: 81... \tAverage Loss: 0.009\n",
            "Round: 82... \tAverage Loss: 0.01\n",
            "Round: 83... \tAverage Loss: 0.01\n",
            "Round: 84... \tAverage Loss: 0.01\n",
            "Round: 85... \tAverage Loss: 0.009\n",
            "Round: 86... \tAverage Loss: 0.008\n",
            "Round: 87... \tAverage Loss: 0.008\n",
            "Round: 88... \tAverage Loss: 0.008\n",
            "Round: 89... \tAverage Loss: 0.007\n",
            "Round: 90... \tAverage Loss: 0.008\n",
            "Round: 91... \tAverage Loss: 0.009\n",
            "Round: 92... \tAverage Loss: 0.009\n",
            "Round: 93... \tAverage Loss: 0.009\n",
            "Round: 94... \tAverage Loss: 0.008\n",
            "Round: 95... \tAverage Loss: 0.007\n",
            "Round: 96... \tAverage Loss: 0.007\n",
            "Round: 97... \tAverage Loss: 0.008\n",
            "Round: 98... \tAverage Loss: 0.01\n",
            "Round: 99... \tAverage Loss: 0.012\n",
            "Round: 100... \tAverage Loss: 0.006\n",
            "Training Done!\n",
            "Total time taken to Train: 1144.7141506671906\n",
            "Training Done!\n",
            "Total time taken: 1144.7141506671906\n"
          ],
          "name": "stdout"
        },
        {
          "output_type": "display_data",
          "data": {
            "image/png": "[encoded data removed]",
            "text/plain": [
              "<Figure size 432x288 with 1 Axes>"
            ]
          },
          "metadata": {
            "tags": [],
            "needs_background": "light"
          }
        }
      ]
    },
    {
      "cell_type": "markdown",
      "metadata": {
        "id": "wNwC82przF6G",
        "colab_type": "text"
      },
      "source": [
        "### Test"
      ]
    },
    {
      "cell_type": "code",
      "metadata": {
        "id": "qB97BFs9we9w",
        "colab_type": "code",
        "colab": {
          "base_uri": "https://localhost:8080/",
          "height": 255
        },
        "outputId": "56bb0182-f41a-4402-ea49-4602f53397e5"
      },
      "source": [
        "criterion = nn.CrossEntropyLoss()\n",
        "testing(mnist_cnn_iid_trained, mnist_data_test, 128, criterion, num_classes, classes_test)"
      ],
      "execution_count": 19,
      "outputs": [
        {
          "output_type": "stream",
          "text": [
            "Test Loss: 0.022679\n",
            "\n",
            "Test Accuracy of     0: 100% (76/76)\n",
            "Test Accuracy of     1: 100% (90/90)\n",
            "Test Accuracy of     2: 100% (91/91)\n",
            "Test Accuracy of     3: 97% (71/73)\n",
            "Test Accuracy of     4: 100% (89/89)\n",
            "Test Accuracy of     5: 98% (67/68)\n",
            "Test Accuracy of     6: 100% (62/62)\n",
            "Test Accuracy of     7: 100% (81/81)\n",
            "Test Accuracy of     8: 100% (77/77)\n",
            "Test Accuracy of     9: 98% (82/83)\n",
            "\n",
            "Final Test  Accuracy: 99.494 (786.0/790.0)\n"
          ],
          "name": "stdout"
        }
      ]
    },
    {
      "cell_type": "markdown",
      "metadata": {
        "colab_type": "text",
        "id": "ewgOl5Va6DQs"
      },
      "source": [
        "## MNIST CNN on IID"
      ]
    },
    {
      "cell_type": "markdown",
      "metadata": {
        "colab_type": "text",
        "id": "Q-NXHBgy6DQ1"
      },
      "source": [
        "### Train\n"
      ]
    },
    {
      "cell_type": "code",
      "metadata": {
        "colab_type": "code",
        "id": "CuPEOShG6DQ2",
        "colab": {
          "base_uri": "https://localhost:8080/",
          "height": 0
        },
        "outputId": "87af07f8-09d5-43b8-8125-bf22f41b0e0a"
      },
      "source": [
        "# number of training rounds\n",
        "rounds = 100\n",
        "# client fraction\n",
        "C = 0.1\n",
        "# number of clients\n",
        "K = 100\n",
        "# number of training passes on local dataset for each roung\n",
        "E = 20\n",
        "# batch size\n",
        "batch_size = 10\n",
        "# learning Rate\n",
        "lr=0.01\n",
        "# proximal term constant\n",
        "mu = 0.001\n",
        "# percentage of clients to have fewer than E epochs\n",
        "percentage = 90\n",
        "# data partition dictionary\n",
        "iid_dict = iid_partition(mnist_data_train, 100)\n",
        "# load model\n",
        "mnist_cnn = MNIST_CNN()\n",
        "\n",
        "if torch.cuda.is_available():\n",
        "  mnist_cnn.cuda()\n",
        "\n",
        "mnist_cnn_iid_trained = training(mnist_cnn, rounds, batch_size, lr, mnist_data_train, iid_dict, C, K, E, mu, percentage, \"FedProx MNIST CNN on IID Dataset (90%)\", \"orange\")"
      ],
      "execution_count": 20,
      "outputs": [
        {
          "output_type": "stream",
          "text": [
            "Round: 1... \tAverage Loss: 0.514\n",
            "Round: 2... \tAverage Loss: 0.114\n",
            "Round: 3... \tAverage Loss: 0.081\n",
            "Round: 4... \tAverage Loss: 0.051\n",
            "Round: 5... \tAverage Loss: 0.053\n",
            "Round: 6... \tAverage Loss: 0.055\n",
            "Round: 7... \tAverage Loss: 0.053\n",
            "Round: 8... \tAverage Loss: 0.037\n",
            "Round: 9... \tAverage Loss: 0.034\n",
            "Round: 10... \tAverage Loss: 0.027\n",
            "Round: 11... \tAverage Loss: 0.047\n",
            "Round: 12... \tAverage Loss: 0.022\n",
            "Round: 13... \tAverage Loss: 0.024\n",
            "Round: 14... \tAverage Loss: 0.023\n",
            "Round: 15... \tAverage Loss: 0.014\n",
            "Round: 16... \tAverage Loss: 0.017\n",
            "Round: 17... \tAverage Loss: 0.033\n",
            "Round: 18... \tAverage Loss: 0.029\n",
            "Round: 19... \tAverage Loss: 0.015\n",
            "Round: 20... \tAverage Loss: 0.018\n",
            "Round: 21... \tAverage Loss: 0.014\n",
            "Round: 22... \tAverage Loss: 0.024\n",
            "Round: 23... \tAverage Loss: 0.021\n",
            "Round: 24... \tAverage Loss: 0.012\n",
            "Round: 25... \tAverage Loss: 0.019\n",
            "Round: 26... \tAverage Loss: 0.014\n",
            "Round: 27... \tAverage Loss: 0.014\n",
            "Round: 28... \tAverage Loss: 0.017\n",
            "Round: 29... \tAverage Loss: 0.03\n",
            "Round: 30... \tAverage Loss: 0.014\n",
            "Round: 31... \tAverage Loss: 0.013\n",
            "Round: 32... \tAverage Loss: 0.013\n",
            "Round: 33... \tAverage Loss: 0.015\n",
            "Round: 34... \tAverage Loss: 0.014\n",
            "Round: 35... \tAverage Loss: 0.019\n",
            "Round: 36... \tAverage Loss: 0.013\n",
            "Round: 37... \tAverage Loss: 0.019\n",
            "Round: 38... \tAverage Loss: 0.013\n",
            "Round: 39... \tAverage Loss: 0.007\n",
            "Round: 40... \tAverage Loss: 0.011\n",
            "Round: 41... \tAverage Loss: 0.015\n",
            "Round: 42... \tAverage Loss: 0.011\n",
            "Round: 43... \tAverage Loss: 0.012\n",
            "Round: 44... \tAverage Loss: 0.008\n",
            "Round: 45... \tAverage Loss: 0.011\n",
            "Round: 46... \tAverage Loss: 0.022\n",
            "Round: 47... \tAverage Loss: 0.014\n",
            "Round: 48... \tAverage Loss: 0.008\n",
            "Round: 49... \tAverage Loss: 0.012\n",
            "Round: 50... \tAverage Loss: 0.013\n",
            "Round: 51... \tAverage Loss: 0.016\n",
            "Round: 52... \tAverage Loss: 0.008\n",
            "Round: 53... \tAverage Loss: 0.008\n",
            "Round: 54... \tAverage Loss: 0.014\n",
            "Round: 55... \tAverage Loss: 0.006\n",
            "Round: 56... \tAverage Loss: 0.011\n",
            "Round: 57... \tAverage Loss: 0.007\n",
            "Round: 58... \tAverage Loss: 0.008\n",
            "Round: 59... \tAverage Loss: 0.012\n",
            "Round: 60... \tAverage Loss: 0.01\n",
            "Round: 61... \tAverage Loss: 0.005\n",
            "Round: 62... \tAverage Loss: 0.006\n",
            "Round: 63... \tAverage Loss: 0.006\n",
            "Round: 64... \tAverage Loss: 0.011\n",
            "Round: 65... \tAverage Loss: 0.008\n",
            "Round: 66... \tAverage Loss: 0.011\n",
            "Round: 67... \tAverage Loss: 0.008\n",
            "Round: 68... \tAverage Loss: 0.009\n",
            "Round: 69... \tAverage Loss: 0.007\n",
            "Round: 70... \tAverage Loss: 0.007\n",
            "Round: 71... \tAverage Loss: 0.01\n",
            "Round: 72... \tAverage Loss: 0.01\n",
            "Round: 73... \tAverage Loss: 0.01\n",
            "Round: 74... \tAverage Loss: 0.009\n",
            "Round: 75... \tAverage Loss: 0.006\n",
            "Round: 76... \tAverage Loss: 0.007\n",
            "Round: 77... \tAverage Loss: 0.006\n",
            "Round: 78... \tAverage Loss: 0.007\n",
            "Round: 79... \tAverage Loss: 0.005\n",
            "Round: 80... \tAverage Loss: 0.005\n",
            "Round: 81... \tAverage Loss: 0.006\n",
            "Round: 82... \tAverage Loss: 0.008\n",
            "Round: 83... \tAverage Loss: 0.007\n",
            "Round: 84... \tAverage Loss: 0.005\n",
            "Round: 85... \tAverage Loss: 0.01\n",
            "Round: 86... \tAverage Loss: 0.006\n",
            "Round: 87... \tAverage Loss: 0.007\n",
            "Round: 88... \tAverage Loss: 0.004\n",
            "Round: 89... \tAverage Loss: 0.004\n",
            "Round: 90... \tAverage Loss: 0.009\n",
            "Round: 91... \tAverage Loss: 0.004\n",
            "Round: 92... \tAverage Loss: 0.007\n",
            "Round: 93... \tAverage Loss: 0.007\n",
            "Round: 94... \tAverage Loss: 0.009\n",
            "Round: 95... \tAverage Loss: 0.008\n",
            "Round: 96... \tAverage Loss: 0.007\n",
            "Round: 97... \tAverage Loss: 0.005\n",
            "Round: 98... \tAverage Loss: 0.005\n",
            "Round: 99... \tAverage Loss: 0.005\n",
            "Round: 100... \tAverage Loss: 0.003\n",
            "Training Done!\n",
            "Total time taken to Train: 2580.671597480774\n",
            "Training Done!\n",
            "Total time taken: 2580.671597480774\n"
          ],
          "name": "stdout"
        },
        {
          "output_type": "display_data",
          "data": {
            "image/png": "[encoded data removed]",
            "text/plain": [
              "<Figure size 432x288 with 1 Axes>"
            ]
          },
          "metadata": {
            "tags": [],
            "needs_background": "light"
          }
        }
      ]
    },
    {
      "cell_type": "markdown",
      "metadata": {
        "colab_type": "text",
        "id": "wqCEx6tW6DQ-"
      },
      "source": [
        "### Test"
      ]
    },
    {
      "cell_type": "code",
      "metadata": {
        "colab_type": "code",
        "id": "QIT9Y2Pt6DQ-",
        "colab": {
          "base_uri": "https://localhost:8080/",
          "height": 0
        },
        "outputId": "c1f0af62-5561-47bb-ec0d-a04363e4efee"
      },
      "source": [
        "criterion = nn.CrossEntropyLoss()\n",
        "testing(mnist_cnn_iid_trained, mnist_data_test, 128, criterion, num_classes, classes_test)"
      ],
      "execution_count": 21,
      "outputs": [
        {
          "output_type": "stream",
          "text": [
            "Test Loss: 0.024023\n",
            "\n",
            "Test Accuracy of     0: 100% (76/76)\n",
            "Test Accuracy of     1: 98% (89/90)\n",
            "Test Accuracy of     2: 100% (91/91)\n",
            "Test Accuracy of     3: 97% (71/73)\n",
            "Test Accuracy of     4: 100% (89/89)\n",
            "Test Accuracy of     5: 98% (67/68)\n",
            "Test Accuracy of     6: 100% (62/62)\n",
            "Test Accuracy of     7: 98% (80/81)\n",
            "Test Accuracy of     8: 100% (77/77)\n",
            "Test Accuracy of     9: 98% (82/83)\n",
            "\n",
            "Final Test  Accuracy: 99.241 (784.0/790.0)\n"
          ],
          "name": "stdout"
        }
      ]
    },
    {
      "cell_type": "markdown",
      "metadata": {
        "id": "uF8MdSIUYcnl",
        "colab_type": "text"
      },
      "source": [
        "## MNIST CNN on Non IID"
      ]
    },
    {
      "cell_type": "markdown",
      "metadata": {
        "id": "a6wXX7JW11bx",
        "colab_type": "text"
      },
      "source": [
        "### Train\n"
      ]
    },
    {
      "cell_type": "code",
      "metadata": {
        "id": "fCD3kBCKYfBK",
        "colab_type": "code",
        "colab": {
          "base_uri": "https://localhost:8080/",
          "height": 0
        },
        "outputId": "b61ee28d-3386-4a93-dcd9-5cdb8efb736b"
      },
      "source": [
        "# number of training rounds\n",
        "rounds = 100\n",
        "# client fraction\n",
        "C = 0.1\n",
        "# number of clients\n",
        "K = 100\n",
        "# number of training passes on local dataset for each roung\n",
        "E = 5\n",
        "# batch size\n",
        "batch_size = 10\n",
        "# learning Rate\n",
        "lr=0.01\n",
        "# proximal term constant\n",
        "mu = 0.001\n",
        "# percentage of clients to have fewer than E epochs\n",
        "percentage = 90\n",
        "# dict containing different type of data partition\n",
        "data_dict = non_iid_partition(mnist_data_train, 100, 200, 300, 2)\n",
        "# load model\n",
        "mnist_cnn = MNIST_CNN()\n",
        "\n",
        "if torch.cuda.is_available():\n",
        "  mnist_cnn.cuda()\n",
        "\n",
        "mnist_cnn_non_iid_trained = training(mnist_cnn, rounds, batch_size, lr, mnist_data_train, data_dict, C, K, E, mu, percentage, \"FedProx MNIST CNN on non-IID Dataset (90%)\", \"green\")\n"
      ],
      "execution_count": 22,
      "outputs": [
        {
          "output_type": "stream",
          "text": [
            "Round: 1... \tAverage Loss: 0.253\n",
            "Round: 2... \tAverage Loss: 0.139\n",
            "Round: 3... \tAverage Loss: 0.101\n",
            "Round: 4... \tAverage Loss: 0.082\n",
            "Round: 5... \tAverage Loss: 0.071\n",
            "Round: 6... \tAverage Loss: 0.06\n",
            "Round: 7... \tAverage Loss: 0.055\n",
            "Round: 8... \tAverage Loss: 0.053\n",
            "Round: 9... \tAverage Loss: 0.052\n",
            "Round: 10... \tAverage Loss: 0.044\n",
            "Round: 11... \tAverage Loss: 0.048\n",
            "Round: 12... \tAverage Loss: 0.037\n",
            "Round: 13... \tAverage Loss: 0.046\n",
            "Round: 14... \tAverage Loss: 0.038\n",
            "Round: 15... \tAverage Loss: 0.027\n",
            "Round: 16... \tAverage Loss: 0.03\n",
            "Round: 17... \tAverage Loss: 0.02\n",
            "Round: 18... \tAverage Loss: 0.039\n",
            "Round: 19... \tAverage Loss: 0.019\n",
            "Round: 20... \tAverage Loss: 0.047\n",
            "Round: 21... \tAverage Loss: 0.051\n",
            "Round: 22... \tAverage Loss: 0.023\n",
            "Round: 23... \tAverage Loss: 0.027\n",
            "Round: 24... \tAverage Loss: 0.023\n",
            "Round: 25... \tAverage Loss: 0.025\n",
            "Round: 26... \tAverage Loss: 0.025\n",
            "Round: 27... \tAverage Loss: 0.026\n",
            "Round: 28... \tAverage Loss: 0.031\n",
            "Round: 29... \tAverage Loss: 0.027\n",
            "Round: 30... \tAverage Loss: 0.013\n",
            "Round: 31... \tAverage Loss: 0.025\n",
            "Round: 32... \tAverage Loss: 0.017\n",
            "Round: 33... \tAverage Loss: 0.031\n",
            "Round: 34... \tAverage Loss: 0.023\n",
            "Round: 35... \tAverage Loss: 0.018\n",
            "Round: 36... \tAverage Loss: 0.015\n",
            "Round: 37... \tAverage Loss: 0.026\n",
            "Round: 38... \tAverage Loss: 0.021\n",
            "Round: 39... \tAverage Loss: 0.02\n",
            "Round: 40... \tAverage Loss: 0.017\n",
            "Round: 41... \tAverage Loss: 0.019\n",
            "Round: 42... \tAverage Loss: 0.013\n",
            "Round: 43... \tAverage Loss: 0.016\n",
            "Round: 44... \tAverage Loss: 0.011\n",
            "Round: 45... \tAverage Loss: 0.018\n",
            "Round: 46... \tAverage Loss: 0.026\n",
            "Round: 47... \tAverage Loss: 0.021\n",
            "Round: 48... \tAverage Loss: 0.016\n",
            "Round: 49... \tAverage Loss: 0.025\n",
            "Round: 50... \tAverage Loss: 0.013\n",
            "Round: 51... \tAverage Loss: 0.016\n",
            "Round: 52... \tAverage Loss: 0.018\n",
            "Round: 53... \tAverage Loss: 0.018\n",
            "Round: 54... \tAverage Loss: 0.018\n",
            "Round: 55... \tAverage Loss: 0.019\n",
            "Round: 56... \tAverage Loss: 0.014\n",
            "Round: 57... \tAverage Loss: 0.014\n",
            "Round: 58... \tAverage Loss: 0.013\n",
            "Round: 59... \tAverage Loss: 0.014\n",
            "Round: 60... \tAverage Loss: 0.009\n",
            "Round: 61... \tAverage Loss: 0.016\n",
            "Round: 62... \tAverage Loss: 0.013\n",
            "Round: 63... \tAverage Loss: 0.014\n",
            "Round: 64... \tAverage Loss: 0.013\n",
            "Round: 65... \tAverage Loss: 0.022\n",
            "Round: 66... \tAverage Loss: 0.009\n",
            "Round: 67... \tAverage Loss: 0.021\n",
            "Round: 68... \tAverage Loss: 0.011\n",
            "Round: 69... \tAverage Loss: 0.011\n",
            "Round: 70... \tAverage Loss: 0.012\n",
            "Round: 71... \tAverage Loss: 0.015\n",
            "Round: 72... \tAverage Loss: 0.013\n",
            "Round: 73... \tAverage Loss: 0.008\n",
            "Round: 74... \tAverage Loss: 0.014\n",
            "Round: 75... \tAverage Loss: 0.015\n",
            "Round: 76... \tAverage Loss: 0.016\n",
            "Round: 77... \tAverage Loss: 0.011\n",
            "Round: 78... \tAverage Loss: 0.011\n",
            "Round: 79... \tAverage Loss: 0.009\n",
            "Round: 80... \tAverage Loss: 0.019\n",
            "Round: 81... \tAverage Loss: 0.01\n",
            "Round: 82... \tAverage Loss: 0.013\n",
            "Round: 83... \tAverage Loss: 0.014\n",
            "Round: 84... \tAverage Loss: 0.008\n",
            "Round: 85... \tAverage Loss: 0.009\n",
            "Round: 86... \tAverage Loss: 0.009\n",
            "Round: 87... \tAverage Loss: 0.018\n",
            "Round: 88... \tAverage Loss: 0.009\n",
            "Round: 89... \tAverage Loss: 0.01\n",
            "Round: 90... \tAverage Loss: 0.014\n",
            "Round: 91... \tAverage Loss: 0.015\n",
            "Round: 92... \tAverage Loss: 0.018\n",
            "Round: 93... \tAverage Loss: 0.011\n",
            "Round: 94... \tAverage Loss: 0.01\n",
            "Round: 95... \tAverage Loss: 0.015\n",
            "Round: 96... \tAverage Loss: 0.007\n",
            "Round: 97... \tAverage Loss: 0.012\n",
            "Round: 98... \tAverage Loss: 0.007\n",
            "Round: 99... \tAverage Loss: 0.013\n",
            "Round: 100... \tAverage Loss: 0.01\n",
            "Training Done!\n",
            "Total time taken to Train: 630.5883157253265\n",
            "Training Done!\n",
            "Total time taken: 630.5883157253265\n"
          ],
          "name": "stdout"
        },
        {
          "output_type": "display_data",
          "data": {
            "image/png": "[encoded data removed]",
            "text/plain": [
              "<Figure size 432x288 with 1 Axes>"
            ]
          },
          "metadata": {
            "tags": [],
            "needs_background": "light"
          }
        }
      ]
    },
    {
      "cell_type": "markdown",
      "metadata": {
        "id": "4C68J-Kk14dB",
        "colab_type": "text"
      },
      "source": [
        "### Test"
      ]
    },
    {
      "cell_type": "code",
      "metadata": {
        "id": "_yQ9GiAZ15jE",
        "colab_type": "code",
        "colab": {
          "base_uri": "https://localhost:8080/",
          "height": 0
        },
        "outputId": "75ed7aa2-bb36-420c-c01c-942a32c857db"
      },
      "source": [
        "criterion = nn.CrossEntropyLoss()\n",
        "testing(mnist_cnn_non_iid_trained, mnist_data_test, 128, criterion, num_classes, classes_test)"
      ],
      "execution_count": 23,
      "outputs": [
        {
          "output_type": "stream",
          "text": [
            "Test Loss: 0.067331\n",
            "\n",
            "Test Accuracy of     0: 100% (76/76)\n",
            "Test Accuracy of     1: 100% (90/90)\n",
            "Test Accuracy of     2: 91% (83/91)\n",
            "Test Accuracy of     3: 95% (70/73)\n",
            "Test Accuracy of     4: 100% (89/89)\n",
            "Test Accuracy of     5: 98% (67/68)\n",
            "Test Accuracy of     6: 98% (61/62)\n",
            "Test Accuracy of     7: 100% (81/81)\n",
            "Test Accuracy of     8: 100% (77/77)\n",
            "Test Accuracy of     9: 97% (81/83)\n",
            "\n",
            "Final Test  Accuracy: 98.101 (775.0/790.0)\n"
          ],
          "name": "stdout"
        }
      ]
    },
    {
      "cell_type": "markdown",
      "metadata": {
        "id": "z_jifdzniuhm",
        "colab_type": "text"
      },
      "source": [
        "## MNIST MLP on IID"
      ]
    },
    {
      "cell_type": "markdown",
      "metadata": {
        "id": "uh-te0Od2XGO",
        "colab_type": "text"
      },
      "source": [
        "### Train"
      ]
    },
    {
      "cell_type": "code",
      "metadata": {
        "id": "UmpWmKOQixVV",
        "colab_type": "code",
        "colab": {
          "base_uri": "https://localhost:8080/",
          "height": 0
        },
        "outputId": "33f16651-e5af-4e2c-da2c-5f875fc12b8d"
      },
      "source": [
        "# number of training rounds\n",
        "rounds = 100\n",
        "# client fraction\n",
        "C = 0.1\n",
        "# number of clients\n",
        "K = 100\n",
        "# number of training passes on local dataset for each round\n",
        "E = 5\n",
        "# batch size\n",
        "batch_size = 10\n",
        "# learning Rate\n",
        "lr=0.03\n",
        "# proximal term constant\n",
        "mu = 0.001\n",
        "# percentage of clients to have fewer than E epochs\n",
        "percentage = 90\n",
        "# dict containing different type of data partition\n",
        "data_dict = iid_partition(mnist_data_train, 100)\n",
        "# load model\n",
        "mnist_mlp = MNIST_2NN()\n",
        "\n",
        "if torch.cuda.is_available():\n",
        "  mnist_mlp.cuda()\n",
        "\n",
        "mnist_mlp_iid_trained = training(mnist_mlp, rounds, batch_size, lr, mnist_data_train, data_dict, C, K, E, mu, percentage, \"FedProx MNIST MLP on IID Dataset (90%)\", \"orange\")\n"
      ],
      "execution_count": 24,
      "outputs": [
        {
          "output_type": "stream",
          "text": [
            "Round: 1... \tAverage Loss: 2.596\n",
            "Round: 2... \tAverage Loss: 0.349\n",
            "Round: 3... \tAverage Loss: 0.229\n",
            "Round: 4... \tAverage Loss: 0.263\n",
            "Round: 5... \tAverage Loss: 0.207\n",
            "Round: 6... \tAverage Loss: 0.205\n",
            "Round: 7... \tAverage Loss: 0.16\n",
            "Round: 8... \tAverage Loss: 0.166\n",
            "Round: 9... \tAverage Loss: 0.176\n",
            "Round: 10... \tAverage Loss: 0.128\n",
            "Round: 11... \tAverage Loss: 0.15\n",
            "Round: 12... \tAverage Loss: 0.102\n",
            "Round: 13... \tAverage Loss: 0.131\n",
            "Round: 14... \tAverage Loss: 0.116\n",
            "Round: 15... \tAverage Loss: 0.083\n",
            "Round: 16... \tAverage Loss: 0.113\n",
            "Round: 17... \tAverage Loss: 0.086\n",
            "Round: 18... \tAverage Loss: 0.1\n",
            "Round: 19... \tAverage Loss: 0.101\n",
            "Round: 20... \tAverage Loss: 0.095\n",
            "Round: 21... \tAverage Loss: 0.088\n",
            "Round: 22... \tAverage Loss: 0.09\n",
            "Round: 23... \tAverage Loss: 0.077\n",
            "Round: 24... \tAverage Loss: 0.085\n",
            "Round: 25... \tAverage Loss: 0.067\n",
            "Round: 26... \tAverage Loss: 0.095\n",
            "Round: 27... \tAverage Loss: 0.071\n",
            "Round: 28... \tAverage Loss: 0.084\n",
            "Round: 29... \tAverage Loss: 0.061\n",
            "Round: 30... \tAverage Loss: 0.089\n",
            "Round: 31... \tAverage Loss: 0.063\n",
            "Round: 32... \tAverage Loss: 0.06\n",
            "Round: 33... \tAverage Loss: 0.051\n",
            "Round: 34... \tAverage Loss: 0.054\n",
            "Round: 35... \tAverage Loss: 0.063\n",
            "Round: 36... \tAverage Loss: 0.062\n",
            "Round: 37... \tAverage Loss: 0.072\n",
            "Round: 38... \tAverage Loss: 0.066\n",
            "Round: 39... \tAverage Loss: 0.057\n",
            "Round: 40... \tAverage Loss: 0.042\n",
            "Round: 41... \tAverage Loss: 0.059\n",
            "Round: 42... \tAverage Loss: 0.066\n",
            "Round: 43... \tAverage Loss: 0.041\n",
            "Round: 44... \tAverage Loss: 0.05\n",
            "Round: 45... \tAverage Loss: 0.049\n",
            "Round: 46... \tAverage Loss: 0.039\n",
            "Round: 47... \tAverage Loss: 0.044\n",
            "Round: 48... \tAverage Loss: 0.048\n",
            "Round: 49... \tAverage Loss: 0.044\n",
            "Round: 50... \tAverage Loss: 0.028\n",
            "Round: 51... \tAverage Loss: 0.037\n",
            "Round: 52... \tAverage Loss: 0.032\n",
            "Round: 53... \tAverage Loss: 0.045\n",
            "Round: 54... \tAverage Loss: 0.05\n",
            "Round: 55... \tAverage Loss: 0.057\n",
            "Round: 56... \tAverage Loss: 0.039\n",
            "Round: 57... \tAverage Loss: 0.033\n",
            "Round: 58... \tAverage Loss: 0.03\n",
            "Round: 59... \tAverage Loss: 0.035\n",
            "Round: 60... \tAverage Loss: 0.025\n",
            "Round: 61... \tAverage Loss: 0.037\n",
            "Round: 62... \tAverage Loss: 0.044\n",
            "Round: 63... \tAverage Loss: 0.033\n",
            "Round: 64... \tAverage Loss: 0.024\n",
            "Round: 65... \tAverage Loss: 0.052\n",
            "Round: 66... \tAverage Loss: 0.039\n",
            "Round: 67... \tAverage Loss: 0.034\n",
            "Round: 68... \tAverage Loss: 0.032\n",
            "Round: 69... \tAverage Loss: 0.027\n",
            "Round: 70... \tAverage Loss: 0.047\n",
            "Round: 71... \tAverage Loss: 0.029\n",
            "Round: 72... \tAverage Loss: 0.024\n",
            "Round: 73... \tAverage Loss: 0.029\n",
            "Round: 74... \tAverage Loss: 0.029\n",
            "Round: 75... \tAverage Loss: 0.031\n",
            "Round: 76... \tAverage Loss: 0.036\n",
            "Round: 77... \tAverage Loss: 0.023\n",
            "Round: 78... \tAverage Loss: 0.031\n",
            "Round: 79... \tAverage Loss: 0.033\n",
            "Round: 80... \tAverage Loss: 0.031\n",
            "Round: 81... \tAverage Loss: 0.028\n",
            "Round: 82... \tAverage Loss: 0.028\n",
            "Round: 83... \tAverage Loss: 0.03\n",
            "Round: 84... \tAverage Loss: 0.024\n",
            "Round: 85... \tAverage Loss: 0.033\n",
            "Round: 86... \tAverage Loss: 0.026\n",
            "Round: 87... \tAverage Loss: 0.024\n",
            "Round: 88... \tAverage Loss: 0.025\n",
            "Round: 89... \tAverage Loss: 0.027\n",
            "Round: 90... \tAverage Loss: 0.025\n",
            "Round: 91... \tAverage Loss: 0.027\n",
            "Round: 92... \tAverage Loss: 0.026\n",
            "Round: 93... \tAverage Loss: 0.018\n",
            "Round: 94... \tAverage Loss: 0.028\n",
            "Round: 95... \tAverage Loss: 0.024\n",
            "Round: 96... \tAverage Loss: 0.024\n",
            "Round: 97... \tAverage Loss: 0.022\n",
            "Round: 98... \tAverage Loss: 0.042\n",
            "Round: 99... \tAverage Loss: 0.028\n",
            "Round: 100... \tAverage Loss: 0.027\n",
            "Training Done!\n",
            "Total time taken to Train: 406.70003485679626\n",
            "Training Done!\n",
            "Total time taken: 406.70003485679626\n"
          ],
          "name": "stdout"
        },
        {
          "output_type": "display_data",
          "data": {
            "image/png": "[encoded data removed]",
            "text/plain": [
              "<Figure size 432x288 with 1 Axes>"
            ]
          },
          "metadata": {
            "tags": [],
            "needs_background": "light"
          }
        }
      ]
    },
    {
      "cell_type": "markdown",
      "metadata": {
        "id": "aTBsL3-72PPd",
        "colab_type": "text"
      },
      "source": [
        "### Test"
      ]
    },
    {
      "cell_type": "code",
      "metadata": {
        "id": "a9G4j5L62OrS",
        "colab_type": "code",
        "colab": {
          "base_uri": "https://localhost:8080/",
          "height": 0
        },
        "outputId": "ebbdafe1-d982-4571-b89a-4a6bf0ff4455"
      },
      "source": [
        "criterion = nn.CrossEntropyLoss()\n",
        "testing(mnist_mlp_iid_trained, mnist_data_test, 128, criterion, num_classes, classes_test)"
      ],
      "execution_count": 25,
      "outputs": [
        {
          "output_type": "stream",
          "text": [
            "Test Loss: 0.072825\n",
            "\n",
            "Test Accuracy of     0: 97% (74/76)\n",
            "Test Accuracy of     1: 97% (88/90)\n",
            "Test Accuracy of     2: 97% (89/91)\n",
            "Test Accuracy of     3: 98% (72/73)\n",
            "Test Accuracy of     4: 98% (88/89)\n",
            "Test Accuracy of     5: 97% (66/68)\n",
            "Test Accuracy of     6: 98% (61/62)\n",
            "Test Accuracy of     7: 98% (80/81)\n",
            "Test Accuracy of     8: 100% (77/77)\n",
            "Test Accuracy of     9: 97% (81/83)\n",
            "\n",
            "Final Test  Accuracy: 98.228 (776.0/790.0)\n"
          ],
          "name": "stdout"
        }
      ]
    },
    {
      "cell_type": "markdown",
      "metadata": {
        "id": "J8jzEyO0iywz",
        "colab_type": "text"
      },
      "source": [
        "## MNIST MLP on Non IID"
      ]
    },
    {
      "cell_type": "markdown",
      "metadata": {
        "id": "pJFepr3y2bF-",
        "colab_type": "text"
      },
      "source": [
        "### Train"
      ]
    },
    {
      "cell_type": "code",
      "metadata": {
        "id": "EBKO44Hgi1Uh",
        "colab_type": "code",
        "colab": {
          "base_uri": "https://localhost:8080/",
          "height": 0
        },
        "outputId": "64025c8b-4731-4dcd-9031-c6fd5b6e22f5"
      },
      "source": [
        "# number of training rounds\n",
        "rounds = 100\n",
        "# client fraction\n",
        "C = 0.1\n",
        "# number of clients\n",
        "K = 100\n",
        "# number of training passes on local dataset for each roung\n",
        "E = 5\n",
        "# batch size\n",
        "batch_size = 10\n",
        "# learning Rate\n",
        "lr=0.05\n",
        "# proximal term constant\n",
        "mu = 0.001\n",
        "# percentage of clients to have fewer than E epochs\n",
        "percentage = 90\n",
        "# dict containing different type of data partition\n",
        "data_dict = non_iid_partition(mnist_data_train, 100, 200, 300, 2)\n",
        "# load model\n",
        "mnist_mlp = MNIST_2NN()\n",
        "\n",
        "if torch.cuda.is_available():\n",
        "  mnist_mlp.cuda()\n",
        "\n",
        "mnist_mlp_non_iid_trained = training(mnist_mlp, rounds, batch_size, lr, mnist_data_train, data_dict, C, K, E, mu, percentage, \"FedProx MNIST MLP on non-IID Dataset (90%)\", \"green\")"
      ],
      "execution_count": 26,
      "outputs": [
        {
          "output_type": "stream",
          "text": [
            "Round: 1... \tAverage Loss: 0.778\n",
            "Round: 2... \tAverage Loss: 0.121\n",
            "Round: 3... \tAverage Loss: 0.094\n",
            "Round: 4... \tAverage Loss: 0.093\n",
            "Round: 5... \tAverage Loss: 0.061\n",
            "Round: 6... \tAverage Loss: 0.074\n",
            "Round: 7... \tAverage Loss: 0.105\n",
            "Round: 8... \tAverage Loss: 0.036\n",
            "Round: 9... \tAverage Loss: 0.059\n",
            "Round: 10... \tAverage Loss: 0.055\n",
            "Round: 11... \tAverage Loss: 0.05\n",
            "Round: 12... \tAverage Loss: 0.071\n",
            "Round: 13... \tAverage Loss: 0.044\n",
            "Round: 14... \tAverage Loss: 0.059\n",
            "Round: 15... \tAverage Loss: 0.04\n",
            "Round: 16... \tAverage Loss: 0.037\n",
            "Round: 17... \tAverage Loss: 0.091\n",
            "Round: 18... \tAverage Loss: 0.033\n",
            "Round: 19... \tAverage Loss: 0.03\n",
            "Round: 20... \tAverage Loss: 0.022\n",
            "Round: 21... \tAverage Loss: 0.042\n",
            "Round: 22... \tAverage Loss: 0.048\n",
            "Round: 23... \tAverage Loss: 0.042\n",
            "Round: 24... \tAverage Loss: 0.042\n",
            "Round: 25... \tAverage Loss: 0.027\n",
            "Round: 26... \tAverage Loss: 0.022\n",
            "Round: 27... \tAverage Loss: 0.034\n",
            "Round: 28... \tAverage Loss: 0.016\n",
            "Round: 29... \tAverage Loss: 0.02\n",
            "Round: 30... \tAverage Loss: 0.038\n",
            "Round: 31... \tAverage Loss: 0.019\n",
            "Round: 32... \tAverage Loss: 0.023\n",
            "Round: 33... \tAverage Loss: 0.055\n",
            "Round: 34... \tAverage Loss: 0.027\n",
            "Round: 35... \tAverage Loss: 0.027\n",
            "Round: 36... \tAverage Loss: 0.037\n",
            "Round: 37... \tAverage Loss: 0.024\n",
            "Round: 38... \tAverage Loss: 0.019\n",
            "Round: 39... \tAverage Loss: 0.019\n",
            "Round: 40... \tAverage Loss: 0.024\n",
            "Round: 41... \tAverage Loss: 0.016\n",
            "Round: 42... \tAverage Loss: 0.046\n",
            "Round: 43... \tAverage Loss: 0.036\n",
            "Round: 44... \tAverage Loss: 0.04\n",
            "Round: 45... \tAverage Loss: 0.032\n",
            "Round: 46... \tAverage Loss: 0.029\n",
            "Round: 47... \tAverage Loss: 0.026\n",
            "Round: 48... \tAverage Loss: 0.026\n",
            "Round: 49... \tAverage Loss: 0.014\n",
            "Round: 50... \tAverage Loss: 0.017\n",
            "Round: 51... \tAverage Loss: 0.024\n",
            "Round: 52... \tAverage Loss: 0.027\n",
            "Round: 53... \tAverage Loss: 0.031\n",
            "Round: 54... \tAverage Loss: 0.036\n",
            "Round: 55... \tAverage Loss: 0.023\n",
            "Round: 56... \tAverage Loss: 0.018\n",
            "Round: 57... \tAverage Loss: 0.017\n",
            "Round: 58... \tAverage Loss: 0.017\n",
            "Round: 59... \tAverage Loss: 0.012\n",
            "Round: 60... \tAverage Loss: 0.016\n",
            "Round: 61... \tAverage Loss: 0.016\n",
            "Round: 62... \tAverage Loss: 0.022\n",
            "Round: 63... \tAverage Loss: 0.021\n",
            "Round: 64... \tAverage Loss: 0.017\n",
            "Round: 65... \tAverage Loss: 0.011\n",
            "Round: 66... \tAverage Loss: 0.029\n",
            "Round: 67... \tAverage Loss: 0.018\n",
            "Round: 68... \tAverage Loss: 0.023\n",
            "Round: 69... \tAverage Loss: 0.014\n",
            "Round: 70... \tAverage Loss: 0.013\n",
            "Round: 71... \tAverage Loss: 0.021\n",
            "Round: 72... \tAverage Loss: 0.015\n",
            "Round: 73... \tAverage Loss: 0.009\n",
            "Round: 74... \tAverage Loss: 0.015\n",
            "Round: 75... \tAverage Loss: 0.018\n",
            "Round: 76... \tAverage Loss: 0.015\n",
            "Round: 77... \tAverage Loss: 0.014\n",
            "Round: 78... \tAverage Loss: 0.021\n",
            "Round: 79... \tAverage Loss: 0.02\n",
            "Round: 80... \tAverage Loss: 0.013\n",
            "Round: 81... \tAverage Loss: 0.015\n",
            "Round: 82... \tAverage Loss: 0.033\n",
            "Round: 83... \tAverage Loss: 0.02\n",
            "Round: 84... \tAverage Loss: 0.026\n",
            "Round: 85... \tAverage Loss: 0.014\n",
            "Round: 86... \tAverage Loss: 0.019\n",
            "Round: 87... \tAverage Loss: 0.023\n",
            "Round: 88... \tAverage Loss: 0.018\n",
            "Round: 89... \tAverage Loss: 0.015\n",
            "Round: 90... \tAverage Loss: 0.015\n",
            "Round: 91... \tAverage Loss: 0.012\n",
            "Round: 92... \tAverage Loss: 0.007\n",
            "Round: 93... \tAverage Loss: 0.012\n",
            "Round: 94... \tAverage Loss: 0.025\n",
            "Round: 95... \tAverage Loss: 0.01\n",
            "Round: 96... \tAverage Loss: 0.028\n",
            "Round: 97... \tAverage Loss: 0.012\n",
            "Round: 98... \tAverage Loss: 0.007\n",
            "Round: 99... \tAverage Loss: 0.018\n",
            "Round: 100... \tAverage Loss: 0.016\n",
            "Training Done!\n",
            "Total time taken to Train: 417.184202671051\n",
            "Training Done!\n",
            "Total time taken: 417.184202671051\n"
          ],
          "name": "stdout"
        },
        {
          "output_type": "display_data",
          "data": {
            "image/png": "[encoded data removed]",
            "text/plain": [
              "<Figure size 432x288 with 1 Axes>"
            ]
          },
          "metadata": {
            "tags": [],
            "needs_background": "light"
          }
        }
      ]
    },
    {
      "cell_type": "markdown",
      "metadata": {
        "id": "jmuQYPbF2mes",
        "colab_type": "text"
      },
      "source": [
        "### Test"
      ]
    },
    {
      "cell_type": "code",
      "metadata": {
        "id": "0tKMlJyF2nGN",
        "colab_type": "code",
        "colab": {
          "base_uri": "https://localhost:8080/",
          "height": 0
        },
        "outputId": "e4a1b246-1d9c-429d-882b-56fb1392a76a"
      },
      "source": [
        "criterion = nn.CrossEntropyLoss()\n",
        "testing(mnist_mlp_non_iid_trained, mnist_data_test, 128, criterion, num_classes, classes_test)"
      ],
      "execution_count": 27,
      "outputs": [
        {
          "output_type": "stream",
          "text": [
            "Test Loss: 0.151815\n",
            "\n",
            "Test Accuracy of     0: 98% (75/76)\n",
            "Test Accuracy of     1: 96% (87/90)\n",
            "Test Accuracy of     2: 93% (85/91)\n",
            "Test Accuracy of     3: 100% (73/73)\n",
            "Test Accuracy of     4: 95% (85/89)\n",
            "Test Accuracy of     5: 80% (55/68)\n",
            "Test Accuracy of     6: 98% (61/62)\n",
            "Test Accuracy of     7: 93% (76/81)\n",
            "Test Accuracy of     8: 97% (75/77)\n",
            "Test Accuracy of     9: 93% (78/83)\n",
            "\n",
            "Final Test  Accuracy: 94.937 (750.0/790.0)\n"
          ],
          "name": "stdout"
        }
      ]
    },
    {
      "cell_type": "markdown",
      "metadata": {
        "id": "HdOmGsJLC5OD",
        "colab_type": "text"
      },
      "source": [
        "# Training with 50% probability of system heterogeneity"
      ]
    },
    {
      "cell_type": "markdown",
      "metadata": {
        "colab_type": "text",
        "id": "gnlxH6QdDGzc"
      },
      "source": [
        "## MNIST CNN on IID"
      ]
    },
    {
      "cell_type": "markdown",
      "metadata": {
        "colab_type": "text",
        "id": "8fiWKhiKDGze"
      },
      "source": [
        "### Train\n"
      ]
    },
    {
      "cell_type": "code",
      "metadata": {
        "colab_type": "code",
        "id": "bmHjsXHeDGzg",
        "colab": {
          "base_uri": "https://localhost:8080/",
          "height": 1000
        },
        "outputId": "32f09509-2db5-4d22-cf1c-fb3b69e2d144"
      },
      "source": [
        "# number of training rounds\n",
        "rounds = 100\n",
        "# client fraction\n",
        "C = 0.1\n",
        "# number of clients\n",
        "K = 100\n",
        "# number of training passes on local dataset for each roung\n",
        "E = 20\n",
        "# batch size\n",
        "batch_size = 10\n",
        "# learning Rate\n",
        "lr=0.01\n",
        "# proximal term constant\n",
        "mu = 0.001\n",
        "# percentage of clients to have fewer than E epochs\n",
        "percentage = 50\n",
        "# data partition dictionary\n",
        "iid_dict = iid_partition(mnist_data_train, 100)\n",
        "# load model\n",
        "mnist_cnn = MNIST_CNN()\n",
        "\n",
        "if torch.cuda.is_available():\n",
        "  mnist_cnn.cuda()\n",
        "\n",
        "mnist_cnn_iid_trained = training(mnist_cnn, rounds, batch_size, lr, mnist_data_train, iid_dict, C, K, E, mu, percentage, \"FedProx MNIST CNN on IID Dataset (50%)\", \"orange\")"
      ],
      "execution_count": 28,
      "outputs": [
        {
          "output_type": "stream",
          "text": [
            "Round: 1... \tAverage Loss: 0.368\n",
            "Round: 2... \tAverage Loss: 0.059\n",
            "Round: 3... \tAverage Loss: 0.037\n",
            "Round: 4... \tAverage Loss: 0.042\n",
            "Round: 5... \tAverage Loss: 0.035\n",
            "Round: 6... \tAverage Loss: 0.025\n",
            "Round: 7... \tAverage Loss: 0.021\n",
            "Round: 8... \tAverage Loss: 0.023\n",
            "Round: 9... \tAverage Loss: 0.038\n",
            "Round: 10... \tAverage Loss: 0.027\n",
            "Round: 11... \tAverage Loss: 0.016\n",
            "Round: 12... \tAverage Loss: 0.021\n",
            "Round: 13... \tAverage Loss: 0.016\n",
            "Round: 14... \tAverage Loss: 0.025\n",
            "Round: 15... \tAverage Loss: 0.012\n",
            "Round: 16... \tAverage Loss: 0.018\n",
            "Round: 17... \tAverage Loss: 0.012\n",
            "Round: 18... \tAverage Loss: 0.017\n",
            "Round: 19... \tAverage Loss: 0.017\n",
            "Round: 20... \tAverage Loss: 0.01\n",
            "Round: 21... \tAverage Loss: 0.017\n",
            "Round: 22... \tAverage Loss: 0.011\n",
            "Round: 23... \tAverage Loss: 0.012\n",
            "Round: 24... \tAverage Loss: 0.017\n",
            "Round: 25... \tAverage Loss: 0.009\n",
            "Round: 26... \tAverage Loss: 0.01\n",
            "Round: 27... \tAverage Loss: 0.014\n",
            "Round: 28... \tAverage Loss: 0.008\n",
            "Round: 29... \tAverage Loss: 0.02\n",
            "Round: 30... \tAverage Loss: 0.006\n",
            "Round: 31... \tAverage Loss: 0.007\n",
            "Round: 32... \tAverage Loss: 0.008\n",
            "Round: 33... \tAverage Loss: 0.01\n",
            "Round: 34... \tAverage Loss: 0.018\n",
            "Round: 35... \tAverage Loss: 0.009\n",
            "Round: 36... \tAverage Loss: 0.017\n",
            "Round: 37... \tAverage Loss: 0.01\n",
            "Round: 38... \tAverage Loss: 0.006\n",
            "Round: 39... \tAverage Loss: 0.008\n",
            "Round: 40... \tAverage Loss: 0.008\n",
            "Round: 41... \tAverage Loss: 0.005\n",
            "Round: 42... \tAverage Loss: 0.008\n",
            "Round: 43... \tAverage Loss: 0.008\n",
            "Round: 44... \tAverage Loss: 0.014\n",
            "Round: 45... \tAverage Loss: 0.007\n",
            "Round: 46... \tAverage Loss: 0.007\n",
            "Round: 47... \tAverage Loss: 0.009\n",
            "Round: 48... \tAverage Loss: 0.008\n",
            "Round: 49... \tAverage Loss: 0.009\n",
            "Round: 50... \tAverage Loss: 0.01\n",
            "Round: 51... \tAverage Loss: 0.005\n",
            "Round: 52... \tAverage Loss: 0.006\n",
            "Round: 53... \tAverage Loss: 0.004\n",
            "Round: 54... \tAverage Loss: 0.004\n",
            "Round: 55... \tAverage Loss: 0.021\n",
            "Round: 56... \tAverage Loss: 0.005\n",
            "Round: 57... \tAverage Loss: 0.005\n",
            "Round: 58... \tAverage Loss: 0.007\n",
            "Round: 59... \tAverage Loss: 0.004\n",
            "Round: 60... \tAverage Loss: 0.006\n",
            "Round: 61... \tAverage Loss: 0.012\n",
            "Round: 62... \tAverage Loss: 0.005\n",
            "Round: 63... \tAverage Loss: 0.005\n",
            "Round: 64... \tAverage Loss: 0.008\n",
            "Round: 65... \tAverage Loss: 0.004\n",
            "Round: 66... \tAverage Loss: 0.005\n",
            "Round: 67... \tAverage Loss: 0.005\n",
            "Round: 68... \tAverage Loss: 0.007\n",
            "Round: 69... \tAverage Loss: 0.006\n",
            "Round: 70... \tAverage Loss: 0.003\n",
            "Round: 71... \tAverage Loss: 0.006\n",
            "Round: 72... \tAverage Loss: 0.005\n",
            "Round: 73... \tAverage Loss: 0.006\n",
            "Round: 74... \tAverage Loss: 0.01\n",
            "Round: 75... \tAverage Loss: 0.007\n",
            "Round: 76... \tAverage Loss: 0.012\n",
            "Round: 77... \tAverage Loss: 0.004\n",
            "Round: 78... \tAverage Loss: 0.005\n",
            "Round: 79... \tAverage Loss: 0.003\n",
            "Round: 80... \tAverage Loss: 0.003\n",
            "Round: 81... \tAverage Loss: 0.006\n",
            "Round: 82... \tAverage Loss: 0.003\n",
            "Round: 83... \tAverage Loss: 0.004\n",
            "Round: 84... \tAverage Loss: 0.003\n",
            "Round: 85... \tAverage Loss: 0.004\n",
            "Round: 86... \tAverage Loss: 0.004\n",
            "Round: 87... \tAverage Loss: 0.005\n",
            "Round: 88... \tAverage Loss: 0.004\n",
            "Round: 89... \tAverage Loss: 0.004\n",
            "Round: 90... \tAverage Loss: 0.002\n",
            "Round: 91... \tAverage Loss: 0.003\n",
            "Round: 92... \tAverage Loss: 0.006\n",
            "Round: 93... \tAverage Loss: 0.009\n",
            "Round: 94... \tAverage Loss: 0.006\n",
            "Round: 95... \tAverage Loss: 0.004\n",
            "Round: 96... \tAverage Loss: 0.003\n",
            "Round: 97... \tAverage Loss: 0.004\n",
            "Round: 98... \tAverage Loss: 0.004\n",
            "Round: 99... \tAverage Loss: 0.007\n",
            "Round: 100... \tAverage Loss: 0.004\n",
            "Training Done!\n",
            "Total time taken to Train: 3350.222795724869\n",
            "Training Done!\n",
            "Total time taken: 3350.222795724869\n"
          ],
          "name": "stdout"
        },
        {
          "output_type": "display_data",
          "data": {
            "image/png": "[encoded data removed]",
            "text/plain": [
              "<Figure size 432x288 with 1 Axes>"
            ]
          },
          "metadata": {
            "tags": [],
            "needs_background": "light"
          }
        }
      ]
    },
    {
      "cell_type": "markdown",
      "metadata": {
        "colab_type": "text",
        "id": "9ZqpiIGTDGzk"
      },
      "source": [
        "### Test"
      ]
    },
    {
      "cell_type": "code",
      "metadata": {
        "colab_type": "code",
        "id": "mF0yqZOGDGzl",
        "colab": {
          "base_uri": "https://localhost:8080/",
          "height": 255
        },
        "outputId": "623ffaeb-66bc-48d3-af1e-6fcf07338757"
      },
      "source": [
        "criterion = nn.CrossEntropyLoss()\n",
        "testing(mnist_cnn_iid_trained, mnist_data_test, 128, criterion, num_classes, classes_test)"
      ],
      "execution_count": 29,
      "outputs": [
        {
          "output_type": "stream",
          "text": [
            "Test Loss: 0.022501\n",
            "\n",
            "Test Accuracy of     0: 98% (75/76)\n",
            "Test Accuracy of     1: 100% (90/90)\n",
            "Test Accuracy of     2: 100% (91/91)\n",
            "Test Accuracy of     3: 98% (72/73)\n",
            "Test Accuracy of     4: 100% (89/89)\n",
            "Test Accuracy of     5: 98% (67/68)\n",
            "Test Accuracy of     6: 100% (62/62)\n",
            "Test Accuracy of     7: 100% (81/81)\n",
            "Test Accuracy of     8: 100% (77/77)\n",
            "Test Accuracy of     9: 98% (82/83)\n",
            "\n",
            "Final Test  Accuracy: 99.494 (786.0/790.0)\n"
          ],
          "name": "stdout"
        }
      ]
    },
    {
      "cell_type": "markdown",
      "metadata": {
        "colab_type": "text",
        "id": "3C1o99ZODOH8"
      },
      "source": [
        "## MNIST CNN on Non IID"
      ]
    },
    {
      "cell_type": "markdown",
      "metadata": {
        "colab_type": "text",
        "id": "MxLku0pEDOH9"
      },
      "source": [
        "### Train\n"
      ]
    },
    {
      "cell_type": "code",
      "metadata": {
        "colab_type": "code",
        "id": "jzQZEeOeDOH-",
        "colab": {
          "base_uri": "https://localhost:8080/",
          "height": 1000
        },
        "outputId": "9ae41f99-6de1-4842-a8db-e6d0b3b69cdc"
      },
      "source": [
        "# number of training rounds\n",
        "rounds = 100\n",
        "# client fraction\n",
        "C = 0.1\n",
        "# number of clients\n",
        "K = 100\n",
        "# number of training passes on local dataset for each roung\n",
        "E = 5\n",
        "# batch size\n",
        "batch_size = 10\n",
        "# learning Rate\n",
        "lr=0.01\n",
        "# proximal term constant\n",
        "mu = 0.001\n",
        "# percentage of clients to have fewer than E epochs\n",
        "percentage = 50\n",
        "# dict containing different type of data partition\n",
        "data_dict = non_iid_partition(mnist_data_train, 100, 200, 300, 2)\n",
        "# load model\n",
        "mnist_cnn = MNIST_CNN()\n",
        "\n",
        "if torch.cuda.is_available():\n",
        "  mnist_cnn.cuda()\n",
        "\n",
        "mnist_cnn_non_iid_trained = training(mnist_cnn, rounds, batch_size, lr, mnist_data_train, data_dict, C, K, E, mu, percentage, \"FedProx MNIST CNN on non-IID Dataset (50%)\", \"green\")\n"
      ],
      "execution_count": 30,
      "outputs": [
        {
          "output_type": "stream",
          "text": [
            "Round: 1... \tAverage Loss: 0.208\n",
            "Round: 2... \tAverage Loss: 0.085\n",
            "Round: 3... \tAverage Loss: 0.072\n",
            "Round: 4... \tAverage Loss: 0.04\n",
            "Round: 5... \tAverage Loss: 0.045\n",
            "Round: 6... \tAverage Loss: 0.046\n",
            "Round: 7... \tAverage Loss: 0.035\n",
            "Round: 8... \tAverage Loss: 0.041\n",
            "Round: 9... \tAverage Loss: 0.043\n",
            "Round: 10... \tAverage Loss: 0.037\n",
            "Round: 11... \tAverage Loss: 0.03\n",
            "Round: 12... \tAverage Loss: 0.04\n",
            "Round: 13... \tAverage Loss: 0.025\n",
            "Round: 14... \tAverage Loss: 0.018\n",
            "Round: 15... \tAverage Loss: 0.021\n",
            "Round: 16... \tAverage Loss: 0.033\n",
            "Round: 17... \tAverage Loss: 0.022\n",
            "Round: 18... \tAverage Loss: 0.033\n",
            "Round: 19... \tAverage Loss: 0.02\n",
            "Round: 20... \tAverage Loss: 0.035\n",
            "Round: 21... \tAverage Loss: 0.023\n",
            "Round: 22... \tAverage Loss: 0.028\n",
            "Round: 23... \tAverage Loss: 0.022\n",
            "Round: 24... \tAverage Loss: 0.023\n",
            "Round: 25... \tAverage Loss: 0.014\n",
            "Round: 26... \tAverage Loss: 0.012\n",
            "Round: 27... \tAverage Loss: 0.026\n",
            "Round: 28... \tAverage Loss: 0.02\n",
            "Round: 29... \tAverage Loss: 0.021\n",
            "Round: 30... \tAverage Loss: 0.019\n",
            "Round: 31... \tAverage Loss: 0.017\n",
            "Round: 32... \tAverage Loss: 0.02\n",
            "Round: 33... \tAverage Loss: 0.015\n",
            "Round: 34... \tAverage Loss: 0.016\n",
            "Round: 35... \tAverage Loss: 0.019\n",
            "Round: 36... \tAverage Loss: 0.013\n",
            "Round: 37... \tAverage Loss: 0.029\n",
            "Round: 38... \tAverage Loss: 0.02\n",
            "Round: 39... \tAverage Loss: 0.014\n",
            "Round: 40... \tAverage Loss: 0.017\n",
            "Round: 41... \tAverage Loss: 0.01\n",
            "Round: 42... \tAverage Loss: 0.011\n",
            "Round: 43... \tAverage Loss: 0.011\n",
            "Round: 44... \tAverage Loss: 0.016\n",
            "Round: 45... \tAverage Loss: 0.01\n",
            "Round: 46... \tAverage Loss: 0.024\n",
            "Round: 47... \tAverage Loss: 0.006\n",
            "Round: 48... \tAverage Loss: 0.012\n",
            "Round: 49... \tAverage Loss: 0.016\n",
            "Round: 50... \tAverage Loss: 0.005\n",
            "Round: 51... \tAverage Loss: 0.023\n",
            "Round: 52... \tAverage Loss: 0.011\n",
            "Round: 53... \tAverage Loss: 0.012\n",
            "Round: 54... \tAverage Loss: 0.017\n",
            "Round: 55... \tAverage Loss: 0.017\n",
            "Round: 56... \tAverage Loss: 0.017\n",
            "Round: 57... \tAverage Loss: 0.017\n",
            "Round: 58... \tAverage Loss: 0.011\n",
            "Round: 59... \tAverage Loss: 0.014\n",
            "Round: 60... \tAverage Loss: 0.013\n",
            "Round: 61... \tAverage Loss: 0.015\n",
            "Round: 62... \tAverage Loss: 0.016\n",
            "Round: 63... \tAverage Loss: 0.011\n",
            "Round: 64... \tAverage Loss: 0.015\n",
            "Round: 65... \tAverage Loss: 0.011\n",
            "Round: 66... \tAverage Loss: 0.008\n",
            "Round: 67... \tAverage Loss: 0.009\n",
            "Round: 68... \tAverage Loss: 0.009\n",
            "Round: 69... \tAverage Loss: 0.017\n",
            "Round: 70... \tAverage Loss: 0.011\n",
            "Round: 71... \tAverage Loss: 0.014\n",
            "Round: 72... \tAverage Loss: 0.013\n",
            "Round: 73... \tAverage Loss: 0.007\n",
            "Round: 74... \tAverage Loss: 0.01\n",
            "Round: 75... \tAverage Loss: 0.01\n",
            "Round: 76... \tAverage Loss: 0.011\n",
            "Round: 77... \tAverage Loss: 0.012\n",
            "Round: 78... \tAverage Loss: 0.008\n",
            "Round: 79... \tAverage Loss: 0.01\n",
            "Round: 80... \tAverage Loss: 0.01\n",
            "Round: 81... \tAverage Loss: 0.008\n",
            "Round: 82... \tAverage Loss: 0.005\n",
            "Round: 83... \tAverage Loss: 0.006\n",
            "Round: 84... \tAverage Loss: 0.014\n",
            "Round: 85... \tAverage Loss: 0.008\n",
            "Round: 86... \tAverage Loss: 0.014\n",
            "Round: 87... \tAverage Loss: 0.005\n",
            "Round: 88... \tAverage Loss: 0.01\n",
            "Round: 89... \tAverage Loss: 0.009\n",
            "Round: 90... \tAverage Loss: 0.011\n",
            "Round: 91... \tAverage Loss: 0.009\n",
            "Round: 92... \tAverage Loss: 0.01\n",
            "Round: 93... \tAverage Loss: 0.012\n",
            "Round: 94... \tAverage Loss: 0.009\n",
            "Round: 95... \tAverage Loss: 0.018\n",
            "Round: 96... \tAverage Loss: 0.007\n",
            "Round: 97... \tAverage Loss: 0.01\n",
            "Round: 98... \tAverage Loss: 0.01\n",
            "Round: 99... \tAverage Loss: 0.009\n",
            "Round: 100... \tAverage Loss: 0.009\n",
            "Training Done!\n",
            "Total time taken to Train: 841.5643248558044\n",
            "Training Done!\n",
            "Total time taken: 841.5643248558044\n"
          ],
          "name": "stdout"
        },
        {
          "output_type": "display_data",
          "data": {
            "image/png": "[encoded data removed]",
            "text/plain": [
              "<Figure size 432x288 with 1 Axes>"
            ]
          },
          "metadata": {
            "tags": [],
            "needs_background": "light"
          }
        }
      ]
    },
    {
      "cell_type": "markdown",
      "metadata": {
        "colab_type": "text",
        "id": "WlvuhJfDDOIA"
      },
      "source": [
        "### Test"
      ]
    },
    {
      "cell_type": "code",
      "metadata": {
        "colab_type": "code",
        "id": "glvJM5VwDOIB",
        "colab": {
          "base_uri": "https://localhost:8080/",
          "height": 255
        },
        "outputId": "3d6e1f34-a410-4f87-834a-83b046b8a7b9"
      },
      "source": [
        "criterion = nn.CrossEntropyLoss()\n",
        "testing(mnist_cnn_non_iid_trained, mnist_data_test, 128, criterion, num_classes, classes_test)"
      ],
      "execution_count": 31,
      "outputs": [
        {
          "output_type": "stream",
          "text": [
            "Test Loss: 0.051949\n",
            "\n",
            "Test Accuracy of     0: 100% (76/76)\n",
            "Test Accuracy of     1: 97% (88/90)\n",
            "Test Accuracy of     2: 100% (91/91)\n",
            "Test Accuracy of     3: 94% (69/73)\n",
            "Test Accuracy of     4: 100% (89/89)\n",
            "Test Accuracy of     5: 98% (67/68)\n",
            "Test Accuracy of     6: 96% (60/62)\n",
            "Test Accuracy of     7: 97% (79/81)\n",
            "Test Accuracy of     8: 100% (77/77)\n",
            "Test Accuracy of     9: 97% (81/83)\n",
            "\n",
            "Final Test  Accuracy: 98.354 (777.0/790.0)\n"
          ],
          "name": "stdout"
        }
      ]
    },
    {
      "cell_type": "markdown",
      "metadata": {
        "colab_type": "text",
        "id": "Mgspmmb1DSgu"
      },
      "source": [
        "## MNIST MLP on IID"
      ]
    },
    {
      "cell_type": "markdown",
      "metadata": {
        "colab_type": "text",
        "id": "t1AlbPY7DSgv"
      },
      "source": [
        "### Train"
      ]
    },
    {
      "cell_type": "code",
      "metadata": {
        "colab_type": "code",
        "id": "a1nUItg3DSgv",
        "colab": {
          "base_uri": "https://localhost:8080/",
          "height": 1000
        },
        "outputId": "eeb839ba-a0f6-4ec7-9389-4558564d7b22"
      },
      "source": [
        "# number of training rounds\n",
        "rounds = 100\n",
        "# client fraction\n",
        "C = 0.1\n",
        "# number of clients\n",
        "K = 100\n",
        "# number of training passes on local dataset for each round\n",
        "E = 5\n",
        "# batch size\n",
        "batch_size = 10\n",
        "# learning Rate\n",
        "lr=0.03\n",
        "# proximal term constant\n",
        "mu = 0.001\n",
        "# percentage of clients to have fewer than E epochs\n",
        "percentage = 50\n",
        "# dict containing different type of data partition\n",
        "data_dict = iid_partition(mnist_data_train, 100)\n",
        "# load model\n",
        "mnist_mlp = MNIST_2NN()\n",
        "\n",
        "if torch.cuda.is_available():\n",
        "  mnist_mlp.cuda()\n",
        "\n",
        "mnist_mlp_iid_trained = training(mnist_mlp, rounds, batch_size, lr, mnist_data_train, data_dict, C, K, E, mu, percentage, \"FedProx MNIST MLP on IID Dataset (50%)\", \"orange\")\n"
      ],
      "execution_count": 32,
      "outputs": [
        {
          "output_type": "stream",
          "text": [
            "Round: 1... \tAverage Loss: 2.143\n",
            "Round: 2... \tAverage Loss: 0.27\n",
            "Round: 3... \tAverage Loss: 0.219\n",
            "Round: 4... \tAverage Loss: 0.196\n",
            "Round: 5... \tAverage Loss: 0.175\n",
            "Round: 6... \tAverage Loss: 0.141\n",
            "Round: 7... \tAverage Loss: 0.138\n",
            "Round: 8... \tAverage Loss: 0.107\n",
            "Round: 9... \tAverage Loss: 0.11\n",
            "Round: 10... \tAverage Loss: 0.092\n",
            "Round: 11... \tAverage Loss: 0.078\n",
            "Round: 12... \tAverage Loss: 0.1\n",
            "Round: 13... \tAverage Loss: 0.07\n",
            "Round: 14... \tAverage Loss: 0.092\n",
            "Round: 15... \tAverage Loss: 0.081\n",
            "Round: 16... \tAverage Loss: 0.071\n",
            "Round: 17... \tAverage Loss: 0.071\n",
            "Round: 18... \tAverage Loss: 0.071\n",
            "Round: 19... \tAverage Loss: 0.061\n",
            "Round: 20... \tAverage Loss: 0.063\n",
            "Round: 21... \tAverage Loss: 0.066\n",
            "Round: 22... \tAverage Loss: 0.07\n",
            "Round: 23... \tAverage Loss: 0.055\n",
            "Round: 24... \tAverage Loss: 0.049\n",
            "Round: 25... \tAverage Loss: 0.051\n",
            "Round: 26... \tAverage Loss: 0.061\n",
            "Round: 27... \tAverage Loss: 0.047\n",
            "Round: 28... \tAverage Loss: 0.042\n",
            "Round: 29... \tAverage Loss: 0.044\n",
            "Round: 30... \tAverage Loss: 0.042\n",
            "Round: 31... \tAverage Loss: 0.038\n",
            "Round: 32... \tAverage Loss: 0.073\n",
            "Round: 33... \tAverage Loss: 0.051\n",
            "Round: 34... \tAverage Loss: 0.052\n",
            "Round: 35... \tAverage Loss: 0.045\n",
            "Round: 36... \tAverage Loss: 0.035\n",
            "Round: 37... \tAverage Loss: 0.037\n",
            "Round: 38... \tAverage Loss: 0.036\n",
            "Round: 39... \tAverage Loss: 0.033\n",
            "Round: 40... \tAverage Loss: 0.029\n",
            "Round: 41... \tAverage Loss: 0.053\n",
            "Round: 42... \tAverage Loss: 0.038\n",
            "Round: 43... \tAverage Loss: 0.036\n",
            "Round: 44... \tAverage Loss: 0.049\n",
            "Round: 45... \tAverage Loss: 0.031\n",
            "Round: 46... \tAverage Loss: 0.021\n",
            "Round: 47... \tAverage Loss: 0.041\n",
            "Round: 48... \tAverage Loss: 0.031\n",
            "Round: 49... \tAverage Loss: 0.033\n",
            "Round: 50... \tAverage Loss: 0.036\n",
            "Round: 51... \tAverage Loss: 0.032\n",
            "Round: 52... \tAverage Loss: 0.034\n",
            "Round: 53... \tAverage Loss: 0.025\n",
            "Round: 54... \tAverage Loss: 0.031\n",
            "Round: 55... \tAverage Loss: 0.037\n",
            "Round: 56... \tAverage Loss: 0.027\n",
            "Round: 57... \tAverage Loss: 0.038\n",
            "Round: 58... \tAverage Loss: 0.026\n",
            "Round: 59... \tAverage Loss: 0.026\n",
            "Round: 60... \tAverage Loss: 0.035\n",
            "Round: 61... \tAverage Loss: 0.025\n",
            "Round: 62... \tAverage Loss: 0.025\n",
            "Round: 63... \tAverage Loss: 0.046\n",
            "Round: 64... \tAverage Loss: 0.026\n",
            "Round: 65... \tAverage Loss: 0.032\n",
            "Round: 66... \tAverage Loss: 0.03\n",
            "Round: 67... \tAverage Loss: 0.024\n",
            "Round: 68... \tAverage Loss: 0.02\n",
            "Round: 69... \tAverage Loss: 0.019\n",
            "Round: 70... \tAverage Loss: 0.024\n",
            "Round: 71... \tAverage Loss: 0.029\n",
            "Round: 72... \tAverage Loss: 0.031\n",
            "Round: 73... \tAverage Loss: 0.022\n",
            "Round: 74... \tAverage Loss: 0.016\n",
            "Round: 75... \tAverage Loss: 0.03\n",
            "Round: 76... \tAverage Loss: 0.024\n",
            "Round: 77... \tAverage Loss: 0.025\n",
            "Round: 78... \tAverage Loss: 0.039\n",
            "Round: 79... \tAverage Loss: 0.018\n",
            "Round: 80... \tAverage Loss: 0.026\n",
            "Round: 81... \tAverage Loss: 0.021\n",
            "Round: 82... \tAverage Loss: 0.021\n",
            "Round: 83... \tAverage Loss: 0.023\n",
            "Round: 84... \tAverage Loss: 0.014\n",
            "Round: 85... \tAverage Loss: 0.017\n",
            "Round: 86... \tAverage Loss: 0.025\n",
            "Round: 87... \tAverage Loss: 0.034\n",
            "Round: 88... \tAverage Loss: 0.026\n",
            "Round: 89... \tAverage Loss: 0.016\n",
            "Round: 90... \tAverage Loss: 0.021\n",
            "Round: 91... \tAverage Loss: 0.022\n",
            "Round: 92... \tAverage Loss: 0.017\n",
            "Round: 93... \tAverage Loss: 0.019\n",
            "Round: 94... \tAverage Loss: 0.018\n",
            "Round: 95... \tAverage Loss: 0.02\n",
            "Round: 96... \tAverage Loss: 0.02\n",
            "Round: 97... \tAverage Loss: 0.019\n",
            "Round: 98... \tAverage Loss: 0.022\n",
            "Round: 99... \tAverage Loss: 0.019\n",
            "Round: 100... \tAverage Loss: 0.018\n",
            "Training Done!\n",
            "Total time taken to Train: 581.0070996284485\n",
            "Training Done!\n",
            "Total time taken: 581.0070996284485\n"
          ],
          "name": "stdout"
        },
        {
          "output_type": "display_data",
          "data": {
            "image/png": "[encoded data removed]",
            "text/plain": [
              "<Figure size 432x288 with 1 Axes>"
            ]
          },
          "metadata": {
            "tags": [],
            "needs_background": "light"
          }
        }
      ]
    },
    {
      "cell_type": "markdown",
      "metadata": {
        "colab_type": "text",
        "id": "3DQo8vP5DSgx"
      },
      "source": [
        "### Test"
      ]
    },
    {
      "cell_type": "code",
      "metadata": {
        "colab_type": "code",
        "id": "c3Kh1UxyDSgy",
        "colab": {
          "base_uri": "https://localhost:8080/",
          "height": 255
        },
        "outputId": "424ad6a2-0f46-4505-b060-d5684d525877"
      },
      "source": [
        "criterion = nn.CrossEntropyLoss()\n",
        "testing(mnist_mlp_iid_trained, mnist_data_test, 128, criterion, num_classes, classes_test)"
      ],
      "execution_count": 33,
      "outputs": [
        {
          "output_type": "stream",
          "text": [
            "Test Loss: 0.071591\n",
            "\n",
            "Test Accuracy of     0: 97% (74/76)\n",
            "Test Accuracy of     1: 97% (88/90)\n",
            "Test Accuracy of     2: 98% (90/91)\n",
            "Test Accuracy of     3: 98% (72/73)\n",
            "Test Accuracy of     4: 98% (88/89)\n",
            "Test Accuracy of     5: 97% (66/68)\n",
            "Test Accuracy of     6: 98% (61/62)\n",
            "Test Accuracy of     7: 98% (80/81)\n",
            "Test Accuracy of     8: 100% (77/77)\n",
            "Test Accuracy of     9: 98% (82/83)\n",
            "\n",
            "Final Test  Accuracy: 98.481 (778.0/790.0)\n"
          ],
          "name": "stdout"
        }
      ]
    },
    {
      "cell_type": "markdown",
      "metadata": {
        "colab_type": "text",
        "id": "PrWMRFBCDWu-"
      },
      "source": [
        "## MNIST MLP on Non IID"
      ]
    },
    {
      "cell_type": "markdown",
      "metadata": {
        "colab_type": "text",
        "id": "joc_YdwDDWu-"
      },
      "source": [
        "### Train"
      ]
    },
    {
      "cell_type": "code",
      "metadata": {
        "colab_type": "code",
        "id": "JEhvU3V1DWu_",
        "colab": {
          "base_uri": "https://localhost:8080/",
          "height": 1000
        },
        "outputId": "ea347ee8-6b09-4dff-de24-838a34820824"
      },
      "source": [
        "# number of training rounds\n",
        "rounds = 100\n",
        "# client fraction\n",
        "C = 0.1\n",
        "# number of clients\n",
        "K = 100\n",
        "# number of training passes on local dataset for each roung\n",
        "E = 5\n",
        "# batch size\n",
        "batch_size = 10\n",
        "# learning Rate\n",
        "lr=0.05\n",
        "# proximal term constant\n",
        "mu = 0.001\n",
        "# percentage of clients to have fewer than E epochs\n",
        "percentage = 50\n",
        "# dict containing different type of data partition\n",
        "data_dict = non_iid_partition(mnist_data_train, 100, 200, 300, 2)\n",
        "# load model\n",
        "mnist_mlp = MNIST_2NN()\n",
        "\n",
        "if torch.cuda.is_available():\n",
        "  mnist_mlp.cuda()\n",
        "\n",
        "mnist_mlp_non_iid_trained = training(mnist_mlp, rounds, batch_size, lr, mnist_data_train, data_dict, C, K, E, mu, percentage, \"FedProx MNIST MLP on non-IID Dataset (50%)\", \"green\")"
      ],
      "execution_count": 34,
      "outputs": [
        {
          "output_type": "stream",
          "text": [
            "Round: 1... \tAverage Loss: 0.512\n",
            "Round: 2... \tAverage Loss: 0.131\n",
            "Round: 3... \tAverage Loss: 0.056\n",
            "Round: 4... \tAverage Loss: 0.042\n",
            "Round: 5... \tAverage Loss: 0.043\n",
            "Round: 6... \tAverage Loss: 0.07\n",
            "Round: 7... \tAverage Loss: 0.069\n",
            "Round: 8... \tAverage Loss: 0.059\n",
            "Round: 9... \tAverage Loss: 0.051\n",
            "Round: 10... \tAverage Loss: 0.062\n",
            "Round: 11... \tAverage Loss: 0.018\n",
            "Round: 12... \tAverage Loss: 0.033\n",
            "Round: 13... \tAverage Loss: 0.05\n",
            "Round: 14... \tAverage Loss: 0.046\n",
            "Round: 15... \tAverage Loss: 0.033\n",
            "Round: 16... \tAverage Loss: 0.03\n",
            "Round: 17... \tAverage Loss: 0.039\n",
            "Round: 18... \tAverage Loss: 0.028\n",
            "Round: 19... \tAverage Loss: 0.024\n",
            "Round: 20... \tAverage Loss: 0.013\n",
            "Round: 21... \tAverage Loss: 0.024\n",
            "Round: 22... \tAverage Loss: 0.022\n",
            "Round: 23... \tAverage Loss: 0.028\n",
            "Round: 24... \tAverage Loss: 0.023\n",
            "Round: 25... \tAverage Loss: 0.028\n",
            "Round: 26... \tAverage Loss: 0.016\n",
            "Round: 27... \tAverage Loss: 0.017\n",
            "Round: 28... \tAverage Loss: 0.02\n",
            "Round: 29... \tAverage Loss: 0.036\n",
            "Round: 30... \tAverage Loss: 0.013\n",
            "Round: 31... \tAverage Loss: 0.019\n",
            "Round: 32... \tAverage Loss: 0.017\n",
            "Round: 33... \tAverage Loss: 0.028\n",
            "Round: 34... \tAverage Loss: 0.017\n",
            "Round: 35... \tAverage Loss: 0.031\n",
            "Round: 36... \tAverage Loss: 0.015\n",
            "Round: 37... \tAverage Loss: 0.023\n",
            "Round: 38... \tAverage Loss: 0.015\n",
            "Round: 39... \tAverage Loss: 0.018\n",
            "Round: 40... \tAverage Loss: 0.016\n",
            "Round: 41... \tAverage Loss: 0.022\n",
            "Round: 42... \tAverage Loss: 0.013\n",
            "Round: 43... \tAverage Loss: 0.011\n",
            "Round: 44... \tAverage Loss: 0.017\n",
            "Round: 45... \tAverage Loss: 0.021\n",
            "Round: 46... \tAverage Loss: 0.017\n",
            "Round: 47... \tAverage Loss: 0.01\n",
            "Round: 48... \tAverage Loss: 0.009\n",
            "Round: 49... \tAverage Loss: 0.011\n",
            "Round: 50... \tAverage Loss: 0.017\n",
            "Round: 51... \tAverage Loss: 0.012\n",
            "Round: 52... \tAverage Loss: 0.009\n",
            "Round: 53... \tAverage Loss: 0.017\n",
            "Round: 54... \tAverage Loss: 0.012\n",
            "Round: 55... \tAverage Loss: 0.011\n",
            "Round: 56... \tAverage Loss: 0.009\n",
            "Round: 57... \tAverage Loss: 0.013\n",
            "Round: 58... \tAverage Loss: 0.017\n",
            "Round: 59... \tAverage Loss: 0.016\n",
            "Round: 60... \tAverage Loss: 0.009\n",
            "Round: 61... \tAverage Loss: 0.011\n",
            "Round: 62... \tAverage Loss: 0.009\n",
            "Round: 63... \tAverage Loss: 0.017\n",
            "Round: 64... \tAverage Loss: 0.022\n",
            "Round: 65... \tAverage Loss: 0.029\n",
            "Round: 66... \tAverage Loss: 0.014\n",
            "Round: 67... \tAverage Loss: 0.018\n",
            "Round: 68... \tAverage Loss: 0.014\n",
            "Round: 69... \tAverage Loss: 0.015\n",
            "Round: 70... \tAverage Loss: 0.017\n",
            "Round: 71... \tAverage Loss: 0.012\n",
            "Round: 72... \tAverage Loss: 0.012\n",
            "Round: 73... \tAverage Loss: 0.006\n",
            "Round: 74... \tAverage Loss: 0.013\n",
            "Round: 75... \tAverage Loss: 0.009\n",
            "Round: 76... \tAverage Loss: 0.013\n",
            "Round: 77... \tAverage Loss: 0.009\n",
            "Round: 78... \tAverage Loss: 0.015\n",
            "Round: 79... \tAverage Loss: 0.013\n",
            "Round: 80... \tAverage Loss: 0.008\n",
            "Round: 81... \tAverage Loss: 0.007\n",
            "Round: 82... \tAverage Loss: 0.007\n",
            "Round: 83... \tAverage Loss: 0.008\n",
            "Round: 84... \tAverage Loss: 0.01\n",
            "Round: 85... \tAverage Loss: 0.007\n",
            "Round: 86... \tAverage Loss: 0.009\n",
            "Round: 87... \tAverage Loss: 0.009\n",
            "Round: 88... \tAverage Loss: 0.006\n",
            "Round: 89... \tAverage Loss: 0.012\n",
            "Round: 90... \tAverage Loss: 0.005\n",
            "Round: 91... \tAverage Loss: 0.006\n",
            "Round: 92... \tAverage Loss: 0.01\n",
            "Round: 93... \tAverage Loss: 0.012\n",
            "Round: 94... \tAverage Loss: 0.017\n",
            "Round: 95... \tAverage Loss: 0.005\n",
            "Round: 96... \tAverage Loss: 0.009\n",
            "Round: 97... \tAverage Loss: 0.007\n",
            "Round: 98... \tAverage Loss: 0.009\n",
            "Round: 99... \tAverage Loss: 0.017\n",
            "Round: 100... \tAverage Loss: 0.01\n",
            "Training Done!\n",
            "Total time taken to Train: 612.7061495780945\n",
            "Training Done!\n",
            "Total time taken: 612.7061495780945\n"
          ],
          "name": "stdout"
        },
        {
          "output_type": "display_data",
          "data": {
            "image/png": "[encoded data removed]",
            "text/plain": [
              "<Figure size 432x288 with 1 Axes>"
            ]
          },
          "metadata": {
            "tags": [],
            "needs_background": "light"
          }
        }
      ]
    },
    {
      "cell_type": "markdown",
      "metadata": {
        "colab_type": "text",
        "id": "eZxhpIIXDWvC"
      },
      "source": [
        "### Test"
      ]
    },
    {
      "cell_type": "code",
      "metadata": {
        "colab_type": "code",
        "id": "zCZvhiEdDWvD",
        "colab": {
          "base_uri": "https://localhost:8080/",
          "height": 255
        },
        "outputId": "a3a3ad3d-4c5d-49e4-bba2-e311ea11a15a"
      },
      "source": [
        "criterion = nn.CrossEntropyLoss()\n",
        "testing(mnist_mlp_non_iid_trained, mnist_data_test, 128, criterion, num_classes, classes_test)"
      ],
      "execution_count": 35,
      "outputs": [
        {
          "output_type": "stream",
          "text": [
            "Test Loss: 0.141384\n",
            "\n",
            "Test Accuracy of     0: 96% (73/76)\n",
            "Test Accuracy of     1: 96% (87/90)\n",
            "Test Accuracy of     2: 98% (90/91)\n",
            "Test Accuracy of     3: 94% (69/73)\n",
            "Test Accuracy of     4: 98% (88/89)\n",
            "Test Accuracy of     5: 97% (66/68)\n",
            "Test Accuracy of     6: 87% (54/62)\n",
            "Test Accuracy of     7: 93% (76/81)\n",
            "Test Accuracy of     8: 96% (74/77)\n",
            "Test Accuracy of     9: 90% (75/83)\n",
            "\n",
            "Final Test  Accuracy: 95.190 (752.0/790.0)\n"
          ],
          "name": "stdout"
        }
      ]
    },
    {
      "cell_type": "markdown",
      "metadata": {
        "id": "ifWreXVkYctp",
        "colab_type": "text"
      },
      "source": [
        "# Comparison with Federated Averaging\n",
        "\n",
        "> In a highly heterogenous system (90%) stragglers, authors of FedProx have claimed that FedProx achieves on average **22%** improvement in testing accuracy compared to Federated Averaging\n",
        "\n",
        "With our first test above, we know that the special case where **mu=0**, FedProx matches the results of FedAvg. \n",
        "\n",
        "We will use the same idea but increase our stragglers this time. We will run the same experiment with **mu > 0** to compare results of FedProx."
      ]
    },
    {
      "cell_type": "markdown",
      "metadata": {
        "id": "O8ydCcIaZwP3",
        "colab_type": "text"
      },
      "source": [
        "### Training Federated Averaging with 90% stragglers (IID Partition)"
      ]
    },
    {
      "cell_type": "code",
      "metadata": {
        "id": "s07MAIAiZhky",
        "colab_type": "code",
        "colab": {
          "base_uri": "https://localhost:8080/",
          "height": 1000
        },
        "outputId": "085135a0-4f0f-4ef0-c634-b2ddb4314a22"
      },
      "source": [
        "# number of training rounds\n",
        "rounds = 100\n",
        "# client fraction\n",
        "C = 0.1\n",
        "# number of clients\n",
        "K = 100\n",
        "# number of training passes on local dataset for each roung\n",
        "E = 20\n",
        "# batch size\n",
        "batch_size = 10\n",
        "# learning Rate\n",
        "lr=0.01\n",
        "# proximal term constant\n",
        "mu = 0.0\n",
        "# percentage of clients to have fewer than E epochs\n",
        "percentage = 90\n",
        "\n",
        "# data partition dictionary\n",
        "iid_dict = iid_partition(mnist_data_train, 100)\n",
        "# load model\n",
        "mnist_cnn = MNIST_CNN()\n",
        "\n",
        "if torch.cuda.is_available():\n",
        "  mnist_cnn.cuda()\n",
        "\n",
        "mnist_cnn_iid_trained_fedavg = training(mnist_cnn, rounds, batch_size, lr, mnist_data_train, iid_dict, C, K, E, mu, percentage, \"FedAvg MNIST CNN (90% Stragglers)\", \"orange\")"
      ],
      "execution_count": 40,
      "outputs": [
        {
          "output_type": "stream",
          "text": [
            "Round: 1... \tAverage Loss: 0.656\n",
            "Round: 2... \tAverage Loss: 0.108\n",
            "Round: 3... \tAverage Loss: 0.083\n",
            "Round: 4... \tAverage Loss: 0.07\n",
            "Round: 5... \tAverage Loss: 0.035\n",
            "Round: 6... \tAverage Loss: 0.044\n",
            "Round: 7... \tAverage Loss: 0.044\n",
            "Round: 8... \tAverage Loss: 0.024\n",
            "Round: 9... \tAverage Loss: 0.033\n",
            "Round: 10... \tAverage Loss: 0.026\n",
            "Round: 11... \tAverage Loss: 0.025\n",
            "Round: 12... \tAverage Loss: 0.038\n",
            "Round: 13... \tAverage Loss: 0.015\n",
            "Round: 14... \tAverage Loss: 0.028\n",
            "Round: 15... \tAverage Loss: 0.026\n",
            "Round: 16... \tAverage Loss: 0.02\n",
            "Round: 17... \tAverage Loss: 0.019\n",
            "Round: 18... \tAverage Loss: 0.026\n",
            "Round: 19... \tAverage Loss: 0.026\n",
            "Round: 20... \tAverage Loss: 0.013\n",
            "Round: 21... \tAverage Loss: 0.027\n",
            "Round: 22... \tAverage Loss: 0.013\n",
            "Round: 23... \tAverage Loss: 0.035\n",
            "Round: 24... \tAverage Loss: 0.013\n",
            "Round: 25... \tAverage Loss: 0.023\n",
            "Round: 26... \tAverage Loss: 0.009\n",
            "Round: 27... \tAverage Loss: 0.019\n",
            "Round: 28... \tAverage Loss: 0.012\n",
            "Round: 29... \tAverage Loss: 0.014\n",
            "Round: 30... \tAverage Loss: 0.019\n",
            "Round: 31... \tAverage Loss: 0.016\n",
            "Round: 32... \tAverage Loss: 0.013\n",
            "Round: 33... \tAverage Loss: 0.008\n",
            "Round: 34... \tAverage Loss: 0.012\n",
            "Round: 35... \tAverage Loss: 0.01\n",
            "Round: 36... \tAverage Loss: 0.009\n",
            "Round: 37... \tAverage Loss: 0.017\n",
            "Round: 38... \tAverage Loss: 0.01\n",
            "Round: 39... \tAverage Loss: 0.015\n",
            "Round: 40... \tAverage Loss: 0.01\n",
            "Round: 41... \tAverage Loss: 0.017\n",
            "Round: 42... \tAverage Loss: 0.008\n",
            "Round: 43... \tAverage Loss: 0.009\n",
            "Round: 44... \tAverage Loss: 0.015\n",
            "Round: 45... \tAverage Loss: 0.007\n",
            "Round: 46... \tAverage Loss: 0.018\n",
            "Round: 47... \tAverage Loss: 0.009\n",
            "Round: 48... \tAverage Loss: 0.012\n",
            "Round: 49... \tAverage Loss: 0.018\n",
            "Round: 50... \tAverage Loss: 0.013\n",
            "Round: 51... \tAverage Loss: 0.007\n",
            "Round: 52... \tAverage Loss: 0.008\n",
            "Round: 53... \tAverage Loss: 0.013\n",
            "Round: 54... \tAverage Loss: 0.012\n",
            "Round: 55... \tAverage Loss: 0.015\n",
            "Round: 56... \tAverage Loss: 0.007\n",
            "Round: 57... \tAverage Loss: 0.008\n",
            "Round: 58... \tAverage Loss: 0.006\n",
            "Round: 59... \tAverage Loss: 0.013\n",
            "Round: 60... \tAverage Loss: 0.013\n",
            "Round: 61... \tAverage Loss: 0.008\n",
            "Round: 62... \tAverage Loss: 0.005\n",
            "Round: 63... \tAverage Loss: 0.015\n",
            "Round: 64... \tAverage Loss: 0.011\n",
            "Round: 65... \tAverage Loss: 0.011\n",
            "Round: 66... \tAverage Loss: 0.01\n",
            "Round: 67... \tAverage Loss: 0.005\n",
            "Round: 68... \tAverage Loss: 0.007\n",
            "Round: 69... \tAverage Loss: 0.004\n",
            "Round: 70... \tAverage Loss: 0.014\n",
            "Round: 71... \tAverage Loss: 0.01\n",
            "Round: 72... \tAverage Loss: 0.004\n",
            "Round: 73... \tAverage Loss: 0.011\n",
            "Round: 74... \tAverage Loss: 0.008\n",
            "Round: 75... \tAverage Loss: 0.006\n",
            "Round: 76... \tAverage Loss: 0.004\n",
            "Round: 77... \tAverage Loss: 0.005\n",
            "Round: 78... \tAverage Loss: 0.012\n",
            "Round: 79... \tAverage Loss: 0.007\n",
            "Round: 80... \tAverage Loss: 0.005\n",
            "Round: 81... \tAverage Loss: 0.009\n",
            "Round: 82... \tAverage Loss: 0.009\n",
            "Round: 83... \tAverage Loss: 0.013\n",
            "Round: 84... \tAverage Loss: 0.006\n",
            "Round: 85... \tAverage Loss: 0.004\n",
            "Round: 86... \tAverage Loss: 0.008\n",
            "Round: 87... \tAverage Loss: 0.007\n",
            "Round: 88... \tAverage Loss: 0.008\n",
            "Round: 89... \tAverage Loss: 0.012\n",
            "Round: 90... \tAverage Loss: 0.009\n",
            "Round: 91... \tAverage Loss: 0.005\n",
            "Round: 92... \tAverage Loss: 0.009\n",
            "Round: 93... \tAverage Loss: 0.007\n",
            "Round: 94... \tAverage Loss: 0.006\n",
            "Round: 95... \tAverage Loss: 0.006\n",
            "Round: 96... \tAverage Loss: 0.003\n",
            "Round: 97... \tAverage Loss: 0.003\n",
            "Round: 98... \tAverage Loss: 0.004\n",
            "Round: 99... \tAverage Loss: 0.006\n",
            "Round: 100... \tAverage Loss: 0.004\n",
            "Training Done!\n",
            "Total time taken to Train: 2710.5563127994537\n",
            "Training Done!\n",
            "Total time taken: 2710.5563127994537\n"
          ],
          "name": "stdout"
        },
        {
          "output_type": "display_data",
          "data": {
            "image/png": "[encoded data removed]",
            "text/plain": [
              "<Figure size 432x288 with 1 Axes>"
            ]
          },
          "metadata": {
            "tags": [],
            "needs_background": "light"
          }
        }
      ]
    },
    {
      "cell_type": "markdown",
      "metadata": {
        "id": "xVjIEgHPaClX",
        "colab_type": "text"
      },
      "source": [
        "### Training FedProx with 90% Stragglers (IID Parition)"
      ]
    },
    {
      "cell_type": "code",
      "metadata": {
        "id": "jn9WLZTHaBnq",
        "colab_type": "code",
        "colab": {
          "base_uri": "https://localhost:8080/",
          "height": 1000
        },
        "outputId": "9ac8fd59-1267-42a3-fc2f-fc44086c7f3c"
      },
      "source": [
        "# number of training rounds\n",
        "rounds = 100\n",
        "# client fraction\n",
        "C = 0.1\n",
        "# number of clients\n",
        "K = 100\n",
        "# number of training passes on local dataset for each roung\n",
        "E = 20\n",
        "# batch size\n",
        "batch_size = 10\n",
        "# learning Rate\n",
        "lr=0.01\n",
        "# proximal term constant\n",
        "mu = 0.001\n",
        "# percentage of clients to have fewer than E epochs\n",
        "percentage = 90\n",
        "\n",
        "# data partition dictionary\n",
        "iid_dict = iid_partition(mnist_data_train, 100)\n",
        "# load model\n",
        "mnist_cnn = MNIST_CNN()\n",
        "\n",
        "if torch.cuda.is_available():\n",
        "  mnist_cnn.cuda()\n",
        "\n",
        "mnist_cnn_iid_trained_fedprox = training(mnist_cnn, rounds, batch_size, lr, mnist_data_train, iid_dict, C, K, E, mu, percentage, \"FedProx MNIST CNN (90% Stragglers)\", \"green\")"
      ],
      "execution_count": 39,
      "outputs": [
        {
          "output_type": "stream",
          "text": [
            "Round: 1... \tAverage Loss: 0.575\n",
            "Round: 2... \tAverage Loss: 0.106\n",
            "Round: 3... \tAverage Loss: 0.09\n",
            "Round: 4... \tAverage Loss: 0.066\n",
            "Round: 5... \tAverage Loss: 0.044\n",
            "Round: 6... \tAverage Loss: 0.047\n",
            "Round: 7... \tAverage Loss: 0.057\n",
            "Round: 8... \tAverage Loss: 0.052\n",
            "Round: 9... \tAverage Loss: 0.031\n",
            "Round: 10... \tAverage Loss: 0.021\n",
            "Round: 11... \tAverage Loss: 0.03\n",
            "Round: 12... \tAverage Loss: 0.02\n",
            "Round: 13... \tAverage Loss: 0.029\n",
            "Round: 14... \tAverage Loss: 0.022\n",
            "Round: 15... \tAverage Loss: 0.031\n",
            "Round: 16... \tAverage Loss: 0.024\n",
            "Round: 17... \tAverage Loss: 0.015\n",
            "Round: 18... \tAverage Loss: 0.014\n",
            "Round: 19... \tAverage Loss: 0.016\n",
            "Round: 20... \tAverage Loss: 0.024\n",
            "Round: 21... \tAverage Loss: 0.021\n",
            "Round: 22... \tAverage Loss: 0.018\n",
            "Round: 23... \tAverage Loss: 0.018\n",
            "Round: 24... \tAverage Loss: 0.014\n",
            "Round: 25... \tAverage Loss: 0.018\n",
            "Round: 26... \tAverage Loss: 0.014\n",
            "Round: 27... \tAverage Loss: 0.013\n",
            "Round: 28... \tAverage Loss: 0.016\n",
            "Round: 29... \tAverage Loss: 0.017\n",
            "Round: 30... \tAverage Loss: 0.012\n",
            "Round: 31... \tAverage Loss: 0.012\n",
            "Round: 32... \tAverage Loss: 0.016\n",
            "Round: 33... \tAverage Loss: 0.006\n",
            "Round: 34... \tAverage Loss: 0.01\n",
            "Round: 35... \tAverage Loss: 0.027\n",
            "Round: 36... \tAverage Loss: 0.01\n",
            "Round: 37... \tAverage Loss: 0.017\n",
            "Round: 38... \tAverage Loss: 0.015\n",
            "Round: 39... \tAverage Loss: 0.013\n",
            "Round: 40... \tAverage Loss: 0.012\n",
            "Round: 41... \tAverage Loss: 0.028\n",
            "Round: 42... \tAverage Loss: 0.008\n",
            "Round: 43... \tAverage Loss: 0.009\n",
            "Round: 44... \tAverage Loss: 0.013\n",
            "Round: 45... \tAverage Loss: 0.015\n",
            "Round: 46... \tAverage Loss: 0.009\n",
            "Round: 47... \tAverage Loss: 0.011\n",
            "Round: 48... \tAverage Loss: 0.013\n",
            "Round: 49... \tAverage Loss: 0.007\n",
            "Round: 50... \tAverage Loss: 0.008\n",
            "Round: 51... \tAverage Loss: 0.008\n",
            "Round: 52... \tAverage Loss: 0.009\n",
            "Round: 53... \tAverage Loss: 0.008\n",
            "Round: 54... \tAverage Loss: 0.006\n",
            "Round: 55... \tAverage Loss: 0.008\n",
            "Round: 56... \tAverage Loss: 0.014\n",
            "Round: 57... \tAverage Loss: 0.007\n",
            "Round: 58... \tAverage Loss: 0.007\n",
            "Round: 59... \tAverage Loss: 0.008\n",
            "Round: 60... \tAverage Loss: 0.012\n",
            "Round: 61... \tAverage Loss: 0.005\n",
            "Round: 62... \tAverage Loss: 0.009\n",
            "Round: 63... \tAverage Loss: 0.005\n",
            "Round: 64... \tAverage Loss: 0.008\n",
            "Round: 65... \tAverage Loss: 0.006\n",
            "Round: 66... \tAverage Loss: 0.009\n",
            "Round: 67... \tAverage Loss: 0.008\n",
            "Round: 68... \tAverage Loss: 0.007\n",
            "Round: 69... \tAverage Loss: 0.009\n",
            "Round: 70... \tAverage Loss: 0.01\n",
            "Round: 71... \tAverage Loss: 0.005\n",
            "Round: 72... \tAverage Loss: 0.014\n",
            "Round: 73... \tAverage Loss: 0.015\n",
            "Round: 74... \tAverage Loss: 0.007\n",
            "Round: 75... \tAverage Loss: 0.007\n",
            "Round: 76... \tAverage Loss: 0.005\n",
            "Round: 77... \tAverage Loss: 0.009\n",
            "Round: 78... \tAverage Loss: 0.005\n",
            "Round: 79... \tAverage Loss: 0.01\n",
            "Round: 80... \tAverage Loss: 0.006\n",
            "Round: 81... \tAverage Loss: 0.008\n",
            "Round: 82... \tAverage Loss: 0.01\n",
            "Round: 83... \tAverage Loss: 0.01\n",
            "Round: 84... \tAverage Loss: 0.01\n",
            "Round: 85... \tAverage Loss: 0.008\n",
            "Round: 86... \tAverage Loss: 0.008\n",
            "Round: 87... \tAverage Loss: 0.005\n",
            "Round: 88... \tAverage Loss: 0.005\n",
            "Round: 89... \tAverage Loss: 0.004\n",
            "Round: 90... \tAverage Loss: 0.009\n",
            "Round: 91... \tAverage Loss: 0.007\n",
            "Round: 92... \tAverage Loss: 0.01\n",
            "Round: 93... \tAverage Loss: 0.006\n",
            "Round: 94... \tAverage Loss: 0.003\n",
            "Round: 95... \tAverage Loss: 0.006\n",
            "Round: 96... \tAverage Loss: 0.006\n",
            "Round: 97... \tAverage Loss: 0.004\n",
            "Round: 98... \tAverage Loss: 0.007\n",
            "Round: 99... \tAverage Loss: 0.007\n",
            "Round: 100... \tAverage Loss: 0.007\n",
            "Training Done!\n",
            "Total time taken to Train: 2725.6247103214264\n",
            "Training Done!\n",
            "Total time taken: 2725.6247103214264\n"
          ],
          "name": "stdout"
        },
        {
          "output_type": "display_data",
          "data": {
            "image/png": "[encoded data removed]",
            "text/plain": [
              "<Figure size 432x288 with 1 Axes>"
            ]
          },
          "metadata": {
            "tags": [],
            "needs_background": "light"
          }
        }
      ]
    },
    {
      "cell_type": "markdown",
      "metadata": {
        "id": "pzEZ3elCaPuq",
        "colab_type": "text"
      },
      "source": [
        "### Testing Federated Averaging in Highly Heterogenous System"
      ]
    },
    {
      "cell_type": "code",
      "metadata": {
        "id": "I6G7GZKfaVoJ",
        "colab_type": "code",
        "colab": {
          "base_uri": "https://localhost:8080/",
          "height": 255
        },
        "outputId": "81e8f68b-97ed-451a-bccd-dfa15e4cc03b"
      },
      "source": [
        "criterion = nn.CrossEntropyLoss()\n",
        "testing(mnist_cnn_iid_trained_fedavg, mnist_data_test, 128, criterion, num_classes, classes_test)"
      ],
      "execution_count": 41,
      "outputs": [
        {
          "output_type": "stream",
          "text": [
            "Test Loss: 0.023644\n",
            "\n",
            "Test Accuracy of     0: 100% (76/76)\n",
            "Test Accuracy of     1: 100% (90/90)\n",
            "Test Accuracy of     2: 100% (91/91)\n",
            "Test Accuracy of     3: 97% (71/73)\n",
            "Test Accuracy of     4: 100% (89/89)\n",
            "Test Accuracy of     5: 98% (67/68)\n",
            "Test Accuracy of     6: 100% (62/62)\n",
            "Test Accuracy of     7: 100% (81/81)\n",
            "Test Accuracy of     8: 100% (77/77)\n",
            "Test Accuracy of     9: 97% (81/83)\n",
            "\n",
            "Final Test  Accuracy: 99.367 (785.0/790.0)\n"
          ],
          "name": "stdout"
        }
      ]
    },
    {
      "cell_type": "markdown",
      "metadata": {
        "id": "P6bJzJhKaqAr",
        "colab_type": "text"
      },
      "source": [
        "### Testing FedProx in Highly Heterogenous System"
      ]
    },
    {
      "cell_type": "code",
      "metadata": {
        "id": "M9KOjGqZapOY",
        "colab_type": "code",
        "colab": {
          "base_uri": "https://localhost:8080/",
          "height": 255
        },
        "outputId": "1166a1b1-048f-406e-d0ee-c84a1a8fe668"
      },
      "source": [
        "criterion = nn.CrossEntropyLoss()\n",
        "testing(mnist_cnn_iid_trained_fedprox, mnist_data_test, 128, criterion, num_classes, classes_test)"
      ],
      "execution_count": 42,
      "outputs": [
        {
          "output_type": "stream",
          "text": [
            "Test Loss: 0.023366\n",
            "\n",
            "Test Accuracy of     0: 100% (76/76)\n",
            "Test Accuracy of     1: 98% (89/90)\n",
            "Test Accuracy of     2: 100% (91/91)\n",
            "Test Accuracy of     3: 97% (71/73)\n",
            "Test Accuracy of     4: 100% (89/89)\n",
            "Test Accuracy of     5: 98% (67/68)\n",
            "Test Accuracy of     6: 100% (62/62)\n",
            "Test Accuracy of     7: 100% (81/81)\n",
            "Test Accuracy of     8: 100% (77/77)\n",
            "Test Accuracy of     9: 100% (83/83)\n",
            "\n",
            "Final Test  Accuracy: 99.494 (786.0/790.0)\n"
          ],
          "name": "stdout"
        }
      ]
    }
  ]
}