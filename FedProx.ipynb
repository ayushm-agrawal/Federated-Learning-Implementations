{
  "nbformat": 4,
  "nbformat_minor": 0,
  "metadata": {
    "colab": {
      "name": "FedProx.ipynb",
      "provenance": [],
      "collapsed_sections": [
        "NY4eWzGiL6Mj",
        "jCOONkg-zV7Y",
        "ctjRsETiO1qO",
        "PTfxv8kFoGAy",
        "uVv4HA9HuLtr",
        "tUYyb4T-uXmF",
        "z_jifdzniuhm"
      ],
      "machine_shape": "hm",
      "include_colab_link": true
    },
    "kernelspec": {
      "name": "python3",
      "display_name": "Python 3"
    },
    "widgets": {
      "application/vnd.jupyter.widget-state+json": {
        "20a2454bc7f74575905e7883b60d6a67": {
          "model_module": "@jupyter-widgets/controls",
          "model_name": "HBoxModel",
          "state": {
            "_view_name": "HBoxView",
            "_dom_classes": [],
            "_model_name": "HBoxModel",
            "_view_module": "@jupyter-widgets/controls",
            "_model_module_version": "1.5.0",
            "_view_count": null,
            "_view_module_version": "1.5.0",
            "box_style": "",
            "layout": "IPY_MODEL_c135f8c901524eeebba02a8b3eeb08e2",
            "_model_module": "@jupyter-widgets/controls",
            "children": [
              "IPY_MODEL_22bef72f4aff42cd9cb6b82d4b0bb426",
              "IPY_MODEL_e53fb877f2d642c69b9e89d53bd7e6b0"
            ]
          }
        },
        "c135f8c901524eeebba02a8b3eeb08e2": {
          "model_module": "@jupyter-widgets/base",
          "model_name": "LayoutModel",
          "state": {
            "_view_name": "LayoutView",
            "grid_template_rows": null,
            "right": null,
            "justify_content": null,
            "_view_module": "@jupyter-widgets/base",
            "overflow": null,
            "_model_module_version": "1.2.0",
            "_view_count": null,
            "flex_flow": null,
            "width": null,
            "min_width": null,
            "border": null,
            "align_items": null,
            "bottom": null,
            "_model_module": "@jupyter-widgets/base",
            "top": null,
            "grid_column": null,
            "overflow_y": null,
            "overflow_x": null,
            "grid_auto_flow": null,
            "grid_area": null,
            "grid_template_columns": null,
            "flex": null,
            "_model_name": "LayoutModel",
            "justify_items": null,
            "grid_row": null,
            "max_height": null,
            "align_content": null,
            "visibility": null,
            "align_self": null,
            "height": null,
            "min_height": null,
            "padding": null,
            "grid_auto_rows": null,
            "grid_gap": null,
            "max_width": null,
            "order": null,
            "_view_module_version": "1.2.0",
            "grid_template_areas": null,
            "object_position": null,
            "object_fit": null,
            "grid_auto_columns": null,
            "margin": null,
            "display": null,
            "left": null
          }
        },
        "22bef72f4aff42cd9cb6b82d4b0bb426": {
          "model_module": "@jupyter-widgets/controls",
          "model_name": "FloatProgressModel",
          "state": {
            "_view_name": "ProgressView",
            "style": "IPY_MODEL_2a3b1721821e4619b432f31383c8eab9",
            "_dom_classes": [],
            "description": "",
            "_model_name": "FloatProgressModel",
            "bar_style": "success",
            "max": 1,
            "_view_module": "@jupyter-widgets/controls",
            "_model_module_version": "1.5.0",
            "value": 1,
            "_view_count": null,
            "_view_module_version": "1.5.0",
            "orientation": "horizontal",
            "min": 0,
            "description_tooltip": null,
            "_model_module": "@jupyter-widgets/controls",
            "layout": "IPY_MODEL_fae5cc1c9a7e4b04bd81078cc23bc2d0"
          }
        },
        "e53fb877f2d642c69b9e89d53bd7e6b0": {
          "model_module": "@jupyter-widgets/controls",
          "model_name": "HTMLModel",
          "state": {
            "_view_name": "HTMLView",
            "style": "IPY_MODEL_08656268d96640b98d57059594156ff8",
            "_dom_classes": [],
            "description": "",
            "_model_name": "HTMLModel",
            "placeholder": "​",
            "_view_module": "@jupyter-widgets/controls",
            "_model_module_version": "1.5.0",
            "value": " 9920512/? [00:02&lt;00:00, 3656079.48it/s]",
            "_view_count": null,
            "_view_module_version": "1.5.0",
            "description_tooltip": null,
            "_model_module": "@jupyter-widgets/controls",
            "layout": "IPY_MODEL_a25baaae480c494ba56aa730a7afb739"
          }
        },
        "2a3b1721821e4619b432f31383c8eab9": {
          "model_module": "@jupyter-widgets/controls",
          "model_name": "ProgressStyleModel",
          "state": {
            "_view_name": "StyleView",
            "_model_name": "ProgressStyleModel",
            "description_width": "initial",
            "_view_module": "@jupyter-widgets/base",
            "_model_module_version": "1.5.0",
            "_view_count": null,
            "_view_module_version": "1.2.0",
            "bar_color": null,
            "_model_module": "@jupyter-widgets/controls"
          }
        },
        "fae5cc1c9a7e4b04bd81078cc23bc2d0": {
          "model_module": "@jupyter-widgets/base",
          "model_name": "LayoutModel",
          "state": {
            "_view_name": "LayoutView",
            "grid_template_rows": null,
            "right": null,
            "justify_content": null,
            "_view_module": "@jupyter-widgets/base",
            "overflow": null,
            "_model_module_version": "1.2.0",
            "_view_count": null,
            "flex_flow": null,
            "width": null,
            "min_width": null,
            "border": null,
            "align_items": null,
            "bottom": null,
            "_model_module": "@jupyter-widgets/base",
            "top": null,
            "grid_column": null,
            "overflow_y": null,
            "overflow_x": null,
            "grid_auto_flow": null,
            "grid_area": null,
            "grid_template_columns": null,
            "flex": null,
            "_model_name": "LayoutModel",
            "justify_items": null,
            "grid_row": null,
            "max_height": null,
            "align_content": null,
            "visibility": null,
            "align_self": null,
            "height": null,
            "min_height": null,
            "padding": null,
            "grid_auto_rows": null,
            "grid_gap": null,
            "max_width": null,
            "order": null,
            "_view_module_version": "1.2.0",
            "grid_template_areas": null,
            "object_position": null,
            "object_fit": null,
            "grid_auto_columns": null,
            "margin": null,
            "display": null,
            "left": null
          }
        },
        "08656268d96640b98d57059594156ff8": {
          "model_module": "@jupyter-widgets/controls",
          "model_name": "DescriptionStyleModel",
          "state": {
            "_view_name": "StyleView",
            "_model_name": "DescriptionStyleModel",
            "description_width": "",
            "_view_module": "@jupyter-widgets/base",
            "_model_module_version": "1.5.0",
            "_view_count": null,
            "_view_module_version": "1.2.0",
            "_model_module": "@jupyter-widgets/controls"
          }
        },
        "a25baaae480c494ba56aa730a7afb739": {
          "model_module": "@jupyter-widgets/base",
          "model_name": "LayoutModel",
          "state": {
            "_view_name": "LayoutView",
            "grid_template_rows": null,
            "right": null,
            "justify_content": null,
            "_view_module": "@jupyter-widgets/base",
            "overflow": null,
            "_model_module_version": "1.2.0",
            "_view_count": null,
            "flex_flow": null,
            "width": null,
            "min_width": null,
            "border": null,
            "align_items": null,
            "bottom": null,
            "_model_module": "@jupyter-widgets/base",
            "top": null,
            "grid_column": null,
            "overflow_y": null,
            "overflow_x": null,
            "grid_auto_flow": null,
            "grid_area": null,
            "grid_template_columns": null,
            "flex": null,
            "_model_name": "LayoutModel",
            "justify_items": null,
            "grid_row": null,
            "max_height": null,
            "align_content": null,
            "visibility": null,
            "align_self": null,
            "height": null,
            "min_height": null,
            "padding": null,
            "grid_auto_rows": null,
            "grid_gap": null,
            "max_width": null,
            "order": null,
            "_view_module_version": "1.2.0",
            "grid_template_areas": null,
            "object_position": null,
            "object_fit": null,
            "grid_auto_columns": null,
            "margin": null,
            "display": null,
            "left": null
          }
        },
        "2a05fd61340444dea20b6e032cba4b3a": {
          "model_module": "@jupyter-widgets/controls",
          "model_name": "HBoxModel",
          "state": {
            "_view_name": "HBoxView",
            "_dom_classes": [],
            "_model_name": "HBoxModel",
            "_view_module": "@jupyter-widgets/controls",
            "_model_module_version": "1.5.0",
            "_view_count": null,
            "_view_module_version": "1.5.0",
            "box_style": "",
            "layout": "IPY_MODEL_387df3cd24314c1fa294b7842ab9b923",
            "_model_module": "@jupyter-widgets/controls",
            "children": [
              "IPY_MODEL_51a3b9aad0cd4c82ae431a28ef24298f",
              "IPY_MODEL_9e1ba9d340bb4d9aa27ef781cb01c322"
            ]
          }
        },
        "387df3cd24314c1fa294b7842ab9b923": {
          "model_module": "@jupyter-widgets/base",
          "model_name": "LayoutModel",
          "state": {
            "_view_name": "LayoutView",
            "grid_template_rows": null,
            "right": null,
            "justify_content": null,
            "_view_module": "@jupyter-widgets/base",
            "overflow": null,
            "_model_module_version": "1.2.0",
            "_view_count": null,
            "flex_flow": null,
            "width": null,
            "min_width": null,
            "border": null,
            "align_items": null,
            "bottom": null,
            "_model_module": "@jupyter-widgets/base",
            "top": null,
            "grid_column": null,
            "overflow_y": null,
            "overflow_x": null,
            "grid_auto_flow": null,
            "grid_area": null,
            "grid_template_columns": null,
            "flex": null,
            "_model_name": "LayoutModel",
            "justify_items": null,
            "grid_row": null,
            "max_height": null,
            "align_content": null,
            "visibility": null,
            "align_self": null,
            "height": null,
            "min_height": null,
            "padding": null,
            "grid_auto_rows": null,
            "grid_gap": null,
            "max_width": null,
            "order": null,
            "_view_module_version": "1.2.0",
            "grid_template_areas": null,
            "object_position": null,
            "object_fit": null,
            "grid_auto_columns": null,
            "margin": null,
            "display": null,
            "left": null
          }
        },
        "51a3b9aad0cd4c82ae431a28ef24298f": {
          "model_module": "@jupyter-widgets/controls",
          "model_name": "FloatProgressModel",
          "state": {
            "_view_name": "ProgressView",
            "style": "IPY_MODEL_acfbf776c87c42bc9f83d68262b08b36",
            "_dom_classes": [],
            "description": "",
            "_model_name": "FloatProgressModel",
            "bar_style": "success",
            "max": 1,
            "_view_module": "@jupyter-widgets/controls",
            "_model_module_version": "1.5.0",
            "value": 1,
            "_view_count": null,
            "_view_module_version": "1.5.0",
            "orientation": "horizontal",
            "min": 0,
            "description_tooltip": null,
            "_model_module": "@jupyter-widgets/controls",
            "layout": "IPY_MODEL_23d540d99b4d484980839723319a886f"
          }
        },
        "9e1ba9d340bb4d9aa27ef781cb01c322": {
          "model_module": "@jupyter-widgets/controls",
          "model_name": "HTMLModel",
          "state": {
            "_view_name": "HTMLView",
            "style": "IPY_MODEL_e386d0b3f4ef4696a046b8cb47872f46",
            "_dom_classes": [],
            "description": "",
            "_model_name": "HTMLModel",
            "placeholder": "​",
            "_view_module": "@jupyter-widgets/controls",
            "_model_module_version": "1.5.0",
            "value": " 32768/? [00:00&lt;00:00, 131218.16it/s]",
            "_view_count": null,
            "_view_module_version": "1.5.0",
            "description_tooltip": null,
            "_model_module": "@jupyter-widgets/controls",
            "layout": "IPY_MODEL_0f2049f3685b46bfb65851a749b6bf7f"
          }
        },
        "acfbf776c87c42bc9f83d68262b08b36": {
          "model_module": "@jupyter-widgets/controls",
          "model_name": "ProgressStyleModel",
          "state": {
            "_view_name": "StyleView",
            "_model_name": "ProgressStyleModel",
            "description_width": "initial",
            "_view_module": "@jupyter-widgets/base",
            "_model_module_version": "1.5.0",
            "_view_count": null,
            "_view_module_version": "1.2.0",
            "bar_color": null,
            "_model_module": "@jupyter-widgets/controls"
          }
        },
        "23d540d99b4d484980839723319a886f": {
          "model_module": "@jupyter-widgets/base",
          "model_name": "LayoutModel",
          "state": {
            "_view_name": "LayoutView",
            "grid_template_rows": null,
            "right": null,
            "justify_content": null,
            "_view_module": "@jupyter-widgets/base",
            "overflow": null,
            "_model_module_version": "1.2.0",
            "_view_count": null,
            "flex_flow": null,
            "width": null,
            "min_width": null,
            "border": null,
            "align_items": null,
            "bottom": null,
            "_model_module": "@jupyter-widgets/base",
            "top": null,
            "grid_column": null,
            "overflow_y": null,
            "overflow_x": null,
            "grid_auto_flow": null,
            "grid_area": null,
            "grid_template_columns": null,
            "flex": null,
            "_model_name": "LayoutModel",
            "justify_items": null,
            "grid_row": null,
            "max_height": null,
            "align_content": null,
            "visibility": null,
            "align_self": null,
            "height": null,
            "min_height": null,
            "padding": null,
            "grid_auto_rows": null,
            "grid_gap": null,
            "max_width": null,
            "order": null,
            "_view_module_version": "1.2.0",
            "grid_template_areas": null,
            "object_position": null,
            "object_fit": null,
            "grid_auto_columns": null,
            "margin": null,
            "display": null,
            "left": null
          }
        },
        "e386d0b3f4ef4696a046b8cb47872f46": {
          "model_module": "@jupyter-widgets/controls",
          "model_name": "DescriptionStyleModel",
          "state": {
            "_view_name": "StyleView",
            "_model_name": "DescriptionStyleModel",
            "description_width": "",
            "_view_module": "@jupyter-widgets/base",
            "_model_module_version": "1.5.0",
            "_view_count": null,
            "_view_module_version": "1.2.0",
            "_model_module": "@jupyter-widgets/controls"
          }
        },
        "0f2049f3685b46bfb65851a749b6bf7f": {
          "model_module": "@jupyter-widgets/base",
          "model_name": "LayoutModel",
          "state": {
            "_view_name": "LayoutView",
            "grid_template_rows": null,
            "right": null,
            "justify_content": null,
            "_view_module": "@jupyter-widgets/base",
            "overflow": null,
            "_model_module_version": "1.2.0",
            "_view_count": null,
            "flex_flow": null,
            "width": null,
            "min_width": null,
            "border": null,
            "align_items": null,
            "bottom": null,
            "_model_module": "@jupyter-widgets/base",
            "top": null,
            "grid_column": null,
            "overflow_y": null,
            "overflow_x": null,
            "grid_auto_flow": null,
            "grid_area": null,
            "grid_template_columns": null,
            "flex": null,
            "_model_name": "LayoutModel",
            "justify_items": null,
            "grid_row": null,
            "max_height": null,
            "align_content": null,
            "visibility": null,
            "align_self": null,
            "height": null,
            "min_height": null,
            "padding": null,
            "grid_auto_rows": null,
            "grid_gap": null,
            "max_width": null,
            "order": null,
            "_view_module_version": "1.2.0",
            "grid_template_areas": null,
            "object_position": null,
            "object_fit": null,
            "grid_auto_columns": null,
            "margin": null,
            "display": null,
            "left": null
          }
        },
        "8421adb0d1f3494797241c7e071de864": {
          "model_module": "@jupyter-widgets/controls",
          "model_name": "HBoxModel",
          "state": {
            "_view_name": "HBoxView",
            "_dom_classes": [],
            "_model_name": "HBoxModel",
            "_view_module": "@jupyter-widgets/controls",
            "_model_module_version": "1.5.0",
            "_view_count": null,
            "_view_module_version": "1.5.0",
            "box_style": "",
            "layout": "IPY_MODEL_027e310e2e134dab952c3a7b8a2c7502",
            "_model_module": "@jupyter-widgets/controls",
            "children": [
              "IPY_MODEL_57892f52564246ec8325fea4fce6910e",
              "IPY_MODEL_16928f0964604c2b9960b8b349226807"
            ]
          }
        },
        "027e310e2e134dab952c3a7b8a2c7502": {
          "model_module": "@jupyter-widgets/base",
          "model_name": "LayoutModel",
          "state": {
            "_view_name": "LayoutView",
            "grid_template_rows": null,
            "right": null,
            "justify_content": null,
            "_view_module": "@jupyter-widgets/base",
            "overflow": null,
            "_model_module_version": "1.2.0",
            "_view_count": null,
            "flex_flow": null,
            "width": null,
            "min_width": null,
            "border": null,
            "align_items": null,
            "bottom": null,
            "_model_module": "@jupyter-widgets/base",
            "top": null,
            "grid_column": null,
            "overflow_y": null,
            "overflow_x": null,
            "grid_auto_flow": null,
            "grid_area": null,
            "grid_template_columns": null,
            "flex": null,
            "_model_name": "LayoutModel",
            "justify_items": null,
            "grid_row": null,
            "max_height": null,
            "align_content": null,
            "visibility": null,
            "align_self": null,
            "height": null,
            "min_height": null,
            "padding": null,
            "grid_auto_rows": null,
            "grid_gap": null,
            "max_width": null,
            "order": null,
            "_view_module_version": "1.2.0",
            "grid_template_areas": null,
            "object_position": null,
            "object_fit": null,
            "grid_auto_columns": null,
            "margin": null,
            "display": null,
            "left": null
          }
        },
        "57892f52564246ec8325fea4fce6910e": {
          "model_module": "@jupyter-widgets/controls",
          "model_name": "FloatProgressModel",
          "state": {
            "_view_name": "ProgressView",
            "style": "IPY_MODEL_b49652a8c5fe4c8581b4436d8953e9fa",
            "_dom_classes": [],
            "description": "",
            "_model_name": "FloatProgressModel",
            "bar_style": "success",
            "max": 1,
            "_view_module": "@jupyter-widgets/controls",
            "_model_module_version": "1.5.0",
            "value": 1,
            "_view_count": null,
            "_view_module_version": "1.5.0",
            "orientation": "horizontal",
            "min": 0,
            "description_tooltip": null,
            "_model_module": "@jupyter-widgets/controls",
            "layout": "IPY_MODEL_40332252515b46cc8518fde59c874118"
          }
        },
        "16928f0964604c2b9960b8b349226807": {
          "model_module": "@jupyter-widgets/controls",
          "model_name": "HTMLModel",
          "state": {
            "_view_name": "HTMLView",
            "style": "IPY_MODEL_0bda02c220f04ee0b2ef903a69599613",
            "_dom_classes": [],
            "description": "",
            "_model_name": "HTMLModel",
            "placeholder": "​",
            "_view_module": "@jupyter-widgets/controls",
            "_model_module_version": "1.5.0",
            "value": " 1654784/? [00:01&lt;00:00, 908108.77it/s]",
            "_view_count": null,
            "_view_module_version": "1.5.0",
            "description_tooltip": null,
            "_model_module": "@jupyter-widgets/controls",
            "layout": "IPY_MODEL_c0fea3ef19c44d659b79081ad792e142"
          }
        },
        "b49652a8c5fe4c8581b4436d8953e9fa": {
          "model_module": "@jupyter-widgets/controls",
          "model_name": "ProgressStyleModel",
          "state": {
            "_view_name": "StyleView",
            "_model_name": "ProgressStyleModel",
            "description_width": "initial",
            "_view_module": "@jupyter-widgets/base",
            "_model_module_version": "1.5.0",
            "_view_count": null,
            "_view_module_version": "1.2.0",
            "bar_color": null,
            "_model_module": "@jupyter-widgets/controls"
          }
        },
        "40332252515b46cc8518fde59c874118": {
          "model_module": "@jupyter-widgets/base",
          "model_name": "LayoutModel",
          "state": {
            "_view_name": "LayoutView",
            "grid_template_rows": null,
            "right": null,
            "justify_content": null,
            "_view_module": "@jupyter-widgets/base",
            "overflow": null,
            "_model_module_version": "1.2.0",
            "_view_count": null,
            "flex_flow": null,
            "width": null,
            "min_width": null,
            "border": null,
            "align_items": null,
            "bottom": null,
            "_model_module": "@jupyter-widgets/base",
            "top": null,
            "grid_column": null,
            "overflow_y": null,
            "overflow_x": null,
            "grid_auto_flow": null,
            "grid_area": null,
            "grid_template_columns": null,
            "flex": null,
            "_model_name": "LayoutModel",
            "justify_items": null,
            "grid_row": null,
            "max_height": null,
            "align_content": null,
            "visibility": null,
            "align_self": null,
            "height": null,
            "min_height": null,
            "padding": null,
            "grid_auto_rows": null,
            "grid_gap": null,
            "max_width": null,
            "order": null,
            "_view_module_version": "1.2.0",
            "grid_template_areas": null,
            "object_position": null,
            "object_fit": null,
            "grid_auto_columns": null,
            "margin": null,
            "display": null,
            "left": null
          }
        },
        "0bda02c220f04ee0b2ef903a69599613": {
          "model_module": "@jupyter-widgets/controls",
          "model_name": "DescriptionStyleModel",
          "state": {
            "_view_name": "StyleView",
            "_model_name": "DescriptionStyleModel",
            "description_width": "",
            "_view_module": "@jupyter-widgets/base",
            "_model_module_version": "1.5.0",
            "_view_count": null,
            "_view_module_version": "1.2.0",
            "_model_module": "@jupyter-widgets/controls"
          }
        },
        "c0fea3ef19c44d659b79081ad792e142": {
          "model_module": "@jupyter-widgets/base",
          "model_name": "LayoutModel",
          "state": {
            "_view_name": "LayoutView",
            "grid_template_rows": null,
            "right": null,
            "justify_content": null,
            "_view_module": "@jupyter-widgets/base",
            "overflow": null,
            "_model_module_version": "1.2.0",
            "_view_count": null,
            "flex_flow": null,
            "width": null,
            "min_width": null,
            "border": null,
            "align_items": null,
            "bottom": null,
            "_model_module": "@jupyter-widgets/base",
            "top": null,
            "grid_column": null,
            "overflow_y": null,
            "overflow_x": null,
            "grid_auto_flow": null,
            "grid_area": null,
            "grid_template_columns": null,
            "flex": null,
            "_model_name": "LayoutModel",
            "justify_items": null,
            "grid_row": null,
            "max_height": null,
            "align_content": null,
            "visibility": null,
            "align_self": null,
            "height": null,
            "min_height": null,
            "padding": null,
            "grid_auto_rows": null,
            "grid_gap": null,
            "max_width": null,
            "order": null,
            "_view_module_version": "1.2.0",
            "grid_template_areas": null,
            "object_position": null,
            "object_fit": null,
            "grid_auto_columns": null,
            "margin": null,
            "display": null,
            "left": null
          }
        },
        "8e5cf9c7d127480bbc6aac3cda58f4c2": {
          "model_module": "@jupyter-widgets/controls",
          "model_name": "HBoxModel",
          "state": {
            "_view_name": "HBoxView",
            "_dom_classes": [],
            "_model_name": "HBoxModel",
            "_view_module": "@jupyter-widgets/controls",
            "_model_module_version": "1.5.0",
            "_view_count": null,
            "_view_module_version": "1.5.0",
            "box_style": "",
            "layout": "IPY_MODEL_349235d531214ff3a87c1df65b275cc6",
            "_model_module": "@jupyter-widgets/controls",
            "children": [
              "IPY_MODEL_b6f3c25c4246449c985a7564411cecdd",
              "IPY_MODEL_d1f4ec7d9b04402e92f507a0f0d91d43"
            ]
          }
        },
        "349235d531214ff3a87c1df65b275cc6": {
          "model_module": "@jupyter-widgets/base",
          "model_name": "LayoutModel",
          "state": {
            "_view_name": "LayoutView",
            "grid_template_rows": null,
            "right": null,
            "justify_content": null,
            "_view_module": "@jupyter-widgets/base",
            "overflow": null,
            "_model_module_version": "1.2.0",
            "_view_count": null,
            "flex_flow": null,
            "width": null,
            "min_width": null,
            "border": null,
            "align_items": null,
            "bottom": null,
            "_model_module": "@jupyter-widgets/base",
            "top": null,
            "grid_column": null,
            "overflow_y": null,
            "overflow_x": null,
            "grid_auto_flow": null,
            "grid_area": null,
            "grid_template_columns": null,
            "flex": null,
            "_model_name": "LayoutModel",
            "justify_items": null,
            "grid_row": null,
            "max_height": null,
            "align_content": null,
            "visibility": null,
            "align_self": null,
            "height": null,
            "min_height": null,
            "padding": null,
            "grid_auto_rows": null,
            "grid_gap": null,
            "max_width": null,
            "order": null,
            "_view_module_version": "1.2.0",
            "grid_template_areas": null,
            "object_position": null,
            "object_fit": null,
            "grid_auto_columns": null,
            "margin": null,
            "display": null,
            "left": null
          }
        },
        "b6f3c25c4246449c985a7564411cecdd": {
          "model_module": "@jupyter-widgets/controls",
          "model_name": "FloatProgressModel",
          "state": {
            "_view_name": "ProgressView",
            "style": "IPY_MODEL_c6b72e9622764467bd4160b930da033f",
            "_dom_classes": [],
            "description": "",
            "_model_name": "FloatProgressModel",
            "bar_style": "success",
            "max": 1,
            "_view_module": "@jupyter-widgets/controls",
            "_model_module_version": "1.5.0",
            "value": 1,
            "_view_count": null,
            "_view_module_version": "1.5.0",
            "orientation": "horizontal",
            "min": 0,
            "description_tooltip": null,
            "_model_module": "@jupyter-widgets/controls",
            "layout": "IPY_MODEL_4dd1b35b029e47a2ac74a19fc79b239a"
          }
        },
        "d1f4ec7d9b04402e92f507a0f0d91d43": {
          "model_module": "@jupyter-widgets/controls",
          "model_name": "HTMLModel",
          "state": {
            "_view_name": "HTMLView",
            "style": "IPY_MODEL_96046db430ec4e2e9d5e186e76c971b9",
            "_dom_classes": [],
            "description": "",
            "_model_name": "HTMLModel",
            "placeholder": "​",
            "_view_module": "@jupyter-widgets/controls",
            "_model_module_version": "1.5.0",
            "value": " 8192/? [00:00&lt;00:00, 8498.87it/s]",
            "_view_count": null,
            "_view_module_version": "1.5.0",
            "description_tooltip": null,
            "_model_module": "@jupyter-widgets/controls",
            "layout": "IPY_MODEL_565bada901da43b4ac507edf64f0d408"
          }
        },
        "c6b72e9622764467bd4160b930da033f": {
          "model_module": "@jupyter-widgets/controls",
          "model_name": "ProgressStyleModel",
          "state": {
            "_view_name": "StyleView",
            "_model_name": "ProgressStyleModel",
            "description_width": "initial",
            "_view_module": "@jupyter-widgets/base",
            "_model_module_version": "1.5.0",
            "_view_count": null,
            "_view_module_version": "1.2.0",
            "bar_color": null,
            "_model_module": "@jupyter-widgets/controls"
          }
        },
        "4dd1b35b029e47a2ac74a19fc79b239a": {
          "model_module": "@jupyter-widgets/base",
          "model_name": "LayoutModel",
          "state": {
            "_view_name": "LayoutView",
            "grid_template_rows": null,
            "right": null,
            "justify_content": null,
            "_view_module": "@jupyter-widgets/base",
            "overflow": null,
            "_model_module_version": "1.2.0",
            "_view_count": null,
            "flex_flow": null,
            "width": null,
            "min_width": null,
            "border": null,
            "align_items": null,
            "bottom": null,
            "_model_module": "@jupyter-widgets/base",
            "top": null,
            "grid_column": null,
            "overflow_y": null,
            "overflow_x": null,
            "grid_auto_flow": null,
            "grid_area": null,
            "grid_template_columns": null,
            "flex": null,
            "_model_name": "LayoutModel",
            "justify_items": null,
            "grid_row": null,
            "max_height": null,
            "align_content": null,
            "visibility": null,
            "align_self": null,
            "height": null,
            "min_height": null,
            "padding": null,
            "grid_auto_rows": null,
            "grid_gap": null,
            "max_width": null,
            "order": null,
            "_view_module_version": "1.2.0",
            "grid_template_areas": null,
            "object_position": null,
            "object_fit": null,
            "grid_auto_columns": null,
            "margin": null,
            "display": null,
            "left": null
          }
        },
        "96046db430ec4e2e9d5e186e76c971b9": {
          "model_module": "@jupyter-widgets/controls",
          "model_name": "DescriptionStyleModel",
          "state": {
            "_view_name": "StyleView",
            "_model_name": "DescriptionStyleModel",
            "description_width": "",
            "_view_module": "@jupyter-widgets/base",
            "_model_module_version": "1.5.0",
            "_view_count": null,
            "_view_module_version": "1.2.0",
            "_model_module": "@jupyter-widgets/controls"
          }
        },
        "565bada901da43b4ac507edf64f0d408": {
          "model_module": "@jupyter-widgets/base",
          "model_name": "LayoutModel",
          "state": {
            "_view_name": "LayoutView",
            "grid_template_rows": null,
            "right": null,
            "justify_content": null,
            "_view_module": "@jupyter-widgets/base",
            "overflow": null,
            "_model_module_version": "1.2.0",
            "_view_count": null,
            "flex_flow": null,
            "width": null,
            "min_width": null,
            "border": null,
            "align_items": null,
            "bottom": null,
            "_model_module": "@jupyter-widgets/base",
            "top": null,
            "grid_column": null,
            "overflow_y": null,
            "overflow_x": null,
            "grid_auto_flow": null,
            "grid_area": null,
            "grid_template_columns": null,
            "flex": null,
            "_model_name": "LayoutModel",
            "justify_items": null,
            "grid_row": null,
            "max_height": null,
            "align_content": null,
            "visibility": null,
            "align_self": null,
            "height": null,
            "min_height": null,
            "padding": null,
            "grid_auto_rows": null,
            "grid_gap": null,
            "max_width": null,
            "order": null,
            "_view_module_version": "1.2.0",
            "grid_template_areas": null,
            "object_position": null,
            "object_fit": null,
            "grid_auto_columns": null,
            "margin": null,
            "display": null,
            "left": null
          }
        },
        "0959c06b82a447959ce259dd49791067": {
          "model_module": "@jupyter-widgets/controls",
          "model_name": "HBoxModel",
          "state": {
            "_view_name": "HBoxView",
            "_dom_classes": [],
            "_model_name": "HBoxModel",
            "_view_module": "@jupyter-widgets/controls",
            "_model_module_version": "1.5.0",
            "_view_count": null,
            "_view_module_version": "1.5.0",
            "box_style": "",
            "layout": "IPY_MODEL_5755490efcfd452eaaa074ab804bc407",
            "_model_module": "@jupyter-widgets/controls",
            "children": [
              "IPY_MODEL_5f77a1b13de74179b58ae50ac90cf9bb",
              "IPY_MODEL_3e3f03acf402422e8908716f0dc82a7a"
            ]
          }
        },
        "5755490efcfd452eaaa074ab804bc407": {
          "model_module": "@jupyter-widgets/base",
          "model_name": "LayoutModel",
          "state": {
            "_view_name": "LayoutView",
            "grid_template_rows": null,
            "right": null,
            "justify_content": null,
            "_view_module": "@jupyter-widgets/base",
            "overflow": null,
            "_model_module_version": "1.2.0",
            "_view_count": null,
            "flex_flow": null,
            "width": null,
            "min_width": null,
            "border": null,
            "align_items": null,
            "bottom": null,
            "_model_module": "@jupyter-widgets/base",
            "top": null,
            "grid_column": null,
            "overflow_y": null,
            "overflow_x": null,
            "grid_auto_flow": null,
            "grid_area": null,
            "grid_template_columns": null,
            "flex": null,
            "_model_name": "LayoutModel",
            "justify_items": null,
            "grid_row": null,
            "max_height": null,
            "align_content": null,
            "visibility": null,
            "align_self": null,
            "height": null,
            "min_height": null,
            "padding": null,
            "grid_auto_rows": null,
            "grid_gap": null,
            "max_width": null,
            "order": null,
            "_view_module_version": "1.2.0",
            "grid_template_areas": null,
            "object_position": null,
            "object_fit": null,
            "grid_auto_columns": null,
            "margin": null,
            "display": null,
            "left": null
          }
        },
        "5f77a1b13de74179b58ae50ac90cf9bb": {
          "model_module": "@jupyter-widgets/controls",
          "model_name": "FloatProgressModel",
          "state": {
            "_view_name": "ProgressView",
            "style": "IPY_MODEL_380519b143ba48648bbacdcd367af1f6",
            "_dom_classes": [],
            "description": "",
            "_model_name": "FloatProgressModel",
            "bar_style": "success",
            "max": 1,
            "_view_module": "@jupyter-widgets/controls",
            "_model_module_version": "1.5.0",
            "value": 1,
            "_view_count": null,
            "_view_module_version": "1.5.0",
            "orientation": "horizontal",
            "min": 0,
            "description_tooltip": null,
            "_model_module": "@jupyter-widgets/controls",
            "layout": "IPY_MODEL_77293fb56cf944c9aa44fbb13ae45684"
          }
        },
        "3e3f03acf402422e8908716f0dc82a7a": {
          "model_module": "@jupyter-widgets/controls",
          "model_name": "HTMLModel",
          "state": {
            "_view_name": "HTMLView",
            "style": "IPY_MODEL_b6895381adad4ba4b9248e19338ebcb2",
            "_dom_classes": [],
            "description": "",
            "_model_name": "HTMLModel",
            "placeholder": "​",
            "_view_module": "@jupyter-widgets/controls",
            "_model_module_version": "1.5.0",
            "value": " 9920512/? [00:00&lt;00:00, 12921025.54it/s]",
            "_view_count": null,
            "_view_module_version": "1.5.0",
            "description_tooltip": null,
            "_model_module": "@jupyter-widgets/controls",
            "layout": "IPY_MODEL_9d5517698d39474da3d9e9b21e812da7"
          }
        },
        "380519b143ba48648bbacdcd367af1f6": {
          "model_module": "@jupyter-widgets/controls",
          "model_name": "ProgressStyleModel",
          "state": {
            "_view_name": "StyleView",
            "_model_name": "ProgressStyleModel",
            "description_width": "initial",
            "_view_module": "@jupyter-widgets/base",
            "_model_module_version": "1.5.0",
            "_view_count": null,
            "_view_module_version": "1.2.0",
            "bar_color": null,
            "_model_module": "@jupyter-widgets/controls"
          }
        },
        "77293fb56cf944c9aa44fbb13ae45684": {
          "model_module": "@jupyter-widgets/base",
          "model_name": "LayoutModel",
          "state": {
            "_view_name": "LayoutView",
            "grid_template_rows": null,
            "right": null,
            "justify_content": null,
            "_view_module": "@jupyter-widgets/base",
            "overflow": null,
            "_model_module_version": "1.2.0",
            "_view_count": null,
            "flex_flow": null,
            "width": null,
            "min_width": null,
            "border": null,
            "align_items": null,
            "bottom": null,
            "_model_module": "@jupyter-widgets/base",
            "top": null,
            "grid_column": null,
            "overflow_y": null,
            "overflow_x": null,
            "grid_auto_flow": null,
            "grid_area": null,
            "grid_template_columns": null,
            "flex": null,
            "_model_name": "LayoutModel",
            "justify_items": null,
            "grid_row": null,
            "max_height": null,
            "align_content": null,
            "visibility": null,
            "align_self": null,
            "height": null,
            "min_height": null,
            "padding": null,
            "grid_auto_rows": null,
            "grid_gap": null,
            "max_width": null,
            "order": null,
            "_view_module_version": "1.2.0",
            "grid_template_areas": null,
            "object_position": null,
            "object_fit": null,
            "grid_auto_columns": null,
            "margin": null,
            "display": null,
            "left": null
          }
        },
        "b6895381adad4ba4b9248e19338ebcb2": {
          "model_module": "@jupyter-widgets/controls",
          "model_name": "DescriptionStyleModel",
          "state": {
            "_view_name": "StyleView",
            "_model_name": "DescriptionStyleModel",
            "description_width": "",
            "_view_module": "@jupyter-widgets/base",
            "_model_module_version": "1.5.0",
            "_view_count": null,
            "_view_module_version": "1.2.0",
            "_model_module": "@jupyter-widgets/controls"
          }
        },
        "9d5517698d39474da3d9e9b21e812da7": {
          "model_module": "@jupyter-widgets/base",
          "model_name": "LayoutModel",
          "state": {
            "_view_name": "LayoutView",
            "grid_template_rows": null,
            "right": null,
            "justify_content": null,
            "_view_module": "@jupyter-widgets/base",
            "overflow": null,
            "_model_module_version": "1.2.0",
            "_view_count": null,
            "flex_flow": null,
            "width": null,
            "min_width": null,
            "border": null,
            "align_items": null,
            "bottom": null,
            "_model_module": "@jupyter-widgets/base",
            "top": null,
            "grid_column": null,
            "overflow_y": null,
            "overflow_x": null,
            "grid_auto_flow": null,
            "grid_area": null,
            "grid_template_columns": null,
            "flex": null,
            "_model_name": "LayoutModel",
            "justify_items": null,
            "grid_row": null,
            "max_height": null,
            "align_content": null,
            "visibility": null,
            "align_self": null,
            "height": null,
            "min_height": null,
            "padding": null,
            "grid_auto_rows": null,
            "grid_gap": null,
            "max_width": null,
            "order": null,
            "_view_module_version": "1.2.0",
            "grid_template_areas": null,
            "object_position": null,
            "object_fit": null,
            "grid_auto_columns": null,
            "margin": null,
            "display": null,
            "left": null
          }
        },
        "988855c404134bf4a4b29477048d6b1d": {
          "model_module": "@jupyter-widgets/controls",
          "model_name": "HBoxModel",
          "state": {
            "_view_name": "HBoxView",
            "_dom_classes": [],
            "_model_name": "HBoxModel",
            "_view_module": "@jupyter-widgets/controls",
            "_model_module_version": "1.5.0",
            "_view_count": null,
            "_view_module_version": "1.5.0",
            "box_style": "",
            "layout": "IPY_MODEL_361550fb398d40f3a69dda4e27590164",
            "_model_module": "@jupyter-widgets/controls",
            "children": [
              "IPY_MODEL_70f3991b62a94da98ddc7463a6082bbd",
              "IPY_MODEL_600f46971e4d44b996bc21c81299fff2"
            ]
          }
        },
        "361550fb398d40f3a69dda4e27590164": {
          "model_module": "@jupyter-widgets/base",
          "model_name": "LayoutModel",
          "state": {
            "_view_name": "LayoutView",
            "grid_template_rows": null,
            "right": null,
            "justify_content": null,
            "_view_module": "@jupyter-widgets/base",
            "overflow": null,
            "_model_module_version": "1.2.0",
            "_view_count": null,
            "flex_flow": null,
            "width": null,
            "min_width": null,
            "border": null,
            "align_items": null,
            "bottom": null,
            "_model_module": "@jupyter-widgets/base",
            "top": null,
            "grid_column": null,
            "overflow_y": null,
            "overflow_x": null,
            "grid_auto_flow": null,
            "grid_area": null,
            "grid_template_columns": null,
            "flex": null,
            "_model_name": "LayoutModel",
            "justify_items": null,
            "grid_row": null,
            "max_height": null,
            "align_content": null,
            "visibility": null,
            "align_self": null,
            "height": null,
            "min_height": null,
            "padding": null,
            "grid_auto_rows": null,
            "grid_gap": null,
            "max_width": null,
            "order": null,
            "_view_module_version": "1.2.0",
            "grid_template_areas": null,
            "object_position": null,
            "object_fit": null,
            "grid_auto_columns": null,
            "margin": null,
            "display": null,
            "left": null
          }
        },
        "70f3991b62a94da98ddc7463a6082bbd": {
          "model_module": "@jupyter-widgets/controls",
          "model_name": "FloatProgressModel",
          "state": {
            "_view_name": "ProgressView",
            "style": "IPY_MODEL_cd190e46029f4725b0b2e9ba3826b078",
            "_dom_classes": [],
            "description": "",
            "_model_name": "FloatProgressModel",
            "bar_style": "success",
            "max": 1,
            "_view_module": "@jupyter-widgets/controls",
            "_model_module_version": "1.5.0",
            "value": 1,
            "_view_count": null,
            "_view_module_version": "1.5.0",
            "orientation": "horizontal",
            "min": 0,
            "description_tooltip": null,
            "_model_module": "@jupyter-widgets/controls",
            "layout": "IPY_MODEL_506888a967084e62bf1e5908bd90633a"
          }
        },
        "600f46971e4d44b996bc21c81299fff2": {
          "model_module": "@jupyter-widgets/controls",
          "model_name": "HTMLModel",
          "state": {
            "_view_name": "HTMLView",
            "style": "IPY_MODEL_ebf54e5d5b614134a33222a4b120d5c4",
            "_dom_classes": [],
            "description": "",
            "_model_name": "HTMLModel",
            "placeholder": "​",
            "_view_module": "@jupyter-widgets/controls",
            "_model_module_version": "1.5.0",
            "value": " 32768/? [00:00&lt;00:00, 270418.70it/s]",
            "_view_count": null,
            "_view_module_version": "1.5.0",
            "description_tooltip": null,
            "_model_module": "@jupyter-widgets/controls",
            "layout": "IPY_MODEL_cf2221415dfd48abac14f5c25707df49"
          }
        },
        "cd190e46029f4725b0b2e9ba3826b078": {
          "model_module": "@jupyter-widgets/controls",
          "model_name": "ProgressStyleModel",
          "state": {
            "_view_name": "StyleView",
            "_model_name": "ProgressStyleModel",
            "description_width": "initial",
            "_view_module": "@jupyter-widgets/base",
            "_model_module_version": "1.5.0",
            "_view_count": null,
            "_view_module_version": "1.2.0",
            "bar_color": null,
            "_model_module": "@jupyter-widgets/controls"
          }
        },
        "506888a967084e62bf1e5908bd90633a": {
          "model_module": "@jupyter-widgets/base",
          "model_name": "LayoutModel",
          "state": {
            "_view_name": "LayoutView",
            "grid_template_rows": null,
            "right": null,
            "justify_content": null,
            "_view_module": "@jupyter-widgets/base",
            "overflow": null,
            "_model_module_version": "1.2.0",
            "_view_count": null,
            "flex_flow": null,
            "width": null,
            "min_width": null,
            "border": null,
            "align_items": null,
            "bottom": null,
            "_model_module": "@jupyter-widgets/base",
            "top": null,
            "grid_column": null,
            "overflow_y": null,
            "overflow_x": null,
            "grid_auto_flow": null,
            "grid_area": null,
            "grid_template_columns": null,
            "flex": null,
            "_model_name": "LayoutModel",
            "justify_items": null,
            "grid_row": null,
            "max_height": null,
            "align_content": null,
            "visibility": null,
            "align_self": null,
            "height": null,
            "min_height": null,
            "padding": null,
            "grid_auto_rows": null,
            "grid_gap": null,
            "max_width": null,
            "order": null,
            "_view_module_version": "1.2.0",
            "grid_template_areas": null,
            "object_position": null,
            "object_fit": null,
            "grid_auto_columns": null,
            "margin": null,
            "display": null,
            "left": null
          }
        },
        "ebf54e5d5b614134a33222a4b120d5c4": {
          "model_module": "@jupyter-widgets/controls",
          "model_name": "DescriptionStyleModel",
          "state": {
            "_view_name": "StyleView",
            "_model_name": "DescriptionStyleModel",
            "description_width": "",
            "_view_module": "@jupyter-widgets/base",
            "_model_module_version": "1.5.0",
            "_view_count": null,
            "_view_module_version": "1.2.0",
            "_model_module": "@jupyter-widgets/controls"
          }
        },
        "cf2221415dfd48abac14f5c25707df49": {
          "model_module": "@jupyter-widgets/base",
          "model_name": "LayoutModel",
          "state": {
            "_view_name": "LayoutView",
            "grid_template_rows": null,
            "right": null,
            "justify_content": null,
            "_view_module": "@jupyter-widgets/base",
            "overflow": null,
            "_model_module_version": "1.2.0",
            "_view_count": null,
            "flex_flow": null,
            "width": null,
            "min_width": null,
            "border": null,
            "align_items": null,
            "bottom": null,
            "_model_module": "@jupyter-widgets/base",
            "top": null,
            "grid_column": null,
            "overflow_y": null,
            "overflow_x": null,
            "grid_auto_flow": null,
            "grid_area": null,
            "grid_template_columns": null,
            "flex": null,
            "_model_name": "LayoutModel",
            "justify_items": null,
            "grid_row": null,
            "max_height": null,
            "align_content": null,
            "visibility": null,
            "align_self": null,
            "height": null,
            "min_height": null,
            "padding": null,
            "grid_auto_rows": null,
            "grid_gap": null,
            "max_width": null,
            "order": null,
            "_view_module_version": "1.2.0",
            "grid_template_areas": null,
            "object_position": null,
            "object_fit": null,
            "grid_auto_columns": null,
            "margin": null,
            "display": null,
            "left": null
          }
        },
        "1b9765720dee4bcb97218396fe7d19b7": {
          "model_module": "@jupyter-widgets/controls",
          "model_name": "HBoxModel",
          "state": {
            "_view_name": "HBoxView",
            "_dom_classes": [],
            "_model_name": "HBoxModel",
            "_view_module": "@jupyter-widgets/controls",
            "_model_module_version": "1.5.0",
            "_view_count": null,
            "_view_module_version": "1.5.0",
            "box_style": "",
            "layout": "IPY_MODEL_99d13acad2054a81be13ed5a6f2262b2",
            "_model_module": "@jupyter-widgets/controls",
            "children": [
              "IPY_MODEL_0417b3fa6efa432b8c3eec43b7930cfe",
              "IPY_MODEL_ea143565ef3648c0b95b392f7e18e130"
            ]
          }
        },
        "99d13acad2054a81be13ed5a6f2262b2": {
          "model_module": "@jupyter-widgets/base",
          "model_name": "LayoutModel",
          "state": {
            "_view_name": "LayoutView",
            "grid_template_rows": null,
            "right": null,
            "justify_content": null,
            "_view_module": "@jupyter-widgets/base",
            "overflow": null,
            "_model_module_version": "1.2.0",
            "_view_count": null,
            "flex_flow": null,
            "width": null,
            "min_width": null,
            "border": null,
            "align_items": null,
            "bottom": null,
            "_model_module": "@jupyter-widgets/base",
            "top": null,
            "grid_column": null,
            "overflow_y": null,
            "overflow_x": null,
            "grid_auto_flow": null,
            "grid_area": null,
            "grid_template_columns": null,
            "flex": null,
            "_model_name": "LayoutModel",
            "justify_items": null,
            "grid_row": null,
            "max_height": null,
            "align_content": null,
            "visibility": null,
            "align_self": null,
            "height": null,
            "min_height": null,
            "padding": null,
            "grid_auto_rows": null,
            "grid_gap": null,
            "max_width": null,
            "order": null,
            "_view_module_version": "1.2.0",
            "grid_template_areas": null,
            "object_position": null,
            "object_fit": null,
            "grid_auto_columns": null,
            "margin": null,
            "display": null,
            "left": null
          }
        },
        "0417b3fa6efa432b8c3eec43b7930cfe": {
          "model_module": "@jupyter-widgets/controls",
          "model_name": "FloatProgressModel",
          "state": {
            "_view_name": "ProgressView",
            "style": "IPY_MODEL_02dc827a934a481aaf0c99f4ce3552de",
            "_dom_classes": [],
            "description": "",
            "_model_name": "FloatProgressModel",
            "bar_style": "success",
            "max": 1,
            "_view_module": "@jupyter-widgets/controls",
            "_model_module_version": "1.5.0",
            "value": 1,
            "_view_count": null,
            "_view_module_version": "1.5.0",
            "orientation": "horizontal",
            "min": 0,
            "description_tooltip": null,
            "_model_module": "@jupyter-widgets/controls",
            "layout": "IPY_MODEL_72d35022db274393978e2209cae03dba"
          }
        },
        "ea143565ef3648c0b95b392f7e18e130": {
          "model_module": "@jupyter-widgets/controls",
          "model_name": "HTMLModel",
          "state": {
            "_view_name": "HTMLView",
            "style": "IPY_MODEL_00e0b205948b4e93b0213e1736bbb832",
            "_dom_classes": [],
            "description": "",
            "_model_name": "HTMLModel",
            "placeholder": "​",
            "_view_module": "@jupyter-widgets/controls",
            "_model_module_version": "1.5.0",
            "value": " 1654784/? [00:00&lt;00:00, 2862355.05it/s]",
            "_view_count": null,
            "_view_module_version": "1.5.0",
            "description_tooltip": null,
            "_model_module": "@jupyter-widgets/controls",
            "layout": "IPY_MODEL_f0d08facc5d84c4090bcb7024d032eb8"
          }
        },
        "02dc827a934a481aaf0c99f4ce3552de": {
          "model_module": "@jupyter-widgets/controls",
          "model_name": "ProgressStyleModel",
          "state": {
            "_view_name": "StyleView",
            "_model_name": "ProgressStyleModel",
            "description_width": "initial",
            "_view_module": "@jupyter-widgets/base",
            "_model_module_version": "1.5.0",
            "_view_count": null,
            "_view_module_version": "1.2.0",
            "bar_color": null,
            "_model_module": "@jupyter-widgets/controls"
          }
        },
        "72d35022db274393978e2209cae03dba": {
          "model_module": "@jupyter-widgets/base",
          "model_name": "LayoutModel",
          "state": {
            "_view_name": "LayoutView",
            "grid_template_rows": null,
            "right": null,
            "justify_content": null,
            "_view_module": "@jupyter-widgets/base",
            "overflow": null,
            "_model_module_version": "1.2.0",
            "_view_count": null,
            "flex_flow": null,
            "width": null,
            "min_width": null,
            "border": null,
            "align_items": null,
            "bottom": null,
            "_model_module": "@jupyter-widgets/base",
            "top": null,
            "grid_column": null,
            "overflow_y": null,
            "overflow_x": null,
            "grid_auto_flow": null,
            "grid_area": null,
            "grid_template_columns": null,
            "flex": null,
            "_model_name": "LayoutModel",
            "justify_items": null,
            "grid_row": null,
            "max_height": null,
            "align_content": null,
            "visibility": null,
            "align_self": null,
            "height": null,
            "min_height": null,
            "padding": null,
            "grid_auto_rows": null,
            "grid_gap": null,
            "max_width": null,
            "order": null,
            "_view_module_version": "1.2.0",
            "grid_template_areas": null,
            "object_position": null,
            "object_fit": null,
            "grid_auto_columns": null,
            "margin": null,
            "display": null,
            "left": null
          }
        },
        "00e0b205948b4e93b0213e1736bbb832": {
          "model_module": "@jupyter-widgets/controls",
          "model_name": "DescriptionStyleModel",
          "state": {
            "_view_name": "StyleView",
            "_model_name": "DescriptionStyleModel",
            "description_width": "",
            "_view_module": "@jupyter-widgets/base",
            "_model_module_version": "1.5.0",
            "_view_count": null,
            "_view_module_version": "1.2.0",
            "_model_module": "@jupyter-widgets/controls"
          }
        },
        "f0d08facc5d84c4090bcb7024d032eb8": {
          "model_module": "@jupyter-widgets/base",
          "model_name": "LayoutModel",
          "state": {
            "_view_name": "LayoutView",
            "grid_template_rows": null,
            "right": null,
            "justify_content": null,
            "_view_module": "@jupyter-widgets/base",
            "overflow": null,
            "_model_module_version": "1.2.0",
            "_view_count": null,
            "flex_flow": null,
            "width": null,
            "min_width": null,
            "border": null,
            "align_items": null,
            "bottom": null,
            "_model_module": "@jupyter-widgets/base",
            "top": null,
            "grid_column": null,
            "overflow_y": null,
            "overflow_x": null,
            "grid_auto_flow": null,
            "grid_area": null,
            "grid_template_columns": null,
            "flex": null,
            "_model_name": "LayoutModel",
            "justify_items": null,
            "grid_row": null,
            "max_height": null,
            "align_content": null,
            "visibility": null,
            "align_self": null,
            "height": null,
            "min_height": null,
            "padding": null,
            "grid_auto_rows": null,
            "grid_gap": null,
            "max_width": null,
            "order": null,
            "_view_module_version": "1.2.0",
            "grid_template_areas": null,
            "object_position": null,
            "object_fit": null,
            "grid_auto_columns": null,
            "margin": null,
            "display": null,
            "left": null
          }
        },
        "efcd8bf6df5e4b27898926303b1e5054": {
          "model_module": "@jupyter-widgets/controls",
          "model_name": "HBoxModel",
          "state": {
            "_view_name": "HBoxView",
            "_dom_classes": [],
            "_model_name": "HBoxModel",
            "_view_module": "@jupyter-widgets/controls",
            "_model_module_version": "1.5.0",
            "_view_count": null,
            "_view_module_version": "1.5.0",
            "box_style": "",
            "layout": "IPY_MODEL_b329553983e44f57b8782668386a13fa",
            "_model_module": "@jupyter-widgets/controls",
            "children": [
              "IPY_MODEL_e3b3ea2b1fd14695b269679af4e72d4e",
              "IPY_MODEL_12d665ffb9c44f2fa803c37d86581f48"
            ]
          }
        },
        "b329553983e44f57b8782668386a13fa": {
          "model_module": "@jupyter-widgets/base",
          "model_name": "LayoutModel",
          "state": {
            "_view_name": "LayoutView",
            "grid_template_rows": null,
            "right": null,
            "justify_content": null,
            "_view_module": "@jupyter-widgets/base",
            "overflow": null,
            "_model_module_version": "1.2.0",
            "_view_count": null,
            "flex_flow": null,
            "width": null,
            "min_width": null,
            "border": null,
            "align_items": null,
            "bottom": null,
            "_model_module": "@jupyter-widgets/base",
            "top": null,
            "grid_column": null,
            "overflow_y": null,
            "overflow_x": null,
            "grid_auto_flow": null,
            "grid_area": null,
            "grid_template_columns": null,
            "flex": null,
            "_model_name": "LayoutModel",
            "justify_items": null,
            "grid_row": null,
            "max_height": null,
            "align_content": null,
            "visibility": null,
            "align_self": null,
            "height": null,
            "min_height": null,
            "padding": null,
            "grid_auto_rows": null,
            "grid_gap": null,
            "max_width": null,
            "order": null,
            "_view_module_version": "1.2.0",
            "grid_template_areas": null,
            "object_position": null,
            "object_fit": null,
            "grid_auto_columns": null,
            "margin": null,
            "display": null,
            "left": null
          }
        },
        "e3b3ea2b1fd14695b269679af4e72d4e": {
          "model_module": "@jupyter-widgets/controls",
          "model_name": "FloatProgressModel",
          "state": {
            "_view_name": "ProgressView",
            "style": "IPY_MODEL_b8542b9912bf4d658619724a068bbdf8",
            "_dom_classes": [],
            "description": "",
            "_model_name": "FloatProgressModel",
            "bar_style": "success",
            "max": 1,
            "_view_module": "@jupyter-widgets/controls",
            "_model_module_version": "1.5.0",
            "value": 1,
            "_view_count": null,
            "_view_module_version": "1.5.0",
            "orientation": "horizontal",
            "min": 0,
            "description_tooltip": null,
            "_model_module": "@jupyter-widgets/controls",
            "layout": "IPY_MODEL_0358b3b3010049309b0890fabd91dd7d"
          }
        },
        "12d665ffb9c44f2fa803c37d86581f48": {
          "model_module": "@jupyter-widgets/controls",
          "model_name": "HTMLModel",
          "state": {
            "_view_name": "HTMLView",
            "style": "IPY_MODEL_519675bf9c764d1b81769b6626a6c394",
            "_dom_classes": [],
            "description": "",
            "_model_name": "HTMLModel",
            "placeholder": "​",
            "_view_module": "@jupyter-widgets/controls",
            "_model_module_version": "1.5.0",
            "value": " 8192/? [00:00&lt;00:00, 34746.57it/s]",
            "_view_count": null,
            "_view_module_version": "1.5.0",
            "description_tooltip": null,
            "_model_module": "@jupyter-widgets/controls",
            "layout": "IPY_MODEL_8dbdde4f894b4519b64128c1522b44f2"
          }
        },
        "b8542b9912bf4d658619724a068bbdf8": {
          "model_module": "@jupyter-widgets/controls",
          "model_name": "ProgressStyleModel",
          "state": {
            "_view_name": "StyleView",
            "_model_name": "ProgressStyleModel",
            "description_width": "initial",
            "_view_module": "@jupyter-widgets/base",
            "_model_module_version": "1.5.0",
            "_view_count": null,
            "_view_module_version": "1.2.0",
            "bar_color": null,
            "_model_module": "@jupyter-widgets/controls"
          }
        },
        "0358b3b3010049309b0890fabd91dd7d": {
          "model_module": "@jupyter-widgets/base",
          "model_name": "LayoutModel",
          "state": {
            "_view_name": "LayoutView",
            "grid_template_rows": null,
            "right": null,
            "justify_content": null,
            "_view_module": "@jupyter-widgets/base",
            "overflow": null,
            "_model_module_version": "1.2.0",
            "_view_count": null,
            "flex_flow": null,
            "width": null,
            "min_width": null,
            "border": null,
            "align_items": null,
            "bottom": null,
            "_model_module": "@jupyter-widgets/base",
            "top": null,
            "grid_column": null,
            "overflow_y": null,
            "overflow_x": null,
            "grid_auto_flow": null,
            "grid_area": null,
            "grid_template_columns": null,
            "flex": null,
            "_model_name": "LayoutModel",
            "justify_items": null,
            "grid_row": null,
            "max_height": null,
            "align_content": null,
            "visibility": null,
            "align_self": null,
            "height": null,
            "min_height": null,
            "padding": null,
            "grid_auto_rows": null,
            "grid_gap": null,
            "max_width": null,
            "order": null,
            "_view_module_version": "1.2.0",
            "grid_template_areas": null,
            "object_position": null,
            "object_fit": null,
            "grid_auto_columns": null,
            "margin": null,
            "display": null,
            "left": null
          }
        },
        "519675bf9c764d1b81769b6626a6c394": {
          "model_module": "@jupyter-widgets/controls",
          "model_name": "DescriptionStyleModel",
          "state": {
            "_view_name": "StyleView",
            "_model_name": "DescriptionStyleModel",
            "description_width": "",
            "_view_module": "@jupyter-widgets/base",
            "_model_module_version": "1.5.0",
            "_view_count": null,
            "_view_module_version": "1.2.0",
            "_model_module": "@jupyter-widgets/controls"
          }
        },
        "8dbdde4f894b4519b64128c1522b44f2": {
          "model_module": "@jupyter-widgets/base",
          "model_name": "LayoutModel",
          "state": {
            "_view_name": "LayoutView",
            "grid_template_rows": null,
            "right": null,
            "justify_content": null,
            "_view_module": "@jupyter-widgets/base",
            "overflow": null,
            "_model_module_version": "1.2.0",
            "_view_count": null,
            "flex_flow": null,
            "width": null,
            "min_width": null,
            "border": null,
            "align_items": null,
            "bottom": null,
            "_model_module": "@jupyter-widgets/base",
            "top": null,
            "grid_column": null,
            "overflow_y": null,
            "overflow_x": null,
            "grid_auto_flow": null,
            "grid_area": null,
            "grid_template_columns": null,
            "flex": null,
            "_model_name": "LayoutModel",
            "justify_items": null,
            "grid_row": null,
            "max_height": null,
            "align_content": null,
            "visibility": null,
            "align_self": null,
            "height": null,
            "min_height": null,
            "padding": null,
            "grid_auto_rows": null,
            "grid_gap": null,
            "max_width": null,
            "order": null,
            "_view_module_version": "1.2.0",
            "grid_template_areas": null,
            "object_position": null,
            "object_fit": null,
            "grid_auto_columns": null,
            "margin": null,
            "display": null,
            "left": null
          }
        }
      }
    }
  },
  "cells": [
    {
      "cell_type": "markdown",
      "metadata": {
        "id": "view-in-github",
        "colab_type": "text"
      },
      "source": [
        "<a href=\"https://colab.research.google.com/github/ayushm-agrawal/Federated-Learning-Implementations/blob/master/FedProx.ipynb\" target=\"_parent\"><img src=\"https://colab.research.google.com/assets/colab-badge.svg\" alt=\"Open In Colab\"/></a>"
      ]
    },
    {
      "cell_type": "code",
      "metadata": {
        "id": "u2iSYH27XY_E",
        "colab_type": "code",
        "colab": {
          "base_uri": "https://localhost:8080/",
          "height": 357
        },
        "outputId": "847b5f04-dd97-4513-a085-a6927c183850"
      },
      "source": [
        "%load_ext tensorboard\n",
        "import os\n",
        "import numpy as np\n",
        "import matplotlib.pyplot as plt\n",
        "import copy\n",
        "import time\n",
        "import random\n",
        "\n",
        "import torch\n",
        "import torch.nn as nn\n",
        "import torch.nn.functional as F\n",
        "\n",
        "from torch.utils.data import Dataset, DataLoader\n",
        "from torch.utils.tensorboard import SummaryWriter\n",
        "from torchvision import transforms, utils, datasets\n",
        "from torchsummary import summary\n",
        "\n",
        "\n",
        "# Check assigned GPU\n",
        "gpu_info = !nvidia-smi\n",
        "gpu_info = '\\n'.join(gpu_info)\n",
        "if gpu_info.find('failed') >= 0:\n",
        "  print('Select the Runtime > \"Change runtime type\" menu to enable a GPU accelerator, ')\n",
        "  print('and then re-execute this cell.')\n",
        "else:\n",
        "  print(gpu_info)\n",
        "\n",
        "\n",
        "# set manual seed for reproducibility\n",
        "seed = 42\n",
        "\n",
        "# general reproducibility\n",
        "random.seed(seed)\n",
        "np.random.seed(seed)\n",
        "torch.manual_seed(seed)\n",
        "\n",
        "# gpu training specific\n",
        "torch.backends.cudnn.deterministic = True\n",
        "torch.backends.cudnn.benchmark = False"
      ],
      "execution_count": 1,
      "outputs": [
        {
          "output_type": "stream",
          "text": [
            "Thu Jul 30 19:23:12 2020       \n",
            "+-----------------------------------------------------------------------------+\n",
            "| NVIDIA-SMI 450.51.05    Driver Version: 418.67       CUDA Version: 10.1     |\n",
            "|-------------------------------+----------------------+----------------------+\n",
            "| GPU  Name        Persistence-M| Bus-Id        Disp.A | Volatile Uncorr. ECC |\n",
            "| Fan  Temp  Perf  Pwr:Usage/Cap|         Memory-Usage | GPU-Util  Compute M. |\n",
            "|                               |                      |               MIG M. |\n",
            "|===============================+======================+======================|\n",
            "|   0  Tesla P100-PCIE...  Off  | 00000000:00:04.0 Off |                    0 |\n",
            "| N/A   43C    P0    28W / 250W |      0MiB / 16280MiB |      0%      Default |\n",
            "|                               |                      |                 ERR! |\n",
            "+-------------------------------+----------------------+----------------------+\n",
            "                                                                               \n",
            "+-----------------------------------------------------------------------------+\n",
            "| Processes:                                                                  |\n",
            "|  GPU   GI   CI        PID   Type   Process name                  GPU Memory |\n",
            "|        ID   ID                                                   Usage      |\n",
            "|=============================================================================|\n",
            "|  No running processes found                                                 |\n",
            "+-----------------------------------------------------------------------------+\n"
          ],
          "name": "stdout"
        }
      ]
    },
    {
      "cell_type": "markdown",
      "metadata": {
        "id": "NY4eWzGiL6Mj",
        "colab_type": "text"
      },
      "source": [
        "## Load the MNIST Dataset"
      ]
    },
    {
      "cell_type": "code",
      "metadata": {
        "id": "G649tjTXLL8F",
        "colab_type": "code",
        "colab": {
          "base_uri": "https://localhost:8080/",
          "height": 0,
          "referenced_widgets": [
            "20a2454bc7f74575905e7883b60d6a67",
            "c135f8c901524eeebba02a8b3eeb08e2",
            "22bef72f4aff42cd9cb6b82d4b0bb426",
            "e53fb877f2d642c69b9e89d53bd7e6b0",
            "2a3b1721821e4619b432f31383c8eab9",
            "fae5cc1c9a7e4b04bd81078cc23bc2d0",
            "08656268d96640b98d57059594156ff8",
            "a25baaae480c494ba56aa730a7afb739",
            "2a05fd61340444dea20b6e032cba4b3a",
            "387df3cd24314c1fa294b7842ab9b923",
            "51a3b9aad0cd4c82ae431a28ef24298f",
            "9e1ba9d340bb4d9aa27ef781cb01c322",
            "acfbf776c87c42bc9f83d68262b08b36",
            "23d540d99b4d484980839723319a886f",
            "e386d0b3f4ef4696a046b8cb47872f46",
            "0f2049f3685b46bfb65851a749b6bf7f",
            "8421adb0d1f3494797241c7e071de864",
            "027e310e2e134dab952c3a7b8a2c7502",
            "57892f52564246ec8325fea4fce6910e",
            "16928f0964604c2b9960b8b349226807",
            "b49652a8c5fe4c8581b4436d8953e9fa",
            "40332252515b46cc8518fde59c874118",
            "0bda02c220f04ee0b2ef903a69599613",
            "c0fea3ef19c44d659b79081ad792e142",
            "8e5cf9c7d127480bbc6aac3cda58f4c2",
            "349235d531214ff3a87c1df65b275cc6",
            "b6f3c25c4246449c985a7564411cecdd",
            "d1f4ec7d9b04402e92f507a0f0d91d43",
            "c6b72e9622764467bd4160b930da033f",
            "4dd1b35b029e47a2ac74a19fc79b239a",
            "96046db430ec4e2e9d5e186e76c971b9",
            "565bada901da43b4ac507edf64f0d408",
            "0959c06b82a447959ce259dd49791067",
            "5755490efcfd452eaaa074ab804bc407",
            "5f77a1b13de74179b58ae50ac90cf9bb",
            "3e3f03acf402422e8908716f0dc82a7a",
            "380519b143ba48648bbacdcd367af1f6",
            "77293fb56cf944c9aa44fbb13ae45684",
            "b6895381adad4ba4b9248e19338ebcb2",
            "9d5517698d39474da3d9e9b21e812da7",
            "988855c404134bf4a4b29477048d6b1d",
            "361550fb398d40f3a69dda4e27590164",
            "70f3991b62a94da98ddc7463a6082bbd",
            "600f46971e4d44b996bc21c81299fff2",
            "cd190e46029f4725b0b2e9ba3826b078",
            "506888a967084e62bf1e5908bd90633a",
            "ebf54e5d5b614134a33222a4b120d5c4",
            "cf2221415dfd48abac14f5c25707df49",
            "1b9765720dee4bcb97218396fe7d19b7",
            "99d13acad2054a81be13ed5a6f2262b2",
            "0417b3fa6efa432b8c3eec43b7930cfe",
            "ea143565ef3648c0b95b392f7e18e130",
            "02dc827a934a481aaf0c99f4ce3552de",
            "72d35022db274393978e2209cae03dba",
            "00e0b205948b4e93b0213e1736bbb832",
            "f0d08facc5d84c4090bcb7024d032eb8",
            "efcd8bf6df5e4b27898926303b1e5054",
            "b329553983e44f57b8782668386a13fa",
            "e3b3ea2b1fd14695b269679af4e72d4e",
            "12d665ffb9c44f2fa803c37d86581f48",
            "b8542b9912bf4d658619724a068bbdf8",
            "0358b3b3010049309b0890fabd91dd7d",
            "519675bf9c764d1b81769b6626a6c394",
            "8dbdde4f894b4519b64128c1522b44f2"
          ]
        },
        "outputId": "be95e549-afda-49c5-fb8b-a1319c915e30"
      },
      "source": [
        "# create transforms\n",
        "# We will just convert to tensor and normalize since no special transforms are mentioned in the paper\n",
        "transforms_mnist = transforms.Compose([\n",
        "                                       transforms.ToTensor(),\n",
        "                                       transforms.Normalize((0.1307,), (0.3081,))\n",
        "                                       ])\n",
        "\n",
        "mnist_data_train = datasets.MNIST('./data/mnist/', train=True, download=True, transform=transforms_mnist)\n",
        "mnist_data_test = datasets.MNIST('../data/mnist/', train=False, download=True, transform=transforms_mnist)"
      ],
      "execution_count": 2,
      "outputs": [
        {
          "output_type": "stream",
          "text": [
            "Downloading http://yann.lecun.com/exdb/mnist/train-images-idx3-ubyte.gz to ./data/mnist/MNIST/raw/train-images-idx3-ubyte.gz\n"
          ],
          "name": "stdout"
        },
        {
          "output_type": "display_data",
          "data": {
            "application/vnd.jupyter.widget-view+json": {
              "model_id": "20a2454bc7f74575905e7883b60d6a67",
              "version_minor": 0,
              "version_major": 2
            },
            "text/plain": [
              "HBox(children=(FloatProgress(value=1.0, bar_style='info', max=1.0), HTML(value='')))"
            ]
          },
          "metadata": {
            "tags": []
          }
        },
        {
          "output_type": "stream",
          "text": [
            "Extracting ./data/mnist/MNIST/raw/train-images-idx3-ubyte.gz to ./data/mnist/MNIST/raw\n",
            "Downloading http://yann.lecun.com/exdb/mnist/train-labels-idx1-ubyte.gz to ./data/mnist/MNIST/raw/train-labels-idx1-ubyte.gz\n"
          ],
          "name": "stdout"
        },
        {
          "output_type": "display_data",
          "data": {
            "application/vnd.jupyter.widget-view+json": {
              "model_id": "2a05fd61340444dea20b6e032cba4b3a",
              "version_minor": 0,
              "version_major": 2
            },
            "text/plain": [
              "HBox(children=(FloatProgress(value=1.0, bar_style='info', max=1.0), HTML(value='')))"
            ]
          },
          "metadata": {
            "tags": []
          }
        },
        {
          "output_type": "stream",
          "text": [
            "Extracting ./data/mnist/MNIST/raw/train-labels-idx1-ubyte.gz to ./data/mnist/MNIST/raw\n",
            "Downloading http://yann.lecun.com/exdb/mnist/t10k-images-idx3-ubyte.gz to ./data/mnist/MNIST/raw/t10k-images-idx3-ubyte.gz\n",
            "\n"
          ],
          "name": "stdout"
        },
        {
          "output_type": "display_data",
          "data": {
            "application/vnd.jupyter.widget-view+json": {
              "model_id": "8421adb0d1f3494797241c7e071de864",
              "version_minor": 0,
              "version_major": 2
            },
            "text/plain": [
              "HBox(children=(FloatProgress(value=1.0, bar_style='info', max=1.0), HTML(value='')))"
            ]
          },
          "metadata": {
            "tags": []
          }
        },
        {
          "output_type": "stream",
          "text": [
            "Extracting ./data/mnist/MNIST/raw/t10k-images-idx3-ubyte.gz to ./data/mnist/MNIST/raw\n",
            "Downloading http://yann.lecun.com/exdb/mnist/t10k-labels-idx1-ubyte.gz to ./data/mnist/MNIST/raw/t10k-labels-idx1-ubyte.gz\n"
          ],
          "name": "stdout"
        },
        {
          "output_type": "display_data",
          "data": {
            "application/vnd.jupyter.widget-view+json": {
              "model_id": "8e5cf9c7d127480bbc6aac3cda58f4c2",
              "version_minor": 0,
              "version_major": 2
            },
            "text/plain": [
              "HBox(children=(FloatProgress(value=1.0, bar_style='info', max=1.0), HTML(value='')))"
            ]
          },
          "metadata": {
            "tags": []
          }
        },
        {
          "output_type": "stream",
          "text": [
            "Extracting ./data/mnist/MNIST/raw/t10k-labels-idx1-ubyte.gz to ./data/mnist/MNIST/raw\n",
            "Processing...\n",
            "Done!\n",
            "Downloading http://yann.lecun.com/exdb/mnist/train-images-idx3-ubyte.gz to ../data/mnist/MNIST/raw/train-images-idx3-ubyte.gz\n"
          ],
          "name": "stdout"
        },
        {
          "output_type": "stream",
          "text": [
            "/pytorch/torch/csrc/utils/tensor_numpy.cpp:141: UserWarning: The given NumPy array is not writeable, and PyTorch does not support non-writeable tensors. This means you can write to the underlying (supposedly non-writeable) NumPy array using the tensor. You may want to copy the array to protect its data or make it writeable before converting it to a tensor. This type of warning will be suppressed for the rest of this program.\n"
          ],
          "name": "stderr"
        },
        {
          "output_type": "display_data",
          "data": {
            "application/vnd.jupyter.widget-view+json": {
              "model_id": "0959c06b82a447959ce259dd49791067",
              "version_minor": 0,
              "version_major": 2
            },
            "text/plain": [
              "HBox(children=(FloatProgress(value=1.0, bar_style='info', max=1.0), HTML(value='')))"
            ]
          },
          "metadata": {
            "tags": []
          }
        },
        {
          "output_type": "stream",
          "text": [
            "Extracting ../data/mnist/MNIST/raw/train-images-idx3-ubyte.gz to ../data/mnist/MNIST/raw\n",
            "Downloading http://yann.lecun.com/exdb/mnist/train-labels-idx1-ubyte.gz to ../data/mnist/MNIST/raw/train-labels-idx1-ubyte.gz\n"
          ],
          "name": "stdout"
        },
        {
          "output_type": "display_data",
          "data": {
            "application/vnd.jupyter.widget-view+json": {
              "model_id": "988855c404134bf4a4b29477048d6b1d",
              "version_minor": 0,
              "version_major": 2
            },
            "text/plain": [
              "HBox(children=(FloatProgress(value=1.0, bar_style='info', max=1.0), HTML(value='')))"
            ]
          },
          "metadata": {
            "tags": []
          }
        },
        {
          "output_type": "stream",
          "text": [
            "Extracting ../data/mnist/MNIST/raw/train-labels-idx1-ubyte.gz to ../data/mnist/MNIST/raw\n",
            "Downloading http://yann.lecun.com/exdb/mnist/t10k-images-idx3-ubyte.gz to ../data/mnist/MNIST/raw/t10k-images-idx3-ubyte.gz\n",
            "\n",
            "\n",
            "\n"
          ],
          "name": "stdout"
        },
        {
          "output_type": "display_data",
          "data": {
            "application/vnd.jupyter.widget-view+json": {
              "model_id": "1b9765720dee4bcb97218396fe7d19b7",
              "version_minor": 0,
              "version_major": 2
            },
            "text/plain": [
              "HBox(children=(FloatProgress(value=1.0, bar_style='info', max=1.0), HTML(value='')))"
            ]
          },
          "metadata": {
            "tags": []
          }
        },
        {
          "output_type": "stream",
          "text": [
            "Extracting ../data/mnist/MNIST/raw/t10k-images-idx3-ubyte.gz to ../data/mnist/MNIST/raw\n",
            "Downloading http://yann.lecun.com/exdb/mnist/t10k-labels-idx1-ubyte.gz to ../data/mnist/MNIST/raw/t10k-labels-idx1-ubyte.gz\n"
          ],
          "name": "stdout"
        },
        {
          "output_type": "display_data",
          "data": {
            "application/vnd.jupyter.widget-view+json": {
              "model_id": "efcd8bf6df5e4b27898926303b1e5054",
              "version_minor": 0,
              "version_major": 2
            },
            "text/plain": [
              "HBox(children=(FloatProgress(value=1.0, bar_style='info', max=1.0), HTML(value='')))"
            ]
          },
          "metadata": {
            "tags": []
          }
        },
        {
          "output_type": "stream",
          "text": [
            "Extracting ../data/mnist/MNIST/raw/t10k-labels-idx1-ubyte.gz to ../data/mnist/MNIST/raw\n",
            "Processing...\n",
            "Done!\n"
          ],
          "name": "stdout"
        }
      ]
    },
    {
      "cell_type": "code",
      "metadata": {
        "id": "dm9usjn2vFkL",
        "colab_type": "code",
        "colab": {
          "base_uri": "https://localhost:8080/",
          "height": 0
        },
        "outputId": "8f2aa37e-cd5e-4f15-f7ce-d73c1f6d61ab"
      },
      "source": [
        "classes = np.array(list(mnist_data_train.class_to_idx.values()))\n",
        "classes_test = np.array(list(mnist_data_test.class_to_idx.values()))\n",
        "num_classes = len(classes_test)\n",
        "print(\"Classes: {} \\tType: {}\".format(classes, type(classes)))\n",
        "print(\"Classes Test: {} \\tType: {}\".format(classes_test, type(classes)))\n"
      ],
      "execution_count": 3,
      "outputs": [
        {
          "output_type": "stream",
          "text": [
            "Classes: [0 1 2 3 4 5 6 7 8 9] \tType: <class 'numpy.ndarray'>\n",
            "Classes Test: [0 1 2 3 4 5 6 7 8 9] \tType: <class 'numpy.ndarray'>\n"
          ],
          "name": "stdout"
        }
      ]
    },
    {
      "cell_type": "code",
      "metadata": {
        "id": "9lvJt3Ofv2SO",
        "colab_type": "code",
        "colab": {
          "base_uri": "https://localhost:8080/",
          "height": 0
        },
        "outputId": "5a443134-8bba-44c7-b84a-74c887d377c2"
      },
      "source": [
        "print(\"Image Shape: {}\".format(mnist_data_train.data[0].size()))"
      ],
      "execution_count": 4,
      "outputs": [
        {
          "output_type": "stream",
          "text": [
            "Image Shape: torch.Size([28, 28])\n"
          ],
          "name": "stdout"
        }
      ]
    },
    {
      "cell_type": "markdown",
      "metadata": {
        "id": "jCOONkg-zV7Y",
        "colab_type": "text"
      },
      "source": [
        "## Visualize Data"
      ]
    },
    {
      "cell_type": "code",
      "metadata": {
        "id": "R9MK03TZw6Qs",
        "colab_type": "code",
        "colab": {}
      },
      "source": [
        "def imshow(img):\n",
        "\timg = img/2 + 0.5 #unnormalize the image\n",
        "\tplt.imshow(img, cmap='gray') # convert from tensor to image"
      ],
      "execution_count": 5,
      "outputs": []
    },
    {
      "cell_type": "code",
      "metadata": {
        "id": "gMJ0Kx4Kw-_H",
        "colab_type": "code",
        "colab": {}
      },
      "source": [
        "def visualize(dataset):\n",
        "  figure = plt.figure(figsize=(25,4))\n",
        "  for i in range(20):\n",
        "    axis = figure.add_subplot(2, 20/2, i+1, xticks=[], yticks=[])\n",
        "    data = dataset.data[i]\n",
        "    data = data.numpy()\n",
        "\n",
        "    target = dataset.targets[i]\n",
        "    target = target.numpy()\n",
        "    imshow(data)\n",
        "    axis.set_title(target)\n"
      ],
      "execution_count": 6,
      "outputs": []
    },
    {
      "cell_type": "code",
      "metadata": {
        "id": "8bPOwKg10Ro7",
        "colab_type": "code",
        "colab": {
          "base_uri": "https://localhost:8080/",
          "height": 0
        },
        "outputId": "7b2c6773-772f-4394-d72e-b63b90484e56"
      },
      "source": [
        "visualize(mnist_data_train)"
      ],
      "execution_count": 7,
      "outputs": [
        {
          "output_type": "stream",
          "text": [
            "\n",
            "\n",
            "\n",
            "\n"
          ],
          "name": "stdout"
        },
        {
          "output_type": "display_data",
          "data": {
            "image/png": "[encoded data removed]",
            "text/plain": [
              "<Figure size 1800x288 with 20 Axes>"
            ]
          },
          "metadata": {
            "tags": []
          }
        }
      ]
    },
    {
      "cell_type": "code",
      "metadata": {
        "id": "RKoh5Cf70UYu",
        "colab_type": "code",
        "colab": {
          "base_uri": "https://localhost:8080/",
          "height": 0
        },
        "outputId": "2312f5ec-676e-4f90-81e6-1f2743c445c6"
      },
      "source": [
        "visualize(mnist_data_test)"
      ],
      "execution_count": 8,
      "outputs": [
        {
          "output_type": "display_data",
          "data": {
            "image/png": "[encoded data removed]",
            "text/plain": [
              "<Figure size 1800x288 with 20 Axes>"
            ]
          },
          "metadata": {
            "tags": []
          }
        }
      ]
    },
    {
      "cell_type": "markdown",
      "metadata": {
        "id": "ctjRsETiO1qO",
        "colab_type": "text"
      },
      "source": [
        "## Partitioning the Data (IID and non-IID)"
      ]
    },
    {
      "cell_type": "code",
      "metadata": {
        "id": "3_v8lyrgO5dD",
        "colab_type": "code",
        "colab": {}
      },
      "source": [
        "def iid_partition(dataset, clients):\n",
        "  \"\"\"\n",
        "  I.I.D paritioning of data over clients\n",
        "  Shuffle the data\n",
        "  Split it between clients\n",
        "  \n",
        "  params:\n",
        "    - dataset (torch.utils.Dataset): Dataset containing the MNIST Images\n",
        "    - clients (int): Number of Clients to split the data between\n",
        "\n",
        "  returns:\n",
        "    - Dictionary of image indexes for each client\n",
        "  \"\"\"\n",
        "\n",
        "  num_items_per_client = int(len(dataset)/clients)\n",
        "  client_dict = {}\n",
        "  image_idxs = [i for i in range(len(dataset))]\n",
        "\n",
        "  for i in range(clients):\n",
        "    client_dict[i] = set(np.random.choice(image_idxs, num_items_per_client, replace=False))\n",
        "    image_idxs = list(set(image_idxs) - client_dict[i])\n",
        "\n",
        "  return client_dict"
      ],
      "execution_count": 9,
      "outputs": []
    },
    {
      "cell_type": "code",
      "metadata": {
        "id": "4zMdliGMQoSl",
        "colab_type": "code",
        "colab": {}
      },
      "source": [
        "def non_iid_partition(dataset, clients, total_shards, shards_size, num_shards_per_client):\n",
        "  \"\"\"\n",
        "  non I.I.D parititioning of data over clients\n",
        "  Sort the data by the digit label\n",
        "  Divide the data into N shards of size S\n",
        "  Each of the clients will get X shards\n",
        "\n",
        "  params:\n",
        "    - dataset (torch.utils.Dataset): Dataset containing the MNIST Images\n",
        "    - clients (int): Number of Clients to split the data between\n",
        "    - total_shards (int): Number of shards to partition the data in\n",
        "    - shards_size (int): Size of each shard \n",
        "    - num_shards_per_client (int): Number of shards of size shards_size that each client receives\n",
        "\n",
        "  returns:\n",
        "    - Dictionary of image indexes for each client\n",
        "  \"\"\"\n",
        "  \n",
        "  shard_idxs = [i for i in range(total_shards)]\n",
        "  client_dict = {i: np.array([], dtype='int64') for i in range(clients)}\n",
        "  idxs = np.arange(len(dataset))\n",
        "  data_labels = dataset.targets.numpy()\n",
        "\n",
        "  # sort the labels\n",
        "  label_idxs = np.vstack((idxs, data_labels))\n",
        "  label_idxs = label_idxs[:, label_idxs[1,:].argsort()]\n",
        "  idxs = label_idxs[0,:]\n",
        "\n",
        "  # divide the data into total_shards of size shards_size\n",
        "  # assign num_shards_per_client to each client\n",
        "  for i in range(clients):\n",
        "    rand_set = set(np.random.choice(shard_idxs, num_shards_per_client, replace=False))\n",
        "    shard_idxs = list(set(shard_idxs) - rand_set)\n",
        "\n",
        "    for rand in rand_set:\n",
        "      client_dict[i] = np.concatenate((client_dict[i], idxs[rand*shards_size:(rand+1)*shards_size]), axis=0)\n",
        "  \n",
        "  return client_dict"
      ],
      "execution_count": 10,
      "outputs": []
    },
    {
      "cell_type": "markdown",
      "metadata": {
        "id": "PTfxv8kFoGAy",
        "colab_type": "text"
      },
      "source": [
        "## Models"
      ]
    },
    {
      "cell_type": "code",
      "metadata": {
        "id": "CvoDNFKbZST5",
        "colab_type": "code",
        "colab": {}
      },
      "source": [
        "class MNIST_2NN(nn.Module):\n",
        "  \"\"\"\n",
        "  A simple multilayer-perceptron with 2-hidden layers with 200 units each\n",
        "  using ReLu activations\n",
        "\n",
        "  Total Expected Params: 199,210\n",
        "  \"\"\"\n",
        "  def __init__(self):\n",
        "    super(MNIST_2NN, self).__init__()\n",
        "\n",
        "    self.fc1 = nn.Linear(28*28, 200)\n",
        "    self.fc2 = nn.Linear(200, 200)\n",
        "    self.fc3 = nn.Linear(200, 10)\n",
        "\n",
        "  def forward(self, x):\n",
        "    x = torch.flatten(x, 1)\n",
        "    x = F.relu(self.fc1(x))\n",
        "    x = F.relu(self.fc2(x))\n",
        "    out = self.fc3(x)\n",
        "\n",
        "    return x"
      ],
      "execution_count": 11,
      "outputs": []
    },
    {
      "cell_type": "code",
      "metadata": {
        "id": "ut1hZ8x3qYPZ",
        "colab_type": "code",
        "colab": {}
      },
      "source": [
        "class MNIST_CNN(nn.Module):\n",
        "  \"\"\"\n",
        "  CNN with two 5x5 convolution lauers(the first with 32 channels, second with 64,\n",
        "  each followed with 2x2 max pooling), a fully connected layer with 512 uunits and \n",
        "  ReLu activation, and the final Softmax output layer\n",
        "\n",
        "  Total Expected Params: 1,663,370\n",
        "  \"\"\"\n",
        "  def __init__(self):\n",
        "    super(MNIST_CNN, self).__init__()\n",
        "\n",
        "    self.conv1 = nn.Conv2d(1, 32, kernel_size=5)\n",
        "    self.conv2 = nn.Conv2d(32, 64, kernel_size=5)\n",
        "    \n",
        "    self.pool = nn.MaxPool2d(2,2)\n",
        "    self.dropout = nn.Dropout(p=0.2)\n",
        "\n",
        "    self.fc1 = nn.Linear(1024, 512)\n",
        "    self.out = nn.Linear(512, 10)\n",
        "\n",
        "  def forward(self, x):\n",
        "    x = self.pool(F.relu(self.conv1(x)))\n",
        "    x = self.pool(F.relu(self.conv2(x)))\n",
        "    x = self.dropout(x)\n",
        "    x = torch.flatten(x, 1)\n",
        "    x = F.relu(self.fc1(x))\n",
        "    x = self.out(x)\n",
        "    out = F.log_softmax(x, dim=1)\n",
        "\n",
        "    return out"
      ],
      "execution_count": 12,
      "outputs": []
    },
    {
      "cell_type": "markdown",
      "metadata": {
        "id": "uVv4HA9HuLtr",
        "colab_type": "text"
      },
      "source": [
        "### Print Model Summaries"
      ]
    },
    {
      "cell_type": "code",
      "metadata": {
        "id": "I5oTH710sJEt",
        "colab_type": "code",
        "colab": {
          "base_uri": "https://localhost:8080/",
          "height": 0
        },
        "outputId": "5de9bf0f-7e7c-4c74-f320-6ed7d76c6194"
      },
      "source": [
        "mnist_mlp = MNIST_2NN()\n",
        "mnist_cnn = MNIST_CNN()\n",
        "\n",
        "if torch.cuda.is_available():\n",
        "  mnist_mlp.cuda()\n",
        "  mnist_cnn.cuda()\n",
        "\n",
        "print(\"MNIST MLP SUMMARY\")\n",
        "print(summary(mnist_mlp, (28,28)))\n",
        "\n",
        "print(\"\\nMNIST CNN SUMMARY\")\n",
        "print(summary(mnist_cnn, (1, 28,28)))"
      ],
      "execution_count": 13,
      "outputs": [
        {
          "output_type": "stream",
          "text": [
            "MNIST MLP SUMMARY\n",
            "----------------------------------------------------------------\n",
            "        Layer (type)               Output Shape         Param #\n",
            "================================================================\n",
            "            Linear-1                  [-1, 200]         157,000\n",
            "            Linear-2                  [-1, 200]          40,200\n",
            "            Linear-3                   [-1, 10]           2,010\n",
            "================================================================\n",
            "Total params: 199,210\n",
            "Trainable params: 199,210\n",
            "Non-trainable params: 0\n",
            "----------------------------------------------------------------\n",
            "Input size (MB): 0.00\n",
            "Forward/backward pass size (MB): 0.00\n",
            "Params size (MB): 0.76\n",
            "Estimated Total Size (MB): 0.77\n",
            "----------------------------------------------------------------\n",
            "None\n",
            "\n",
            "MNIST CNN SUMMARY\n",
            "----------------------------------------------------------------\n",
            "        Layer (type)               Output Shape         Param #\n",
            "================================================================\n",
            "            Conv2d-1           [-1, 32, 24, 24]             832\n",
            "         MaxPool2d-2           [-1, 32, 12, 12]               0\n",
            "            Conv2d-3             [-1, 64, 8, 8]          51,264\n",
            "         MaxPool2d-4             [-1, 64, 4, 4]               0\n",
            "           Dropout-5             [-1, 64, 4, 4]               0\n",
            "            Linear-6                  [-1, 512]         524,800\n",
            "            Linear-7                   [-1, 10]           5,130\n",
            "================================================================\n",
            "Total params: 582,026\n",
            "Trainable params: 582,026\n",
            "Non-trainable params: 0\n",
            "----------------------------------------------------------------\n",
            "Input size (MB): 0.00\n",
            "Forward/backward pass size (MB): 0.23\n",
            "Params size (MB): 2.22\n",
            "Estimated Total Size (MB): 2.45\n",
            "----------------------------------------------------------------\n",
            "None\n"
          ],
          "name": "stdout"
        }
      ]
    },
    {
      "cell_type": "markdown",
      "metadata": {
        "id": "gf_8XEXa-gZ7",
        "colab_type": "text"
      },
      "source": [
        "## FedProx"
      ]
    },
    {
      "cell_type": "markdown",
      "metadata": {
        "colab_type": "text",
        "id": "cjGMTWxAOsf1"
      },
      "source": [
        "### Systems Heterogeneity Simulations\n",
        "\n",
        "Generate epochs for selected clients based on percentage of devices that corresponds to heterogeneity. \n",
        "\n",
        "Assign x number of epochs (chosen unifirmly at random between [1, E]) to 0%, 50% or 90% of the selected devices, respectively. Settings where 0% devices perform fewer than E epochs of work correspond to the environments without system heterogeneity, while 90% of the devices sending their partial solutions corresponds to highly heterogenous system."
      ]
    },
    {
      "cell_type": "code",
      "metadata": {
        "id": "i-WTHuT3OpFD",
        "colab_type": "code",
        "colab": {}
      },
      "source": [
        "def GenerateLocalEpochs(percentage, size, max_epochs):\n",
        "  ''' Method generates list of epochs for selected clients\n",
        "  to replicate system heteroggeneity\n",
        "\n",
        "  Params:\n",
        "    percentage: percentage of clients to have fewer than E epochs\n",
        "    size:       total size of the list\n",
        "    max_epochs: maximum value for local epochs\n",
        "  \n",
        "  Returns:\n",
        "    List of size epochs for each Client Update\n",
        "\n",
        "  '''\n",
        "\n",
        "  # if percentage is 0 then each client runs for E epochs\n",
        "  if percentage == 0:\n",
        "      return np.array([max_epochs]*size)\n",
        "  else:\n",
        "    # get the number of clients to have fewer than E epochs\n",
        "    heterogenous_size = int((percentage/100) * size)\n",
        "\n",
        "    # generate random uniform epochs of heterogenous size between 1 and E\n",
        "    epoch_list = np.random.randint(1, max_epochs, heterogenous_size)\n",
        "\n",
        "    # the rest of the clients will have E epochs\n",
        "    remaining_size = size - heterogenous_size\n",
        "    rem_list = [max_epochs]*remaining_size\n",
        "\n",
        "    epoch_list = np.append(epoch_list, rem_list, axis=0)\n",
        "    \n",
        "    # shuffle the list and return\n",
        "    np.random.shuffle(epoch_list)\n",
        "\n",
        "    return epoch_list"
      ],
      "execution_count": 14,
      "outputs": []
    },
    {
      "cell_type": "markdown",
      "metadata": {
        "id": "L-aNdQsQ-Kvp",
        "colab_type": "text"
      },
      "source": [
        "### Local Training (Client Update)\n",
        "\n",
        "Local training for the model on client side"
      ]
    },
    {
      "cell_type": "code",
      "metadata": {
        "id": "oX6OsQyO-Gz7",
        "colab_type": "code",
        "colab": {}
      },
      "source": [
        "class CustomDataset(Dataset):\n",
        "  def __init__(self, dataset, idxs):\n",
        "      self.dataset = dataset\n",
        "      self.idxs = list(idxs)\n",
        "\n",
        "  def __len__(self):\n",
        "      return len(self.idxs)\n",
        "\n",
        "  def __getitem__(self, item):\n",
        "      image, label = self.dataset[self.idxs[item]]\n",
        "      return image, label\n",
        "\n",
        "class ClientUpdate(object):\n",
        "  def __init__(self, dataset, batchSize, learning_rate, epochs, idxs, mu):\n",
        "    self.train_loader = DataLoader(CustomDataset(dataset, idxs), batch_size=batchSize, shuffle=True)\n",
        "\n",
        "    self.learning_rate = learning_rate\n",
        "    self.epochs = epochs\n",
        "\n",
        "  def train(self, model):\n",
        "    # print(\"Client training for {} epochs.\".format(self.epochs))\n",
        "    criterion = nn.CrossEntropyLoss()\n",
        "    proximal_criterion = nn.MSELoss(reduction='mean')\n",
        "    optimizer = torch.optim.SGD(model.parameters(), lr=self.learning_rate, momentum=0.5)\n",
        "\n",
        "    global_model = copy.deepcopy(model)\n",
        "       \n",
        "\n",
        "    e_loss = []\n",
        "    for epoch in range(1, self.epochs+1):\n",
        "\n",
        "      train_loss = 0.0\n",
        "\n",
        "      model.train()\n",
        "      for data, labels in self.train_loader:\n",
        "\n",
        "        if torch.cuda.is_available():\n",
        "          data, labels = data.cuda(), labels.cuda()\n",
        "\n",
        "        # clear the gradients\n",
        "        optimizer.zero_grad()\n",
        "        # make a forward pass\n",
        "        output = model(data)\n",
        "\n",
        "        # calculate the loss + the proximal term\n",
        "        _, pred = torch.max(output, 1)\n",
        "\n",
        "        proximal_term = 0.0\n",
        "\n",
        "        # iterate through the current and global model parameters\n",
        "        for w, w_t in zip(model.parameters(), global_model.parameters()) :\n",
        "          # update the proximal term \n",
        "          #proximal_term += torch.sum(torch.abs((w-w_t)**2))\n",
        "          proximal_term += (w-w_t).norm(2)\n",
        "\n",
        "        loss = criterion(output, labels) + (mu/2)*proximal_term\n",
        "    \n",
        "        # do a backwards pass\n",
        "        loss.backward()\n",
        "        # perform a single optimization step\n",
        "        optimizer.step()\n",
        "        # update training loss\n",
        "        train_loss += loss.item()*data.size(0)\n",
        "\n",
        "      # average losses\n",
        "      train_loss = train_loss/len(self.train_loader.dataset)\n",
        "      e_loss.append(train_loss)\n",
        "\n",
        "    total_loss = sum(e_loss)/len(e_loss)\n",
        "\n",
        "    return model.state_dict(), total_loss"
      ],
      "execution_count": 15,
      "outputs": []
    },
    {
      "cell_type": "markdown",
      "metadata": {
        "id": "Ukgh1DVHE2Ds",
        "colab_type": "text"
      },
      "source": [
        "### Server Side Training\n",
        "\n",
        "Following Algorithm 1 from the paper"
      ]
    },
    {
      "cell_type": "code",
      "metadata": {
        "id": "1NF1e33BgpeL",
        "colab_type": "code",
        "colab": {}
      },
      "source": [
        "\n",
        "def training(model, rounds, batch_size, lr, ds, data_dict, C, K, E, mu, percentage, plt_title, plt_color):\n",
        "  \"\"\"\n",
        "  Function implements the Federated Averaging Algorithm from the FedAvg paper.\n",
        "  Specifically, this function is used for the server side training and weight update\n",
        "\n",
        "  Params:\n",
        "    - model:           PyTorch model to train\n",
        "    - rounds:          Number of communication rounds for the client update\n",
        "    - batch_size:      Batch size for client update training\n",
        "    - lr:              Learning rate used for client update training\n",
        "    - ds:              Dataset used for training\n",
        "    - data_dict:       Type of data partition used for training (IID or non-IID)\n",
        "    - C:               Fraction of clients randomly chosen to perform computation on each round\n",
        "    - K:               Total number of clients\n",
        "    - E:               Number of training passes each client makes over its local dataset per round\n",
        "    - mu:              proximal term constant\n",
        "    - percentage:      percentage of selected client to have fewer than E epochs\n",
        "  Returns:\n",
        "    - model:           Trained model on the server\n",
        "  \"\"\"\n",
        "\n",
        "  # global model weights\n",
        "  global_weights = model.state_dict()\n",
        "\n",
        "  # training loss\n",
        "  train_loss = []\n",
        "\n",
        "  # measure time\n",
        "  start = time.time()\n",
        "\n",
        "  for curr_round in range(1, rounds+1):\n",
        "    w, local_loss = [], []\n",
        "\n",
        "    m = max(int(C*K), 1)\n",
        "\n",
        "    heterogenous_epoch_list = GenerateLocalEpochs(percentage, size=m, max_epochs=E)\n",
        "    \n",
        "    S_t = np.random.choice(range(K), m, replace=False)\n",
        "\n",
        "\n",
        "    for k, epoch in zip(S_t, heterogenous_epoch_list):\n",
        "      local_update = ClientUpdate(dataset=ds, batchSize=batch_size, learning_rate=lr, epochs=epoch, idxs=data_dict[k], mu=mu)\n",
        "      weights, loss = local_update.train(model=copy.deepcopy(model))\n",
        "\n",
        "      w.append(copy.deepcopy(weights))\n",
        "      local_loss.append(copy.deepcopy(loss))\n",
        "\n",
        "    # updating the global weights\n",
        "    weights_avg = copy.deepcopy(w[0])\n",
        "    for k in weights_avg.keys():\n",
        "      for i in range(1, len(w)):\n",
        "        weights_avg[k] += w[i][k]\n",
        "\n",
        "      weights_avg[k] = torch.div(weights_avg[k], len(w))\n",
        "\n",
        "    global_weights = weights_avg\n",
        "\n",
        "    # move the updated weights to our model state dict\n",
        "    model.load_state_dict(global_weights)\n",
        "\n",
        "    # loss\n",
        "    loss_avg = sum(local_loss) / len(local_loss)\n",
        "    print('Round: {}... \\tAverage Loss: {}'.format(curr_round, round(loss_avg, 3)))\n",
        "    train_loss.append(loss_avg)\n",
        "\n",
        "  end=time.time()\n",
        "\n",
        "  fig, ax = plt.subplots()\n",
        "  x_axis = np.arange(1, rounds+1)\n",
        "  y_axis = np.array(train_loss)\n",
        "  ax.plot(x_axis, y_axis)\n",
        "\n",
        "  ax.set(xlabel='Number of Rounds', ylabel='Train Loss',\n",
        "       title=plt_title)\n",
        "  ax.grid()\n",
        "  fig.savefig(plt_title+'.jpg', format='jpg')\n",
        "  \n",
        "  print(\"Training Done!\")\n",
        "  print(\"Total time taken to Train: {}\".format(end-start))\n",
        "  \n",
        "  print(\"Training Done!\")\n",
        "  print(\"Total time taken: {}\".format(end-start))\n",
        "\n",
        "  return model"
      ],
      "execution_count": 16,
      "outputs": []
    },
    {
      "cell_type": "markdown",
      "metadata": {
        "id": "tUYyb4T-uXmF",
        "colab_type": "text"
      },
      "source": [
        "## Testing Loop"
      ]
    },
    {
      "cell_type": "code",
      "metadata": {
        "id": "uCcIZmO5uan9",
        "colab_type": "code",
        "colab": {}
      },
      "source": [
        "def testing(model, dataset, bs, criterion, num_classes, classes):\n",
        "  #test loss \n",
        "  test_loss = 0.0\n",
        "  correct_class = list(0. for i in range(num_classes))\n",
        "  total_class = list(0. for i in range(num_classes))\n",
        "\n",
        "  test_loader = DataLoader(dataset, batch_size=bs)\n",
        "  l = len(test_loader)\n",
        "  model.eval()\n",
        "  for data, labels in test_loader:\n",
        "\n",
        "    if torch.cuda.is_available():\n",
        "      data, labels = data.cuda(), labels.cuda()\n",
        "\n",
        "    output = model(data)\n",
        "    loss = criterion(output, labels)\n",
        "    test_loss += loss.item()*data.size(0)\n",
        "\n",
        "    _, pred = torch.max(output, 1)\n",
        "\n",
        "    correct_tensor = pred.eq(labels.data.view_as(pred))\n",
        "    correct = np.squeeze(correct_tensor.numpy()) if not torch.cuda.is_available() else np.squeeze(correct_tensor.cpu().numpy())\n",
        "\n",
        "    #test accuracy for each object class\n",
        "    for i in range(num_classes):\n",
        "      label = labels.data[i]\n",
        "      correct_class[label] += correct[i].item()\n",
        "      total_class[label] += 1\n",
        "    \n",
        "  # avg test loss\n",
        "  test_loss = test_loss/len(test_loader.dataset)\n",
        "  print(\"Test Loss: {:.6f}\\n\".format(test_loss))\n",
        "\n",
        "  # print test accuracy\n",
        "  for i in range(10):\n",
        "    if total_class[i]>0:\n",
        "      print('Test Accuracy of %5s: %2d%% (%2d/%2d)' % \n",
        "            (classes[i], 100 * correct_class[i] / total_class[i],\n",
        "            np.sum(correct_class[i]), np.sum(total_class[i])))\n",
        "    else:\n",
        "      print('Test Accuracy of %5s: N/A (no training examples)' % (classes[i]))\n",
        "\n",
        "  print('\\nFinal Test  Accuracy: {:.3f} ({}/{})'.format(\n",
        "        100. * np.sum(correct_class) / np.sum(total_class),\n",
        "        np.sum(correct_class), np.sum(total_class)))"
      ],
      "execution_count": 17,
      "outputs": []
    },
    {
      "cell_type": "markdown",
      "metadata": {
        "id": "4hO5oV6aXqeh",
        "colab_type": "text"
      },
      "source": [
        "## Special Case of FedProx with mu = 0 where it is Federated Averaging"
      ]
    },
    {
      "cell_type": "markdown",
      "metadata": {
        "id": "flSQv_P4zCfx",
        "colab_type": "text"
      },
      "source": [
        "### Train\n"
      ]
    },
    {
      "cell_type": "code",
      "metadata": {
        "id": "0ZalcKZtEseA",
        "colab_type": "code",
        "colab": {
          "base_uri": "https://localhost:8080/",
          "height": 1000
        },
        "outputId": "ddbfdc8c-ad3e-4fdb-cd61-3846accba19d"
      },
      "source": [
        "# number of training rounds\n",
        "rounds = 100\n",
        "# client fraction\n",
        "C = 0.1\n",
        "# number of clients\n",
        "K = 100\n",
        "# number of training passes on local dataset for each roung\n",
        "E = 5\n",
        "# batch size\n",
        "batch_size = 10\n",
        "# learning Rate\n",
        "lr=0.01\n",
        "# proximal term constant\n",
        "mu = 0.0\n",
        "# percentage of clients to have fewer than E epochs\n",
        "percentage = 0\n",
        "\n",
        "# data partition dictionary\n",
        "iid_dict = iid_partition(mnist_data_train, 100)\n",
        "# load model\n",
        "mnist_cnn = MNIST_CNN()\n",
        "\n",
        "if torch.cuda.is_available():\n",
        "  mnist_cnn.cuda()\n",
        "\n",
        "mnist_cnn_iid_trained = training(mnist_cnn, rounds, batch_size, lr, mnist_data_train, iid_dict, C, K, E, mu, percentage, \"FedProx MNIST CNN Special Case (FedAvg)\", \"orange\")"
      ],
      "execution_count": 36,
      "outputs": [
        {
          "output_type": "stream",
          "text": [
            "Round: 1... \tAverage Loss: 0.763\n",
            "Round: 2... \tAverage Loss: 0.19\n",
            "Round: 3... \tAverage Loss: 0.114\n",
            "Round: 4... \tAverage Loss: 0.098\n",
            "Round: 5... \tAverage Loss: 0.077\n",
            "Round: 6... \tAverage Loss: 0.068\n",
            "Round: 7... \tAverage Loss: 0.054\n",
            "Round: 8... \tAverage Loss: 0.056\n",
            "Round: 9... \tAverage Loss: 0.049\n",
            "Round: 10... \tAverage Loss: 0.039\n",
            "Round: 11... \tAverage Loss: 0.041\n",
            "Round: 12... \tAverage Loss: 0.039\n",
            "Round: 13... \tAverage Loss: 0.034\n",
            "Round: 14... \tAverage Loss: 0.035\n",
            "Round: 15... \tAverage Loss: 0.035\n",
            "Round: 16... \tAverage Loss: 0.032\n",
            "Round: 17... \tAverage Loss: 0.029\n",
            "Round: 18... \tAverage Loss: 0.028\n",
            "Round: 19... \tAverage Loss: 0.025\n",
            "Round: 20... \tAverage Loss: 0.03\n",
            "Round: 21... \tAverage Loss: 0.029\n",
            "Round: 22... \tAverage Loss: 0.025\n",
            "Round: 23... \tAverage Loss: 0.024\n",
            "Round: 24... \tAverage Loss: 0.025\n",
            "Round: 25... \tAverage Loss: 0.022\n",
            "Round: 26... \tAverage Loss: 0.024\n",
            "Round: 27... \tAverage Loss: 0.02\n",
            "Round: 28... \tAverage Loss: 0.023\n",
            "Round: 29... \tAverage Loss: 0.019\n",
            "Round: 30... \tAverage Loss: 0.019\n",
            "Round: 31... \tAverage Loss: 0.021\n",
            "Round: 32... \tAverage Loss: 0.024\n",
            "Round: 33... \tAverage Loss: 0.021\n",
            "Round: 34... \tAverage Loss: 0.019\n",
            "Round: 35... \tAverage Loss: 0.018\n",
            "Round: 36... \tAverage Loss: 0.02\n",
            "Round: 37... \tAverage Loss: 0.018\n",
            "Round: 38... \tAverage Loss: 0.018\n",
            "Round: 39... \tAverage Loss: 0.015\n",
            "Round: 40... \tAverage Loss: 0.013\n",
            "Round: 41... \tAverage Loss: 0.015\n",
            "Round: 42... \tAverage Loss: 0.017\n",
            "Round: 43... \tAverage Loss: 0.015\n",
            "Round: 44... \tAverage Loss: 0.018\n",
            "Round: 45... \tAverage Loss: 0.013\n",
            "Round: 46... \tAverage Loss: 0.012\n",
            "Round: 47... \tAverage Loss: 0.018\n",
            "Round: 48... \tAverage Loss: 0.014\n",
            "Round: 49... \tAverage Loss: 0.016\n",
            "Round: 50... \tAverage Loss: 0.014\n",
            "Round: 51... \tAverage Loss: 0.015\n",
            "Round: 52... \tAverage Loss: 0.013\n",
            "Round: 53... \tAverage Loss: 0.013\n",
            "Round: 54... \tAverage Loss: 0.014\n",
            "Round: 55... \tAverage Loss: 0.014\n",
            "Round: 56... \tAverage Loss: 0.013\n",
            "Round: 57... \tAverage Loss: 0.015\n",
            "Round: 58... \tAverage Loss: 0.011\n",
            "Round: 59... \tAverage Loss: 0.012\n",
            "Round: 60... \tAverage Loss: 0.013\n",
            "Round: 61... \tAverage Loss: 0.013\n",
            "Round: 62... \tAverage Loss: 0.013\n",
            "Round: 63... \tAverage Loss: 0.011\n",
            "Round: 64... \tAverage Loss: 0.011\n",
            "Round: 65... \tAverage Loss: 0.011\n",
            "Round: 66... \tAverage Loss: 0.012\n",
            "Round: 67... \tAverage Loss: 0.014\n",
            "Round: 68... \tAverage Loss: 0.013\n",
            "Round: 69... \tAverage Loss: 0.01\n",
            "Round: 70... \tAverage Loss: 0.01\n",
            "Round: 71... \tAverage Loss: 0.011\n",
            "Round: 72... \tAverage Loss: 0.01\n",
            "Round: 73... \tAverage Loss: 0.011\n",
            "Round: 74... \tAverage Loss: 0.01\n",
            "Round: 75... \tAverage Loss: 0.009\n",
            "Round: 76... \tAverage Loss: 0.011\n",
            "Round: 77... \tAverage Loss: 0.008\n",
            "Round: 78... \tAverage Loss: 0.009\n",
            "Round: 79... \tAverage Loss: 0.009\n",
            "Round: 80... \tAverage Loss: 0.009\n",
            "Round: 81... \tAverage Loss: 0.011\n",
            "Round: 82... \tAverage Loss: 0.009\n",
            "Round: 83... \tAverage Loss: 0.007\n",
            "Round: 84... \tAverage Loss: 0.008\n",
            "Round: 85... \tAverage Loss: 0.011\n",
            "Round: 86... \tAverage Loss: 0.01\n",
            "Round: 87... \tAverage Loss: 0.011\n",
            "Round: 88... \tAverage Loss: 0.01\n",
            "Round: 89... \tAverage Loss: 0.012\n",
            "Round: 90... \tAverage Loss: 0.009\n",
            "Round: 91... \tAverage Loss: 0.008\n",
            "Round: 92... \tAverage Loss: 0.011\n",
            "Round: 93... \tAverage Loss: 0.008\n",
            "Round: 94... \tAverage Loss: 0.008\n",
            "Round: 95... \tAverage Loss: 0.008\n",
            "Round: 96... \tAverage Loss: 0.009\n",
            "Round: 97... \tAverage Loss: 0.006\n",
            "Round: 98... \tAverage Loss: 0.007\n",
            "Round: 99... \tAverage Loss: 0.008\n",
            "Round: 100... \tAverage Loss: 0.008\n",
            "Training Done!\n",
            "Total time taken to Train: 2105.0357587337494\n",
            "Training Done!\n",
            "Total time taken: 2105.0357587337494\n"
          ],
          "name": "stdout"
        },
        {
          "output_type": "display_data",
          "data": {
            "image/png": "[encoded data removed]",
            "text/plain": [
              "<Figure size 432x288 with 1 Axes>"
            ]
          },
          "metadata": {
            "tags": [],
            "needs_background": "light"
          }
        }
      ]
    },
    {
      "cell_type": "markdown",
      "metadata": {
        "id": "wNwC82przF6G",
        "colab_type": "text"
      },
      "source": [
        "### Test"
      ]
    },
    {
      "cell_type": "code",
      "metadata": {
        "id": "qB97BFs9we9w",
        "colab_type": "code",
        "colab": {
          "base_uri": "https://localhost:8080/",
          "height": 255
        },
        "outputId": "7b6c876f-3323-468e-fb74-d51c0417c379"
      },
      "source": [
        "criterion = nn.CrossEntropyLoss()\n",
        "testing(mnist_cnn_iid_trained, mnist_data_test, 128, criterion, num_classes, classes_test)"
      ],
      "execution_count": 19,
      "outputs": [
        {
          "output_type": "stream",
          "text": [
            "Test Loss: 0.120427\n",
            "\n",
            "Test Accuracy of     0: 98% (75/76)\n",
            "Test Accuracy of     1: 97% (88/90)\n",
            "Test Accuracy of     2: 95% (87/91)\n",
            "Test Accuracy of     3: 95% (70/73)\n",
            "Test Accuracy of     4: 96% (86/89)\n",
            "Test Accuracy of     5: 95% (65/68)\n",
            "Test Accuracy of     6: 96% (60/62)\n",
            "Test Accuracy of     7: 92% (75/81)\n",
            "Test Accuracy of     8: 98% (76/77)\n",
            "Test Accuracy of     9: 96% (80/83)\n",
            "\n",
            "Final Test  Accuracy: 96.456 (762.0/790.0)\n"
          ],
          "name": "stdout"
        }
      ]
    },
    {
      "cell_type": "markdown",
      "metadata": {
        "colab_type": "text",
        "id": "ewgOl5Va6DQs"
      },
      "source": [
        "## MNIST CNN on IID"
      ]
    },
    {
      "cell_type": "markdown",
      "metadata": {
        "colab_type": "text",
        "id": "Q-NXHBgy6DQ1"
      },
      "source": [
        "### Train\n"
      ]
    },
    {
      "cell_type": "code",
      "metadata": {
        "colab_type": "code",
        "id": "CuPEOShG6DQ2",
        "colab": {
          "base_uri": "https://localhost:8080/",
          "height": 1000
        },
        "outputId": "59e929bd-bc26-4e2f-f3b0-9589c264498f"
      },
      "source": [
        "# number of training rounds\n",
        "rounds = 100\n",
        "# client fraction\n",
        "C = 0.1\n",
        "# number of clients\n",
        "K = 100\n",
        "# number of training passes on local dataset for each roung\n",
        "E = 20\n",
        "# batch size\n",
        "batch_size = 10\n",
        "# learning Rate\n",
        "lr=0.01\n",
        "# proximal term constant\n",
        "mu = 1.0\n",
        "# percentage of clients to have fewer than E epochs\n",
        "percentage = 0\n",
        "# data partition dictionary\n",
        "iid_dict = iid_partition(mnist_data_train, 100)\n",
        "# load model\n",
        "mnist_cnn = MNIST_CNN()\n",
        "\n",
        "if torch.cuda.is_available():\n",
        "  mnist_cnn.cuda()\n",
        "\n",
        "mnist_cnn_iid_trained = training(mnist_cnn, rounds, batch_size, lr, mnist_data_train, iid_dict, C, K, E, mu, percentage, \"FedProx MNIST CNN on IID Dataset (0%)\", \"orange\")"
      ],
      "execution_count": 20,
      "outputs": [
        {
          "output_type": "stream",
          "text": [
            "Round: 1... \tAverage Loss: 2.058\n",
            "Round: 2... \tAverage Loss: 0.852\n",
            "Round: 3... \tAverage Loss: 0.74\n",
            "Round: 4... \tAverage Loss: 0.654\n",
            "Round: 5... \tAverage Loss: 0.615\n",
            "Round: 6... \tAverage Loss: 0.618\n",
            "Round: 7... \tAverage Loss: 0.561\n",
            "Round: 8... \tAverage Loss: 0.564\n",
            "Round: 9... \tAverage Loss: 0.502\n",
            "Round: 10... \tAverage Loss: 0.51\n",
            "Round: 11... \tAverage Loss: 0.493\n",
            "Round: 12... \tAverage Loss: 0.501\n",
            "Round: 13... \tAverage Loss: 0.457\n",
            "Round: 14... \tAverage Loss: 0.467\n",
            "Round: 15... \tAverage Loss: 0.477\n",
            "Round: 16... \tAverage Loss: 0.449\n",
            "Round: 17... \tAverage Loss: 0.463\n",
            "Round: 18... \tAverage Loss: 0.43\n",
            "Round: 19... \tAverage Loss: 0.428\n",
            "Round: 20... \tAverage Loss: 0.415\n",
            "Round: 21... \tAverage Loss: 0.396\n",
            "Round: 22... \tAverage Loss: 0.401\n",
            "Round: 23... \tAverage Loss: 0.411\n",
            "Round: 24... \tAverage Loss: 0.404\n",
            "Round: 25... \tAverage Loss: 0.395\n",
            "Round: 26... \tAverage Loss: 0.404\n",
            "Round: 27... \tAverage Loss: 0.389\n",
            "Round: 28... \tAverage Loss: 0.372\n",
            "Round: 29... \tAverage Loss: 0.404\n",
            "Round: 30... \tAverage Loss: 0.334\n",
            "Round: 31... \tAverage Loss: 0.389\n",
            "Round: 32... \tAverage Loss: 0.375\n",
            "Round: 33... \tAverage Loss: 0.356\n",
            "Round: 34... \tAverage Loss: 0.362\n",
            "Round: 35... \tAverage Loss: 0.36\n",
            "Round: 36... \tAverage Loss: 0.357\n",
            "Round: 37... \tAverage Loss: 0.35\n",
            "Round: 38... \tAverage Loss: 0.348\n",
            "Round: 39... \tAverage Loss: 0.345\n",
            "Round: 40... \tAverage Loss: 0.333\n",
            "Round: 41... \tAverage Loss: 0.313\n",
            "Round: 42... \tAverage Loss: 0.334\n",
            "Round: 43... \tAverage Loss: 0.33\n",
            "Round: 44... \tAverage Loss: 0.321\n",
            "Round: 45... \tAverage Loss: 0.324\n",
            "Round: 46... \tAverage Loss: 0.315\n",
            "Round: 47... \tAverage Loss: 0.315\n",
            "Round: 48... \tAverage Loss: 0.331\n",
            "Round: 49... \tAverage Loss: 0.336\n",
            "Round: 50... \tAverage Loss: 0.325\n",
            "Round: 51... \tAverage Loss: 0.323\n",
            "Round: 52... \tAverage Loss: 0.309\n",
            "Round: 53... \tAverage Loss: 0.34\n",
            "Round: 54... \tAverage Loss: 0.296\n",
            "Round: 55... \tAverage Loss: 0.306\n",
            "Round: 56... \tAverage Loss: 0.298\n",
            "Round: 57... \tAverage Loss: 0.303\n",
            "Round: 58... \tAverage Loss: 0.264\n",
            "Round: 59... \tAverage Loss: 0.304\n",
            "Round: 60... \tAverage Loss: 0.278\n",
            "Round: 61... \tAverage Loss: 0.305\n",
            "Round: 62... \tAverage Loss: 0.302\n",
            "Round: 63... \tAverage Loss: 0.29\n",
            "Round: 64... \tAverage Loss: 0.285\n",
            "Round: 65... \tAverage Loss: 0.281\n",
            "Round: 66... \tAverage Loss: 0.279\n",
            "Round: 67... \tAverage Loss: 0.285\n",
            "Round: 68... \tAverage Loss: 0.298\n",
            "Round: 69... \tAverage Loss: 0.284\n",
            "Round: 70... \tAverage Loss: 0.278\n",
            "Round: 71... \tAverage Loss: 0.3\n",
            "Round: 72... \tAverage Loss: 0.276\n",
            "Round: 73... \tAverage Loss: 0.277\n",
            "Round: 74... \tAverage Loss: 0.277\n",
            "Round: 75... \tAverage Loss: 0.274\n",
            "Round: 76... \tAverage Loss: 0.293\n",
            "Round: 77... \tAverage Loss: 0.278\n",
            "Round: 78... \tAverage Loss: 0.266\n",
            "Round: 79... \tAverage Loss: 0.27\n",
            "Round: 80... \tAverage Loss: 0.25\n",
            "Round: 81... \tAverage Loss: 0.278\n",
            "Round: 82... \tAverage Loss: 0.264\n",
            "Round: 83... \tAverage Loss: 0.271\n",
            "Round: 84... \tAverage Loss: 0.267\n",
            "Round: 85... \tAverage Loss: 0.264\n",
            "Round: 86... \tAverage Loss: 0.275\n",
            "Round: 87... \tAverage Loss: 0.258\n",
            "Round: 88... \tAverage Loss: 0.251\n",
            "Round: 89... \tAverage Loss: 0.26\n",
            "Round: 90... \tAverage Loss: 0.286\n",
            "Round: 91... \tAverage Loss: 0.266\n",
            "Round: 92... \tAverage Loss: 0.264\n",
            "Round: 93... \tAverage Loss: 0.273\n",
            "Round: 94... \tAverage Loss: 0.263\n",
            "Round: 95... \tAverage Loss: 0.26\n",
            "Round: 96... \tAverage Loss: 0.242\n",
            "Round: 97... \tAverage Loss: 0.255\n",
            "Round: 98... \tAverage Loss: 0.245\n",
            "Round: 99... \tAverage Loss: 0.24\n",
            "Round: 100... \tAverage Loss: 0.249\n",
            "Training Done!\n",
            "Total time taken to Train: 8328.679664611816\n",
            "Training Done!\n",
            "Total time taken: 8328.679664611816\n"
          ],
          "name": "stdout"
        },
        {
          "output_type": "display_data",
          "data": {
            "image/png": "[encoded data removed]",
            "text/plain": [
              "<Figure size 432x288 with 1 Axes>"
            ]
          },
          "metadata": {
            "tags": [],
            "needs_background": "light"
          }
        }
      ]
    },
    {
      "cell_type": "markdown",
      "metadata": {
        "colab_type": "text",
        "id": "wqCEx6tW6DQ-"
      },
      "source": [
        "### Test"
      ]
    },
    {
      "cell_type": "code",
      "metadata": {
        "colab_type": "code",
        "id": "QIT9Y2Pt6DQ-",
        "colab": {
          "base_uri": "https://localhost:8080/",
          "height": 255
        },
        "outputId": "e4f8b9cc-7c18-451c-eabb-59c1c8085b89"
      },
      "source": [
        "criterion = nn.CrossEntropyLoss()\n",
        "testing(mnist_cnn_iid_trained, mnist_data_test, 128, criterion, num_classes, classes_test)"
      ],
      "execution_count": 21,
      "outputs": [
        {
          "output_type": "stream",
          "text": [
            "Test Loss: 0.103008\n",
            "\n",
            "Test Accuracy of     0: 98% (75/76)\n",
            "Test Accuracy of     1: 97% (88/90)\n",
            "Test Accuracy of     2: 96% (88/91)\n",
            "Test Accuracy of     3: 94% (69/73)\n",
            "Test Accuracy of     4: 97% (87/89)\n",
            "Test Accuracy of     5: 98% (67/68)\n",
            "Test Accuracy of     6: 98% (61/62)\n",
            "Test Accuracy of     7: 93% (76/81)\n",
            "Test Accuracy of     8: 98% (76/77)\n",
            "Test Accuracy of     9: 97% (81/83)\n",
            "\n",
            "Final Test  Accuracy: 97.215 (768.0/790.0)\n"
          ],
          "name": "stdout"
        }
      ]
    },
    {
      "cell_type": "markdown",
      "metadata": {
        "id": "uF8MdSIUYcnl",
        "colab_type": "text"
      },
      "source": [
        "## MNIST CNN on Non IID"
      ]
    },
    {
      "cell_type": "markdown",
      "metadata": {
        "id": "a6wXX7JW11bx",
        "colab_type": "text"
      },
      "source": [
        "### Train\n"
      ]
    },
    {
      "cell_type": "code",
      "metadata": {
        "id": "fCD3kBCKYfBK",
        "colab_type": "code",
        "colab": {
          "base_uri": "https://localhost:8080/",
          "height": 1000
        },
        "outputId": "a748d533-d449-4753-82ae-2886dc2f6b4b"
      },
      "source": [
        "# number of training rounds\n",
        "rounds = 100\n",
        "# client fraction\n",
        "C = 0.1\n",
        "# number of clients\n",
        "K = 100\n",
        "# number of training passes on local dataset for each roung\n",
        "E = 5\n",
        "# batch size\n",
        "batch_size = 10\n",
        "# learning Rate\n",
        "lr=0.01\n",
        "# proximal term constant\n",
        "mu = 1.0\n",
        "# percentage of clients to have fewer than E epochs\n",
        "percentage = 0\n",
        "# dict containing different type of data partition\n",
        "data_dict = non_iid_partition(mnist_data_train, 100, 200, 300, 2)\n",
        "# load model\n",
        "mnist_cnn = MNIST_CNN()\n",
        "\n",
        "if torch.cuda.is_available():\n",
        "  mnist_cnn.cuda()\n",
        "\n",
        "mnist_cnn_non_iid_trained = training(mnist_cnn, rounds, batch_size, lr, mnist_data_train, data_dict, C, K, E, mu, percentage, \"FedProx MNIST CNN on non-IID Dataset (0%)\", \"green\")\n"
      ],
      "execution_count": 22,
      "outputs": [
        {
          "output_type": "stream",
          "text": [
            "Round: 1... \tAverage Loss: 0.818\n",
            "Round: 2... \tAverage Loss: 0.662\n",
            "Round: 3... \tAverage Loss: 0.574\n",
            "Round: 4... \tAverage Loss: 0.523\n",
            "Round: 5... \tAverage Loss: 0.463\n",
            "Round: 6... \tAverage Loss: 0.45\n",
            "Round: 7... \tAverage Loss: 0.491\n",
            "Round: 8... \tAverage Loss: 0.374\n",
            "Round: 9... \tAverage Loss: 0.384\n",
            "Round: 10... \tAverage Loss: 0.342\n",
            "Round: 11... \tAverage Loss: 0.449\n",
            "Round: 12... \tAverage Loss: 0.432\n",
            "Round: 13... \tAverage Loss: 0.346\n",
            "Round: 14... \tAverage Loss: 0.38\n",
            "Round: 15... \tAverage Loss: 0.298\n",
            "Round: 16... \tAverage Loss: 0.297\n",
            "Round: 17... \tAverage Loss: 0.34\n",
            "Round: 18... \tAverage Loss: 0.237\n",
            "Round: 19... \tAverage Loss: 0.301\n",
            "Round: 20... \tAverage Loss: 0.27\n",
            "Round: 21... \tAverage Loss: 0.282\n",
            "Round: 22... \tAverage Loss: 0.248\n",
            "Round: 23... \tAverage Loss: 0.325\n",
            "Round: 24... \tAverage Loss: 0.243\n",
            "Round: 25... \tAverage Loss: 0.292\n",
            "Round: 26... \tAverage Loss: 0.27\n",
            "Round: 27... \tAverage Loss: 0.236\n",
            "Round: 28... \tAverage Loss: 0.272\n",
            "Round: 29... \tAverage Loss: 0.198\n",
            "Round: 30... \tAverage Loss: 0.308\n",
            "Round: 31... \tAverage Loss: 0.275\n",
            "Round: 32... \tAverage Loss: 0.254\n",
            "Round: 33... \tAverage Loss: 0.219\n",
            "Round: 34... \tAverage Loss: 0.322\n",
            "Round: 35... \tAverage Loss: 0.207\n",
            "Round: 36... \tAverage Loss: 0.286\n",
            "Round: 37... \tAverage Loss: 0.223\n",
            "Round: 38... \tAverage Loss: 0.251\n",
            "Round: 39... \tAverage Loss: 0.222\n",
            "Round: 40... \tAverage Loss: 0.294\n",
            "Round: 41... \tAverage Loss: 0.191\n",
            "Round: 42... \tAverage Loss: 0.234\n",
            "Round: 43... \tAverage Loss: 0.191\n",
            "Round: 44... \tAverage Loss: 0.235\n",
            "Round: 45... \tAverage Loss: 0.228\n",
            "Round: 46... \tAverage Loss: 0.276\n",
            "Round: 47... \tAverage Loss: 0.213\n",
            "Round: 48... \tAverage Loss: 0.197\n",
            "Round: 49... \tAverage Loss: 0.2\n",
            "Round: 50... \tAverage Loss: 0.225\n",
            "Round: 51... \tAverage Loss: 0.211\n",
            "Round: 52... \tAverage Loss: 0.26\n",
            "Round: 53... \tAverage Loss: 0.213\n",
            "Round: 54... \tAverage Loss: 0.253\n",
            "Round: 55... \tAverage Loss: 0.208\n",
            "Round: 56... \tAverage Loss: 0.191\n",
            "Round: 57... \tAverage Loss: 0.196\n",
            "Round: 58... \tAverage Loss: 0.234\n",
            "Round: 59... \tAverage Loss: 0.184\n",
            "Round: 60... \tAverage Loss: 0.222\n",
            "Round: 61... \tAverage Loss: 0.204\n",
            "Round: 62... \tAverage Loss: 0.182\n",
            "Round: 63... \tAverage Loss: 0.195\n",
            "Round: 64... \tAverage Loss: 0.212\n",
            "Round: 65... \tAverage Loss: 0.219\n",
            "Round: 66... \tAverage Loss: 0.259\n",
            "Round: 67... \tAverage Loss: 0.177\n",
            "Round: 68... \tAverage Loss: 0.156\n",
            "Round: 69... \tAverage Loss: 0.255\n",
            "Round: 70... \tAverage Loss: 0.178\n",
            "Round: 71... \tAverage Loss: 0.183\n",
            "Round: 72... \tAverage Loss: 0.215\n",
            "Round: 73... \tAverage Loss: 0.231\n",
            "Round: 74... \tAverage Loss: 0.191\n",
            "Round: 75... \tAverage Loss: 0.179\n",
            "Round: 76... \tAverage Loss: 0.165\n",
            "Round: 77... \tAverage Loss: 0.201\n",
            "Round: 78... \tAverage Loss: 0.15\n",
            "Round: 79... \tAverage Loss: 0.257\n",
            "Round: 80... \tAverage Loss: 0.196\n",
            "Round: 81... \tAverage Loss: 0.214\n",
            "Round: 82... \tAverage Loss: 0.209\n",
            "Round: 83... \tAverage Loss: 0.211\n",
            "Round: 84... \tAverage Loss: 0.218\n",
            "Round: 85... \tAverage Loss: 0.177\n",
            "Round: 86... \tAverage Loss: 0.163\n",
            "Round: 87... \tAverage Loss: 0.23\n",
            "Round: 88... \tAverage Loss: 0.193\n",
            "Round: 89... \tAverage Loss: 0.202\n",
            "Round: 90... \tAverage Loss: 0.213\n",
            "Round: 91... \tAverage Loss: 0.184\n",
            "Round: 92... \tAverage Loss: 0.265\n",
            "Round: 93... \tAverage Loss: 0.202\n",
            "Round: 94... \tAverage Loss: 0.206\n",
            "Round: 95... \tAverage Loss: 0.207\n",
            "Round: 96... \tAverage Loss: 0.21\n",
            "Round: 97... \tAverage Loss: 0.203\n",
            "Round: 98... \tAverage Loss: 0.184\n",
            "Round: 99... \tAverage Loss: 0.247\n",
            "Round: 100... \tAverage Loss: 0.173\n",
            "Training Done!\n",
            "Total time taken to Train: 2104.3346118927\n",
            "Training Done!\n",
            "Total time taken: 2104.3346118927\n"
          ],
          "name": "stdout"
        },
        {
          "output_type": "display_data",
          "data": {
            "image/png": "[encoded data removed]",
            "text/plain": [
              "<Figure size 432x288 with 1 Axes>"
            ]
          },
          "metadata": {
            "tags": [],
            "needs_background": "light"
          }
        }
      ]
    },
    {
      "cell_type": "markdown",
      "metadata": {
        "id": "4C68J-Kk14dB",
        "colab_type": "text"
      },
      "source": [
        "### Test"
      ]
    },
    {
      "cell_type": "code",
      "metadata": {
        "id": "_yQ9GiAZ15jE",
        "colab_type": "code",
        "colab": {
          "base_uri": "https://localhost:8080/",
          "height": 255
        },
        "outputId": "a6afbcc2-30f2-4d64-a849-4bd50aadfc11"
      },
      "source": [
        "criterion = nn.CrossEntropyLoss()\n",
        "testing(mnist_cnn_non_iid_trained, mnist_data_test, 128, criterion, num_classes, classes_test)"
      ],
      "execution_count": 23,
      "outputs": [
        {
          "output_type": "stream",
          "text": [
            "Test Loss: 0.240711\n",
            "\n",
            "Test Accuracy of     0: 98% (75/76)\n",
            "Test Accuracy of     1: 96% (87/90)\n",
            "Test Accuracy of     2: 91% (83/91)\n",
            "Test Accuracy of     3: 95% (70/73)\n",
            "Test Accuracy of     4: 89% (80/89)\n",
            "Test Accuracy of     5: 92% (63/68)\n",
            "Test Accuracy of     6: 91% (57/62)\n",
            "Test Accuracy of     7: 91% (74/81)\n",
            "Test Accuracy of     8: 97% (75/77)\n",
            "Test Accuracy of     9: 93% (78/83)\n",
            "\n",
            "Final Test  Accuracy: 93.924 (742.0/790.0)\n"
          ],
          "name": "stdout"
        }
      ]
    },
    {
      "cell_type": "markdown",
      "metadata": {
        "id": "z_jifdzniuhm",
        "colab_type": "text"
      },
      "source": [
        "## MNIST MLP on IID"
      ]
    },
    {
      "cell_type": "markdown",
      "metadata": {
        "id": "uh-te0Od2XGO",
        "colab_type": "text"
      },
      "source": [
        "### Train"
      ]
    },
    {
      "cell_type": "code",
      "metadata": {
        "id": "UmpWmKOQixVV",
        "colab_type": "code",
        "colab": {
          "base_uri": "https://localhost:8080/",
          "height": 0
        },
        "outputId": "9b833846-ea22-442b-e7f2-ccb5e043b592"
      },
      "source": [
        "# number of training rounds\n",
        "rounds = 100\n",
        "# client fraction\n",
        "C = 0.1\n",
        "# number of clients\n",
        "K = 100\n",
        "# number of training passes on local dataset for each round\n",
        "E = 5\n",
        "# batch size\n",
        "batch_size = 10\n",
        "# learning Rate\n",
        "lr=0.03\n",
        "# proximal term constant\n",
        "mu = 0.001\n",
        "# percentage of clients to have fewer than E epochs\n",
        "percentage = 90\n",
        "# dict containing different type of data partition\n",
        "data_dict = iid_partition(mnist_data_train, 100)\n",
        "# load model\n",
        "mnist_mlp = MNIST_2NN()\n",
        "\n",
        "if torch.cuda.is_available():\n",
        "  mnist_mlp.cuda()\n",
        "\n",
        "mnist_mlp_iid_trained = training(mnist_mlp, rounds, batch_size, lr, mnist_data_train, data_dict, C, K, E, mu, percentage, \"FedProx MNIST MLP on IID Dataset (90%)\", \"orange\")\n"
      ],
      "execution_count": 24,
      "outputs": [
        {
          "output_type": "stream",
          "text": [
            "Round: 1... \tAverage Loss: 1.838\n",
            "Round: 2... \tAverage Loss: 0.363\n",
            "Round: 3... \tAverage Loss: 0.307\n",
            "Round: 4... \tAverage Loss: 0.285\n",
            "Round: 5... \tAverage Loss: 0.214\n",
            "Round: 6... \tAverage Loss: 0.17\n",
            "Round: 7... \tAverage Loss: 0.175\n",
            "Round: 8... \tAverage Loss: 0.163\n",
            "Round: 9... \tAverage Loss: 0.154\n",
            "Round: 10... \tAverage Loss: 0.112\n",
            "Round: 11... \tAverage Loss: 0.105\n",
            "Round: 12... \tAverage Loss: 0.149\n",
            "Round: 13... \tAverage Loss: 0.12\n",
            "Round: 14... \tAverage Loss: 0.079\n",
            "Round: 15... \tAverage Loss: 0.083\n",
            "Round: 16... \tAverage Loss: 0.121\n",
            "Round: 17... \tAverage Loss: 0.114\n",
            "Round: 18... \tAverage Loss: 0.077\n",
            "Round: 19... \tAverage Loss: 0.073\n",
            "Round: 20... \tAverage Loss: 0.118\n",
            "Round: 21... \tAverage Loss: 0.087\n",
            "Round: 22... \tAverage Loss: 0.068\n",
            "Round: 23... \tAverage Loss: 0.069\n",
            "Round: 24... \tAverage Loss: 0.066\n",
            "Round: 25... \tAverage Loss: 0.074\n",
            "Round: 26... \tAverage Loss: 0.068\n",
            "Round: 27... \tAverage Loss: 0.069\n",
            "Round: 28... \tAverage Loss: 0.061\n",
            "Round: 29... \tAverage Loss: 0.054\n",
            "Round: 30... \tAverage Loss: 0.07\n",
            "Round: 31... \tAverage Loss: 0.041\n",
            "Round: 32... \tAverage Loss: 0.073\n",
            "Round: 33... \tAverage Loss: 0.069\n",
            "Round: 34... \tAverage Loss: 0.07\n",
            "Round: 35... \tAverage Loss: 0.066\n",
            "Round: 36... \tAverage Loss: 0.066\n",
            "Round: 37... \tAverage Loss: 0.06\n",
            "Round: 38... \tAverage Loss: 0.036\n",
            "Round: 39... \tAverage Loss: 0.063\n",
            "Round: 40... \tAverage Loss: 0.046\n",
            "Round: 41... \tAverage Loss: 0.063\n",
            "Round: 42... \tAverage Loss: 0.053\n",
            "Round: 43... \tAverage Loss: 0.042\n",
            "Round: 44... \tAverage Loss: 0.05\n",
            "Round: 45... \tAverage Loss: 0.072\n",
            "Round: 46... \tAverage Loss: 0.035\n",
            "Round: 47... \tAverage Loss: 0.043\n",
            "Round: 48... \tAverage Loss: 0.054\n",
            "Round: 49... \tAverage Loss: 0.044\n",
            "Round: 50... \tAverage Loss: 0.038\n",
            "Round: 51... \tAverage Loss: 0.043\n",
            "Round: 52... \tAverage Loss: 0.053\n",
            "Round: 53... \tAverage Loss: 0.039\n",
            "Round: 54... \tAverage Loss: 0.048\n",
            "Round: 55... \tAverage Loss: 0.044\n",
            "Round: 56... \tAverage Loss: 0.037\n",
            "Round: 57... \tAverage Loss: 0.041\n",
            "Round: 58... \tAverage Loss: 0.027\n",
            "Round: 59... \tAverage Loss: 0.029\n",
            "Round: 60... \tAverage Loss: 0.026\n",
            "Round: 61... \tAverage Loss: 0.044\n",
            "Round: 62... \tAverage Loss: 0.048\n",
            "Round: 63... \tAverage Loss: 0.041\n",
            "Round: 64... \tAverage Loss: 0.033\n",
            "Round: 65... \tAverage Loss: 0.037\n",
            "Round: 66... \tAverage Loss: 0.034\n",
            "Round: 67... \tAverage Loss: 0.028\n",
            "Round: 68... \tAverage Loss: 0.04\n",
            "Round: 69... \tAverage Loss: 0.034\n",
            "Round: 70... \tAverage Loss: 0.023\n",
            "Round: 71... \tAverage Loss: 0.03\n",
            "Round: 72... \tAverage Loss: 0.025\n",
            "Round: 73... \tAverage Loss: 0.033\n",
            "Round: 74... \tAverage Loss: 0.036\n",
            "Round: 75... \tAverage Loss: 0.038\n",
            "Round: 76... \tAverage Loss: 0.028\n",
            "Round: 77... \tAverage Loss: 0.024\n",
            "Round: 78... \tAverage Loss: 0.019\n",
            "Round: 79... \tAverage Loss: 0.04\n",
            "Round: 80... \tAverage Loss: 0.015\n",
            "Round: 81... \tAverage Loss: 0.033\n",
            "Round: 82... \tAverage Loss: 0.032\n",
            "Round: 83... \tAverage Loss: 0.023\n",
            "Round: 84... \tAverage Loss: 0.016\n",
            "Round: 85... \tAverage Loss: 0.035\n",
            "Round: 86... \tAverage Loss: 0.025\n",
            "Round: 87... \tAverage Loss: 0.021\n",
            "Round: 88... \tAverage Loss: 0.026\n",
            "Round: 89... \tAverage Loss: 0.025\n",
            "Round: 90... \tAverage Loss: 0.024\n",
            "Round: 91... \tAverage Loss: 0.019\n",
            "Round: 92... \tAverage Loss: 0.022\n",
            "Round: 93... \tAverage Loss: 0.032\n",
            "Round: 94... \tAverage Loss: 0.025\n",
            "Round: 95... \tAverage Loss: 0.03\n",
            "Round: 96... \tAverage Loss: 0.028\n",
            "Round: 97... \tAverage Loss: 0.019\n",
            "Round: 98... \tAverage Loss: 0.026\n",
            "Round: 99... \tAverage Loss: 0.027\n",
            "Round: 100... \tAverage Loss: 0.022\n",
            "Training Done!\n",
            "Total time taken to Train: 886.2026975154877\n",
            "Training Done!\n",
            "Total time taken: 886.2026975154877\n"
          ],
          "name": "stdout"
        },
        {
          "output_type": "display_data",
          "data": {
            "image/png": "[encoded data removed]",
            "text/plain": [
              "<Figure size 432x288 with 1 Axes>"
            ]
          },
          "metadata": {
            "tags": [],
            "needs_background": "light"
          }
        }
      ]
    },
    {
      "cell_type": "markdown",
      "metadata": {
        "id": "aTBsL3-72PPd",
        "colab_type": "text"
      },
      "source": [
        "### Test"
      ]
    },
    {
      "cell_type": "code",
      "metadata": {
        "id": "a9G4j5L62OrS",
        "colab_type": "code",
        "colab": {
          "base_uri": "https://localhost:8080/",
          "height": 0
        },
        "outputId": "7c923e1c-445c-488f-d057-48ce52f499c2"
      },
      "source": [
        "criterion = nn.CrossEntropyLoss()\n",
        "testing(mnist_mlp_iid_trained, mnist_data_test, 128, criterion, num_classes, classes_test)"
      ],
      "execution_count": 25,
      "outputs": [
        {
          "output_type": "stream",
          "text": [
            "Test Loss: 0.066542\n",
            "\n",
            "Test Accuracy of     0: 98% (75/76)\n",
            "Test Accuracy of     1: 97% (88/90)\n",
            "Test Accuracy of     2: 98% (90/91)\n",
            "Test Accuracy of     3: 97% (71/73)\n",
            "Test Accuracy of     4: 98% (88/89)\n",
            "Test Accuracy of     5: 95% (65/68)\n",
            "Test Accuracy of     6: 98% (61/62)\n",
            "Test Accuracy of     7: 98% (80/81)\n",
            "Test Accuracy of     8: 98% (76/77)\n",
            "Test Accuracy of     9: 100% (83/83)\n",
            "\n",
            "Final Test  Accuracy: 98.354 (777.0/790.0)\n"
          ],
          "name": "stdout"
        }
      ]
    },
    {
      "cell_type": "markdown",
      "metadata": {
        "id": "J8jzEyO0iywz",
        "colab_type": "text"
      },
      "source": [
        "## MNIST MLP on Non IID"
      ]
    },
    {
      "cell_type": "markdown",
      "metadata": {
        "id": "pJFepr3y2bF-",
        "colab_type": "text"
      },
      "source": [
        "### Train"
      ]
    },
    {
      "cell_type": "code",
      "metadata": {
        "id": "EBKO44Hgi1Uh",
        "colab_type": "code",
        "colab": {
          "base_uri": "https://localhost:8080/",
          "height": 1000
        },
        "outputId": "be184114-fd89-430b-d305-550baa38383f"
      },
      "source": [
        "# number of training rounds\n",
        "rounds = 100\n",
        "# client fraction\n",
        "C = 0.1\n",
        "# number of clients\n",
        "K = 100\n",
        "# number of training passes on local dataset for each roung\n",
        "E = 5\n",
        "# batch size\n",
        "batch_size = 10\n",
        "# learning Rate\n",
        "lr=0.05\n",
        "# proximal term constant\n",
        "mu = 1.0\n",
        "# percentage of clients to have fewer than E epochs\n",
        "percentage = 90\n",
        "# dict containing different type of data partition\n",
        "data_dict = non_iid_partition(mnist_data_train, 100, 200, 300, 2)\n",
        "# load model\n",
        "mnist_mlp = MNIST_2NN()\n",
        "\n",
        "if torch.cuda.is_available():\n",
        "  mnist_mlp.cuda()\n",
        "\n",
        "mnist_mlp_non_iid_trained = training(mnist_mlp, rounds, batch_size, lr, mnist_data_train, data_dict, C, K, E, mu, percentage, \"FedProx MNIST MLP on non-IID Dataset (90%)\", \"green\")"
      ],
      "execution_count": 26,
      "outputs": [
        {
          "output_type": "stream",
          "text": [
            "Round: 1... \tAverage Loss: 1.319\n",
            "Round: 2... \tAverage Loss: 1.071\n",
            "Round: 3... \tAverage Loss: 0.858\n",
            "Round: 4... \tAverage Loss: 0.884\n",
            "Round: 5... \tAverage Loss: 0.755\n",
            "Round: 6... \tAverage Loss: 1.018\n",
            "Round: 7... \tAverage Loss: 0.613\n",
            "Round: 8... \tAverage Loss: 0.552\n",
            "Round: 9... \tAverage Loss: 0.634\n",
            "Round: 10... \tAverage Loss: 0.468\n",
            "Round: 11... \tAverage Loss: 0.472\n",
            "Round: 12... \tAverage Loss: 0.491\n",
            "Round: 13... \tAverage Loss: 0.477\n",
            "Round: 14... \tAverage Loss: 0.609\n",
            "Round: 15... \tAverage Loss: 0.539\n",
            "Round: 16... \tAverage Loss: 0.479\n",
            "Round: 17... \tAverage Loss: 0.459\n",
            "Round: 18... \tAverage Loss: 0.392\n",
            "Round: 19... \tAverage Loss: 0.472\n",
            "Round: 20... \tAverage Loss: 0.436\n",
            "Round: 21... \tAverage Loss: 0.526\n",
            "Round: 22... \tAverage Loss: 0.455\n",
            "Round: 23... \tAverage Loss: 0.409\n",
            "Round: 24... \tAverage Loss: 0.416\n",
            "Round: 25... \tAverage Loss: 0.404\n",
            "Round: 26... \tAverage Loss: 0.495\n",
            "Round: 27... \tAverage Loss: 0.447\n",
            "Round: 28... \tAverage Loss: 0.499\n",
            "Round: 29... \tAverage Loss: 0.356\n",
            "Round: 30... \tAverage Loss: 0.425\n",
            "Round: 31... \tAverage Loss: 0.396\n",
            "Round: 32... \tAverage Loss: 0.449\n",
            "Round: 33... \tAverage Loss: 0.427\n",
            "Round: 34... \tAverage Loss: 0.473\n",
            "Round: 35... \tAverage Loss: 0.464\n",
            "Round: 36... \tAverage Loss: 0.343\n",
            "Round: 37... \tAverage Loss: 0.4\n",
            "Round: 38... \tAverage Loss: 0.406\n",
            "Round: 39... \tAverage Loss: 0.406\n",
            "Round: 40... \tAverage Loss: 0.359\n",
            "Round: 41... \tAverage Loss: 0.367\n",
            "Round: 42... \tAverage Loss: 0.412\n",
            "Round: 43... \tAverage Loss: 0.322\n",
            "Round: 44... \tAverage Loss: 0.425\n",
            "Round: 45... \tAverage Loss: 0.362\n",
            "Round: 46... \tAverage Loss: 0.534\n",
            "Round: 47... \tAverage Loss: 0.365\n",
            "Round: 48... \tAverage Loss: 0.393\n",
            "Round: 49... \tAverage Loss: 0.345\n",
            "Round: 50... \tAverage Loss: 0.469\n",
            "Round: 51... \tAverage Loss: 0.296\n",
            "Round: 52... \tAverage Loss: 0.395\n",
            "Round: 53... \tAverage Loss: 0.367\n",
            "Round: 54... \tAverage Loss: 0.492\n",
            "Round: 55... \tAverage Loss: 0.381\n",
            "Round: 56... \tAverage Loss: 0.414\n",
            "Round: 57... \tAverage Loss: 0.427\n",
            "Round: 58... \tAverage Loss: 0.433\n",
            "Round: 59... \tAverage Loss: 0.344\n",
            "Round: 60... \tAverage Loss: 0.421\n",
            "Round: 61... \tAverage Loss: 0.388\n",
            "Round: 62... \tAverage Loss: 0.389\n",
            "Round: 63... \tAverage Loss: 0.361\n",
            "Round: 64... \tAverage Loss: 0.444\n",
            "Round: 65... \tAverage Loss: 0.402\n",
            "Round: 66... \tAverage Loss: 0.438\n",
            "Round: 67... \tAverage Loss: 0.345\n",
            "Round: 68... \tAverage Loss: 0.352\n",
            "Round: 69... \tAverage Loss: 0.358\n",
            "Round: 70... \tAverage Loss: 0.405\n",
            "Round: 71... \tAverage Loss: 0.32\n",
            "Round: 72... \tAverage Loss: 0.371\n",
            "Round: 73... \tAverage Loss: 0.371\n",
            "Round: 74... \tAverage Loss: 0.364\n",
            "Round: 75... \tAverage Loss: 0.346\n",
            "Round: 76... \tAverage Loss: 0.372\n",
            "Round: 77... \tAverage Loss: 0.297\n",
            "Round: 78... \tAverage Loss: 0.379\n",
            "Round: 79... \tAverage Loss: 0.369\n",
            "Round: 80... \tAverage Loss: 0.323\n",
            "Round: 81... \tAverage Loss: 0.392\n",
            "Round: 82... \tAverage Loss: 0.357\n",
            "Round: 83... \tAverage Loss: 0.457\n",
            "Round: 84... \tAverage Loss: 0.328\n",
            "Round: 85... \tAverage Loss: 0.337\n",
            "Round: 86... \tAverage Loss: 0.44\n",
            "Round: 87... \tAverage Loss: 0.345\n",
            "Round: 88... \tAverage Loss: 0.334\n",
            "Round: 89... \tAverage Loss: 0.419\n",
            "Round: 90... \tAverage Loss: 0.364\n",
            "Round: 91... \tAverage Loss: 0.408\n",
            "Round: 92... \tAverage Loss: 0.355\n",
            "Round: 93... \tAverage Loss: 0.398\n",
            "Round: 94... \tAverage Loss: 0.395\n",
            "Round: 95... \tAverage Loss: 0.378\n",
            "Round: 96... \tAverage Loss: 0.346\n",
            "Round: 97... \tAverage Loss: 0.364\n",
            "Round: 98... \tAverage Loss: 0.339\n",
            "Round: 99... \tAverage Loss: 0.4\n",
            "Round: 100... \tAverage Loss: 0.345\n",
            "Training Done!\n",
            "Total time taken to Train: 874.8989036083221\n",
            "Training Done!\n",
            "Total time taken: 874.8989036083221\n"
          ],
          "name": "stdout"
        },
        {
          "output_type": "display_data",
          "data": {
            "image/png": "[encoded data removed]",
            "text/plain": [
              "<Figure size 432x288 with 1 Axes>"
            ]
          },
          "metadata": {
            "tags": [],
            "needs_background": "light"
          }
        }
      ]
    },
    {
      "cell_type": "markdown",
      "metadata": {
        "id": "jmuQYPbF2mes",
        "colab_type": "text"
      },
      "source": [
        "### Test"
      ]
    },
    {
      "cell_type": "code",
      "metadata": {
        "id": "0tKMlJyF2nGN",
        "colab_type": "code",
        "colab": {
          "base_uri": "https://localhost:8080/",
          "height": 255
        },
        "outputId": "151b9f1b-47ab-47fc-ff3f-f7d365540feb"
      },
      "source": [
        "criterion = nn.CrossEntropyLoss()\n",
        "testing(mnist_mlp_non_iid_trained, mnist_data_test, 128, criterion, num_classes, classes_test)"
      ],
      "execution_count": 27,
      "outputs": [
        {
          "output_type": "stream",
          "text": [
            "Test Loss: 0.285587\n",
            "\n",
            "Test Accuracy of     0: 93% (71/76)\n",
            "Test Accuracy of     1: 97% (88/90)\n",
            "Test Accuracy of     2: 91% (83/91)\n",
            "Test Accuracy of     3: 95% (70/73)\n",
            "Test Accuracy of     4: 91% (81/89)\n",
            "Test Accuracy of     5: 79% (54/68)\n",
            "Test Accuracy of     6: 95% (59/62)\n",
            "Test Accuracy of     7: 85% (69/81)\n",
            "Test Accuracy of     8: 93% (72/77)\n",
            "Test Accuracy of     9: 97% (81/83)\n",
            "\n",
            "Final Test  Accuracy: 92.152 (728.0/790.0)\n"
          ],
          "name": "stdout"
        }
      ]
    },
    {
      "cell_type": "markdown",
      "metadata": {
        "id": "HdOmGsJLC5OD",
        "colab_type": "text"
      },
      "source": [
        "# Training with 50% probability of system heterogeneity"
      ]
    },
    {
      "cell_type": "markdown",
      "metadata": {
        "colab_type": "text",
        "id": "gnlxH6QdDGzc"
      },
      "source": [
        "## MNIST CNN on IID"
      ]
    },
    {
      "cell_type": "markdown",
      "metadata": {
        "colab_type": "text",
        "id": "8fiWKhiKDGze"
      },
      "source": [
        "### Train\n"
      ]
    },
    {
      "cell_type": "code",
      "metadata": {
        "colab_type": "code",
        "id": "bmHjsXHeDGzg",
        "colab": {
          "base_uri": "https://localhost:8080/",
          "height": 1000
        },
        "outputId": "5b7e1024-e790-4d51-d591-281ce89a7036"
      },
      "source": [
        "# number of training rounds\n",
        "rounds = 100\n",
        "# client fraction\n",
        "C = 0.1\n",
        "# number of clients\n",
        "K = 100\n",
        "# number of training passes on local dataset for each roung\n",
        "E = 20\n",
        "# batch size\n",
        "batch_size = 10\n",
        "# learning Rate\n",
        "lr=0.01\n",
        "# proximal term constant\n",
        "mu = 1.0\n",
        "# percentage of clients to have fewer than E epochs\n",
        "percentage = 50\n",
        "# data partition dictionary\n",
        "iid_dict = iid_partition(mnist_data_train, 100)\n",
        "# load model\n",
        "mnist_cnn = MNIST_CNN()\n",
        "\n",
        "if torch.cuda.is_available():\n",
        "  mnist_cnn.cuda()\n",
        "\n",
        "mnist_cnn_iid_trained = training(mnist_cnn, rounds, batch_size, lr, mnist_data_train, iid_dict, C, K, E, mu, percentage, \"FedProx MNIST CNN on IID Dataset (50%)\", \"orange\")"
      ],
      "execution_count": 28,
      "outputs": [
        {
          "output_type": "stream",
          "text": [
            "Round: 1... \tAverage Loss: 2.204\n",
            "Round: 2... \tAverage Loss: 1.055\n",
            "Round: 3... \tAverage Loss: 0.787\n",
            "Round: 4... \tAverage Loss: 0.687\n",
            "Round: 5... \tAverage Loss: 0.641\n",
            "Round: 6... \tAverage Loss: 0.582\n",
            "Round: 7... \tAverage Loss: 0.552\n",
            "Round: 8... \tAverage Loss: 0.551\n",
            "Round: 9... \tAverage Loss: 0.538\n",
            "Round: 10... \tAverage Loss: 0.492\n",
            "Round: 11... \tAverage Loss: 0.476\n",
            "Round: 12... \tAverage Loss: 0.461\n",
            "Round: 13... \tAverage Loss: 0.472\n",
            "Round: 14... \tAverage Loss: 0.46\n",
            "Round: 15... \tAverage Loss: 0.46\n",
            "Round: 16... \tAverage Loss: 0.417\n",
            "Round: 17... \tAverage Loss: 0.437\n",
            "Round: 18... \tAverage Loss: 0.435\n",
            "Round: 19... \tAverage Loss: 0.417\n",
            "Round: 20... \tAverage Loss: 0.414\n",
            "Round: 21... \tAverage Loss: 0.385\n",
            "Round: 22... \tAverage Loss: 0.402\n",
            "Round: 23... \tAverage Loss: 0.393\n",
            "Round: 24... \tAverage Loss: 0.396\n",
            "Round: 25... \tAverage Loss: 0.395\n",
            "Round: 26... \tAverage Loss: 0.387\n",
            "Round: 27... \tAverage Loss: 0.375\n",
            "Round: 28... \tAverage Loss: 0.361\n",
            "Round: 29... \tAverage Loss: 0.357\n",
            "Round: 30... \tAverage Loss: 0.361\n",
            "Round: 31... \tAverage Loss: 0.355\n",
            "Round: 32... \tAverage Loss: 0.364\n",
            "Round: 33... \tAverage Loss: 0.329\n",
            "Round: 34... \tAverage Loss: 0.355\n",
            "Round: 35... \tAverage Loss: 0.332\n",
            "Round: 36... \tAverage Loss: 0.345\n",
            "Round: 37... \tAverage Loss: 0.345\n",
            "Round: 38... \tAverage Loss: 0.335\n",
            "Round: 39... \tAverage Loss: 0.33\n",
            "Round: 40... \tAverage Loss: 0.351\n",
            "Round: 41... \tAverage Loss: 0.305\n",
            "Round: 42... \tAverage Loss: 0.323\n",
            "Round: 43... \tAverage Loss: 0.316\n",
            "Round: 44... \tAverage Loss: 0.33\n",
            "Round: 45... \tAverage Loss: 0.316\n",
            "Round: 46... \tAverage Loss: 0.328\n",
            "Round: 47... \tAverage Loss: 0.311\n",
            "Round: 48... \tAverage Loss: 0.312\n",
            "Round: 49... \tAverage Loss: 0.323\n",
            "Round: 50... \tAverage Loss: 0.311\n",
            "Round: 51... \tAverage Loss: 0.309\n",
            "Round: 52... \tAverage Loss: 0.304\n",
            "Round: 53... \tAverage Loss: 0.296\n",
            "Round: 54... \tAverage Loss: 0.301\n",
            "Round: 55... \tAverage Loss: 0.303\n",
            "Round: 56... \tAverage Loss: 0.295\n",
            "Round: 57... \tAverage Loss: 0.292\n",
            "Round: 58... \tAverage Loss: 0.311\n",
            "Round: 59... \tAverage Loss: 0.292\n",
            "Round: 60... \tAverage Loss: 0.303\n",
            "Round: 61... \tAverage Loss: 0.293\n",
            "Round: 62... \tAverage Loss: 0.29\n",
            "Round: 63... \tAverage Loss: 0.274\n",
            "Round: 64... \tAverage Loss: 0.268\n",
            "Round: 65... \tAverage Loss: 0.293\n",
            "Round: 66... \tAverage Loss: 0.281\n",
            "Round: 67... \tAverage Loss: 0.271\n",
            "Round: 68... \tAverage Loss: 0.308\n",
            "Round: 69... \tAverage Loss: 0.287\n",
            "Round: 70... \tAverage Loss: 0.271\n",
            "Round: 71... \tAverage Loss: 0.269\n",
            "Round: 72... \tAverage Loss: 0.29\n",
            "Round: 73... \tAverage Loss: 0.276\n",
            "Round: 74... \tAverage Loss: 0.261\n",
            "Round: 75... \tAverage Loss: 0.279\n",
            "Round: 76... \tAverage Loss: 0.273\n",
            "Round: 77... \tAverage Loss: 0.272\n",
            "Round: 78... \tAverage Loss: 0.267\n",
            "Round: 79... \tAverage Loss: 0.266\n",
            "Round: 80... \tAverage Loss: 0.255\n",
            "Round: 81... \tAverage Loss: 0.268\n",
            "Round: 82... \tAverage Loss: 0.266\n",
            "Round: 83... \tAverage Loss: 0.264\n",
            "Round: 84... \tAverage Loss: 0.264\n",
            "Round: 85... \tAverage Loss: 0.246\n",
            "Round: 86... \tAverage Loss: 0.269\n",
            "Round: 87... \tAverage Loss: 0.265\n",
            "Round: 88... \tAverage Loss: 0.264\n",
            "Round: 89... \tAverage Loss: 0.242\n",
            "Round: 90... \tAverage Loss: 0.257\n",
            "Round: 91... \tAverage Loss: 0.249\n",
            "Round: 92... \tAverage Loss: 0.249\n",
            "Round: 93... \tAverage Loss: 0.246\n",
            "Round: 94... \tAverage Loss: 0.249\n",
            "Round: 95... \tAverage Loss: 0.252\n",
            "Round: 96... \tAverage Loss: 0.262\n",
            "Round: 97... \tAverage Loss: 0.244\n",
            "Round: 98... \tAverage Loss: 0.248\n",
            "Round: 99... \tAverage Loss: 0.231\n",
            "Round: 100... \tAverage Loss: 0.247\n",
            "Training Done!\n",
            "Total time taken to Train: 6265.161243915558\n",
            "Training Done!\n",
            "Total time taken: 6265.161243915558\n"
          ],
          "name": "stdout"
        },
        {
          "output_type": "display_data",
          "data": {
            "image/png": "[encoded data removed]",
            "text/plain": [
              "<Figure size 432x288 with 1 Axes>"
            ]
          },
          "metadata": {
            "tags": [],
            "needs_background": "light"
          }
        }
      ]
    },
    {
      "cell_type": "markdown",
      "metadata": {
        "colab_type": "text",
        "id": "9ZqpiIGTDGzk"
      },
      "source": [
        "### Test"
      ]
    },
    {
      "cell_type": "code",
      "metadata": {
        "colab_type": "code",
        "id": "mF0yqZOGDGzl",
        "colab": {
          "base_uri": "https://localhost:8080/",
          "height": 255
        },
        "outputId": "6a0f8c56-723b-44c7-ba7c-7c2441cf3089"
      },
      "source": [
        "criterion = nn.CrossEntropyLoss()\n",
        "testing(mnist_cnn_iid_trained, mnist_data_test, 128, criterion, num_classes, classes_test)"
      ],
      "execution_count": 29,
      "outputs": [
        {
          "output_type": "stream",
          "text": [
            "Test Loss: 0.107871\n",
            "\n",
            "Test Accuracy of     0: 98% (75/76)\n",
            "Test Accuracy of     1: 97% (88/90)\n",
            "Test Accuracy of     2: 95% (87/91)\n",
            "Test Accuracy of     3: 94% (69/73)\n",
            "Test Accuracy of     4: 98% (88/89)\n",
            "Test Accuracy of     5: 97% (66/68)\n",
            "Test Accuracy of     6: 96% (60/62)\n",
            "Test Accuracy of     7: 93% (76/81)\n",
            "Test Accuracy of     8: 98% (76/77)\n",
            "Test Accuracy of     9: 97% (81/83)\n",
            "\n",
            "Final Test  Accuracy: 96.962 (766.0/790.0)\n"
          ],
          "name": "stdout"
        }
      ]
    },
    {
      "cell_type": "markdown",
      "metadata": {
        "colab_type": "text",
        "id": "3C1o99ZODOH8"
      },
      "source": [
        "## MNIST CNN on Non IID"
      ]
    },
    {
      "cell_type": "markdown",
      "metadata": {
        "colab_type": "text",
        "id": "MxLku0pEDOH9"
      },
      "source": [
        "### Train\n"
      ]
    },
    {
      "cell_type": "code",
      "metadata": {
        "colab_type": "code",
        "id": "jzQZEeOeDOH-",
        "colab": {
          "base_uri": "https://localhost:8080/",
          "height": 1000
        },
        "outputId": "2430fff4-bbc5-4553-b323-4e0ded592c40"
      },
      "source": [
        "# number of training rounds\n",
        "rounds = 100\n",
        "# client fraction\n",
        "C = 0.1\n",
        "# number of clients\n",
        "K = 100\n",
        "# number of training passes on local dataset for each roung\n",
        "E = 5\n",
        "# batch size\n",
        "batch_size = 10\n",
        "# learning Rate\n",
        "lr=0.01\n",
        "# proximal term constant\n",
        "mu = 1.0\n",
        "# percentage of clients to have fewer than E epochs\n",
        "percentage = 50\n",
        "# dict containing different type of data partition\n",
        "data_dict = non_iid_partition(mnist_data_train, 100, 200, 300, 2)\n",
        "# load model\n",
        "mnist_cnn = MNIST_CNN()\n",
        "\n",
        "if torch.cuda.is_available():\n",
        "  mnist_cnn.cuda()\n",
        "\n",
        "mnist_cnn_non_iid_trained = training(mnist_cnn, rounds, batch_size, lr, mnist_data_train, data_dict, C, K, E, mu, percentage, \"FedProx MNIST CNN on non-IID Dataset (50%)\", \"green\")\n"
      ],
      "execution_count": 30,
      "outputs": [
        {
          "output_type": "stream",
          "text": [
            "Round: 1... \tAverage Loss: 0.794\n",
            "Round: 2... \tAverage Loss: 0.649\n",
            "Round: 3... \tAverage Loss: 0.565\n",
            "Round: 4... \tAverage Loss: 0.629\n",
            "Round: 5... \tAverage Loss: 0.56\n",
            "Round: 6... \tAverage Loss: 0.471\n",
            "Round: 7... \tAverage Loss: 0.391\n",
            "Round: 8... \tAverage Loss: 0.458\n",
            "Round: 9... \tAverage Loss: 0.465\n",
            "Round: 10... \tAverage Loss: 0.418\n",
            "Round: 11... \tAverage Loss: 0.389\n",
            "Round: 12... \tAverage Loss: 0.324\n",
            "Round: 13... \tAverage Loss: 0.383\n",
            "Round: 14... \tAverage Loss: 0.403\n",
            "Round: 15... \tAverage Loss: 0.299\n",
            "Round: 16... \tAverage Loss: 0.35\n",
            "Round: 17... \tAverage Loss: 0.236\n",
            "Round: 18... \tAverage Loss: 0.349\n",
            "Round: 19... \tAverage Loss: 0.286\n",
            "Round: 20... \tAverage Loss: 0.351\n",
            "Round: 21... \tAverage Loss: 0.298\n",
            "Round: 22... \tAverage Loss: 0.242\n",
            "Round: 23... \tAverage Loss: 0.29\n",
            "Round: 24... \tAverage Loss: 0.231\n",
            "Round: 25... \tAverage Loss: 0.317\n",
            "Round: 26... \tAverage Loss: 0.257\n",
            "Round: 27... \tAverage Loss: 0.285\n",
            "Round: 28... \tAverage Loss: 0.275\n",
            "Round: 29... \tAverage Loss: 0.231\n",
            "Round: 30... \tAverage Loss: 0.265\n",
            "Round: 31... \tAverage Loss: 0.258\n",
            "Round: 32... \tAverage Loss: 0.232\n",
            "Round: 33... \tAverage Loss: 0.258\n",
            "Round: 34... \tAverage Loss: 0.242\n",
            "Round: 35... \tAverage Loss: 0.29\n",
            "Round: 36... \tAverage Loss: 0.272\n",
            "Round: 37... \tAverage Loss: 0.227\n",
            "Round: 38... \tAverage Loss: 0.316\n",
            "Round: 39... \tAverage Loss: 0.265\n",
            "Round: 40... \tAverage Loss: 0.273\n",
            "Round: 41... \tAverage Loss: 0.256\n",
            "Round: 42... \tAverage Loss: 0.203\n",
            "Round: 43... \tAverage Loss: 0.253\n",
            "Round: 44... \tAverage Loss: 0.308\n",
            "Round: 45... \tAverage Loss: 0.228\n",
            "Round: 46... \tAverage Loss: 0.233\n",
            "Round: 47... \tAverage Loss: 0.304\n",
            "Round: 48... \tAverage Loss: 0.188\n",
            "Round: 49... \tAverage Loss: 0.254\n",
            "Round: 50... \tAverage Loss: 0.206\n",
            "Round: 51... \tAverage Loss: 0.233\n",
            "Round: 52... \tAverage Loss: 0.204\n",
            "Round: 53... \tAverage Loss: 0.213\n",
            "Round: 54... \tAverage Loss: 0.261\n",
            "Round: 55... \tAverage Loss: 0.181\n",
            "Round: 56... \tAverage Loss: 0.214\n",
            "Round: 57... \tAverage Loss: 0.246\n",
            "Round: 58... \tAverage Loss: 0.248\n",
            "Round: 59... \tAverage Loss: 0.2\n",
            "Round: 60... \tAverage Loss: 0.203\n",
            "Round: 61... \tAverage Loss: 0.206\n",
            "Round: 62... \tAverage Loss: 0.199\n",
            "Round: 63... \tAverage Loss: 0.201\n",
            "Round: 64... \tAverage Loss: 0.2\n",
            "Round: 65... \tAverage Loss: 0.231\n",
            "Round: 66... \tAverage Loss: 0.222\n",
            "Round: 67... \tAverage Loss: 0.226\n",
            "Round: 68... \tAverage Loss: 0.187\n",
            "Round: 69... \tAverage Loss: 0.242\n",
            "Round: 70... \tAverage Loss: 0.238\n",
            "Round: 71... \tAverage Loss: 0.185\n",
            "Round: 72... \tAverage Loss: 0.216\n",
            "Round: 73... \tAverage Loss: 0.19\n",
            "Round: 74... \tAverage Loss: 0.199\n",
            "Round: 75... \tAverage Loss: 0.233\n",
            "Round: 76... \tAverage Loss: 0.175\n",
            "Round: 77... \tAverage Loss: 0.231\n",
            "Round: 78... \tAverage Loss: 0.202\n",
            "Round: 79... \tAverage Loss: 0.187\n",
            "Round: 80... \tAverage Loss: 0.206\n",
            "Round: 81... \tAverage Loss: 0.285\n",
            "Round: 82... \tAverage Loss: 0.187\n",
            "Round: 83... \tAverage Loss: 0.2\n",
            "Round: 84... \tAverage Loss: 0.204\n",
            "Round: 85... \tAverage Loss: 0.247\n",
            "Round: 86... \tAverage Loss: 0.203\n",
            "Round: 87... \tAverage Loss: 0.223\n",
            "Round: 88... \tAverage Loss: 0.189\n",
            "Round: 89... \tAverage Loss: 0.186\n",
            "Round: 90... \tAverage Loss: 0.23\n",
            "Round: 91... \tAverage Loss: 0.232\n",
            "Round: 92... \tAverage Loss: 0.201\n",
            "Round: 93... \tAverage Loss: 0.207\n",
            "Round: 94... \tAverage Loss: 0.182\n",
            "Round: 95... \tAverage Loss: 0.188\n",
            "Round: 96... \tAverage Loss: 0.232\n",
            "Round: 97... \tAverage Loss: 0.236\n",
            "Round: 98... \tAverage Loss: 0.169\n",
            "Round: 99... \tAverage Loss: 0.196\n",
            "Round: 100... \tAverage Loss: 0.177\n",
            "Training Done!\n",
            "Total time taken to Train: 1583.3307285308838\n",
            "Training Done!\n",
            "Total time taken: 1583.3307285308838\n"
          ],
          "name": "stdout"
        },
        {
          "output_type": "display_data",
          "data": {
            "image/png": "[encoded data removed]",
            "text/plain": [
              "<Figure size 432x288 with 1 Axes>"
            ]
          },
          "metadata": {
            "tags": [],
            "needs_background": "light"
          }
        }
      ]
    },
    {
      "cell_type": "markdown",
      "metadata": {
        "colab_type": "text",
        "id": "WlvuhJfDDOIA"
      },
      "source": [
        "### Test"
      ]
    },
    {
      "cell_type": "code",
      "metadata": {
        "colab_type": "code",
        "id": "glvJM5VwDOIB",
        "colab": {
          "base_uri": "https://localhost:8080/",
          "height": 255
        },
        "outputId": "e9993174-cc15-4591-f9d9-d3d321df6770"
      },
      "source": [
        "criterion = nn.CrossEntropyLoss()\n",
        "testing(mnist_cnn_non_iid_trained, mnist_data_test, 128, criterion, num_classes, classes_test)"
      ],
      "execution_count": 31,
      "outputs": [
        {
          "output_type": "stream",
          "text": [
            "Test Loss: 0.234220\n",
            "\n",
            "Test Accuracy of     0: 97% (74/76)\n",
            "Test Accuracy of     1: 97% (88/90)\n",
            "Test Accuracy of     2: 92% (84/91)\n",
            "Test Accuracy of     3: 94% (69/73)\n",
            "Test Accuracy of     4: 96% (86/89)\n",
            "Test Accuracy of     5: 97% (66/68)\n",
            "Test Accuracy of     6: 93% (58/62)\n",
            "Test Accuracy of     7: 88% (72/81)\n",
            "Test Accuracy of     8: 88% (68/77)\n",
            "Test Accuracy of     9: 93% (78/83)\n",
            "\n",
            "Final Test  Accuracy: 94.051 (743.0/790.0)\n"
          ],
          "name": "stdout"
        }
      ]
    },
    {
      "cell_type": "markdown",
      "metadata": {
        "colab_type": "text",
        "id": "Mgspmmb1DSgu"
      },
      "source": [
        "## MNIST MLP on IID"
      ]
    },
    {
      "cell_type": "markdown",
      "metadata": {
        "colab_type": "text",
        "id": "t1AlbPY7DSgv"
      },
      "source": [
        "### Train"
      ]
    },
    {
      "cell_type": "code",
      "metadata": {
        "colab_type": "code",
        "id": "a1nUItg3DSgv",
        "colab": {
          "base_uri": "https://localhost:8080/",
          "height": 1000
        },
        "outputId": "20076ad7-65e1-4efd-e92b-ebf9ce458550"
      },
      "source": [
        "# number of training rounds\n",
        "rounds = 100\n",
        "# client fraction\n",
        "C = 0.1\n",
        "# number of clients\n",
        "K = 100\n",
        "# number of training passes on local dataset for each round\n",
        "E = 5\n",
        "# batch size\n",
        "batch_size = 10\n",
        "# learning Rate\n",
        "lr=0.03\n",
        "# proximal term constant\n",
        "mu = 1.0\n",
        "# percentage of clients to have fewer than E epochs\n",
        "percentage = 50\n",
        "# dict containing different type of data partition\n",
        "data_dict = iid_partition(mnist_data_train, 100)\n",
        "# load model\n",
        "mnist_mlp = MNIST_2NN()\n",
        "\n",
        "if torch.cuda.is_available():\n",
        "  mnist_mlp.cuda()\n",
        "\n",
        "mnist_mlp_iid_trained = training(mnist_mlp, rounds, batch_size, lr, mnist_data_train, data_dict, C, K, E, mu, percentage, \"FedProx MNIST MLP on IID Dataset (50%)\", \"orange\")\n"
      ],
      "execution_count": 32,
      "outputs": [
        {
          "output_type": "stream",
          "text": [
            "Round: 1... \tAverage Loss: 2.743\n",
            "Round: 2... \tAverage Loss: 1.111\n",
            "Round: 3... \tAverage Loss: 0.941\n",
            "Round: 4... \tAverage Loss: 0.836\n",
            "Round: 5... \tAverage Loss: 0.814\n",
            "Round: 6... \tAverage Loss: 0.752\n",
            "Round: 7... \tAverage Loss: 0.729\n",
            "Round: 8... \tAverage Loss: 0.712\n",
            "Round: 9... \tAverage Loss: 0.719\n",
            "Round: 10... \tAverage Loss: 0.678\n",
            "Round: 11... \tAverage Loss: 0.68\n",
            "Round: 12... \tAverage Loss: 0.668\n",
            "Round: 13... \tAverage Loss: 0.647\n",
            "Round: 14... \tAverage Loss: 0.641\n",
            "Round: 15... \tAverage Loss: 0.66\n",
            "Round: 16... \tAverage Loss: 0.62\n",
            "Round: 17... \tAverage Loss: 0.599\n",
            "Round: 18... \tAverage Loss: 0.592\n",
            "Round: 19... \tAverage Loss: 0.621\n",
            "Round: 20... \tAverage Loss: 0.592\n",
            "Round: 21... \tAverage Loss: 0.562\n",
            "Round: 22... \tAverage Loss: 0.557\n",
            "Round: 23... \tAverage Loss: 0.56\n",
            "Round: 24... \tAverage Loss: 0.543\n",
            "Round: 25... \tAverage Loss: 0.566\n",
            "Round: 26... \tAverage Loss: 0.54\n",
            "Round: 27... \tAverage Loss: 0.535\n",
            "Round: 28... \tAverage Loss: 0.546\n",
            "Round: 29... \tAverage Loss: 0.542\n",
            "Round: 30... \tAverage Loss: 0.519\n",
            "Round: 31... \tAverage Loss: 0.519\n",
            "Round: 32... \tAverage Loss: 0.535\n",
            "Round: 33... \tAverage Loss: 0.506\n",
            "Round: 34... \tAverage Loss: 0.506\n",
            "Round: 35... \tAverage Loss: 0.518\n",
            "Round: 36... \tAverage Loss: 0.51\n",
            "Round: 37... \tAverage Loss: 0.495\n",
            "Round: 38... \tAverage Loss: 0.519\n",
            "Round: 39... \tAverage Loss: 0.479\n",
            "Round: 40... \tAverage Loss: 0.494\n",
            "Round: 41... \tAverage Loss: 0.5\n",
            "Round: 42... \tAverage Loss: 0.482\n",
            "Round: 43... \tAverage Loss: 0.49\n",
            "Round: 44... \tAverage Loss: 0.494\n",
            "Round: 45... \tAverage Loss: 0.468\n",
            "Round: 46... \tAverage Loss: 0.475\n",
            "Round: 47... \tAverage Loss: 0.481\n",
            "Round: 48... \tAverage Loss: 0.461\n",
            "Round: 49... \tAverage Loss: 0.434\n",
            "Round: 50... \tAverage Loss: 0.451\n",
            "Round: 51... \tAverage Loss: 0.45\n",
            "Round: 52... \tAverage Loss: 0.462\n",
            "Round: 53... \tAverage Loss: 0.464\n",
            "Round: 54... \tAverage Loss: 0.454\n",
            "Round: 55... \tAverage Loss: 0.452\n",
            "Round: 56... \tAverage Loss: 0.473\n",
            "Round: 57... \tAverage Loss: 0.457\n",
            "Round: 58... \tAverage Loss: 0.451\n",
            "Round: 59... \tAverage Loss: 0.419\n",
            "Round: 60... \tAverage Loss: 0.434\n",
            "Round: 61... \tAverage Loss: 0.446\n",
            "Round: 62... \tAverage Loss: 0.427\n",
            "Round: 63... \tAverage Loss: 0.444\n",
            "Round: 64... \tAverage Loss: 0.422\n",
            "Round: 65... \tAverage Loss: 0.422\n",
            "Round: 66... \tAverage Loss: 0.42\n",
            "Round: 67... \tAverage Loss: 0.441\n",
            "Round: 68... \tAverage Loss: 0.435\n",
            "Round: 69... \tAverage Loss: 0.44\n",
            "Round: 70... \tAverage Loss: 0.398\n",
            "Round: 71... \tAverage Loss: 0.411\n",
            "Round: 72... \tAverage Loss: 0.405\n",
            "Round: 73... \tAverage Loss: 0.436\n",
            "Round: 74... \tAverage Loss: 0.421\n",
            "Round: 75... \tAverage Loss: 0.43\n",
            "Round: 76... \tAverage Loss: 0.382\n",
            "Round: 77... \tAverage Loss: 0.394\n",
            "Round: 78... \tAverage Loss: 0.378\n",
            "Round: 79... \tAverage Loss: 0.413\n",
            "Round: 80... \tAverage Loss: 0.395\n",
            "Round: 81... \tAverage Loss: 0.394\n",
            "Round: 82... \tAverage Loss: 0.399\n",
            "Round: 83... \tAverage Loss: 0.391\n",
            "Round: 84... \tAverage Loss: 0.397\n",
            "Round: 85... \tAverage Loss: 0.378\n",
            "Round: 86... \tAverage Loss: 0.382\n",
            "Round: 87... \tAverage Loss: 0.393\n",
            "Round: 88... \tAverage Loss: 0.387\n",
            "Round: 89... \tAverage Loss: 0.375\n",
            "Round: 90... \tAverage Loss: 0.384\n",
            "Round: 91... \tAverage Loss: 0.385\n",
            "Round: 92... \tAverage Loss: 0.4\n",
            "Round: 93... \tAverage Loss: 0.368\n",
            "Round: 94... \tAverage Loss: 0.384\n",
            "Round: 95... \tAverage Loss: 0.358\n",
            "Round: 96... \tAverage Loss: 0.403\n",
            "Round: 97... \tAverage Loss: 0.373\n",
            "Round: 98... \tAverage Loss: 0.377\n",
            "Round: 99... \tAverage Loss: 0.357\n",
            "Round: 100... \tAverage Loss: 0.377\n",
            "Training Done!\n",
            "Total time taken to Train: 1198.2251114845276\n",
            "Training Done!\n",
            "Total time taken: 1198.2251114845276\n"
          ],
          "name": "stdout"
        },
        {
          "output_type": "display_data",
          "data": {
            "image/png": "[encoded data removed]",
            "text/plain": [
              "<Figure size 432x288 with 1 Axes>"
            ]
          },
          "metadata": {
            "tags": [],
            "needs_background": "light"
          }
        }
      ]
    },
    {
      "cell_type": "markdown",
      "metadata": {
        "colab_type": "text",
        "id": "3DQo8vP5DSgx"
      },
      "source": [
        "### Test"
      ]
    },
    {
      "cell_type": "code",
      "metadata": {
        "colab_type": "code",
        "id": "c3Kh1UxyDSgy",
        "colab": {
          "base_uri": "https://localhost:8080/",
          "height": 255
        },
        "outputId": "52a83ca8-9979-4e28-932f-6ee27c847930"
      },
      "source": [
        "criterion = nn.CrossEntropyLoss()\n",
        "testing(mnist_mlp_iid_trained, mnist_data_test, 128, criterion, num_classes, classes_test)"
      ],
      "execution_count": 33,
      "outputs": [
        {
          "output_type": "stream",
          "text": [
            "Test Loss: 0.180717\n",
            "\n",
            "Test Accuracy of     0: 97% (74/76)\n",
            "Test Accuracy of     1: 96% (87/90)\n",
            "Test Accuracy of     2: 93% (85/91)\n",
            "Test Accuracy of     3: 95% (70/73)\n",
            "Test Accuracy of     4: 96% (86/89)\n",
            "Test Accuracy of     5: 88% (60/68)\n",
            "Test Accuracy of     6: 95% (59/62)\n",
            "Test Accuracy of     7: 92% (75/81)\n",
            "Test Accuracy of     8: 98% (76/77)\n",
            "Test Accuracy of     9: 95% (79/83)\n",
            "\n",
            "Final Test  Accuracy: 95.063 (751.0/790.0)\n"
          ],
          "name": "stdout"
        }
      ]
    },
    {
      "cell_type": "markdown",
      "metadata": {
        "colab_type": "text",
        "id": "PrWMRFBCDWu-"
      },
      "source": [
        "## MNIST MLP on Non IID"
      ]
    },
    {
      "cell_type": "markdown",
      "metadata": {
        "colab_type": "text",
        "id": "joc_YdwDDWu-"
      },
      "source": [
        "### Train"
      ]
    },
    {
      "cell_type": "code",
      "metadata": {
        "colab_type": "code",
        "id": "JEhvU3V1DWu_",
        "colab": {
          "base_uri": "https://localhost:8080/",
          "height": 1000
        },
        "outputId": "0cb9d2f1-589a-4c0c-efa0-f3c627fbd80a"
      },
      "source": [
        "# number of training rounds\n",
        "rounds = 100\n",
        "# client fraction\n",
        "C = 0.1\n",
        "# number of clients\n",
        "K = 100\n",
        "# number of training passes on local dataset for each roung\n",
        "E = 5\n",
        "# batch size\n",
        "batch_size = 10\n",
        "# learning Rate\n",
        "lr=0.05\n",
        "# proximal term constant\n",
        "mu = 1.0\n",
        "# percentage of clients to have fewer than E epochs\n",
        "percentage = 50\n",
        "# dict containing different type of data partition\n",
        "data_dict = non_iid_partition(mnist_data_train, 100, 200, 300, 2)\n",
        "# load model\n",
        "mnist_mlp = MNIST_2NN()\n",
        "\n",
        "if torch.cuda.is_available():\n",
        "  mnist_mlp.cuda()\n",
        "\n",
        "mnist_mlp_non_iid_trained = training(mnist_mlp, rounds, batch_size, lr, mnist_data_train, data_dict, C, K, E, mu, percentage, \"FedProx MNIST MLP on non-IID Dataset (50%)\", \"green\")"
      ],
      "execution_count": 34,
      "outputs": [
        {
          "output_type": "stream",
          "text": [
            "Round: 1... \tAverage Loss: 1.049\n",
            "Round: 2... \tAverage Loss: 0.935\n",
            "Round: 3... \tAverage Loss: 0.79\n",
            "Round: 4... \tAverage Loss: 0.778\n",
            "Round: 5... \tAverage Loss: 0.729\n",
            "Round: 6... \tAverage Loss: 0.713\n",
            "Round: 7... \tAverage Loss: 0.501\n",
            "Round: 8... \tAverage Loss: 0.523\n",
            "Round: 9... \tAverage Loss: 0.643\n",
            "Round: 10... \tAverage Loss: 0.58\n",
            "Round: 11... \tAverage Loss: 0.555\n",
            "Round: 12... \tAverage Loss: 0.62\n",
            "Round: 13... \tAverage Loss: 0.529\n",
            "Round: 14... \tAverage Loss: 0.598\n",
            "Round: 15... \tAverage Loss: 0.622\n",
            "Round: 16... \tAverage Loss: 0.529\n",
            "Round: 17... \tAverage Loss: 0.491\n",
            "Round: 18... \tAverage Loss: 0.42\n",
            "Round: 19... \tAverage Loss: 0.549\n",
            "Round: 20... \tAverage Loss: 0.414\n",
            "Round: 21... \tAverage Loss: 0.434\n",
            "Round: 22... \tAverage Loss: 0.423\n",
            "Round: 23... \tAverage Loss: 0.514\n",
            "Round: 24... \tAverage Loss: 0.386\n",
            "Round: 25... \tAverage Loss: 0.401\n",
            "Round: 26... \tAverage Loss: 0.356\n",
            "Round: 27... \tAverage Loss: 0.46\n",
            "Round: 28... \tAverage Loss: 0.322\n",
            "Round: 29... \tAverage Loss: 0.409\n",
            "Round: 30... \tAverage Loss: 0.486\n",
            "Round: 31... \tAverage Loss: 0.418\n",
            "Round: 32... \tAverage Loss: 0.353\n",
            "Round: 33... \tAverage Loss: 0.499\n",
            "Round: 34... \tAverage Loss: 0.345\n",
            "Round: 35... \tAverage Loss: 0.432\n",
            "Round: 36... \tAverage Loss: 0.463\n",
            "Round: 37... \tAverage Loss: 0.359\n",
            "Round: 38... \tAverage Loss: 0.397\n",
            "Round: 39... \tAverage Loss: 0.448\n",
            "Round: 40... \tAverage Loss: 0.433\n",
            "Round: 41... \tAverage Loss: 0.362\n",
            "Round: 42... \tAverage Loss: 0.379\n",
            "Round: 43... \tAverage Loss: 0.435\n",
            "Round: 44... \tAverage Loss: 0.355\n",
            "Round: 45... \tAverage Loss: 0.355\n",
            "Round: 46... \tAverage Loss: 0.495\n",
            "Round: 47... \tAverage Loss: 0.389\n",
            "Round: 48... \tAverage Loss: 0.39\n",
            "Round: 49... \tAverage Loss: 0.425\n",
            "Round: 50... \tAverage Loss: 0.292\n",
            "Round: 51... \tAverage Loss: 0.493\n",
            "Round: 52... \tAverage Loss: 0.389\n",
            "Round: 53... \tAverage Loss: 0.401\n",
            "Round: 54... \tAverage Loss: 0.36\n",
            "Round: 55... \tAverage Loss: 0.374\n",
            "Round: 56... \tAverage Loss: 0.375\n",
            "Round: 57... \tAverage Loss: 0.379\n",
            "Round: 58... \tAverage Loss: 0.364\n",
            "Round: 59... \tAverage Loss: 0.347\n",
            "Round: 60... \tAverage Loss: 0.368\n",
            "Round: 61... \tAverage Loss: 0.388\n",
            "Round: 62... \tAverage Loss: 0.279\n",
            "Round: 63... \tAverage Loss: 0.37\n",
            "Round: 64... \tAverage Loss: 0.333\n",
            "Round: 65... \tAverage Loss: 0.354\n",
            "Round: 66... \tAverage Loss: 0.347\n",
            "Round: 67... \tAverage Loss: 0.419\n",
            "Round: 68... \tAverage Loss: 0.308\n",
            "Round: 69... \tAverage Loss: 0.415\n",
            "Round: 70... \tAverage Loss: 0.364\n",
            "Round: 71... \tAverage Loss: 0.332\n",
            "Round: 72... \tAverage Loss: 0.308\n",
            "Round: 73... \tAverage Loss: 0.345\n",
            "Round: 74... \tAverage Loss: 0.344\n",
            "Round: 75... \tAverage Loss: 0.329\n",
            "Round: 76... \tAverage Loss: 0.338\n",
            "Round: 77... \tAverage Loss: 0.383\n",
            "Round: 78... \tAverage Loss: 0.35\n",
            "Round: 79... \tAverage Loss: 0.379\n",
            "Round: 80... \tAverage Loss: 0.325\n",
            "Round: 81... \tAverage Loss: 0.362\n",
            "Round: 82... \tAverage Loss: 0.295\n",
            "Round: 83... \tAverage Loss: 0.295\n",
            "Round: 84... \tAverage Loss: 0.403\n",
            "Round: 85... \tAverage Loss: 0.332\n",
            "Round: 86... \tAverage Loss: 0.3\n",
            "Round: 87... \tAverage Loss: 0.389\n",
            "Round: 88... \tAverage Loss: 0.38\n",
            "Round: 89... \tAverage Loss: 0.374\n",
            "Round: 90... \tAverage Loss: 0.321\n",
            "Round: 91... \tAverage Loss: 0.324\n",
            "Round: 92... \tAverage Loss: 0.413\n",
            "Round: 93... \tAverage Loss: 0.361\n",
            "Round: 94... \tAverage Loss: 0.323\n",
            "Round: 95... \tAverage Loss: 0.373\n",
            "Round: 96... \tAverage Loss: 0.372\n",
            "Round: 97... \tAverage Loss: 0.37\n",
            "Round: 98... \tAverage Loss: 0.272\n",
            "Round: 99... \tAverage Loss: 0.331\n",
            "Round: 100... \tAverage Loss: 0.348\n",
            "Training Done!\n",
            "Total time taken to Train: 1218.0675110816956\n",
            "Training Done!\n",
            "Total time taken: 1218.0675110816956\n"
          ],
          "name": "stdout"
        },
        {
          "output_type": "display_data",
          "data": {
            "image/png": "[encoded data removed]",
            "text/plain": [
              "<Figure size 432x288 with 1 Axes>"
            ]
          },
          "metadata": {
            "tags": [],
            "needs_background": "light"
          }
        }
      ]
    },
    {
      "cell_type": "markdown",
      "metadata": {
        "colab_type": "text",
        "id": "eZxhpIIXDWvC"
      },
      "source": [
        "### Test"
      ]
    },
    {
      "cell_type": "code",
      "metadata": {
        "colab_type": "code",
        "id": "zCZvhiEdDWvD",
        "colab": {
          "base_uri": "https://localhost:8080/",
          "height": 255
        },
        "outputId": "ee4d2ed2-626e-4e79-a2a8-3a2fa2d73ce6"
      },
      "source": [
        "criterion = nn.CrossEntropyLoss()\n",
        "testing(mnist_mlp_non_iid_trained, mnist_data_test, 128, criterion, num_classes, classes_test)"
      ],
      "execution_count": 35,
      "outputs": [
        {
          "output_type": "stream",
          "text": [
            "Test Loss: 0.296552\n",
            "\n",
            "Test Accuracy of     0: 97% (74/76)\n",
            "Test Accuracy of     1: 97% (88/90)\n",
            "Test Accuracy of     2: 91% (83/91)\n",
            "Test Accuracy of     3: 86% (63/73)\n",
            "Test Accuracy of     4: 88% (79/89)\n",
            "Test Accuracy of     5: 89% (61/68)\n",
            "Test Accuracy of     6: 95% (59/62)\n",
            "Test Accuracy of     7: 91% (74/81)\n",
            "Test Accuracy of     8: 79% (61/77)\n",
            "Test Accuracy of     9: 97% (81/83)\n",
            "\n",
            "Final Test  Accuracy: 91.519 (723.0/790.0)\n"
          ],
          "name": "stdout"
        }
      ]
    },
    {
      "cell_type": "markdown",
      "metadata": {
        "id": "ifWreXVkYctp",
        "colab_type": "text"
      },
      "source": [
        "# Comparison with Federated Averaging\n",
        "\n",
        "> In a highly heterogenous system (90%) stragglers, authors of FedProx have claimed that FedProx achieves on average **22%** improvement in testing accuracy compared to Federated Averaging\n",
        "\n",
        "With our first test above, we know that the special case where **mu=0**, FedProx matches the results of FedAvg. \n",
        "\n",
        "We will use the same idea but increase our stragglers this time. We will run the same experiment with **mu > 0** to compare results of FedProx."
      ]
    },
    {
      "cell_type": "markdown",
      "metadata": {
        "id": "O8ydCcIaZwP3",
        "colab_type": "text"
      },
      "source": [
        "### Training Federated Averaging with 90% stragglers (IID Partition)"
      ]
    },
    {
      "cell_type": "code",
      "metadata": {
        "id": "s07MAIAiZhky",
        "colab_type": "code",
        "colab": {}
      },
      "source": [
        "# number of training rounds\n",
        "rounds = 100\n",
        "# client fraction\n",
        "C = 0.1\n",
        "# number of clients\n",
        "K = 100\n",
        "# number of training passes on local dataset for each roung\n",
        "E = 20\n",
        "# batch size\n",
        "batch_size = 10\n",
        "# learning Rate\n",
        "lr=0.01\n",
        "# proximal term constant\n",
        "mu = 0.0\n",
        "# percentage of clients to have fewer than E epochs\n",
        "percentage = 90\n",
        "\n",
        "# data partition dictionary\n",
        "iid_dict = iid_partition(mnist_data_train, 100)\n",
        "# load model\n",
        "mnist_cnn = MNIST_CNN()\n",
        "\n",
        "if torch.cuda.is_available():\n",
        "  mnist_cnn.cuda()\n",
        "\n",
        "mnist_cnn_iid_trained_fedavg = training(mnist_cnn, rounds, batch_size, lr, mnist_data_train, iid_dict, C, K, E, mu, percentage, \"FedAvg MNIST CNN (90% Stragglers)\", \"orange\")"
      ],
      "execution_count": null,
      "outputs": []
    },
    {
      "cell_type": "markdown",
      "metadata": {
        "id": "xVjIEgHPaClX",
        "colab_type": "text"
      },
      "source": [
        "### Training FedProx with 90% Stragglers (IID Parition)"
      ]
    },
    {
      "cell_type": "code",
      "metadata": {
        "id": "jn9WLZTHaBnq",
        "colab_type": "code",
        "colab": {}
      },
      "source": [
        "# number of training rounds\n",
        "rounds = 100\n",
        "# client fraction\n",
        "C = 0.1\n",
        "# number of clients\n",
        "K = 100\n",
        "# number of training passes on local dataset for each roung\n",
        "E = 20\n",
        "# batch size\n",
        "batch_size = 10\n",
        "# learning Rate\n",
        "lr=0.01\n",
        "# proximal term constant\n",
        "mu = 0.001\n",
        "# percentage of clients to have fewer than E epochs\n",
        "percentage = 90\n",
        "\n",
        "# data partition dictionary\n",
        "iid_dict = iid_partition(mnist_data_train, 100)\n",
        "# load model\n",
        "mnist_cnn = MNIST_CNN()\n",
        "\n",
        "if torch.cuda.is_available():\n",
        "  mnist_cnn.cuda()\n",
        "\n",
        "mnist_cnn_iid_trained_fedprox = training(mnist_cnn, rounds, batch_size, lr, mnist_data_train, iid_dict, C, K, E, mu, percentage, \"FedProx MNIST CNN (90% Stragglers)\", \"green\")"
      ],
      "execution_count": null,
      "outputs": []
    },
    {
      "cell_type": "markdown",
      "metadata": {
        "id": "pzEZ3elCaPuq",
        "colab_type": "text"
      },
      "source": [
        "### Testing Federated Averaging in Highly Heterogenous System"
      ]
    },
    {
      "cell_type": "code",
      "metadata": {
        "id": "I6G7GZKfaVoJ",
        "colab_type": "code",
        "colab": {}
      },
      "source": [
        "criterion = nn.CrossEntropyLoss()\n",
        "testing(mnist_cnn_iid_trained_fedavg, mnist_data_test, 128, criterion, num_classes, classes_test)"
      ],
      "execution_count": null,
      "outputs": []
    },
    {
      "cell_type": "markdown",
      "metadata": {
        "id": "P6bJzJhKaqAr",
        "colab_type": "text"
      },
      "source": [
        "### Testing FedProx in Highly Heterogenous System"
      ]
    },
    {
      "cell_type": "code",
      "metadata": {
        "id": "M9KOjGqZapOY",
        "colab_type": "code",
        "colab": {}
      },
      "source": [
        "criterion = nn.CrossEntropyLoss()\n",
        "testing(mnist_cnn_iid_trained_fedprox, mnist_data_test, 128, criterion, num_classes, classes_test)"
      ],
      "execution_count": null,
      "outputs": []
    }
  ]
}